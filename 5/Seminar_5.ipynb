{
 "cells": [
  {
   "cell_type": "markdown",
   "metadata": {},
   "source": [
    "## Занятие 5\n",
    "## Математический анализ\n",
    "## Численное решение нелинейных уравнений: nsolve\n",
    "https://docs.sympy.org/latest/modules/solvers/solvers.html?highlight=nsolve#sympy.solvers.solvers.nsolve\n",
    "\n",
    "Уравнение в форме $f(x)=0$ можно решить численно с помощью nsolve(), для этого нужно задать выражение, определяющее функцию, переменную и начальное приближение.\n",
    "\n",
    "nsolve(f, [args,] x0, modules=['mpmath'], **kwargs)\n",
    "\n",
    "f  - вектор-функция, состоящая из символьных выражений, представляющих систему уравнений,\n",
    "\n",
    "args  - переменные (если переменная одна, ее можно не указывать)\n",
    "\n",
    "x0 - начальное приближение\n",
    "\n",
    "Выбирая название модуля, можно решать уравнение определенным способом (есть дихотомия 'bisect').\n",
    "Требуется, чтобы модуль поддерживал работу с матрицами. \n",
    "\n",
    "Поддерживаются также переопределенные системы уравнений.\n",
    "\n",
    "Точность решения определяется параметром по умолчанию prec (число знаков после запятой в результате).\n",
    "\n",
    "Например, nsolve(cos(x) - x, 1, prec=50)"
   ]
  },
  {
   "cell_type": "code",
   "execution_count": 11,
   "metadata": {},
   "outputs": [],
   "source": [
    "import sympy"
   ]
  },
  {
   "cell_type": "markdown",
   "metadata": {},
   "source": [
    "### Пример 1\n",
    "Решим уравнение $x^2-1=0$ с помощью solveset и nsolve, для nsolve укажем начальное приближение 3:"
   ]
  },
  {
   "cell_type": "code",
   "execution_count": 12,
   "metadata": {},
   "outputs": [
    {
     "data": {
      "text/latex": [
       "$\\displaystyle \\left\\{-1, 1\\right\\}$"
      ],
      "text/plain": [
       "{-1, 1}"
      ]
     },
     "metadata": {},
     "output_type": "display_data"
    },
    {
     "data": {
      "text/latex": [
       "$\\displaystyle 1.0$"
      ],
      "text/plain": [
       "1.00000000000000"
      ]
     },
     "execution_count": 12,
     "metadata": {},
     "output_type": "execute_result"
    }
   ],
   "source": [
    "from sympy.abc import x # Это альтернативный способ определения символа.\n",
    "display(sympy.solveset(x**2 - 1))\n",
    "sympy.nsolve(x**2 - 1, x, 3)"
   ]
  },
  {
   "cell_type": "markdown",
   "metadata": {},
   "source": [
    "Заметим, что nsolve выдает только одно решение.\n",
    "\n",
    "Используем другое начальное приближение."
   ]
  },
  {
   "cell_type": "code",
   "execution_count": 13,
   "metadata": {},
   "outputs": [
    {
     "data": {
      "text/latex": [
       "$\\displaystyle -1.0$"
      ],
      "text/plain": [
       "-1.00000000000000"
      ]
     },
     "execution_count": 13,
     "metadata": {},
     "output_type": "execute_result"
    }
   ],
   "source": [
    "sympy.nsolve(x**2 - 1, x, -3)"
   ]
  },
  {
   "cell_type": "markdown",
   "metadata": {},
   "source": [
    "### Пример 2.\n",
    "Решим уравнение $2\\sin x-x = 0$ с начальным приближением 1:"
   ]
  },
  {
   "cell_type": "code",
   "execution_count": 14,
   "metadata": {},
   "outputs": [
    {
     "data": {
      "text/latex": [
       "$\\displaystyle 1.89549426703398$"
      ],
      "text/plain": [
       "1.89549426703398"
      ]
     },
     "execution_count": 14,
     "metadata": {},
     "output_type": "execute_result"
    }
   ],
   "source": [
    "sympy.nsolve(2*sympy.sin(x) - x, x, 1)"
   ]
  },
  {
   "cell_type": "markdown",
   "metadata": {},
   "source": [
    "Построим график $2\\sin x - x$ и найдем все три корня, выбирая близкое к каждому из них начальное приближение:"
   ]
  },
  {
   "cell_type": "code",
   "execution_count": 15,
   "metadata": {},
   "outputs": [
    {
     "name": "stdout",
     "output_type": "stream",
     "text": [
      "-1.89549426703398\n",
      "0\n",
      "1.89549426703398\n"
     ]
    },
    {
     "data": {
      "image/png": "[encoded data removed]",
      "text/plain": [
       "<Figure size 640x480 with 1 Axes>"
      ]
     },
     "metadata": {},
     "output_type": "display_data"
    }
   ],
   "source": [
    "%matplotlib inline\n",
    "import matplotlib.pyplot as plt\n",
    "import numpy as np\n",
    "X = np.linspace(-np.pi, np.pi, 100)\n",
    "plt.plot(X, 2*np.sin(X) - X)\n",
    "ax = plt.gca()  \n",
    "ax.spines['right'].set_color('none')\n",
    "ax.spines['top'].set_color('none')\n",
    "ax.spines['left'].set_position(('data', 0))\n",
    "ax.spines['bottom'].set_position(('data', 0))\n",
    "plt.ylim(-1, 1)\n",
    "print(sympy.nsolve(2*sympy.sin(x) - x, x, 0.8))\n",
    "print(sympy.nsolve(2*sympy.sin(x) - x, x, 0.1))\n",
    "print(sympy.nsolve(2*sympy.sin(x) - x, x, 2))"
   ]
  },
  {
   "cell_type": "markdown",
   "metadata": {},
   "source": [
    "### Пример 3.\n",
    "Попробуем решить уравнение, не имеющее вещественных корней $x^2+1=0$ "
   ]
  },
  {
   "cell_type": "code",
   "execution_count": 16,
   "metadata": {},
   "outputs": [],
   "source": [
    "sympy.nsolve(x**2 + 1, x, 1)"
   ]
  },
  {
   "cell_type": "markdown",
   "metadata": {},
   "source": [
    "Ошибка: не удается найти корень с заданной точностью. Попробуйте другое начальное приближение.\n",
    "\n",
    "Попробуем в качестве начального приближения комплексное число I:"
   ]
  },
  {
   "cell_type": "code",
   "execution_count": 17,
   "metadata": {},
   "outputs": [
    {
     "data": {
      "text/latex": [
       "$\\displaystyle 1.0 i$"
      ],
      "text/plain": [
       "1.0*I"
      ]
     },
     "execution_count": 17,
     "metadata": {},
     "output_type": "execute_result"
    }
   ],
   "source": [
    "sympy.nsolve(x**2 + 1, x, sympy.I)"
   ]
  },
  {
   "cell_type": "markdown",
   "metadata": {},
   "source": [
    "С помощью nsolve можно решать системы уравнений, в т.ч. нелинейных.\n",
    "### Пример 4.\n",
    "Дана система уравнений:\n",
    "$$\n",
    "\\left\\{\n",
    "\\begin{matrix}\n",
    "(x-2)^2+(y-3)^2=25\\\\\n",
    "2(x-2)^2+3(y-3)^2=66\n",
    "\\end{matrix}\n",
    "\\right.\n",
    "$$\n",
    "Зададим левые части в виде функций:\n",
    "$$\n",
    "f(x) = (x - 2)^2 + (y - 3)^2,\\qquad\n",
    "g(x) = 2(x - 2)^2 + 3(y - 3)^2,\n",
    "$$\n",
    "составим уравнения с помощью Eq, в качестве\n",
    "начального приближения возьмем (0,0)."
   ]
  },
  {
   "cell_type": "code",
   "execution_count": 18,
   "metadata": {},
   "outputs": [
    {
     "data": {
      "text/latex": [
       "$\\displaystyle \\left[\\begin{matrix}-1.0\\\\-1.0\\end{matrix}\\right]$"
      ],
      "text/plain": [
       "Matrix([\n",
       "[-1.0],\n",
       "[-1.0]])"
      ]
     },
     "execution_count": 18,
     "metadata": {},
     "output_type": "execute_result"
    }
   ],
   "source": [
    "from sympy.abc import y\n",
    "def f(x, y):\n",
    "    return (x - 2)**2 + (y - 3)**2\n",
    "def g(x, y):\n",
    "    return 2*(x - 2)**2 + 3*(y - 3)**2\n",
    "root = sympy.nsolve((sympy.Eq(f(x, y), 25), sympy.Eq(g(x, y), 66)), (x, y), (0, 0))\n",
    "root"
   ]
  },
  {
   "cell_type": "markdown",
   "metadata": {},
   "source": [
    "Проверим подстановкой:"
   ]
  },
  {
   "cell_type": "code",
   "execution_count": 19,
   "metadata": {},
   "outputs": [
    {
     "data": {
      "text/plain": [
       "True"
      ]
     },
     "execution_count": 19,
     "metadata": {},
     "output_type": "execute_result"
    }
   ],
   "source": [
    "x0, y0 = root\n",
    "f(x0, y0) == 25 and g(x0, y0) == 66"
   ]
  },
  {
   "cell_type": "markdown",
   "metadata": {},
   "source": [
    "### Пример 5.\n",
    "Найдем точку пересечения параболлоида Т и прямой, заданной параметрически:\n",
    "$$\n",
    "L:\\quad\\left\\{\n",
    "\\begin{matrix}\n",
    "x = 3 + 5t\\\\\n",
    "y = -2 + t\\\\\n",
    "z = -5t\n",
    "\\end{matrix}\n",
    "\\right.,\n",
    "\\qquad T:\n",
    "(x - 3)^2 + (y + 2)^2 - 2z = 0\n",
    "$$"
   ]
  },
  {
   "cell_type": "code",
   "execution_count": 20,
   "metadata": {},
   "outputs": [
    {
     "data": {
      "text/latex": [
       "$\\displaystyle \\left[\\begin{matrix}1.07692307692308\\\\-2.38461538461538\\\\1.92307692307692\\\\-0.384615384615385\\end{matrix}\\right]$"
      ],
      "text/plain": [
       "Matrix([\n",
       "[  1.07692307692308],\n",
       "[ -2.38461538461538],\n",
       "[  1.92307692307692],\n",
       "[-0.384615384615385]])"
      ]
     },
     "execution_count": 20,
     "metadata": {},
     "output_type": "execute_result"
    }
   ],
   "source": [
    "from sympy.abc import z, t\n",
    "variables = (x, y, z, t)\n",
    "L = [sympy.Eq(x, 3 + 5*t), sympy.Eq(y, -2 + t), sympy.Eq(z, - 5*t)]\n",
    "T = sympy.Eq((x - 3)**2 + (y + 2)**2 - 2*z, 0, evaluate=False)\n",
    "L.append(T)\n",
    "res = sympy.nsolve(L, variables, (1, 1, 1, 1))\n",
    "res"
   ]
  },
  {
   "cell_type": "markdown",
   "metadata": {},
   "source": [
    "Подставим:"
   ]
  },
  {
   "cell_type": "code",
   "execution_count": 21,
   "metadata": {},
   "outputs": [
    {
     "data": {
      "text/plain": [
       "[True, True, True, True]"
      ]
     },
     "execution_count": 21,
     "metadata": {},
     "output_type": "execute_result"
    }
   ],
   "source": [
    "[equation.subs({var: res[i] for i, var in enumerate(variables)}) for equation in L]"
   ]
  },
  {
   "cell_type": "markdown",
   "metadata": {},
   "source": [
    "Найденное решение с допустимой точностью удовлетворяет всем уравнениям системы, т.е. точка лежит и на прямой, и на параболлоиде."
   ]
  },
  {
   "cell_type": "markdown",
   "metadata": {},
   "source": [
    "### Пример 6.\n",
    "В общей координатной плоскости построить графики функций $\\log_2(1 + 3x^2)$ и $\\cos(2x - 1)$ на отрезке $[-2,\\ 2]$, отметить точки пересечения графиков, подписать их $A_1$, $A_2$, ... Отметки по горизонтальной оси сделать в точках  $\\frac{\\pi n}{4}$, $n$ - целое, и в целочисленных точках, отметки подписать значениями (при необходимости - формулами!).\n",
    "\n",
    "Вначале опишем функции так, чтобы в них можно было использовать $\\log_2$ и $\\cos$ из sympy и numpy, в зависимости от контекста."
   ]
  },
  {
   "cell_type": "code",
   "execution_count": 22,
   "metadata": {},
   "outputs": [],
   "source": [
    "def f(x, lib='sympy'):\n",
    "    if lib == 'sympy':\n",
    "        return sympy.log(1 + 3*x**2, 2)\n",
    "    if lib == 'numpy':\n",
    "        return np.log2(1 + 3*x**2)\n",
    "    return 'error'\n",
    "def g(x, lib='sympy'):\n",
    "    if lib == 'sympy':\n",
    "        return sympy.cos(2*x - 1)\n",
    "    if lib == 'numpy':\n",
    "        return np.cos(2*x - 1)\n",
    "    return 'error'"
   ]
  },
  {
   "cell_type": "markdown",
   "metadata": {},
   "source": [
    "Построим графики на указанном в условии промежутке, чтобы примерно оценить начальное приближение и число корней."
   ]
  },
  {
   "cell_type": "code",
   "execution_count": 23,
   "metadata": {},
   "outputs": [
    {
     "data": {
      "text/plain": [
       "[<matplotlib.lines.Line2D at 0x20d4d102010>]"
      ]
     },
     "execution_count": 23,
     "metadata": {},
     "output_type": "execute_result"
    },
    {
     "data": {
      "image/png": "[encoded data removed]",
      "text/plain": [
       "<Figure size 640x480 with 1 Axes>"
      ]
     },
     "metadata": {},
     "output_type": "display_data"
    }
   ],
   "source": [
    "X = np.linspace(-2, 2)\n",
    "plt.plot(X, f(X, lib='numpy'), color='green')\n",
    "plt.plot(X, g(X, lib='numpy'), color='red', )"
   ]
  },
  {
   "cell_type": "markdown",
   "metadata": {},
   "source": [
    "В качестве начального приближения для nsolve используем 0 и 1:"
   ]
  },
  {
   "cell_type": "code",
   "execution_count": 24,
   "metadata": {},
   "outputs": [
    {
     "data": {
      "text/plain": [
       "[-0.201836142021704, 0.573082928246172]"
      ]
     },
     "execution_count": 24,
     "metadata": {},
     "output_type": "execute_result"
    }
   ],
   "source": [
    "from sympy.abc import x\n",
    "roots = [sympy.nsolve(sympy.Eq(f(x, lib='sympy'), g(x, lib='sympy')), x, x0) for x0 in [0, 1]]\n",
    "roots"
   ]
  },
  {
   "cell_type": "markdown",
   "metadata": {},
   "source": [
    "В случае, если nsolve не может найти решение с заданной точностью, используя метод по умолчанию, можно найти корни методом деления отрезка пополам. При это можно отключить проверку полученного решения, если не удается решить с заданной точностью. С отлюченной проверкой можно получить неверное решение, поэтому в таком случае следует провести какую-то свою проверку найденного решения.\n",
    "\n",
    "Для использования дихотомии (деление пополам) используем  solver='bisect', при этом начальным приближением служит не число, а отрезок, на котором ищем корень, отключаем проверку  verify=False."
   ]
  },
  {
   "cell_type": "code",
   "execution_count": 25,
   "metadata": {},
   "outputs": [
    {
     "data": {
      "text/plain": [
       "[-0.201836142021704, 0.573082928246172]"
      ]
     },
     "execution_count": 25,
     "metadata": {},
     "output_type": "execute_result"
    }
   ],
   "source": [
    "roots = [sympy.nsolve(sympy.Eq(f(x, lib='sympy'), g(x, lib='sympy')), x, \n",
    "                      interval, solver='bisect', verify=False) for interval in [[-0.5, 0], [0.5, 1]]]\n",
    "roots"
   ]
  },
  {
   "cell_type": "markdown",
   "metadata": {},
   "source": [
    "Для отметок на горизонтальной оси вначале найдем пересечение $\\frac{\\pi n}{4}$, $n$ - целое, с отрезком $[-2,\\ 2]$"
   ]
  },
  {
   "cell_type": "code",
   "execution_count": 26,
   "metadata": {},
   "outputs": [],
   "source": [
    "my_ticks0 = sympy.Intersection({sympy.pi*n/4 for n in range(-5, 5)}, sympy.Interval(-2, 2))"
   ]
  },
  {
   "cell_type": "markdown",
   "metadata": {},
   "source": [
    "Добавим в это множество целые точки из $[-2,\\ 2]$ и преобразуем в список:"
   ]
  },
  {
   "cell_type": "code",
   "execution_count": 27,
   "metadata": {},
   "outputs": [
    {
     "data": {
      "text/plain": [
       "[-2, -1, 0, 1, 2, -pi/2, -pi/4, pi/4, pi/2]"
      ]
     },
     "execution_count": 27,
     "metadata": {},
     "output_type": "execute_result"
    }
   ],
   "source": [
    "my_ticks = list(sympy.Union(my_ticks0, set(range(-2, 3))))\n",
    "my_ticks"
   ]
  },
  {
   "cell_type": "markdown",
   "metadata": {},
   "source": [
    "Составим на основе этого списка список надписей для отметок по оси:"
   ]
  },
  {
   "cell_type": "code",
   "execution_count": 28,
   "metadata": {},
   "outputs": [
    {
     "data": {
      "text/plain": [
       "['$-2$',\n",
       " '$-1$',\n",
       " '$0$',\n",
       " '$1$',\n",
       " '$2$',\n",
       " '$- \\\\frac{\\\\pi}{2}$',\n",
       " '$- \\\\frac{\\\\pi}{4}$',\n",
       " '$\\\\frac{\\\\pi}{4}$',\n",
       " '$\\\\frac{\\\\pi}{2}$']"
      ]
     },
     "execution_count": 28,
     "metadata": {},
     "output_type": "execute_result"
    }
   ],
   "source": [
    "my_ticks_annotate = [r'$'+ sympy.latex(item) + r'$' for item in my_ticks]\n",
    "my_ticks_annotate"
   ]
  },
  {
   "cell_type": "markdown",
   "metadata": {},
   "source": [
    "Построим график, используем найденные координаты точек пересечения для задания местоположения подписей к этим точкам:"
   ]
  },
  {
   "cell_type": "code",
   "execution_count": 29,
   "metadata": {},
   "outputs": [
    {
     "name": "stderr",
     "output_type": "stream",
     "text": [
      "C:\\Users\\Владимир\\AppData\\Local\\Temp\\ipykernel_9024\\3802990605.py:17: UserWarning: FixedFormatter should only be used together with FixedLocator\n",
      "  ax.set_xticklabels(my_ticks_annotate)  # Установить текущие позиции и метки.\n"
     ]
    },
    {
     "data": {
      "image/png": "[encoded data removed]",
      "text/plain": [
       "<Figure size 640x480 with 1 Axes>"
      ]
     },
     "metadata": {},
     "output_type": "display_data"
    }
   ],
   "source": [
    "X = np.linspace(-2, 2)\n",
    "ax = plt.gca() # get current axes - получить текущую систему координат\n",
    "ax.plot(X, f(X, lib='numpy'), color='green')\n",
    "ax.plot(X, g(X, lib='numpy'), color='red')\n",
    "y_coord = [f(float(root), lib='numpy') for root in roots]\n",
    "ax.scatter(roots, y_coord)\n",
    "for i, x_coord in enumerate(roots): # Чтобы не писать много раз один длинный код, сделаем подписи в цикле\n",
    "    ax.annotate('A' + str(i + 1),\n",
    "            xy=(x_coord, y_coord[i]), xycoords='data', # Координаты подписываемой точки\n",
    "            xytext=(x_coord - 0.1, y_coord[i] + 0.3), textcoords='data' # Координаты текста подписи, смещены от точки\n",
    "            ) # Скобка на отдельной строчке, чтобы было видно, что скобки сбалансированы, это делать не обязательно\n",
    "ax.spines['right'].set_color('none')\n",
    "ax.spines['top'].set_color('none')\n",
    "ax.spines['bottom'].set_position(('data', 0))\n",
    "ax.spines['left'].set_position(('data', 0))  \n",
    "# ax.set_xticks(my_ticks)\n",
    "ax.set_xticklabels(my_ticks_annotate)  # Установить текущие позиции и метки.\n",
    "pass"
   ]
  }
 ],
 "metadata": {
  "kernelspec": {
   "display_name": "Python 3.11.0 ('.venv': venv)",
   "language": "python",
   "name": "python3"
  },
  "language_info": {
   "codemirror_mode": {
    "name": "ipython",
    "version": 3
   },
   "file_extension": ".py",
   "mimetype": "text/x-python",
   "name": "python",
   "nbconvert_exporter": "python",
   "pygments_lexer": "ipython3",
   "version": "3.11.0"
  },
  "vscode": {
   "interpreter": {
    "hash": "71eaa566fe385e36f6a17cd041d95c99303ead46f5ef158c51eb2173e206bc3f"
   }
  }
 },
 "nbformat": 4,
 "nbformat_minor": 2
}
