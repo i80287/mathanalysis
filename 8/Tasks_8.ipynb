{
  "cells": [
    {
      "cell_type": "code",
      "execution_count": 2,
      "metadata": {
        "id": "tx6HFrqHw9CQ"
      },
      "outputs": [],
      "source": [
        "import numpy as np\n",
        "import matplotlib.pyplot as plt\n",
        "import sympy\n",
        "from sympy import Symbol, diff, solve, nsolve, solveset, latex, S, simplify, fraction, Union, Interval, intersection, limit\n",
        "from sympy.calculus.util import continuous_domain\n",
        "from sympy import sin as Sin\n",
        "from sympy import cos as Cos\n",
        "from sympy import pi as Pi\n",
        "from IPython.display import Latex\n",
        "%matplotlib inline"
      ]
    },
    {
      "cell_type": "markdown",
      "metadata": {
        "id": "drp0gVKFw9CT"
      },
      "source": [
        "## Занятие 8\n",
        "## Математический анализ\n",
        "## Дифференцирование функции, заданной параметрически\n",
        "Пусть зависимость $y$ от $x$ задана параметрически:\n",
        "$$\n",
        "\\left\\{\n",
        "\\begin{matrix}\n",
        "x = \\varphi(t)\\\\\n",
        "y = \\psi(t)\n",
        "\\end{matrix}\n",
        "\\right.\n",
        "$$\n",
        "тогда производная $y$ по $x$  находится по формуле\n",
        "$$\n",
        "y'_x = \\frac{y'_t}{x'_t} = \\frac{\\psi'_t}{\\varphi'_t}\n",
        "$$\n",
        "Вторая производная:\n",
        "$$\n",
        "y''_{xx} = \\frac{x'_t y''_{tt}-x''_{tt}y'_t}{(x'_t)^3}  = \\frac{\\varphi'_t \\psi''_{tt}-\\varphi''_{tt}\\psi'_t}{(\\varphi'_t)^3}\n",
        "$$\n",
        "### Задание 1\n",
        "Найти производные 1 и 2 порядка функции \n",
        "$$\n",
        "\\left\\{\n",
        "\\begin{matrix}\n",
        "x = \\sin(t) - t\\cos(t)\\\\\n",
        "y = \\cos(t) + t\\sin(t)\n",
        "\\end{matrix}\n",
        "\\right.\n",
        "$$"
      ]
    },
    {
      "cell_type": "code",
      "execution_count": 33,
      "metadata": {
        "colab": {
          "base_uri": "https://localhost:8080/",
          "height": 69
        },
        "id": "nM8vyBz7w9CV",
        "outputId": "73933b88-ee5f-472c-d2d0-e01b2e28b4e3"
      },
      "outputs": [
        {
          "output_type": "display_data",
          "data": {
            "text/latex": "y'_x = \\frac{\\cos{\\left(t \\right)}}{\\sin{\\left(t \\right)}}"
          },
          "metadata": {}
        },
        {
          "output_type": "display_data",
          "data": {
            "text/latex": "y''_{xx} = \\frac{t \\left(- t \\sin{\\left(t \\right)} + \\cos{\\left(t \\right)}\\right) \\sin{\\left(t \\right)} - t \\left(t \\cos{\\left(t \\right)} + \\sin{\\left(t \\right)}\\right) \\cos{\\left(t \\right)}}{t^{3} \\sin^{3}{\\left(t \\right)}}"
          },
          "metadata": {}
        }
      ],
      "source": [
        "def task1() -> None:\n",
        "    t = Symbol('t')\n",
        "    x = Sin(t) - t*Cos(t)\n",
        "    y = Cos(t) + t*Sin(t)\n",
        "    \n",
        "    dx_dt = diff(x, t)\n",
        "    dy_dt = diff(y, t)\n",
        "    dy_dx = dy_dt / dx_dt\n",
        "    display(Latex(f\"y'_x = {latex(dy_dx)}\"))\n",
        "\n",
        "    ddx_dtt = diff(dx_dt, t)\n",
        "    ddy_dtt = diff(dy_dt, t)\n",
        "    ddy_dxx = ((dx_dt*ddy_dtt) - (ddx_dtt*dy_dt))/(dx_dt**3)\n",
        "    display(Latex(f\"y''_{{xx}} = {latex(ddy_dxx)}\"))\n",
        "    \n",
        "if __name__ == \"__main__\":\n",
        "    task1()"
      ]
    },
    {
      "cell_type": "markdown",
      "metadata": {
        "id": "lR1Ji9wHw9CW"
      },
      "source": [
        "### Задание 2.\n",
        "Найти нули производных первого и второго порядка, а также точки, в которых эти производные не существуют, для функции\n",
        "$$\n",
        "\\left\\{\n",
        "\\begin{matrix}\n",
        "x = t^2 - 2t\\\\\n",
        "y = t^2 + 2t\n",
        "\\end{matrix}\n",
        "\\right.\n",
        "$$"
      ]
    },
    {
      "cell_type": "code",
      "execution_count": 47,
      "metadata": {
        "colab": {
          "base_uri": "https://localhost:8080/",
          "height": 261
        },
        "id": "FSPzj84vw9CX",
        "outputId": "961e8d43-cd08-451e-8d4b-179c757e4d1c"
      },
      "outputs": [
        {
          "output_type": "display_data",
          "data": {
            "text/plain": [
              "<IPython.core.display.Latex object>"
            ],
            "text/latex": "y'_{x} = \\frac{2 t + 2}{2 t - 2}"
          },
          "metadata": {}
        },
        {
          "output_type": "display_data",
          "data": {
            "text/plain": [
              "<IPython.core.display.Latex object>"
            ],
            "text/latex": "\\text{Нули производной 1 порядка:}"
          },
          "metadata": {}
        },
        {
          "output_type": "display_data",
          "data": {
            "text/plain": [
              "-1"
            ],
            "text/latex": "$\\displaystyle -1$"
          },
          "metadata": {}
        },
        {
          "output_type": "display_data",
          "data": {
            "text/plain": [
              "<IPython.core.display.Latex object>"
            ],
            "text/latex": "\\text{Точки, в которых функция не существует:}"
          },
          "metadata": {}
        },
        {
          "output_type": "display_data",
          "data": {
            "text/plain": [
              "1"
            ],
            "text/latex": "$\\displaystyle 1$"
          },
          "metadata": {}
        },
        {
          "output_type": "stream",
          "name": "stdout",
          "text": [
            "\n"
          ]
        },
        {
          "output_type": "display_data",
          "data": {
            "text/plain": [
              "<IPython.core.display.Latex object>"
            ],
            "text/latex": "y''_{xx} = - \\frac{8}{\\left(2 t - 2\\right)^{3}}"
          },
          "metadata": {}
        },
        {
          "output_type": "display_data",
          "data": {
            "text/plain": [
              "<IPython.core.display.Latex object>"
            ],
            "text/latex": "\\text{Нули производной 2 порядка:}"
          },
          "metadata": {}
        },
        {
          "output_type": "display_data",
          "data": {
            "text/plain": [
              "<IPython.core.display.Latex object>"
            ],
            "text/latex": "\\text{{Производная не обращается в ноль}}"
          },
          "metadata": {}
        },
        {
          "output_type": "display_data",
          "data": {
            "text/plain": [
              "<IPython.core.display.Latex object>"
            ],
            "text/latex": "\\text{Точки, в которых функция не существует:}"
          },
          "metadata": {}
        },
        {
          "output_type": "display_data",
          "data": {
            "text/plain": [
              "1"
            ],
            "text/latex": "$\\displaystyle 1$"
          },
          "metadata": {}
        },
        {
          "output_type": "stream",
          "name": "stdout",
          "text": [
            "\n"
          ]
        }
      ],
      "source": [
        "from sympy.calculus.singularities import singularities\n",
        "\n",
        "def process_diff_func(func, k: int, symbol) -> None:\n",
        "  display(Latex(f\"\"\"y{\"'\"*k}_{{{'x'*k}}} = {latex(func)}\"\"\"))\n",
        "  \n",
        "  display(Latex(fr\"\\text{{Нули производной {k} порядка:}}\"))\n",
        "  roots = solveset(func, symbol)\n",
        "  if roots:\n",
        "    display(*roots)\n",
        "  else:\n",
        "    display(Latex(r\"\\text{{Производная не обращается в ноль}}\"))\n",
        "  \n",
        "  display(Latex(fr\"\\text{{Точки, в которых функция не существует:}}\"))\n",
        "  roots = singularities(func, symbol)\n",
        "  if roots:\n",
        "    display(*roots)\n",
        "  else:\n",
        "    display(Latex(r\"\\text{{Производная определена на всей числовой оси}}\"))\n",
        "  print()\n",
        "\n",
        "def task2() -> None:\n",
        "  t = Symbol('t')\n",
        "  x = t*t - 2*t\n",
        "  y = t*t + 2*t\n",
        "\n",
        "  dx_dt = diff(x, t)\n",
        "  dy_dt = diff(y, t)\n",
        "  dy_dx = dy_dt / dx_dt\n",
        "  process_diff_func(dy_dx, 1, t)\n",
        "\n",
        "  ddx_dtt = diff(dx_dt, t)\n",
        "  ddy_dtt = diff(dy_dt, t)\n",
        "  ddy_dxx = ((dx_dt*ddy_dtt) - (dy_dt*ddx_dtt))/(dx_dt**3)\n",
        "  process_diff_func(ddy_dxx, 2, t)\n",
        "\n",
        "if __name__ == \"__main__\":\n",
        "  task2()"
      ]
    },
    {
      "cell_type": "markdown",
      "metadata": {
        "id": "keVWxFLMw9CX"
      },
      "source": [
        "### Задание 3. \n",
        "Найти точки экстремума и точки перегиба функции Задания 2."
      ]
    },
    {
      "cell_type": "code",
      "execution_count": 7,
      "metadata": {
        "colab": {
          "base_uri": "https://localhost:8080/",
          "height": 100
        },
        "id": "mbwqYvB4w9CX",
        "outputId": "882d5ca9-680b-4c2e-8de1-13aaa6b71f37"
      },
      "outputs": [
        {
          "output_type": "display_data",
          "data": {
            "text/plain": [
              "<IPython.core.display.Latex object>"
            ],
            "text/latex": "\\text{Точки экстремума }y_x:"
          },
          "metadata": {}
        },
        {
          "output_type": "display_data",
          "data": {
            "text/plain": [
              "-1"
            ],
            "text/latex": "$\\displaystyle -1$"
          },
          "metadata": {}
        },
        {
          "output_type": "display_data",
          "data": {
            "text/plain": [
              "<IPython.core.display.Latex object>"
            ],
            "text/latex": "\\text{Точки перегиба }y_x:"
          },
          "metadata": {}
        },
        {
          "output_type": "display_data",
          "data": {
            "text/plain": [
              "<IPython.core.display.Latex object>"
            ],
            "text/latex": "\\text{Функция не меняет кривизну}"
          },
          "metadata": {}
        }
      ],
      "source": [
        "from sympy.calculus.singularities import singularities\n",
        "\n",
        "def task3() -> None:\n",
        "  t = Symbol('t')\n",
        "  x = t*t - 2*t\n",
        "  y = t*t + 2*t\n",
        "\n",
        "  dx_dt = diff(x, t)\n",
        "  dy_dt = diff(y, t)\n",
        "  dy_dx = dy_dt / dx_dt\n",
        "  display(Latex(fr\"\\text{{Точки экстремума }}y_x:\"))\n",
        "  display(*solveset(dy_dx, t))\n",
        "\n",
        "  ddx_dtt = diff(dx_dt, t)\n",
        "  ddy_dtt = diff(dy_dt, t)\n",
        "  ddy_dxx = ((dx_dt*ddy_dtt) - (dy_dt*ddx_dtt))/(dx_dt**3)\n",
        "  roots = solve(ddy_dxx, t)\n",
        "  EPSILON: float = 0.05\n",
        "  points = [root for root in roots if ddy_dxx.subs({t: root + EPSILON}) * ddy_dxx.subs({t: root - EPSILON}) < 0]\n",
        "  display(Latex(fr\"\\text{{Точки перегиба }}y_x:\"))\n",
        "  if points:\n",
        "    display(*points)\n",
        "  else:\n",
        "    display(Latex(r\"\\text{Функция не меняет кривизну}\"))\n",
        "\n",
        "\n",
        "if __name__ == \"__main__\":\n",
        "  task3()"
      ]
    },
    {
      "cell_type": "markdown",
      "metadata": {
        "id": "qWnEFC4mw9CY"
      },
      "source": [
        "### Задание 4. Точки перегиба\n",
        "Найти точки перегиба функции, график строить не нужно. \n",
        "$$\n",
        "\\left\\{\n",
        "\\begin{matrix}\n",
        "x = e^t\\\\\n",
        "y = te^{2t}\n",
        "\\end{matrix}\n",
        "\\right.\n",
        "$$"
      ]
    },
    {
      "cell_type": "code",
      "execution_count": 16,
      "metadata": {
        "colab": {
          "base_uri": "https://localhost:8080/",
          "height": 72
        },
        "id": "IEzS-fF3w9CY",
        "outputId": "68bc530c-13d6-4701-a33c-3ed469f61df2"
      },
      "outputs": [
        {
          "output_type": "display_data",
          "data": {
            "text/plain": [
              "<IPython.core.display.Latex object>"
            ],
            "text/latex": "\\text{Точки перегиба }y_x:"
          },
          "metadata": {}
        },
        {
          "output_type": "display_data",
          "data": {
            "text/plain": [
              "-3/2"
            ],
            "text/latex": "$\\displaystyle - \\frac{3}{2}$"
          },
          "metadata": {}
        }
      ],
      "source": [
        "def task4() -> None:\n",
        "  t = Symbol('t')\n",
        "  x = sympy.exp(t)\n",
        "  y = t*sympy.exp(2*t)\n",
        "  \n",
        "  dx_dt = diff(x, t)\n",
        "  dy_dt = diff(y, t)\n",
        "  dy_dx = dy_dt / dx_dt\n",
        "  ddx_dtt = diff(dx_dt, t)\n",
        "  ddy_dtt = diff(dy_dt, t)\n",
        "  ddy_dxx = ((dx_dt*ddy_dtt) - (dy_dt*ddx_dtt))/(dx_dt**3)\n",
        "\n",
        "  roots = solve(ddy_dxx, t)\n",
        "  EPSILON: float = 0.05\n",
        "  points = [root for root in roots if ddy_dxx.subs({t: root + EPSILON}) * ddy_dxx.subs({t: root - EPSILON}) < 0]\n",
        "  display(Latex(fr\"\\text{{Точки перегиба }}y_x:\"))\n",
        "  if points:\n",
        "    display(*points)\n",
        "  else:\n",
        "    display(Latex(r\"\\text{Функция не меняет кривизну}\"))\n",
        "\n",
        "if __name__ == \"__main__\":\n",
        "  task4()"
      ]
    },
    {
      "cell_type": "markdown",
      "metadata": {
        "id": "jVUez0Fzw9CZ"
      },
      "source": [
        "## Асимптоты параметрически заданной функции\n",
        "Пусть зависимость $y$ от $x$ задана параметрически:\n",
        "$$\n",
        "\\left\\{\n",
        "\\begin{matrix}\n",
        "x = \\varphi(t)\\\\\n",
        "y = \\psi(t)\n",
        "\\end{matrix}\n",
        "\\right.\n",
        "$$\n",
        "Сначала нужно определить, нет ли таких значений параметра $t$, при которых одна из функций $\\varphi(t)$ или $\\psi(t)$ обращается в бесконечность, а другая остается конечной. При $\\varphi(t_0) = \\infty$, а $\\psi(t_0) = c$ кривая имеет горизонтальную асимптоту  $y = c$. При  $\\psi(t_0) = \\infty$, а $\\varphi(t_0) = c$ кривая имеет вертикальную асимптоту $x = c$. \n",
        "\n",
        "Если $\\varphi(t_0) = \\psi(t_0) = \\infty$ и \n",
        "$$\n",
        "\\lim_{t\\to t_0} \\frac{\\psi(t)}{\\varphi(t)} = k;\\qquad \\lim_{t\\to t_0} [\\psi(t) - k\\varphi(t)] = b,\n",
        "$$\n",
        "то   кривая имеет наклонную асимптоту  $y = kx + b$. \n",
        "\n",
        "### Индивидуальное задание.\n",
        "Найти асимптоты параметрически заданной функции и изобразить на графике функцию и ее асимптоты."
      ]
    },
    {
      "cell_type": "code",
      "execution_count": null,
      "metadata": {
        "id": "QGJAJR4qw9CZ"
      },
      "outputs": [],
      "source": []
    }
  ],
  "metadata": {
    "kernelspec": {
      "display_name": ".venv",
      "language": "python",
      "name": "python3"
    },
    "language_info": {
      "codemirror_mode": {
        "name": "ipython",
        "version": 3
      },
      "file_extension": ".py",
      "mimetype": "text/x-python",
      "name": "python",
      "nbconvert_exporter": "python",
      "pygments_lexer": "ipython3",
      "version": "3.11.0"
    },
    "vscode": {
      "interpreter": {
        "hash": "71eaa566fe385e36f6a17cd041d95c99303ead46f5ef158c51eb2173e206bc3f"
      }
    },
    "colab": {
      "provenance": []
    }
  },
  "nbformat": 4,
  "nbformat_minor": 0
}