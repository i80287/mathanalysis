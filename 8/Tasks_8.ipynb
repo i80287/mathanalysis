{
  "cells": [
    {
      "cell_type": "code",
      "execution_count": 1,
      "metadata": {
        "id": "tx6HFrqHw9CQ"
      },
      "outputs": [],
      "source": [
        "import numpy as np\n",
        "import matplotlib.pyplot as plt\n",
        "import sympy\n",
        "from sympy import Symbol, diff, solve, nsolve, solveset, latex, S, simplify, fraction, Union, Interval, intersection, limit\n",
        "from sympy.calculus.util import continuous_domain\n",
        "from sympy import sin as Sin\n",
        "from sympy import cos as Cos\n",
        "from sympy import pi as Pi\n",
        "from IPython.display import Latex\n",
        "%matplotlib inline"
      ]
    },
    {
      "cell_type": "markdown",
      "metadata": {
        "id": "drp0gVKFw9CT"
      },
      "source": [
        "## Занятие 8\n",
        "## Математический анализ\n",
        "## Дифференцирование функции, заданной параметрически\n",
        "Пусть зависимость $y$ от $x$ задана параметрически:\n",
        "$$\n",
        "\\left\\{\n",
        "\\begin{matrix}\n",
        "x = \\varphi(t)\\\\\n",
        "y = \\psi(t)\n",
        "\\end{matrix}\n",
        "\\right.\n",
        "$$\n",
        "тогда производная $y$ по $x$  находится по формуле\n",
        "$$\n",
        "y'_x = \\frac{y'_t}{x'_t} = \\frac{\\psi'_t}{\\varphi'_t}\n",
        "$$\n",
        "Вторая производная:\n",
        "$$\n",
        "y''_{xx} = \\frac{x'_t y''_{tt}-x''_{tt}y'_t}{(x'_t)^3}  = \\frac{\\varphi'_t \\psi''_{tt}-\\varphi''_{tt}\\psi'_t}{(\\varphi'_t)^3}\n",
        "$$\n",
        "### Задание 1\n",
        "Найти производные 1 и 2 порядка функции \n",
        "$$\n",
        "\\left\\{\n",
        "\\begin{matrix}\n",
        "x = \\sin(t) - t\\cos(t)\\\\\n",
        "y = \\cos(t) + t\\sin(t)\n",
        "\\end{matrix}\n",
        "\\right.\n",
        "$$"
      ]
    },
    {
      "cell_type": "code",
      "execution_count": 10,
      "metadata": {
        "colab": {
          "base_uri": "https://localhost:8080/",
          "height": 69
        },
        "id": "nM8vyBz7w9CV",
        "outputId": "6ea18ebf-98ac-41e9-832b-1a1f3d3b9c9d"
      },
      "outputs": [
        {
          "data": {
            "text/latex": [
              "y'_x = \\frac{\\cos{\\left(t \\right)}}{\\sin{\\left(t \\right)}}"
            ],
            "text/plain": [
              "<IPython.core.display.Latex object>"
            ]
          },
          "metadata": {},
          "output_type": "display_data"
        },
        {
          "data": {
            "text/latex": [
              "y''_{xx} = \\frac{t \\left(- t \\sin{\\left(t \\right)} + \\cos{\\left(t \\right)}\\right) \\sin{\\left(t \\right)} - t \\left(t \\cos{\\left(t \\right)} + \\sin{\\left(t \\right)}\\right) \\cos{\\left(t \\right)}}{t^{3} \\sin^{3}{\\left(t \\right)}}"
            ],
            "text/plain": [
              "<IPython.core.display.Latex object>"
            ]
          },
          "metadata": {},
          "output_type": "display_data"
        }
      ],
      "source": [
        "def task1() -> None:\n",
        "    t = Symbol('t')\n",
        "    x = Sin(t) - t*Cos(t)\n",
        "    y = Cos(t) + t*Sin(t)\n",
        "    \n",
        "    dx_dt = diff(x, t)\n",
        "    dy_dt = diff(y, t)\n",
        "    dy_dx = dy_dt / dx_dt\n",
        "    display(Latex(f\"y'_x = {latex(dy_dx)}\"))\n",
        "\n",
        "    ddx_dtt = diff(dx_dt, t)\n",
        "    ddy_dtt = diff(dy_dt, t)\n",
        "    ddy_dxx = ((dx_dt*ddy_dtt) - (ddx_dtt*dy_dt))/(dx_dt**3)\n",
        "    display(Latex(f\"y''_{{xx}} = {latex(ddy_dxx)}\"))\n",
        "    \n",
        "if __name__ == \"__main__\":\n",
        "    task1()"
      ]
    },
    {
      "cell_type": "markdown",
      "metadata": {
        "id": "lR1Ji9wHw9CW"
      },
      "source": [
        "### Задание 2.\n",
        "Найти нули производных первого и второго порядка, а также точки, в которых эти производные не существуют, для функции\n",
        "$$\n",
        "\\left\\{\n",
        "\\begin{matrix}\n",
        "x = t^2 - 2t\\\\\n",
        "y = t^2 + 2t\n",
        "\\end{matrix}\n",
        "\\right.\n",
        "$$"
      ]
    },
    {
      "cell_type": "code",
      "execution_count": 3,
      "metadata": {
        "colab": {
          "base_uri": "https://localhost:8080/",
          "height": 261
        },
        "id": "FSPzj84vw9CX",
        "outputId": "30de308e-3ef2-449f-92a5-bc9511e8c3c5"
      },
      "outputs": [
        {
          "data": {
            "text/latex": [
              "y'_{x} = \\frac{2 t + 2}{2 t - 2}"
            ],
            "text/plain": [
              "<IPython.core.display.Latex object>"
            ]
          },
          "metadata": {},
          "output_type": "display_data"
        },
        {
          "data": {
            "text/latex": [
              "\\text{Нули производной 1 порядка:}"
            ],
            "text/plain": [
              "<IPython.core.display.Latex object>"
            ]
          },
          "metadata": {},
          "output_type": "display_data"
        },
        {
          "data": {
            "text/latex": [
              "$\\displaystyle -1$"
            ],
            "text/plain": [
              "-1"
            ]
          },
          "metadata": {},
          "output_type": "display_data"
        },
        {
          "data": {
            "text/latex": [
              "\\text{Точки, в которых функция не существует:}"
            ],
            "text/plain": [
              "<IPython.core.display.Latex object>"
            ]
          },
          "metadata": {},
          "output_type": "display_data"
        },
        {
          "data": {
            "text/latex": [
              "$\\displaystyle 1$"
            ],
            "text/plain": [
              "1"
            ]
          },
          "metadata": {},
          "output_type": "display_data"
        },
        {
          "name": "stdout",
          "output_type": "stream",
          "text": [
            "\n"
          ]
        },
        {
          "data": {
            "text/latex": [
              "y''_{xx} = - \\frac{8}{\\left(2 t - 2\\right)^{3}}"
            ],
            "text/plain": [
              "<IPython.core.display.Latex object>"
            ]
          },
          "metadata": {},
          "output_type": "display_data"
        },
        {
          "data": {
            "text/latex": [
              "\\text{Нули производной 2 порядка:}"
            ],
            "text/plain": [
              "<IPython.core.display.Latex object>"
            ]
          },
          "metadata": {},
          "output_type": "display_data"
        },
        {
          "data": {
            "text/latex": [
              "\\text{{Производная не обращается в ноль}}"
            ],
            "text/plain": [
              "<IPython.core.display.Latex object>"
            ]
          },
          "metadata": {},
          "output_type": "display_data"
        },
        {
          "data": {
            "text/latex": [
              "\\text{Точки, в которых функция не существует:}"
            ],
            "text/plain": [
              "<IPython.core.display.Latex object>"
            ]
          },
          "metadata": {},
          "output_type": "display_data"
        },
        {
          "data": {
            "text/latex": [
              "$\\displaystyle 1$"
            ],
            "text/plain": [
              "1"
            ]
          },
          "metadata": {},
          "output_type": "display_data"
        },
        {
          "name": "stdout",
          "output_type": "stream",
          "text": [
            "\n"
          ]
        }
      ],
      "source": [
        "from sympy.calculus.singularities import singularities\n",
        "\n",
        "def process_diff_func(func, k: int, symbol) -> None:\n",
        "  display(Latex(f\"\"\"y{\"'\"*k}_{{{'x'*k}}} = {latex(func)}\"\"\"))\n",
        "  \n",
        "  num, den = fraction(func)\n",
        "  display(Latex(fr\"\\text{{Нули производной {k} порядка:}}\"))\n",
        "  dy_nulls = solveset(num, symbol)\n",
        "  if dy_nulls:\n",
        "    display(*dy_nulls)\n",
        "  else:\n",
        "    display(Latex(r\"\\text{{Производная не обращается в ноль}}\"))\n",
        "  \n",
        "  display(Latex(fr\"\\text{{Точки, в которых функция не существует:}}\"))\n",
        "  ddy_nulls = solveset(den, symbol)\n",
        "  if ddy_nulls:\n",
        "    display(*ddy_nulls)\n",
        "  else:\n",
        "    display(Latex(r\"\\text{{Производная определена на всей числовой оси}}\"))\n",
        "  print()\n",
        "\n",
        "def task2() -> None:\n",
        "  t = Symbol('t')\n",
        "  x = t*t - 2*t\n",
        "  y = t*t + 2*t\n",
        "\n",
        "  dx_dt = diff(x, t)\n",
        "  dy_dt = diff(y, t)\n",
        "  dy_dx = dy_dt / dx_dt\n",
        "  process_diff_func(dy_dx, 1, t)\n",
        "\n",
        "  ddx_dtt = diff(dx_dt, t)\n",
        "  ddy_dtt = diff(dy_dt, t)\n",
        "  ddy_dxx = ((dx_dt*ddy_dtt) - (dy_dt*ddx_dtt))/(dx_dt**3)\n",
        "  process_diff_func(ddy_dxx, 2, t)\n",
        "\n",
        "if __name__ == \"__main__\":\n",
        "  task2()"
      ]
    },
    {
      "cell_type": "markdown",
      "metadata": {
        "id": "keVWxFLMw9CX"
      },
      "source": [
        "### Задание 3. \n",
        "Найти точки экстремума и точки перегиба функции Задания 2."
      ]
    },
    {
      "cell_type": "code",
      "execution_count": 11,
      "metadata": {
        "colab": {
          "base_uri": "https://localhost:8080/",
          "height": 100
        },
        "id": "mbwqYvB4w9CX",
        "outputId": "1a77c6c5-e3a1-49e2-f6e7-4725d89a9d2f"
      },
      "outputs": [
        {
          "data": {
            "text/latex": [
              "\\text{Точки экстремума }y_x:"
            ],
            "text/plain": [
              "<IPython.core.display.Latex object>"
            ]
          },
          "metadata": {},
          "output_type": "display_data"
        },
        {
          "data": {
            "text/latex": [
              "$\\displaystyle -1$"
            ],
            "text/plain": [
              "-1"
            ]
          },
          "metadata": {},
          "output_type": "display_data"
        },
        {
          "data": {
            "text/latex": [
              "\\text{Точки перегиба }y_x:"
            ],
            "text/plain": [
              "<IPython.core.display.Latex object>"
            ]
          },
          "metadata": {},
          "output_type": "display_data"
        },
        {
          "data": {
            "text/latex": [
              "\\text{Функция не меняет кривизну}"
            ],
            "text/plain": [
              "<IPython.core.display.Latex object>"
            ]
          },
          "metadata": {},
          "output_type": "display_data"
        }
      ],
      "source": [
        "from sympy.calculus.singularities import singularities\n",
        "\n",
        "def task3() -> None:\n",
        "  t = Symbol('t')\n",
        "  x = t*t - 2*t\n",
        "  y = t*t + 2*t\n",
        "\n",
        "  dx_dt = diff(x, t)\n",
        "  dy_dt = diff(y, t)\n",
        "  dy_dx = dy_dt / dx_dt\n",
        "  num, _ = fraction(dy_dx)\n",
        "  display(Latex(fr\"\\text{{Точки экстремума }}y_x:\"))\n",
        "  display(*solveset(num, t))\n",
        "\n",
        "  ddx_dtt = diff(dx_dt, t)\n",
        "  ddy_dtt = diff(dy_dt, t)\n",
        "  ddy_dxx = ((dx_dt*ddy_dtt) - (dy_dt*ddx_dtt))/(dx_dt**3)\n",
        "  num_ddy, _ = fraction(ddy_dxx)\n",
        "  ddy_nulls = solve(num_ddy, t)\n",
        "  EPSILON: float = 0.05\n",
        "  points = [root for root in ddy_nulls if ddy_dxx.subs({t: root + EPSILON}) * ddy_dxx.subs({t: root - EPSILON}) < 0]\n",
        "  display(Latex(fr\"\\text{{Точки перегиба }}y_x:\"))\n",
        "  if points:\n",
        "    display(*points)\n",
        "  else:\n",
        "    display(Latex(r\"\\text{Функция не меняет кривизну}\"))\n",
        "\n",
        "\n",
        "if __name__ == \"__main__\":\n",
        "  task3()"
      ]
    },
    {
      "cell_type": "markdown",
      "metadata": {
        "id": "qWnEFC4mw9CY"
      },
      "source": [
        "### Задание 4. Точки перегиба\n",
        "Найти точки перегиба функции, график строить не нужно. \n",
        "$$\n",
        "\\left\\{\n",
        "\\begin{matrix}\n",
        "x = e^t\\\\\n",
        "y = te^{2t}\n",
        "\\end{matrix}\n",
        "\\right.\n",
        "$$"
      ]
    },
    {
      "cell_type": "code",
      "execution_count": 12,
      "metadata": {
        "colab": {
          "base_uri": "https://localhost:8080/",
          "height": 72
        },
        "id": "IEzS-fF3w9CY",
        "outputId": "e8b2d388-5e32-4d07-9ca6-9ec5782e1769"
      },
      "outputs": [
        {
          "data": {
            "text/latex": [
              "\\text{Точки перегиба }y_x:"
            ],
            "text/plain": [
              "<IPython.core.display.Latex object>"
            ]
          },
          "metadata": {},
          "output_type": "display_data"
        },
        {
          "data": {
            "text/latex": [
              "$\\displaystyle - \\frac{3}{2}$"
            ],
            "text/plain": [
              "-3/2"
            ]
          },
          "metadata": {},
          "output_type": "display_data"
        }
      ],
      "source": [
        "def task4() -> None:\n",
        "  t = Symbol('t')\n",
        "  x = sympy.exp(t)\n",
        "  y = t*sympy.exp(2*t)\n",
        "  \n",
        "  dx_dt = diff(x, t)\n",
        "  dy_dt = diff(y, t)\n",
        "  dy_dx = dy_dt / dx_dt\n",
        "  ddx_dtt = diff(dx_dt, t)\n",
        "  ddy_dtt = diff(dy_dt, t)\n",
        "  ddy_dxx = ((dx_dt*ddy_dtt) - (dy_dt*ddx_dtt))/(dx_dt**3)\n",
        "\n",
        "  num, _ = fraction(ddy_dxx)\n",
        "  ddy_nulls = solve(num, t)\n",
        "  EPSILON: float = 0.05\n",
        "  points = [root for root in ddy_nulls if ddy_dxx.subs({t: root + EPSILON}) * ddy_dxx.subs({t: root - EPSILON}) < 0]\n",
        "  display(Latex(fr\"\\text{{Точки перегиба }}y_x:\"))\n",
        "  if points:\n",
        "    display(*points)\n",
        "  else:\n",
        "    display(Latex(r\"\\text{Функция не меняет кривизну}\"))\n",
        "\n",
        "if __name__ == \"__main__\":\n",
        "  task4()"
      ]
    },
    {
      "cell_type": "markdown",
      "metadata": {
        "id": "jVUez0Fzw9CZ"
      },
      "source": [
        "## Асимптоты параметрически заданной функции\n",
        "Пусть зависимость $y$ от $x$ задана параметрически:\n",
        "$$\n",
        "\\left\\{\n",
        "\\begin{matrix}\n",
        "x = \\varphi(t)\\\\\n",
        "y = \\psi(t)\n",
        "\\end{matrix}\n",
        "\\right.\n",
        "$$\n",
        "Сначала нужно определить, нет ли таких значений параметра $t$, при которых одна из функций $\\varphi(t)$ или $\\psi(t)$ обращается в бесконечность, а другая остается конечной. При $\\varphi(t_0) = \\infty$, а $\\psi(t_0) = c$ кривая имеет горизонтальную асимптоту  $y = c$. При  $\\psi(t_0) = \\infty$, а $\\varphi(t_0) = c$ кривая имеет вертикальную асимптоту $x = c$. \n",
        "\n",
        "Если $\\varphi(t_0) = \\psi(t_0) = \\infty$ и \n",
        "$$\n",
        "\\lim_{t\\to t_0} \\frac{\\psi(t)}{\\varphi(t)} = k;\\qquad \\lim_{t\\to t_0} [\\psi(t) - k\\varphi(t)] = b,\n",
        "$$\n",
        "то   кривая имеет наклонную асимптоту  $y = kx + b$. \n",
        "\n",
        "### Индивидуальное задание.\n",
        "Найти асимптоты параметрически заданной функции и изобразить на графике функцию и ее асимптоты."
      ]
    },
    {
      "cell_type": "markdown",
      "metadata": {
        "id": "FKBK4LNhwIo6"
      },
      "source": [
        "Вариант 50\n",
        "$$\n",
        "x = 2e^t+ 2e^{−t}\\\\\n",
        "y = 5e^t−5e^{−t}\n",
        "$$"
      ]
    },
    {
      "cell_type": "code",
      "execution_count": 108,
      "metadata": {
        "colab": {
          "base_uri": "https://localhost:8080/",
          "height": 548
        },
        "id": "QGJAJR4qw9CZ",
        "outputId": "4260f164-7d5c-4c9c-d36d-60543b09ef1c"
      },
      "outputs": [
        {
          "data": {
            "text/latex": [
              "\\lim_{t\\to +\\infty} x_t = \\infty"
            ],
            "text/plain": [
              "<IPython.core.display.Latex object>"
            ]
          },
          "metadata": {},
          "output_type": "display_data"
        },
        {
          "data": {
            "text/latex": [
              "\\lim_{t\\to +\\infty} y_t = \\infty"
            ],
            "text/plain": [
              "<IPython.core.display.Latex object>"
            ]
          },
          "metadata": {},
          "output_type": "display_data"
        },
        {
          "data": {
            "text/latex": [
              "\\text{Первая асимптота: }y = \\frac{5 x}{2}"
            ],
            "text/plain": [
              "<IPython.core.display.Latex object>"
            ]
          },
          "metadata": {},
          "output_type": "display_data"
        },
        {
          "data": {
            "text/latex": [
              "\\lim_{t\\to -\\infty} x_t = \\infty"
            ],
            "text/plain": [
              "<IPython.core.display.Latex object>"
            ]
          },
          "metadata": {},
          "output_type": "display_data"
        },
        {
          "data": {
            "text/latex": [
              "\\lim_{t\\to -\\infty} y_t = -\\infty"
            ],
            "text/plain": [
              "<IPython.core.display.Latex object>"
            ]
          },
          "metadata": {},
          "output_type": "display_data"
        },
        {
          "data": {
            "text/latex": [
              "\\text{Вторая асимптота: }y = - \\frac{5 x}{2}"
            ],
            "text/plain": [
              "<IPython.core.display.Latex object>"
            ]
          },
          "metadata": {},
          "output_type": "display_data"
        },
        {
          "data": {
            "image/png": "[encoded data removed]",
            "text/plain": [
              "<Figure size 1008x504 with 1 Axes>"
            ]
          },
          "metadata": {
            "needs_background": "light"
          },
          "output_type": "display_data"
        }
      ],
      "source": [
        "def config_ax(ax):\n",
        "    ax.set_xlabel(xlabel=\"\\t\\t\\t\\t\\t\\t\\t\\t\\t\\t\\t\\t\\t\\t\\t\\t\\t\\t\\t\\t\\t\\t\\t\\t\\t\\t\\t\\t\\t\\t$x$\", labelpad=4)\n",
        "    ax.set_ylabel(ylabel=\"\\t\\t\\t\\t\\t\\t\\t\\t\\t\\t\\t\\t\\t\\t\\t$y$\", labelpad=4)\n",
        "    plt.rcParams['figure.figsize'] = [14, 7]\n",
        "    ax.legend(loc=\"upper center\")\n",
        "    ax.spines[\"right\"].set_color(\"none\")\n",
        "    ax.spines[\"top\"].set_color(\"none\")\n",
        "    ax.spines[\"bottom\"].set_position((\"data\", 0))\n",
        "    ax.spines[\"left\"].set_position((\"data\", 0))\n",
        "    ax.plot(1, 0, \"k>\", transform=ax.get_yaxis_transform(), clip_on=False)\n",
        "    ax.plot(0, 1, \"^k\", transform=ax.get_xaxis_transform(), clip_on=False)\n",
        "\n",
        "def task5() -> None:\n",
        "    t = Symbol('t')\n",
        "    x = 2*sympy.exp(t) + 2*sympy.exp(-t)\n",
        "    y = 5*sympy.exp(t) - 5*sympy.exp(-t)\n",
        "\n",
        "    t0_pos = sympy.S.Infinity\n",
        "    x_t_pos_lim = limit(e=x, z=t, z0=t0_pos)\n",
        "    display(Latex(fr\"\\lim_{{t\\to +\\infty}} x_t = {latex(x_t_pos_lim)}\"))\n",
        "    y_t_pos_lim = limit(e=y, z=t, z0=t0_pos)\n",
        "    display(Latex(fr\"\\lim_{{t\\to +\\infty}} y_t = {latex(y_t_pos_lim)}\"))\n",
        "\n",
        "    x0, y0 = Symbol('x'), Symbol('y')\n",
        "    k1 = limit(e=y/x, z=t, z0=t0_pos)\n",
        "    b1 = limit(e=y-k1*x, z=t, z0=t0_pos)\n",
        "    asympt_eq1 = lambda x0: k1*x0+b1\n",
        "    display(Latex(fr\"\\text{{Первая асимптота: }}{latex(sympy.Eq(y0, asympt_eq1(x0), evaluate=False))}\"))\n",
        "    \n",
        "\n",
        "    t0_neg = sympy.S.NegativeInfinity\n",
        "    x_t_neg_lim = limit(e=x, z=t, z0=t0_neg)\n",
        "    display(Latex(fr\"\\lim_{{t\\to -\\infty}} x_t = {latex(x_t_neg_lim)}\"))\n",
        "    y_t_neg_lim = limit(e=y, z=t, z0=t0_neg)\n",
        "    display(Latex(fr\"\\lim_{{t\\to -\\infty}} y_t = {latex(y_t_neg_lim)}\"))\n",
        "\n",
        "    k2 = limit(e=y/x, z=t, z0=t0_neg)\n",
        "    b2 = limit(e=y-k2*x, z=t, z0=t0_neg)\n",
        "    asympt_eq2 = lambda x0: k2*x0+b2\n",
        "    display(Latex(fr\"\\text{{Вторая асимптота: }}{latex(sympy.Eq(y0, asympt_eq2(x0), evaluate=False))}\"))\n",
        "\n",
        "    ax = plt.gca()\n",
        "    space = np.linspace(-2, 2, 200)\n",
        "    ax.plot(\n",
        "        2*np.exp(space) + 2*np.exp(-space),\n",
        "        5*np.exp(space) - 5*np.exp(-space),\n",
        "        color='b',\n",
        "        label=f\"$y = {latex(y)}$\\n$x = {latex(x)}$\"\n",
        "    )\n",
        "    asymptots_space = np.linspace(0, 15, 500)\n",
        "    ax.plot(\n",
        "        asymptots_space,\n",
        "        asympt_eq1(asymptots_space),\n",
        "        color='r',\n",
        "        linestyle=\"--\",\n",
        "        label=f\"$y = {latex(asympt_eq1(x0))}$\"\n",
        "    )    \n",
        "    ax.plot(\n",
        "        asymptots_space,\n",
        "        asympt_eq2(asymptots_space),\n",
        "        color='g',\n",
        "        linestyle=\"--\",\n",
        "        label=f\"$y = {latex(asympt_eq2(x0))}$\"\n",
        "    )\n",
        "    config_ax(ax)\n",
        "\n",
        "if __name__ == \"__main__\":\n",
        "    task5()"
      ]
    }
  ],
  "metadata": {
    "colab": {
      "provenance": []
    },
    "kernelspec": {
      "display_name": ".venv",
      "language": "python",
      "name": "python3"
    },
    "language_info": {
      "codemirror_mode": {
        "name": "ipython",
        "version": 3
      },
      "file_extension": ".py",
      "mimetype": "text/x-python",
      "name": "python",
      "nbconvert_exporter": "python",
      "pygments_lexer": "ipython3",
      "version": "3.11.0 (main, Oct 24 2022, 18:26:48) [MSC v.1933 64 bit (AMD64)]"
    },
    "vscode": {
      "interpreter": {
        "hash": "71eaa566fe385e36f6a17cd041d95c99303ead46f5ef158c51eb2173e206bc3f"
      }
    }
  },
  "nbformat": 4,
  "nbformat_minor": 0
}
