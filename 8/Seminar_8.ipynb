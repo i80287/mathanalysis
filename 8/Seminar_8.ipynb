{
 "cells": [
  {
   "cell_type": "code",
   "execution_count": 1,
   "metadata": {},
   "outputs": [],
   "source": [
    "import numpy as np\n",
    "import matplotlib.pyplot as plt\n",
    "import sympy\n",
    "from sympy import Symbol, diff, solve, nsolve, solveset, latex, S, simplify, fraction, Union, Interval, intersection, limit\n",
    "from sympy.calculus.util import continuous_domain\n",
    "from sympy import sin as Sin\n",
    "from sympy import cos as Cos\n",
    "from sympy import pi as Pi\n",
    "%matplotlib inline"
   ]
  },
  {
   "cell_type": "markdown",
   "metadata": {},
   "source": [
    "## Занятие 8\n",
    "## Математический анализ\n",
    "## Дифференцирование функции, заданной параметрически\n",
    "Пусть зависимость $y$ от $x$ задана параметрически:\n",
    "$$\n",
    "\\left\\{\n",
    "\\begin{matrix}\n",
    "x = \\varphi(t)\\\\\n",
    "y = \\psi(t)\n",
    "\\end{matrix}\n",
    "\\right.\n",
    "$$\n",
    "тогда производная $y$ по $x$  находится по формуле\n",
    "$$\n",
    "y'_x = \\frac{y'_t}{x'_t} = \\frac{\\psi'_t}{\\varphi'_t}\n",
    "$$\n",
    "Вторая производная:\n",
    "$$\n",
    "y''_{xx} = \\frac{x'_t y''_{tt}-x''_{tt}y'_t}{(x'_t)^3}  = \\frac{\\varphi'_t \\psi''_{tt}-\\varphi''_{tt}\\psi'_t}{(\\varphi'_t)^3}\n",
    "$$\n",
    "### Пример 1\n",
    "Найдем производные 1 и 2 порядка функции \n",
    "$$\n",
    "\\left\\{\n",
    "\\begin{matrix}\n",
    "x = \\cos(t)\\\\\n",
    "y = \\sin(t)\n",
    "\\end{matrix}\n",
    "\\right.\n",
    "$$"
   ]
  },
  {
   "cell_type": "code",
   "execution_count": 2,
   "metadata": {},
   "outputs": [
    {
     "data": {
      "text/latex": [
       "$\\displaystyle - \\frac{\\cos{\\left(t \\right)}}{\\sin{\\left(t \\right)}}$"
      ],
      "text/plain": [
       "-cos(t)/sin(t)"
      ]
     },
     "metadata": {},
     "output_type": "display_data"
    },
    {
     "data": {
      "text/latex": [
       "$\\displaystyle - \\frac{\\sin^{2}{\\left(t \\right)} + \\cos^{2}{\\left(t \\right)}}{\\sin^{3}{\\left(t \\right)}}$"
      ],
      "text/plain": [
       "-(sin(t)**2 + cos(t)**2)/sin(t)**3"
      ]
     },
     "metadata": {},
     "output_type": "display_data"
    }
   ],
   "source": [
    "t = Symbol('t')\n",
    "x = Cos(t)\n",
    "y = Sin(t)\n",
    "dx = diff(x, t)\n",
    "dy =  diff(y, t)\n",
    "dy_x = dy/dx\n",
    "dy2_xx = (dx*diff(y, t, 2) - diff(x, t, 2)*dy)/dx**3\n",
    "display(dy_x, dy2_xx)"
   ]
  },
  {
   "cell_type": "markdown",
   "metadata": {},
   "source": [
    "Упростим выражение для второй производной, для первой не будем, поскольку нужно будет искать нули числителя и знаменателя."
   ]
  },
  {
   "cell_type": "code",
   "execution_count": 3,
   "metadata": {},
   "outputs": [
    {
     "data": {
      "text/latex": [
       "$\\displaystyle - \\frac{1}{\\sin^{3}{\\left(t \\right)}}$"
      ],
      "text/plain": [
       "-1/sin(t)**3"
      ]
     },
     "metadata": {},
     "output_type": "display_data"
    }
   ],
   "source": [
    "dy2_xx = simplify(dy2_xx)\n",
    "display(dy2_xx)"
   ]
  },
  {
   "cell_type": "markdown",
   "metadata": {},
   "source": [
    "### Пример 2.\n",
    "Найдем нули производных первого и второго порядка для функции Примера 1, а также точки, в которых эти производные не существуют"
   ]
  },
  {
   "cell_type": "code",
   "execution_count": 4,
   "metadata": {},
   "outputs": [
    {
     "data": {
      "text/plain": [
       "'Первая производная, нули числителя:'"
      ]
     },
     "metadata": {},
     "output_type": "display_data"
    },
    {
     "data": {
      "text/latex": [
       "$\\displaystyle \\left\\{2 n \\pi + \\frac{\\pi}{2}\\; |\\; n \\in \\mathbb{Z}\\right\\} \\cup \\left\\{2 n \\pi + \\frac{3 \\pi}{2}\\; |\\; n \\in \\mathbb{Z}\\right\\}$"
      ],
      "text/plain": [
       "Union(ImageSet(Lambda(_n, 2*_n*pi + pi/2), Integers), ImageSet(Lambda(_n, 2*_n*pi + 3*pi/2), Integers))"
      ]
     },
     "metadata": {},
     "output_type": "display_data"
    },
    {
     "data": {
      "text/plain": [
       "'нули знаменателя:'"
      ]
     },
     "metadata": {},
     "output_type": "display_data"
    },
    {
     "data": {
      "text/latex": [
       "$\\displaystyle \\left\\{2 n \\pi\\; |\\; n \\in \\mathbb{Z}\\right\\} \\cup \\left\\{2 n \\pi + \\pi\\; |\\; n \\in \\mathbb{Z}\\right\\}$"
      ],
      "text/plain": [
       "Union(ImageSet(Lambda(_n, 2*_n*pi + pi), Integers), ImageSet(Lambda(_n, 2*_n*pi), Integers))"
      ]
     },
     "metadata": {},
     "output_type": "display_data"
    },
    {
     "data": {
      "text/plain": [
       "'Вторая производная, нули числителя:'"
      ]
     },
     "metadata": {},
     "output_type": "display_data"
    },
    {
     "data": {
      "text/latex": [
       "$\\displaystyle \\emptyset$"
      ],
      "text/plain": [
       "EmptySet"
      ]
     },
     "metadata": {},
     "output_type": "display_data"
    },
    {
     "data": {
      "text/plain": [
       "'нули знаменателя:'"
      ]
     },
     "metadata": {},
     "output_type": "display_data"
    },
    {
     "data": {
      "text/latex": [
       "$\\displaystyle \\left\\{2 n \\pi\\; |\\; n \\in \\mathbb{Z}\\right\\} \\cup \\left\\{2 n \\pi + \\pi\\; |\\; n \\in \\mathbb{Z}\\right\\}$"
      ],
      "text/plain": [
       "Union(ImageSet(Lambda(_n, 2*_n*pi + pi), Integers), ImageSet(Lambda(_n, 2*_n*pi), Integers))"
      ]
     },
     "metadata": {},
     "output_type": "display_data"
    }
   ],
   "source": [
    "dy_x_num, dy_x_den = fraction(dy_x)\n",
    "dy_x_num_nul = solveset(dy_x_num)\n",
    "dy_x_den_nul = solveset(dy_x_den)\n",
    "display('Первая производная, нули числителя:', dy_x_num_nul, 'нули знаменателя:', dy_x_den_nul)\n",
    "dy2_xx_num,dy2_xx_den = fraction(dy2_xx)\n",
    "dy2_xx_num_nul = solveset(dy2_xx_num)\n",
    "dy2_xx_den_nul = solveset(dy2_xx_den)\n",
    "display('Вторая производная, нули числителя:', dy2_xx_num_nul, 'нули знаменателя:', dy2_xx_den_nul)"
   ]
  },
  {
   "cell_type": "markdown",
   "metadata": {},
   "source": [
    "### Пример 3. Точки экстремума\n",
    "Найдем точки экстремума функции Примера 1 на интервале изменения параметра t от 0 до $2\\pi$.\n",
    "\n",
    "Объединим множества нулей первой производной и точек, в которой она не существует, получим множество критических точек.\n",
    "\n",
    "Преобразуем множество критических точек в список и упорядочим его по возрастанию.\n",
    "\n",
    "Вычислим значения производной в серединах отрезков между критическими точками.\n",
    "\n",
    "По смене знаков при переходе через точку, в которой производная равна нулю, определим тип экстремума.\n",
    "\n",
    "ВАЖНО: при смене знаков нужно учесть, что с ростом t переменная х может убывать, тогда вывод о типе экстремума противоположный тому, как для обычной функции!\n",
    "\n",
    "ВНИМАНИЕ! Точки, в которых производная параметрической функции не существует - не точки экстремума!"
   ]
  },
  {
   "cell_type": "code",
   "execution_count": 5,
   "metadata": {},
   "outputs": [
    {
     "data": {
      "text/latex": [
       "$\\displaystyle \\left\\{2 n \\pi\\; |\\; n \\in \\mathbb{Z}\\right\\} \\cup \\left\\{2 n \\pi + \\pi\\; |\\; n \\in \\mathbb{Z}\\right\\} \\cup \\left\\{2 n \\pi + \\frac{\\pi}{2}\\; |\\; n \\in \\mathbb{Z}\\right\\} \\cup \\left\\{2 n \\pi + \\frac{3 \\pi}{2}\\; |\\; n \\in \\mathbb{Z}\\right\\}$"
      ],
      "text/plain": [
       "Union(ImageSet(Lambda(_n, 2*_n*pi + pi/2), Integers), ImageSet(Lambda(_n, 2*_n*pi + 3*pi/2), Integers), ImageSet(Lambda(_n, 2*_n*pi + pi), Integers), ImageSet(Lambda(_n, 2*_n*pi), Integers))"
      ]
     },
     "execution_count": 5,
     "metadata": {},
     "output_type": "execute_result"
    }
   ],
   "source": [
    "crit_points = Union(dy_x_num_nul, dy_x_den_nul)\n",
    "crit_points"
   ]
  },
  {
   "cell_type": "markdown",
   "metadata": {},
   "source": [
    "Найдем теперь пересечение множества критических точек с интервалом $[0, 2\\pi)$. Правую границу интервала не включаем (Interval.Ropen(0, 2*Pi)), поскольку параметрическая функция задана периодическими с периодом $2\\pi$ функциями, поэтому при $t = 2\\pi$ получится та же самая точка, что и при $t = 0$."
   ]
  },
  {
   "cell_type": "code",
   "execution_count": 6,
   "metadata": {},
   "outputs": [
    {
     "data": {
      "text/latex": [
       "$\\displaystyle \\left\\{0, \\frac{\\pi}{2}, \\pi, \\frac{3 \\pi}{2}\\right\\}$"
      ],
      "text/plain": [
       "FiniteSet(0, pi, pi/2, 3*pi/2)"
      ]
     },
     "execution_count": 6,
     "metadata": {},
     "output_type": "execute_result"
    }
   ],
   "source": [
    "crit_points_interval = crit_points.intersection(Interval.Ropen(0, 2*Pi))\n",
    "crit_points_interval"
   ]
  },
  {
   "cell_type": "markdown",
   "metadata": {},
   "source": [
    "Используем сортировку для упорядочивания точек в списке."
   ]
  },
  {
   "cell_type": "code",
   "execution_count": 7,
   "metadata": {},
   "outputs": [
    {
     "data": {
      "text/plain": [
       "[0, pi/2, pi, 3*pi/2]"
      ]
     },
     "execution_count": 7,
     "metadata": {},
     "output_type": "execute_result"
    }
   ],
   "source": [
    "crit_points_interval = list(crit_points_interval)\n",
    "crit_points_interval.sort()\n",
    "crit_points_interval"
   ]
  },
  {
   "cell_type": "code",
   "execution_count": 8,
   "metadata": {},
   "outputs": [
    {
     "data": {
      "text/plain": [
       "[-pi/6, pi/4, 3*pi/4, 5*pi/4, 5*pi/3]"
      ]
     },
     "execution_count": 8,
     "metadata": {},
     "output_type": "execute_result"
    }
   ],
   "source": [
    "points = [-Pi/6] + [(item + crit_points_interval[i + 1])/2 for i, item in enumerate(crit_points_interval[:-1])] + [5*Pi/3]\n",
    "points"
   ]
  },
  {
   "cell_type": "markdown",
   "metadata": {},
   "source": [
    "Отбираем точки максимума и точки минимума, перебираем все критические точки, чтобы правильно выбирать точки слева и справа для вычисления производной, но в точки экстремума включаем только нули числителя производной, причем минимум получается при смене знака с - на + при условии, что значение $x$ меняется с меньшего на большее или при смене знака с + на - при условии, что значение $x$ меняется с большего на меньшее, макисмум - аналогично."
   ]
  },
  {
   "cell_type": "code",
   "execution_count": 9,
   "metadata": {},
   "outputs": [
    {
     "data": {
      "text/plain": [
       "'максимум'"
      ]
     },
     "metadata": {},
     "output_type": "display_data"
    },
    {
     "data": {
      "text/plain": [
       "[pi/2]"
      ]
     },
     "metadata": {},
     "output_type": "display_data"
    },
    {
     "data": {
      "text/plain": [
       "'минимум'"
      ]
     },
     "metadata": {},
     "output_type": "display_data"
    },
    {
     "data": {
      "text/plain": [
       "[3*pi/2]"
      ]
     },
     "metadata": {},
     "output_type": "display_data"
    }
   ],
   "source": [
    "max_arr=[]\n",
    "min_arr=[]\n",
    "for i, item in enumerate(crit_points_interval):\n",
    "    if item in dy_x_num_nul:\n",
    "        df_left = dy_x.subs(t, points[i])\n",
    "        df_right = dy_x.subs(t, points[i + 1])\n",
    "        x_left = float(x.subs(t, points[i]))\n",
    "        x_right = float(x.subs(t, points[i + 1]))\n",
    "        if df_left < 0 and df_right > 0 and x_left < x_right or df_left > 0 and df_right < 0 and x_left > x_right:\n",
    "            min_arr.append(item)\n",
    "        elif df_left < 0 and df_right > 0 and x_left > x_right or df_left > 0 and df_right < 0 and x_left < x_right:\n",
    "            max_arr.append(item)    \n",
    "display('максимум', max_arr, 'минимум', min_arr)"
   ]
  },
  {
   "cell_type": "markdown",
   "metadata": {},
   "source": [
    "Посмотрим на графике:"
   ]
  },
  {
   "cell_type": "code",
   "execution_count": 10,
   "metadata": {},
   "outputs": [
    {
     "data": {
      "image/png": "[encoded data removed]",
      "text/plain": [
       "<Figure size 432x288 with 1 Axes>"
      ]
     },
     "metadata": {
      "needs_background": "light"
     },
     "output_type": "display_data"
    }
   ],
   "source": [
    "T = np.linspace(0, 2*np.pi, 100)\n",
    "ax = plt.gca()  \n",
    "ax.plot(np.cos(T), np.sin(T))\n",
    "ax.axis('equal')\n",
    "ax.spines['right'].set_color('none')\n",
    "ax.spines['top'].set_color('none')\n",
    "ax.spines['bottom'].set_position(('data', 0))\n",
    "ax.spines['left'].set_position(('data', 0))\n",
    "for item in max_arr + min_arr:\n",
    "    if item in max_arr:\n",
    "        extr = ('maximum:', (10, 30))\n",
    "    elif item in min_arr:\n",
    "        extr = ('minimum:', (30, -30))\n",
    "    x0 = x.subs(t, item)\n",
    "    y0 = y.subs(t, item)\n",
    "    ax.scatter([x0], [y0], 50, color='red')\n",
    "    ax.annotate(extr[0] + r' $t = ' + latex(item) + ',\\,x = ' + latex(x0) + ',\\,y = ' + latex(y0)+r'$',\n",
    "                xy=(x0, y0), xycoords='data',\n",
    "                xytext=extr[1], textcoords='offset points', fontsize=16,\n",
    "                arrowprops=dict(arrowstyle=\"->\", connectionstyle=\"arc3,rad=-.2\"))    "
   ]
  },
  {
   "cell_type": "markdown",
   "metadata": {},
   "source": [
    "### Пример 4. Точки перегиба\n",
    "Найдем точки перегиба функции \n",
    "$$\n",
    "\\left\\{\n",
    "\\begin{matrix}\n",
    "x = \\sin(t)\\\\\n",
    "y = \\sin(2t)\n",
    "\\end{matrix}\n",
    "\\right.\n",
    "$$\n",
    "\n",
    "Заметим, что функция периодическая с периодом $2\\pi$, поэтому будем исследовать ее на полуоткрытом интервале $[0, 2\\pi)$.\n",
    "\n",
    "Вначале найдем вторую производную $y''_{xx}$, затем нули этой производной и точки, в которых производная не существует.\n",
    "\n",
    "Вычислим значения второй производной в серединах отрезков между нулями второй производной и точками, в которых производная не существует.\n",
    "\n",
    "По смене знаков при переходе через точку, в которой вторая производная равна нулю или не существует, определим, является ли эта точка точкой перегиба."
   ]
  },
  {
   "cell_type": "code",
   "execution_count": 11,
   "metadata": {},
   "outputs": [
    {
     "data": {
      "text/latex": [
       "$\\displaystyle \\frac{2 \\sin{\\left(t \\right)} \\cos{\\left(2 t \\right)} - 4 \\sin{\\left(2 t \\right)} \\cos{\\left(t \\right)}}{\\cos^{3}{\\left(t \\right)}}$"
      ],
      "text/plain": [
       "(2*sin(t)*cos(2*t) - 4*sin(2*t)*cos(t))/cos(t)**3"
      ]
     },
     "metadata": {},
     "output_type": "display_data"
    },
    {
     "data": {
      "text/plain": [
       "[0, pi/2, pi, 3*pi/2]"
      ]
     },
     "metadata": {},
     "output_type": "display_data"
    }
   ],
   "source": [
    "t = Symbol('t')\n",
    "x = Sin(t)\n",
    "y = Sin(2*t)\n",
    "dx = diff(x, t)\n",
    "dy = diff(y, t)\n",
    "dy_x = dy/dx\n",
    "dy2_xx = (dx*diff(y, t, 2) - diff(x, t, 2)*dy)/dx**3\n",
    "display(dy2_xx)\n",
    "dy2_xx_num, dy2_xx_den = fraction(dy2_xx)\n",
    "dy2_xx_num_nul = solveset(dy2_xx_num)\n",
    "dy2_xx_den_nul = solveset(dy2_xx_den)\n",
    "dy2_xx_points = list((dy2_xx_num_nul.union(dy2_xx_den_nul)).intersect(Interval.Ropen(0, 2*Pi)))\n",
    "dy2_xx_points.sort()\n",
    "display(dy2_xx_points)"
   ]
  },
  {
   "cell_type": "markdown",
   "metadata": {},
   "source": [
    "Составим список промежуточных точек для вычисления второй производной."
   ]
  },
  {
   "cell_type": "code",
   "execution_count": 12,
   "metadata": {},
   "outputs": [
    {
     "data": {
      "text/plain": [
       "[-pi/6, pi/4, 3*pi/4, 5*pi/4, 5*pi/3]"
      ]
     },
     "execution_count": 12,
     "metadata": {},
     "output_type": "execute_result"
    }
   ],
   "source": [
    "points = [-Pi/6] + [(item + crit_points_interval[i + 1])/2 for i, item in enumerate(dy2_xx_points[:-1])] + [5*Pi/3]\n",
    "points"
   ]
  },
  {
   "cell_type": "code",
   "execution_count": 13,
   "metadata": {},
   "outputs": [
    {
     "data": {
      "text/plain": [
       "'перегиб '"
      ]
     },
     "metadata": {},
     "output_type": "display_data"
    },
    {
     "data": {
      "text/plain": [
       "[0, pi]"
      ]
     },
     "metadata": {},
     "output_type": "display_data"
    }
   ],
   "source": [
    "inflection=[]\n",
    "for i, item in enumerate(dy2_xx_points):\n",
    "    if item in dy2_xx_num_nul:\n",
    "        df_left = dy2_xx.subs(t, points[i])\n",
    "        df_right = dy2_xx.subs(t, points[i + 1])\n",
    "        if df_left*df_right < 0:\n",
    "            inflection.append(item)      \n",
    "display('перегиб ', inflection)"
   ]
  },
  {
   "cell_type": "markdown",
   "metadata": {},
   "source": [
    "Данная точка является еще и точкой самопересечения, через нее проходит параметрически заданная кривая дважды, один раз при \n",
    "$t = 0$, а затем при $t = \\pi$:"
   ]
  },
  {
   "cell_type": "code",
   "execution_count": 14,
   "metadata": {},
   "outputs": [
    {
     "data": {
      "text/plain": [
       "True"
      ]
     },
     "metadata": {},
     "output_type": "display_data"
    }
   ],
   "source": [
    "display(x.subs(t, 0) == x.subs(t, Pi) and y.subs(t, 0) == y.subs(t, Pi))"
   ]
  },
  {
   "cell_type": "markdown",
   "metadata": {},
   "source": [
    "Отметим особые точки параметрически заданной функции, т.е. такие, что производная $x'_t$ или $y'_t$ равна нулю:"
   ]
  },
  {
   "cell_type": "code",
   "execution_count": 15,
   "metadata": {},
   "outputs": [
    {
     "data": {
      "text/plain": [
       "[pi/4, pi/2, 3*pi/4, 5*pi/4, 3*pi/2, 7*pi/4]"
      ]
     },
     "execution_count": 15,
     "metadata": {},
     "output_type": "execute_result"
    }
   ],
   "source": [
    "spec_points = list(solveset(dx).union(solveset(dy)).intersect(Interval.Ropen(0, 2*Pi)))\n",
    "spec_points.sort()\n",
    "spec_points"
   ]
  },
  {
   "cell_type": "markdown",
   "metadata": {},
   "source": [
    "На графике функции отметим $P$ точка перегиба, $A_1$, $A_2$, ... - особые точки, $B_1$ и $B_2$, соответствующие \n",
    "$t = \\pi/2$ и $3\\pi/2$ - точки, в которых касательная к графику вертикальна. Построим вертикальные касательные красным пунктиром, горизонтальные - черным.   "
   ]
  },
  {
   "cell_type": "code",
   "execution_count": 16,
   "metadata": {},
   "outputs": [
    {
     "data": {
      "text/plain": [
       "<matplotlib.lines.Line2D at 0x17945507b38>"
      ]
     },
     "execution_count": 16,
     "metadata": {},
     "output_type": "execute_result"
    },
    {
     "data": {
      "image/png": "[encoded data removed]",
      "text/plain": [
       "<Figure size 432x288 with 1 Axes>"
      ]
     },
     "metadata": {
      "needs_background": "light"
     },
     "output_type": "display_data"
    }
   ],
   "source": [
    "T = np.linspace(0, 2*np.pi, 100)\n",
    "ax = plt.gca()  \n",
    "ax.plot(np.sin(T), np.sin(2*T))\n",
    "ax.axis('equal')\n",
    "ax.spines['right'].set_color('none')\n",
    "ax.spines['top'].set_color('none')\n",
    "ax.spines['bottom'].set_position(('data', 0))\n",
    "ax.spines['left'].set_position(('data', 0))\n",
    "x0 = x.subs(t, 0)\n",
    "y0 = y.subs(t, 0)\n",
    "ax.scatter([x0], [y0], 50, color='red')\n",
    "ax.annotate('P', xy=(x0, y0), xycoords='data',\n",
    "            xytext=(5, 5), textcoords='offset points', fontsize=16)    \n",
    "for i, item in enumerate(spec_points):\n",
    "    x0 = x.subs(t, item)\n",
    "    y0 = y.subs(t, item)\n",
    "    ax.scatter([x0], [y0], 50, color='red')\n",
    "    ax.annotate(r' $A_' + str(i + 1) + r'$', xy=(x0, y0), xycoords='data',\n",
    "                xytext=(-5, 5), textcoords='offset points', fontsize=16)\n",
    "plt.axhline(y=1, color='black', linestyle='--')\n",
    "plt.axhline(y=-1, color='black', linestyle='--')    \n",
    "plt.axvline(x=1, color='red', linestyle='--')    \n",
    "plt.axvline(x=-1, color='red', linestyle='--')  "
   ]
  },
  {
   "cell_type": "markdown",
   "metadata": {},
   "source": [
    "## Асимптоты параметрически заданной функции\n",
    "Пусть зависимость $y$ от $x$ задана параметрически:\n",
    "$$\n",
    "\\left\\{\n",
    "\\begin{matrix}\n",
    "x = \\varphi(t)\\\\\n",
    "y = \\psi(t)\n",
    "\\end{matrix}\n",
    "\\right.\n",
    "$$\n",
    "Сначала нужно определить, нет ли таких значений параметра $t$, при которых одна из функций $\\varphi(t)$ или $\\psi(t)$ обращается в бесконечность, а другая остается конечной. При $\\varphi(t_0) = \\infty$, а $\\psi(t_0) = c$ кривая имеет горизонтальную асимптоту  $y = c$. При  $\\psi(t_0) = \\infty$, а $\\varphi(t_0) = c$ кривая имеет вертикальную асимптоту $x = c$. \n",
    "\n",
    "Если $\\varphi(t_0) = \\psi(t_0) = \\infty$ и \n",
    "$$\n",
    "\\lim_{t\\to t_0} \\frac{\\psi(t)}{\\varphi(t)} = k;\\qquad \\lim_{t\\to t_0} [\\psi(t) - k\\varphi(t)] = b,\n",
    "$$\n",
    "то   кривая имеет наклонную асимптоту  $y = kx + b$. \n",
    "\n",
    "### Пример 5.\n",
    "Найти асимптоты функции\n",
    "$$\n",
    "\\left\\{\n",
    "\\begin{matrix}\n",
    "x = \\frac{1}{t}\\\\\n",
    "y = e^t\n",
    "\\end{matrix}\n",
    "\\right.\n",
    "$$\n",
    "и изобразить на графике функцию и ее асимптоты.\n",
    "\n",
    "Заметим, что $x \\to \\infty$ при $t \\to 0$ и еще $y \\to \\infty$ при $t \\to \\infty$, так что вычислим пределы в нуле и положительной бесконечности. "
   ]
  },
  {
   "cell_type": "code",
   "execution_count": 17,
   "metadata": {},
   "outputs": [
    {
     "data": {
      "text/plain": [
       "'t -> 0'"
      ]
     },
     "metadata": {},
     "output_type": "display_data"
    },
    {
     "data": {
      "text/latex": [
       "$\\displaystyle \\infty$"
      ],
      "text/plain": [
       "oo"
      ]
     },
     "metadata": {},
     "output_type": "display_data"
    },
    {
     "data": {
      "text/plain": [
       "(exp(t), t, 0)"
      ]
     },
     "metadata": {},
     "output_type": "display_data"
    },
    {
     "data": {
      "text/plain": [
       "'t -> +oo'"
      ]
     },
     "metadata": {},
     "output_type": "display_data"
    },
    {
     "data": {
      "text/latex": [
       "$\\displaystyle 0$"
      ],
      "text/plain": [
       "0"
      ]
     },
     "metadata": {},
     "output_type": "display_data"
    },
    {
     "data": {
      "text/latex": [
       "$\\displaystyle \\infty$"
      ],
      "text/plain": [
       "oo"
      ]
     },
     "metadata": {},
     "output_type": "display_data"
    }
   ],
   "source": [
    "t = Symbol('t')\n",
    "x = 1/t\n",
    "y = sympy.exp(t)\n",
    "display('t -> 0', limit(x, t, 0), (y, t, 0))\n",
    "display('t -> +oo', limit(x, t, +sympy.oo), limit(y, t, +sympy.oo))"
   ]
  },
  {
   "cell_type": "markdown",
   "metadata": {},
   "source": [
    "Значит, кривая имеет горизонтальную асимптоту  $y = 1$ и вертикальную асимптоту $x = 0$. "
   ]
  },
  {
   "cell_type": "code",
   "execution_count": 18,
   "metadata": {},
   "outputs": [
    {
     "data": {
      "text/plain": [
       "(-0.5, 5)"
      ]
     },
     "execution_count": 18,
     "metadata": {},
     "output_type": "execute_result"
    },
    {
     "data": {
      "image/png": "[encoded data removed]",
      "text/plain": [
       "<Figure size 432x288 with 1 Axes>"
      ]
     },
     "metadata": {
      "needs_background": "light"
     },
     "output_type": "display_data"
    }
   ],
   "source": [
    "T1 = np.linspace(-10, -0.1, 100)\n",
    "T2 = np.linspace(0.1, 10, 100)\n",
    "for T in [T1, T2]:\n",
    "    plt.plot(1/T, np.exp(T), color='green')\n",
    "plt.axhline(y=1, color='black', linestyle='--')    \n",
    "plt.axvline(x=0, color='red', linestyle='--') \n",
    "plt.ylim(-0.5, 5)"
   ]
  },
  {
   "cell_type": "markdown",
   "metadata": {},
   "source": [
    "### Пример 6.\n",
    "Найти асимптоты функции\n",
    "$$\n",
    "\\left\\{\n",
    "\\begin{matrix}\n",
    "x = \\sqrt{t+1}\\\\\n",
    "y = \\sqrt{t}\n",
    "\\end{matrix}\n",
    "\\right.\n",
    "$$\n",
    "и изобразить на графике функцию и ее асимптоты.\n",
    "\n",
    "Заметим, что $x \\to \\infty$ и $y \\to \\infty$ при $t \\to \\infty$, так что вычислим на положительной бесконечности пределы \n",
    "$$\n",
    "\\lim_{t\\to \\infty} \\frac{y}{x};\\qquad \\lim_{t\\to \\infty} [y - kx].\n",
    "$$. "
   ]
  },
  {
   "cell_type": "code",
   "execution_count": 19,
   "metadata": {},
   "outputs": [
    {
     "data": {
      "text/latex": [
       "$\\displaystyle 1$"
      ],
      "text/plain": [
       "1"
      ]
     },
     "metadata": {},
     "output_type": "display_data"
    }
   ],
   "source": [
    "t = Symbol('t')\n",
    "x = sympy.sqrt(t + 1)\n",
    "y = sympy.sqrt(t)\n",
    "display(limit(y/x, t, +sympy.oo))"
   ]
  },
  {
   "cell_type": "markdown",
   "metadata": {},
   "source": [
    "Получили $k = 1 < \\infty$, вычисляем второй предел:"
   ]
  },
  {
   "cell_type": "code",
   "execution_count": 20,
   "metadata": {},
   "outputs": [
    {
     "data": {
      "text/latex": [
       "$\\displaystyle 0$"
      ],
      "text/plain": [
       "0"
      ]
     },
     "metadata": {},
     "output_type": "display_data"
    }
   ],
   "source": [
    "display(limit(y - x, t, +sympy.oo))"
   ]
  },
  {
   "cell_type": "markdown",
   "metadata": {},
   "source": [
    "Следовательно, $y = x$ - наклонная асимптота."
   ]
  },
  {
   "cell_type": "code",
   "execution_count": 22,
   "metadata": {},
   "outputs": [
    {
     "data": {
      "text/plain": [
       "(-0.5, 5)"
      ]
     },
     "execution_count": 22,
     "metadata": {},
     "output_type": "execute_result"
    },
    {
     "data": {
      "image/png": "[encoded data removed]",
      "text/plain": [
       "<Figure size 432x288 with 1 Axes>"
      ]
     },
     "metadata": {
      "needs_background": "light"
     },
     "output_type": "display_data"
    }
   ],
   "source": [
    "T = np.linspace(0, 25, 100)\n",
    "plt.plot(np.sqrt(T + 1), np.sqrt(T), color='green')\n",
    "plt.plot((0, 5), (0, 5), color='black', linestyle='--')    \n",
    "plt.ylim(-0.5, 5)"
   ]
  }
 ],
 "metadata": {
  "kernelspec": {
   "display_name": "Python 3",
   "language": "python",
   "name": "python3"
  },
  "language_info": {
   "codemirror_mode": {
    "name": "ipython",
    "version": 3
   },
   "file_extension": ".py",
   "mimetype": "text/x-python",
   "name": "python",
   "nbconvert_exporter": "python",
   "pygments_lexer": "ipython3",
   "version": "3.7.3"
  }
 },
 "nbformat": 4,
 "nbformat_minor": 2
}
