{
 "cells": [
  {
   "cell_type": "code",
   "execution_count": 81,
   "metadata": {},
   "outputs": [],
   "source": [
    "from typing import overload, Callable, Union, Optional, List\n",
    "\n",
    "from sympy import latex\n",
    "from sympy.core._print_helpers import Printable\n",
    "from IPython.display import Latex\n",
    "\n",
    "# Should be set to 'False' if Google Colab is used.\n",
    "VS_CODE: bool = True\n",
    "\n",
    "@overload\n",
    "def display_with_text(text: Optional[str] = None) -> None:\n",
    "    ...\n",
    "\n",
    "@overload\n",
    "def display_with_text(text: Optional[str] = None, expression: Optional[Union[str, Printable]] = None) -> None:\n",
    "    ...\n",
    "\n",
    "@overload\n",
    "def display_with_text(text: Optional[str] = None, *expressions: Union[str, Printable]) -> None:\n",
    "    ...\n",
    "\n",
    "def display_with_text(*args, **kwargs) -> None:\n",
    "    text: Optional[str] = kwargs.get(\"text\", None)\n",
    "    expression: Optional[Union[str, Printable]] = kwargs.get(\"expression\", None)\n",
    "\n",
    "    if text is None and args:\n",
    "        text = args[0]\n",
    "    \n",
    "    expressions: List[Union[str, Printable]] = \\\n",
    "        [expr for expr in args[1:] if isinstance(expr, (str, Printable))] \\\n",
    "        if len(args) > 1 else []\n",
    "\n",
    "    if expression is not None:\n",
    "        expressions.append(expression)\n",
    "\n",
    "    if not expressions:\n",
    "        if text is not None:\n",
    "            text = \"$ \\\\text{\" + text + \"} $\" if VS_CODE else \"\\\\text{\" + text + '}'\n",
    "            display(Latex(text))\n",
    "        return\n",
    "    \n",
    "    verifier: Callable[[Union[str, Printable]], str] = \\\n",
    "        lambda expr: expr if isinstance(expr, str) else str(latex(expr))\n",
    "    final_expression: str = r\"\\\\\".join(map(verifier, expressions))\n",
    "    \n",
    "    if VS_CODE:\n",
    "        final_expression = \"$ \" + final_expression + \" $\"\n",
    "\n",
    "    if text is not None:\n",
    "        final_expression = \\\n",
    "            (\"$ \\\\text{\" + text + \"} $ \" if VS_CODE else \"\\\\text{\" + text + \"} \") \\\n",
    "            + final_expression\n",
    "\n",
    "    display(Latex(final_expression))\n"
   ]
  },
  {
   "cell_type": "code",
   "execution_count": 82,
   "metadata": {},
   "outputs": [],
   "source": [
    "import sympy\n",
    "from sympy import S, Symbol, symbols, simplify, nonlinsolve, Matrix, diff, factor, Expr"
   ]
  },
  {
   "cell_type": "markdown",
   "metadata": {},
   "source": [
    "## Занятие 15\n",
    "## Математический анализ\n",
    "## Экстремум функции нескольких переменных \n",
    "### Задание 1\n",
    "Найти точки экстремума:\n",
    "\n",
    "1) $z = x^2 + xy + y^2 - 2x - y$\n",
    "\n",
    "2) $z = x^3y^2(6 - x - y)$, $(x, y > 0)$\n",
    "\n",
    "3) $z = \\frac{8}{x} + \\frac{x}{y} + y$\n",
    "\n",
    "4) $z = \\frac{1 + x - y}{\\sqrt{1 + x^2 + y^2}}$\n",
    "###### Указание.\n",
    "Вначале найти стационарные точки. Составить определитель из вторых производных в произвольной точке. Подставляя найденные (вещественные) стационарные точки, решить вопрос о наличии экстремума."
   ]
  },
  {
   "cell_type": "code",
   "execution_count": 83,
   "metadata": {},
   "outputs": [
    {
     "data": {
      "text/latex": [
       "$ \\text{Функция:} $ $ f = x^{2} + x y - 2 x - y $"
      ],
      "text/plain": [
       "<IPython.core.display.Latex object>"
      ]
     },
     "metadata": {},
     "output_type": "display_data"
    },
    {
     "data": {
      "text/latex": [
       "$ \\text{Стационарная точка }\\left( 1, \\  0\\right)\\text{ не является точкой экстремума} $"
      ],
      "text/plain": [
       "<IPython.core.display.Latex object>"
      ]
     },
     "metadata": {},
     "output_type": "display_data"
    },
    {
     "data": {
      "text/latex": [
       "$ \\text{Точек экстремума нет} $"
      ],
      "text/plain": [
       "<IPython.core.display.Latex object>"
      ]
     },
     "metadata": {},
     "output_type": "display_data"
    },
    {
     "data": {
      "text/latex": [
       "$ \\text{Функция:} $ $ f = x^{3} y^{2} \\left(- x - y + 6\\right) $"
      ],
      "text/plain": [
       "<IPython.core.display.Latex object>"
      ]
     },
     "metadata": {},
     "output_type": "display_data"
    },
    {
     "data": {
      "text/latex": [
       "$ \\text{В стационарной точке }(0, y)\\text{ det = 0, необходимо исслодовать функцию дальше} $"
      ],
      "text/plain": [
       "<IPython.core.display.Latex object>"
      ]
     },
     "metadata": {},
     "output_type": "display_data"
    },
    {
     "data": {
      "text/latex": [
       "$ \\text{В стационарной точке }(x, 0)\\text{ det = 0, необходимо исслодовать функцию дальше} $"
      ],
      "text/plain": [
       "<IPython.core.display.Latex object>"
      ]
     },
     "metadata": {},
     "output_type": "display_data"
    },
    {
     "data": {
      "text/latex": [
       "$ \\text{Точки экстремума не найдены} $"
      ],
      "text/plain": [
       "<IPython.core.display.Latex object>"
      ]
     },
     "metadata": {},
     "output_type": "display_data"
    },
    {
     "data": {
      "text/latex": [
       "$ \\text{Функция:} $ $ f = \\frac{x}{y} + y + \\frac{8}{x} $"
      ],
      "text/plain": [
       "<IPython.core.display.Latex object>"
      ]
     },
     "metadata": {},
     "output_type": "display_data"
    },
    {
     "data": {
      "text/latex": [
       "$ \\text{minimum:} $ $ \\left( 4, \\  2\\right) $"
      ],
      "text/plain": [
       "<IPython.core.display.Latex object>"
      ]
     },
     "metadata": {},
     "output_type": "display_data"
    },
    {
     "data": {
      "text/latex": [
       "$ \\text{Функция:} $ $ f = \\frac{x - y + 1}{\\sqrt{x^{2} + y^{2} + 1}} $"
      ],
      "text/plain": [
       "<IPython.core.display.Latex object>"
      ]
     },
     "metadata": {},
     "output_type": "display_data"
    },
    {
     "data": {
      "text/latex": [
       "$ \\text{maximum:} $ $ \\left( 1, \\  -1\\right) $"
      ],
      "text/plain": [
       "<IPython.core.display.Latex object>"
      ]
     },
     "metadata": {},
     "output_type": "display_data"
    }
   ],
   "source": [
    "from sympy.calculus.util import continuous_domain\n",
    "\n",
    "def Delta(f: Expr, x: Expr, y: Expr):\n",
    "    return Matrix([\n",
    "        [simplify(f.diff(x, 2)), simplify(f.diff(x, y))],\n",
    "        [simplify(f.diff(y, x)), simplify(f.diff(y, 2))],\n",
    "    ]).det()\n",
    "\n",
    "def find_extr_points(f: Expr, x: Expr, y: Expr) -> None:\n",
    "    display_with_text(\"Функция:\", sympy.Eq(Symbol('f'), f))\n",
    "\n",
    "    x_domain = continuous_domain(f, x, S.Reals)\n",
    "    y_domain = continuous_domain(f, y, S.Reals)\n",
    "    stat_points = nonlinsolve([simplify(f.diff(x)), simplify(f.diff(y))], [x, y])\n",
    "    found: bool = False\n",
    "    zero_delta: bool = False\n",
    "    for point in stat_points:\n",
    "        x0, y0 = point\n",
    "        if not (x0.is_real and x0 in x_domain and y0.is_real and y0 in y_domain):\n",
    "            continue\n",
    "\n",
    "        subs_dict = {x: x0, y: y0}\n",
    "        delta = Delta(f, x, y).subs(subs_dict)\n",
    "        if delta < 0:\n",
    "            display_with_text(expression=f\"\\\\text{{Стационарная точка }}{latex(point)}\\\\text{{ не является точкой экстремума}}\")\n",
    "            continue\n",
    "        elif delta == 0:\n",
    "            zero_delta = True\n",
    "            display_with_text(expression=f\"\\\\text{{В стационарной точке }}{point}\\\\text{{ det = 0, необходимо исслодовать функцию дальше}}\")\n",
    "            continue\n",
    "        \n",
    "        A = f.diff(x, 2).subs(subs_dict)\n",
    "        B = f.diff(y, 2).subs(subs_dict)\n",
    "        if A > 0 or B > 0:\n",
    "            found = True\n",
    "            display_with_text(\"minimum:\", point)\n",
    "        # aka A < 0 or B < 0\n",
    "        elif A != 0 or B != 0:\n",
    "            found = True\n",
    "            display_with_text(\"maximum:\", point)\n",
    "    \n",
    "    if not found:\n",
    "        display_with_text(\"Точки экстремума не найдены\" if zero_delta else \"Точек экстремума нет\")\n",
    "\n",
    "x, y = symbols(\"x y\", real=True)\n",
    "f = x*x + x*y - 2*x - y\n",
    "find_extr_points(f, x, y)\n",
    "\n",
    "x, y = symbols(\"x y\", positive=True, real=True)\n",
    "f = x**3*y**2*(6 - x - y)\n",
    "find_extr_points(f, x, y)\n",
    "\n",
    "x, y = symbols(\"x y\", real=True)\n",
    "f = 8/x + x/y + y\n",
    "find_extr_points(f, x, y)\n",
    "\n",
    "f = (1 + x - y) / sympy.sqrt(1 + x*x + y*y)\n",
    "find_extr_points(f, x, y)"
   ]
  },
  {
   "cell_type": "markdown",
   "metadata": {},
   "source": [
    "### Задание 2.\n",
    "С помощью метода Лагранжа найти условный экстремум функции\n",
    "$z = x + 2y$ при условии $x^2 + y^2 = 5$."
   ]
  },
  {
   "cell_type": "code",
   "execution_count": 84,
   "metadata": {},
   "outputs": [
    {
     "data": {
      "text/latex": [
       "$ \\text{{Стационарные точки относительно }} x, y, \\lambda: \\\\\\left( -1, \\  -2, \\  \\frac{1}{2}\\right)\\\\\\left( 1, \\  2, \\  - \\frac{1}{2}\\right) $"
      ],
      "text/plain": [
       "<IPython.core.display.Latex object>"
      ]
     },
     "metadata": {},
     "output_type": "display_data"
    },
    {
     "data": {
      "text/latex": [
       "$ \\text{Выражение второго дифференциала формулы Лагранжа:} $ $ 2 \\lambda \\left(dx^{2} + dy^{2}\\right) $"
      ],
      "text/plain": [
       "<IPython.core.display.Latex object>"
      ]
     },
     "metadata": {},
     "output_type": "display_data"
    },
    {
     "data": {
      "text/latex": [
       "$ \\text{В точке (-1, -2, 1/2):} $ $ f = -5 $"
      ],
      "text/plain": [
       "<IPython.core.display.Latex object>"
      ]
     },
     "metadata": {},
     "output_type": "display_data"
    },
    {
     "data": {
      "text/latex": [
       "$ \\text{В точке (1, 2, -1/2):} $ $ f = 5 $"
      ],
      "text/plain": [
       "<IPython.core.display.Latex object>"
      ]
     },
     "metadata": {},
     "output_type": "display_data"
    },
    {
     "data": {
      "text/latex": [
       "$ \\text{Точки максимума функции:} $ $ 5 $"
      ],
      "text/plain": [
       "<IPython.core.display.Latex object>"
      ]
     },
     "metadata": {},
     "output_type": "display_data"
    },
    {
     "data": {
      "text/latex": [
       "$ \\text{Точки минимума функции:} $ $ -5 $"
      ],
      "text/plain": [
       "<IPython.core.display.Latex object>"
      ]
     },
     "metadata": {},
     "output_type": "display_data"
    }
   ],
   "source": [
    "x, y, lmbd = symbols(\"x y lambda\")\n",
    "restriction = x*x + y*y - 5\n",
    "f = x + 2*y\n",
    "L = f + lmbd*restriction\n",
    "variables = [x, y, lmbd]\n",
    "stat_points = nonlinsolve([L.diff(var) for var in variables], variables)\n",
    "display_with_text(None, \"\\\\text{{Стационарные точки относительно }} x, y, \\lambda: \", *stat_points)\n",
    "\n",
    "dx, dy, dx2, dy2 = symbols('dx dy dx^2 dy^2')\n",
    "d2L = factor(L.diff(x,2)*dx2 + 2*L.diff(x,y)*dx*dy + L.diff(y,2)*dy2)\n",
    "display_with_text(\"Выражение второго дифференциала формулы Лагранжа:\", d2L)\n",
    "\n",
    "f_symb = Symbol('f')\n",
    "min_f = set()\n",
    "max_f = set()\n",
    "for point in stat_points:\n",
    "    f_value = f.subs({var: value for var, value in zip(variables, point)})\n",
    "    if point[-1] > 0:\n",
    "        min_f.add(f_value)\n",
    "    else:\n",
    "        max_f.add(f_value)\n",
    "    display_with_text(f\"В точке {point}:\", sympy.Eq(f_symb, f_value))\n",
    "\n",
    "display_with_text(\"Точки максимума функции:\", *max_f)\n",
    "display_with_text(\"Точки минимума функции:\", *min_f)"
   ]
  },
  {
   "cell_type": "markdown",
   "metadata": {},
   "source": [
    "### Задание 3.\n",
    "С помощью метода Лагранжа найти условный экстремум функции\n",
    "$z=x^2+y^2$ при условии $\\frac{x}{2}+\\frac{y}{3}=1$."
   ]
  },
  {
   "cell_type": "code",
   "execution_count": 85,
   "metadata": {},
   "outputs": [
    {
     "data": {
      "text/latex": [
       "$ \\text{{Стационарные точки относительно }} x, y, \\lambda: \\\\\\left( \\frac{18}{13}, \\  \\frac{12}{13}, \\  - \\frac{72}{13}\\right) $"
      ],
      "text/plain": [
       "<IPython.core.display.Latex object>"
      ]
     },
     "metadata": {},
     "output_type": "display_data"
    },
    {
     "data": {
      "text/latex": [
       "$ \\text{Выражение второго дифференциала формулы Лагранжа:} $ $ 2 \\left(dx^{2} + dy^{2}\\right) $"
      ],
      "text/plain": [
       "<IPython.core.display.Latex object>"
      ]
     },
     "metadata": {},
     "output_type": "display_data"
    },
    {
     "data": {
      "text/latex": [
       "$ \\text{{Выражение не зависит от коэффициента }}\\lambda\\text{{ функции Лагранжа и всегда положительно}} $"
      ],
      "text/plain": [
       "<IPython.core.display.Latex object>"
      ]
     },
     "metadata": {},
     "output_type": "display_data"
    },
    {
     "data": {
      "text/latex": [
       "$ \\text{Точка минимума в точке (18/13, 12/13, -72/13):} $ $ f = \\frac{36}{13} $"
      ],
      "text/plain": [
       "<IPython.core.display.Latex object>"
      ]
     },
     "metadata": {},
     "output_type": "display_data"
    }
   ],
   "source": [
    "x, y, lmbd = symbols(\"x y lambda\")\n",
    "f = x*x + y*y\n",
    "restriction = x/2 + y/3 - 1\n",
    "L = f + lmbd*restriction\n",
    "\n",
    "variables = [x, y, lmbd]\n",
    "stat_points = nonlinsolve([L.diff(var) for var in variables], variables)\n",
    "display_with_text(None, \"\\\\text{{Стационарные точки относительно }} x, y, \\lambda: \", *stat_points)\n",
    "\n",
    "dx, dy, dx2, dy2 = symbols('dx dy dx^2 dy^2')\n",
    "d2L = factor(L.diff(x,2)*dx2 + 2*L.diff(x,y)*dx*dy + L.diff(y,2)*dy2)\n",
    "display_with_text(\"Выражение второго дифференциала формулы Лагранжа:\", d2L)\n",
    "display_with_text(expression=\"\\\\text{{Выражение не зависит от коэффициента }}\\lambda\\\\text{{ функции Лагранжа и всегда положительно}}\")\n",
    "\n",
    "f_symb = Symbol('f')\n",
    "for point in stat_points:\n",
    "    f_value = f.subs({var: value for var, value in zip(variables, point)})\n",
    "    display_with_text(f\"Точка минимума в точке {point}:\", sympy.Eq(f_symb, f_value))"
   ]
  },
  {
   "cell_type": "markdown",
   "metadata": {},
   "source": [
    "### Задание 4.\n",
    "С помощью метода Лагранжа найти экстремум функции $u = x - 2y + 2z$ при условии $x^2 + y^2 + z^2 = 9$."
   ]
  },
  {
   "cell_type": "code",
   "execution_count": 86,
   "metadata": {},
   "outputs": [
    {
     "data": {
      "text/latex": [
       "$ \\text{{Стационарные точки относительно }} x, y, z, \\lambda: \\\\\\left( -1, \\  2, \\  -2, \\  \\frac{1}{2}\\right)\\\\\\left( 1, \\  -2, \\  2, \\  - \\frac{1}{2}\\right) $"
      ],
      "text/plain": [
       "<IPython.core.display.Latex object>"
      ]
     },
     "metadata": {},
     "output_type": "display_data"
    },
    {
     "data": {
      "text/latex": [
       "$ \\text{Выражение второго дифференциала формулы Лагранжа:} $ $ 2 \\lambda \\left(dx^{2} + dy^{2} + dz^{2}\\right) $"
      ],
      "text/plain": [
       "<IPython.core.display.Latex object>"
      ]
     },
     "metadata": {},
     "output_type": "display_data"
    },
    {
     "data": {
      "text/latex": [
       "$ \\text{{Значения параметра }}\\lambda:\\\\- \\frac{1}{2}\\\\\\frac{1}{2} $"
      ],
      "text/plain": [
       "<IPython.core.display.Latex object>"
      ]
     },
     "metadata": {},
     "output_type": "display_data"
    },
    {
     "data": {
      "text/latex": [
       "$ \\text{В точке (-1, 2, -2, 1/2):} $ $ f = -9 $"
      ],
      "text/plain": [
       "<IPython.core.display.Latex object>"
      ]
     },
     "metadata": {},
     "output_type": "display_data"
    },
    {
     "data": {
      "text/latex": [
       "$ \\text{В точке (1, -2, 2, -1/2):} $ $ f = 9 $"
      ],
      "text/plain": [
       "<IPython.core.display.Latex object>"
      ]
     },
     "metadata": {},
     "output_type": "display_data"
    },
    {
     "data": {
      "text/latex": [
       "$ \\text{Точки максимума функции:} $ $ 9 $"
      ],
      "text/plain": [
       "<IPython.core.display.Latex object>"
      ]
     },
     "metadata": {},
     "output_type": "display_data"
    },
    {
     "data": {
      "text/latex": [
       "$ \\text{Точки минимума функции:} $ $ -9 $"
      ],
      "text/plain": [
       "<IPython.core.display.Latex object>"
      ]
     },
     "metadata": {},
     "output_type": "display_data"
    }
   ],
   "source": [
    "x, y, z, lmbd = symbols(\"x y z lambda\")\n",
    "f = x - 2*y + 2*z\n",
    "restriction = x*x + y*y + z*z - 9\n",
    "L = f + lmbd*restriction\n",
    "\n",
    "variables = (x, y, z, lmbd)\n",
    "stat_points = nonlinsolve([L.diff(var) for var in variables], variables)\n",
    "display_with_text(None, \"\\\\text{{Стационарные точки относительно }} x, y, z, \\lambda: \", *stat_points)\n",
    "\n",
    "dx, dy, dz, dx2, dy2, dz2 = symbols('dx dy dz dx^2 dy^2 dz^2')\n",
    "d2L = 0\n",
    "diffs = {x: (dx, dx2), y: (dy, dy2), z: (dz, dz2)}\n",
    "for i, var in enumerate((x, y, z)):\n",
    "    d2L += L.diff(var, 2)*diffs[var][1]\n",
    "    for j in range(i + 1, len(variables) - 1):\n",
    "        d2L += 2*L.diff(var, variables[j])*diffs[var][0]*diffs[variables[j]][0]\n",
    "d2L = factor(d2L)\n",
    "display_with_text(\"Выражение второго дифференциала формулы Лагранжа:\", d2L)\n",
    "\n",
    "lambda_vals = {stat_point[-1] for stat_point in stat_points}\n",
    "display_with_text(None, \"\\\\text{{Значения параметра }}\\lambda:\", *lambda_vals)\n",
    "f_symb = Symbol('f')\n",
    "min_f = set()\n",
    "max_f = set()\n",
    "for point in stat_points:\n",
    "    f_value = f.subs({var: value for var, value in zip(variables, point)})\n",
    "    if point[-1] > 0:\n",
    "        min_f.add(f_value)\n",
    "    else:\n",
    "        max_f.add(f_value)\n",
    "    display_with_text(f\"В точке {point}:\", sympy.Eq(f_symb, f_value))\n",
    "\n",
    "display_with_text(\"Точки максимума функции:\", *max_f)\n",
    "display_with_text(\"Точки минимума функции:\", *min_f)"
   ]
  },
  {
   "cell_type": "markdown",
   "metadata": {},
   "source": [
    "### Индивидуальное задание\n",
    "Найти точки экстремума $u = x^2 + y^2 + z^2 - xy + x - 2z$."
   ]
  },
  {
   "attachments": {},
   "cell_type": "markdown",
   "metadata": {},
   "source": [
    "Вариант 50\n",
    "$ f (x, y, z) = −x^2+ 5xy + 2xz −2x −5y^2+ 4y −5z^2−z $"
   ]
  },
  {
   "cell_type": "code",
   "execution_count": 87,
   "metadata": {},
   "outputs": [
    {
     "data": {
      "text/latex": [
       "$ \\text{Функция:} $ $ f = x^{2} - x y + x + y^{2} + z^{2} - 2 z $"
      ],
      "text/plain": [
       "<IPython.core.display.Latex object>"
      ]
     },
     "metadata": {},
     "output_type": "display_data"
    },
    {
     "data": {
      "text/latex": [
       "$ \\text{Точки минимума функции:} $ $ \\left( - \\frac{2}{3}, \\  - \\frac{1}{3}, \\  1\\right) $"
      ],
      "text/plain": [
       "<IPython.core.display.Latex object>"
      ]
     },
     "metadata": {},
     "output_type": "display_data"
    }
   ],
   "source": [
    "from sympy.calculus.util import continuous_domain\n",
    "\n",
    "def Delta(f: Expr, x: Expr, y: Expr, z: Expr):\n",
    "    m: Matrix = Matrix((\n",
    "        (f.diff(x, 2), f.diff(x, y), f.diff(x, z)),\n",
    "        (f.diff(y, x), f.diff(y, 2), f.diff(y, z)),\n",
    "        (f.diff(z, x), f.diff(z, y), f.diff(z, 2))\n",
    "    ))\n",
    "    m.simplify()\n",
    "\n",
    "    return m.det()\n",
    "\n",
    "def find_extr_points(f: Expr, x: Expr, y: Expr, z: Expr) -> None:\n",
    "    display_with_text(\"Функция:\", sympy.Eq(Symbol('f'), f))\n",
    "\n",
    "    x_domain = continuous_domain(f, x, S.Reals)\n",
    "    y_domain = continuous_domain(f, y, S.Reals)\n",
    "    z_domain = continuous_domain(f, z, S.Reals)\n",
    "    stat_points = nonlinsolve([simplify(f.diff(x)), simplify(f.diff(y)), simplify(f.diff(z))], [x, y, z])\n",
    "    min_f = set()\n",
    "    max_f = set()\n",
    "    zero_delta: bool = False\n",
    "    for point in stat_points:\n",
    "        x0, y0, z0 = point\n",
    "        if not (x0.is_real and y0.is_real and z0.is_real):\n",
    "            continue\n",
    "        if not (x0 in x_domain and y0 in y_domain and z0 in z_domain):\n",
    "            pass\n",
    "            # continue\n",
    "\n",
    "        subs_dict = {x: x0, y: y0, z: z0}\n",
    "        delta = Delta(f, x, y, z).subs(subs_dict)\n",
    "        if delta < 0:\n",
    "            display_with_text(expression=f\"\\\\text{{Стационарная точка }}{latex(point)}\\\\text{{ не является точкой экстремума}}\")\n",
    "            continue\n",
    "        elif delta == 0:\n",
    "            zero_delta = True\n",
    "            display_with_text(expression=f\"\\\\text{{В стационарной точке }}{point}\\\\text{{ det = 0, необходимо исслодовать функцию дальше}}\")\n",
    "            continue\n",
    "        \n",
    "        A = f.diff(x, 2).subs(subs_dict)\n",
    "        B = f.diff(y, 2).subs(subs_dict)\n",
    "        C = f.diff(z, 2).subs(subs_dict)\n",
    "        if A > 0 or B > 0 or C > 0:\n",
    "            min_f.add(point)\n",
    "        # aka A < 0 or B < 0 or C < 0\n",
    "        elif A != 0 or B != 0 or C != 0:\n",
    "            max_f.add(point)\n",
    "    \n",
    "    if max_f or min_f:\n",
    "        if max_f:\n",
    "            display_with_text(\"Точки максимума функции:\", *max_f)\n",
    "        if min_f:\n",
    "            display_with_text(\"Точки минимума функции:\", *min_f)\n",
    "    else:\n",
    "        display_with_text(\"Точки экстремума не найдены\" if zero_delta else \"Точек экстремума нет\")\n",
    "\n",
    "x, y, z = symbols(\"x y z\", real=True)\n",
    "u = x*x + y*y + z*z - x*y + x - 2*z\n",
    "find_extr_points(u, x, y, z)"
   ]
  }
 ],
 "metadata": {
  "kernelspec": {
   "display_name": "Python 3",
   "language": "python",
   "name": "python3"
  },
  "language_info": {
   "codemirror_mode": {
    "name": "ipython",
    "version": 3
   },
   "file_extension": ".py",
   "mimetype": "text/x-python",
   "name": "python",
   "nbconvert_exporter": "python",
   "pygments_lexer": "ipython3",
   "version": "3.11.0"
  }
 },
 "nbformat": 4,
 "nbformat_minor": 2
}
