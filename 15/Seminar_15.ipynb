{
 "cells": [
  {
   "cell_type": "code",
   "execution_count": 1,
   "metadata": {},
   "outputs": [],
   "source": [
    "import sympy\n",
    "from sympy import S, Symbol, symbols, simplify, nonlinsolve, Matrix, diff, factor\n",
    "from sympy import log as Log"
   ]
  },
  {
   "cell_type": "markdown",
   "metadata": {},
   "source": [
    "## Занятие 15\n",
    "## Математический анализ\n",
    "## Экстремум функции нескольких переменных\n",
    "\n",
    "Поиск экстремума ФНП:\n",
    "\n",
    "1. Находим стационарные точки (все частные производные равны нулю) и точки, в которых производные не существуют\n",
    "\n",
    "2. Проверяем выполнение достаточного условия экстремума.\n",
    "\n",
    "\n",
    "### Пример 1\n",
    "\n",
    "Найти точки, в которых возможен экстремум функции $\\ln(-x^2 + 3(y - 5)^2 - 6xy)$\n",
    "\n",
    "Вычисляем частные производные по $x$ и $y$, решаем систему уравнений:"
   ]
  },
  {
   "cell_type": "code",
   "execution_count": 2,
   "metadata": {},
   "outputs": [
    {
     "name": "stdout",
     "output_type": "stream",
     "text": [
      "546304\n"
     ]
    },
    {
     "data": {
      "text/latex": [
       "$\\displaystyle \\left\\{\\left( - \\frac{15}{4}, \\  \\frac{5}{4}\\right)\\right\\}$"
      ],
      "text/plain": [
       "{(-15/4, 5/4)}"
      ]
     },
     "execution_count": 2,
     "metadata": {},
     "output_type": "execute_result"
    }
   ],
   "source": [
    "from sympy.abc import x, y\n",
    "f = Log(-x**2 + 3*(y - 5)**2 - 6*x*y)\n",
    "stat_points = nonlinsolve([f.diff(x), f.diff(y)], [x, y])\n",
    "stat_points"
   ]
  },
  {
   "cell_type": "markdown",
   "metadata": {},
   "source": [
    "### Достаточные условия экстремума \n",
    "\n",
    "Пусть $P(a,b)$ - стационарная точка функции $f(x,y)$, т.е. $d\\,f(a,b)=0$. Обозначим \n",
    "$\\Delta=\\left|\\begin{matrix}f''_{xx}(a,b)&f''_{xy}(a,b)\\\\\n",
    "f''_{xy}(a,b)&f''_{yy}(a,b)\\end{matrix}\\right|$.\n",
    "Тогда\n",
    "\n",
    "1) если $\\Delta>0$, то функция $f(x,y)$ имеет экстремум в точке $P$,\n",
    "\n",
    "при $f''_{xx}(a,b)>0$ или $f''_{yy}(a,b)>0$ минимум, \n",
    "\n",
    "при $f''_{xx}(a,b)<0$ или $f''_{yy}(a,b)<0$ максимум\n",
    "\n",
    "2) если $\\Delta<0$, то у  функции $f(x,y)$ нет экстремума в точке $P$\n",
    "\n",
    "3) если $\\Delta=0$, то требуется дальнейшее исследование.\n",
    "\n",
    "\n",
    "### Пример 2.\n",
    "Проверим выполнение достаточных условий экстремума в стационарной точке Примера 1."
   ]
  },
  {
   "cell_type": "code",
   "execution_count": 3,
   "metadata": {},
   "outputs": [
    {
     "data": {
      "text/latex": [
       "$\\displaystyle - \\frac{256}{16875}$"
      ],
      "text/plain": [
       "-256/16875"
      ]
     },
     "execution_count": 3,
     "metadata": {},
     "output_type": "execute_result"
    }
   ],
   "source": [
    "Delta = Matrix([[f.diff(x, 2), f.diff(x, y)], [f.diff(x, y), f.diff(y, 2)]]).det()\n",
    "x0, y0 = tuple(*stat_points)\n",
    "Delta.subs({x: x0, y: y0})"
   ]
  },
  {
   "cell_type": "markdown",
   "metadata": {},
   "source": [
    "Вывод - у функции нет точек экстремума.\n",
    "\n",
    "### Пример 3.\n",
    "Найти экстремум функции $u=x+\\frac{y^2}{4x}+\\frac{z^2}{y}+\\frac{2}{z}$, $x,y,z>0$\n",
    "\n",
    "Вначале найдем стационарные точки"
   ]
  },
  {
   "cell_type": "code",
   "execution_count": 4,
   "metadata": {},
   "outputs": [
    {
     "data": {
      "text/latex": [
       "$\\displaystyle \\left( - \\frac{1}{2}, \\  -1, \\  -1\\right)$"
      ],
      "text/plain": [
       "(-1/2, -1, -1)"
      ]
     },
     "metadata": {},
     "output_type": "display_data"
    },
    {
     "data": {
      "text/latex": [
       "$\\displaystyle \\left( \\frac{1}{2}, \\  1, \\  1\\right)$"
      ],
      "text/plain": [
       "(1/2, 1, 1)"
      ]
     },
     "metadata": {},
     "output_type": "display_data"
    },
    {
     "data": {
      "text/latex": [
       "$\\displaystyle \\left( - \\frac{i}{2}, \\  - i, \\  i\\right)$"
      ],
      "text/plain": [
       "(-I/2, -I, I)"
      ]
     },
     "metadata": {},
     "output_type": "display_data"
    },
    {
     "data": {
      "text/latex": [
       "$\\displaystyle \\left( \\frac{i}{2}, \\  i, \\  - i\\right)$"
      ],
      "text/plain": [
       "(I/2, I, -I)"
      ]
     },
     "metadata": {},
     "output_type": "display_data"
    },
    {
     "data": {
      "text/latex": [
       "$\\displaystyle \\left( - \\frac{\\sqrt{2} \\left(1 + i\\right)}{4}, \\  \\frac{\\sqrt{2} \\left(1 + i\\right)}{2}, \\  - \\frac{\\sqrt{2}}{2} + \\frac{\\sqrt{2} i}{2}\\right)$"
      ],
      "text/plain": [
       "(-sqrt(2)*(1 + I)/4, sqrt(2)*(1 + I)/2, -sqrt(2)/2 + sqrt(2)*I/2)"
      ]
     },
     "metadata": {},
     "output_type": "display_data"
    },
    {
     "data": {
      "text/latex": [
       "$\\displaystyle \\left( \\frac{\\sqrt{2} \\left(1 + i\\right)}{4}, \\  - \\frac{\\sqrt{2} \\left(1 + i\\right)}{2}, \\  \\frac{\\sqrt{2}}{2} - \\frac{\\sqrt{2} i}{2}\\right)$"
      ],
      "text/plain": [
       "(sqrt(2)*(1 + I)/4, -sqrt(2)*(1 + I)/2, sqrt(2)/2 - sqrt(2)*I/2)"
      ]
     },
     "metadata": {},
     "output_type": "display_data"
    },
    {
     "data": {
      "text/latex": [
       "$\\displaystyle \\left( \\frac{\\sqrt{2} \\left(-1 + i\\right)}{4}, \\  \\frac{\\sqrt{2} \\left(1 - i\\right)}{2}, \\  - \\frac{\\sqrt{2}}{2} - \\frac{\\sqrt{2} i}{2}\\right)$"
      ],
      "text/plain": [
       "(sqrt(2)*(-1 + I)/4, sqrt(2)*(1 - I)/2, -sqrt(2)/2 - sqrt(2)*I/2)"
      ]
     },
     "metadata": {},
     "output_type": "display_data"
    },
    {
     "data": {
      "text/latex": [
       "$\\displaystyle \\left( \\frac{\\sqrt{2} \\left(1 - i\\right)}{4}, \\  \\frac{\\sqrt{2} \\left(-1 + i\\right)}{2}, \\  \\frac{\\sqrt{2}}{2} + \\frac{\\sqrt{2} i}{2}\\right)$"
      ],
      "text/plain": [
       "(sqrt(2)*(1 - I)/4, sqrt(2)*(-1 + I)/2, sqrt(2)/2 + sqrt(2)*I/2)"
      ]
     },
     "metadata": {},
     "output_type": "display_data"
    }
   ],
   "source": [
    "x, y, z = symbols('x y z', positive=True)\n",
    "u = x + y**2/(4*x) + z**2/y + 2/z\n",
    "stat_points = nonlinsolve([u.diff(x), u.diff(y), u.diff(z)], [x, y, z]) \n",
    "display(*stat_points)"
   ]
  },
  {
   "cell_type": "markdown",
   "metadata": {},
   "source": [
    "Составим список только вещественных точек:"
   ]
  },
  {
   "cell_type": "code",
   "execution_count": 5,
   "metadata": {},
   "outputs": [
    {
     "data": {
      "text/plain": [
       "'minimum'"
      ]
     },
     "metadata": {},
     "output_type": "display_data"
    },
    {
     "data": {
      "text/latex": [
       "$\\displaystyle \\left( \\frac{1}{2}, \\  1, \\  1\\right)$"
      ],
      "text/plain": [
       "(1/2, 1, 1)"
      ]
     },
     "metadata": {},
     "output_type": "display_data"
    }
   ],
   "source": [
    "def Delta(u, x, y, z):\n",
    "    return Matrix([[u.diff(x, 2), u.diff(x, y), u.diff(x, z)], \n",
    "                [u.diff(y, x), u.diff(y, 2), u.diff(y, z)],\n",
    "                [u.diff(z, x), u.diff(z, y), u.diff(z,2)],]).det()\n",
    "for point in stat_points:\n",
    "        x0, y0, z0 = point \n",
    "        if x0.is_real and y0.is_real and z0.is_real:\n",
    "            if Delta(u, x, y, z).subs({x: x0, y: y0, z: z0}) > 0:\n",
    "                A = u.diff(x, 2).subs({x: x0, y: y0, z: z0})\n",
    "                B = u.diff(y, 2).subs({x: x0, y: y0, z: z0})\n",
    "                C = u.diff(z, 2).subs({x: x0, y: y0, z: z0})\n",
    "                if A > 0 or B > 0 or C > 0:\n",
    "                    display('minimum', point)\n",
    "                elif A < 0 or B < 0 or C < 0:\n",
    "                    display('maximum', point)         "
   ]
  },
  {
   "cell_type": "markdown",
   "metadata": {},
   "source": [
    "Ответ: точка (1/2,1,1) - точка минимума, минимальное значение функции 4.\n",
    "\n",
    "\n",
    "### Условный экстремум. Метод множителей Лагранжа\n",
    "\n",
    "Условный экстремум функции $f(x,y)$ - максимум или минимум этой функции при условии, что $x$ и $y$ связаны уравнением связи $\\phi(x,y)=0$.\n",
    "\n",
    "Составим функцию Лагранжа\n",
    "$$\n",
    "L(x,y)=f(x,y)+\\lambda\\phi(x,y)\n",
    "$$\n",
    "\n",
    "Функция $f(x,y)$ имеет условный экстремум в стационарных точках функции Лагранжа, если второй дифференциал функции Лагранжа положителен (минимум) или отрицателен (максимум).\n",
    "\n",
    "### Пример 4. \n",
    "Найти экстремум функции \n",
    "$f=6-4x-3y$ при условии $x^2+y^2=1$. Физический смысл - найти самую высокую точку кривой, образующейся при пересечении цилиндра $x^2+y^2=1$ плоскостью $f=6-4x-3y$.\n",
    "\n",
    "Составляем функцию Лагранжа и ищем условный экстремум. Вначале найдем стационарные точки."
   ]
  },
  {
   "cell_type": "code",
   "execution_count": 6,
   "metadata": {},
   "outputs": [
    {
     "data": {
      "text/latex": [
       "$\\displaystyle \\left\\{\\left( - \\frac{4}{5}, \\  - \\frac{3}{5}, \\  - \\frac{5}{2}\\right), \\left( \\frac{4}{5}, \\  \\frac{3}{5}, \\  \\frac{5}{2}\\right)\\right\\}$"
      ],
      "text/plain": [
       "FiniteSet((-4/5, -3/5, -5/2), (4/5, 3/5, 5/2))"
      ]
     },
     "metadata": {},
     "output_type": "display_data"
    },
    {
     "data": {
      "text/latex": [
       "$\\displaystyle x$"
      ],
      "text/plain": [
       "x"
      ]
     },
     "metadata": {},
     "output_type": "display_data"
    },
    {
     "data": {
      "text/latex": [
       "$\\displaystyle y$"
      ],
      "text/plain": [
       "y"
      ]
     },
     "metadata": {},
     "output_type": "display_data"
    },
    {
     "data": {
      "text/latex": [
       "$\\displaystyle \\lambda$"
      ],
      "text/plain": [
       "lamda"
      ]
     },
     "metadata": {},
     "output_type": "display_data"
    }
   ],
   "source": [
    "x, y, lam = symbols('x y lamda')# нужны символы без ограничений по знаку!\n",
    "varrs = [x, y, lam]\n",
    "f = 6 - 4*x - 3*y\n",
    "restriction = x**2 + y**2 - 1\n",
    "L = f + lam*restriction\n",
    "stat_points = nonlinsolve([L.diff(var)for var in varrs], varrs)\n",
    "display(stat_points, *varrs)"
   ]
  },
  {
   "cell_type": "markdown",
   "metadata": {},
   "source": [
    "Теперь составляем выражение для второго дифференциала функции Лагранжа"
   ]
  },
  {
   "cell_type": "code",
   "execution_count": 7,
   "metadata": {},
   "outputs": [
    {
     "data": {
      "text/latex": [
       "$\\displaystyle 2 \\lambda \\left(dx^{2} + dy^{2}\\right)$"
      ],
      "text/plain": [
       "2*lamda*(dx^2 + dy^2)"
      ]
     },
     "execution_count": 7,
     "metadata": {},
     "output_type": "execute_result"
    }
   ],
   "source": [
    "dx, dy, dx2, dy2 = symbols('dx dy dx^2 dy^2')\n",
    "d2L = L.diff(x,2)*dx2 + 2*L.diff(x,y)*dx*dy + L.diff(y,2)*dy2\n",
    "factor(d2L)"
   ]
  },
  {
   "cell_type": "markdown",
   "metadata": {},
   "source": [
    "Ясно, что при $\\lambda>0$ второй дифференциал положителен, при $\\lambda<0$ отрицателен, поэтому точка (-4/5,-3/5) - точка локального максимума,  (4/5,3/5) - точка локального минимума.\n",
    "\n",
    "Найдем максимальное и минимальное значение функции $f=6-4x-3y$ при условии $x^2+y^2=1$:"
   ]
  },
  {
   "cell_type": "code",
   "execution_count": 8,
   "metadata": {},
   "outputs": [
    {
     "data": {
      "text/latex": [
       "$\\displaystyle \\left( - \\frac{4}{5}, \\  - \\frac{3}{5}\\right)$"
      ],
      "text/plain": [
       "(-4/5, -3/5)"
      ]
     },
     "metadata": {},
     "output_type": "display_data"
    },
    {
     "data": {
      "text/latex": [
       "$\\displaystyle f = 11$"
      ],
      "text/plain": [
       "Eq(f, 11)"
      ]
     },
     "metadata": {},
     "output_type": "display_data"
    },
    {
     "data": {
      "text/latex": [
       "$\\displaystyle \\left( \\frac{4}{5}, \\  \\frac{3}{5}\\right)$"
      ],
      "text/plain": [
       "(4/5, 3/5)"
      ]
     },
     "metadata": {},
     "output_type": "display_data"
    },
    {
     "data": {
      "text/latex": [
       "$\\displaystyle f = 1$"
      ],
      "text/plain": [
       "Eq(f, 1)"
      ]
     },
     "metadata": {},
     "output_type": "display_data"
    }
   ],
   "source": [
    "ff = Symbol('f')\n",
    "for point in stat_points:\n",
    "    display(point[:-1], sympy.Eq(ff, f.subs({var: point[j] for j, var in enumerate(varrs)})))"
   ]
  },
  {
   "cell_type": "markdown",
   "metadata": {},
   "source": [
    "### Пример 5.\n",
    "С помощью метода Лагранжа найти экстремум функции $u = x^2 + y^2 + z^2$ при условии $\\frac{x^2}{25} + \\frac{y^2}{9} + \\frac{z^2}{4} = 1$."
   ]
  },
  {
   "cell_type": "code",
   "execution_count": 9,
   "metadata": {},
   "outputs": [
    {
     "data": {
      "text/latex": [
       "$\\displaystyle \\left\\{\\left( -5, \\  0, \\  0, \\  -25\\right), \\left( 0, \\  -3, \\  0, \\  -9\\right), \\left( 0, \\  0, \\  -2, \\  -4\\right), \\left( 0, \\  0, \\  2, \\  -4\\right), \\left( 0, \\  3, \\  0, \\  -9\\right), \\left( 5, \\  0, \\  0, \\  -25\\right)\\right\\}$"
      ],
      "text/plain": [
       "FiniteSet((-5, 0, 0, -25), (0, -3, 0, -9), (0, 0, -2, -4), (0, 0, 2, -4), (0, 3, 0, -9), (5, 0, 0, -25))"
      ]
     },
     "metadata": {},
     "output_type": "display_data"
    },
    {
     "data": {
      "text/latex": [
       "$\\displaystyle 2 dx^{2} \\left(\\frac{\\lambda}{25} + 1\\right) + 2 dy^{2} \\left(\\frac{\\lambda}{9} + 1\\right) + dz^{2} \\left(\\frac{\\lambda}{2} + 2\\right)$"
      ],
      "text/plain": [
       "2*dx^2*(lamda/25 + 1) + 2*dy^2*(lamda/9 + 1) + dz^2*(lamda/2 + 2)"
      ]
     },
     "metadata": {},
     "output_type": "display_data"
    }
   ],
   "source": [
    "x, y, z, lam = symbols('x y z lamda')\n",
    "varrs = [x, y, z, lam]\n",
    "u = x**2 + y**2 + z**2\n",
    "restriction = x**2/25 + y**2/9 + z**2/4 - 1\n",
    "L = u + lam*restriction\n",
    "stat_points = nonlinsolve([L.diff(var)for var in varrs], varrs)\n",
    "display(stat_points)\n",
    "dx, dy, dz, dx2, dy2, dz2 = symbols('dx dy dz dx^2 dy^2 dz^2')\n",
    "d2L = 0\n",
    "diffs = {x: (dx, dx2), y: (dy, dy2), z: (dz, dz2)}\n",
    "for i, var in enumerate(varrs[:-1]):\n",
    "    d2L += L.diff(var, 2)*diffs[var][1]\n",
    "    for j in range(i + 1, 3):\n",
    "        d2L += 2*L.diff(var, varrs[j])*diffs[var][0]*diffs[varrs[j]][0]\n",
    "display(d2L)"
   ]
  },
  {
   "cell_type": "markdown",
   "metadata": {},
   "source": [
    "Подставим значения $\\lambda$ стационарных точек в выражение для второго дифференциала:"
   ]
  },
  {
   "cell_type": "code",
   "execution_count": 10,
   "metadata": {},
   "outputs": [
    {
     "data": {
      "text/latex": [
       "$\\displaystyle \\frac{42 dx^{2}}{25} + \\frac{10 dy^{2}}{9}$"
      ],
      "text/plain": [
       "42*dx^2/25 + 10*dy^2/9"
      ]
     },
     "metadata": {},
     "output_type": "display_data"
    },
    {
     "data": {
      "text/latex": [
       "$\\displaystyle \\frac{32 dx^{2}}{25} - \\frac{5 dz^{2}}{2}$"
      ],
      "text/plain": [
       "32*dx^2/25 - 5*dz^2/2"
      ]
     },
     "metadata": {},
     "output_type": "display_data"
    },
    {
     "data": {
      "text/latex": [
       "$\\displaystyle - \\frac{32 dy^{2}}{9} - \\frac{21 dz^{2}}{2}$"
      ],
      "text/plain": [
       "-32*dy^2/9 - 21*dz^2/2"
      ]
     },
     "metadata": {},
     "output_type": "display_data"
    }
   ],
   "source": [
    "L2_points = [d2L.subs(lam, lval) for lval in (-4, -9, -25)]\n",
    "display(*L2_points)"
   ]
  },
  {
   "attachments": {},
   "cell_type": "markdown",
   "metadata": {},
   "source": [
    "При $\\lambda = -4$ второй дифференциал положителен, стационарные точки (0, 0, -2) и (0, 0, 2) - точки минимума.\n",
    "\n",
    "При $\\lambda = -9$ второй дифференциал не является знакопостоянным, соответствующие стационарные точки не являются точками экстремума.\n",
    "\n",
    "При $\\lambda = -25$ второй дифференциал отрицателен, стационарные точки (-5, 0, 0) и (5, 0, 0) - точки максимума."
   ]
  },
  {
   "cell_type": "code",
   "execution_count": 11,
   "metadata": {},
   "outputs": [
    {
     "data": {
      "text/latex": [
       "$\\displaystyle \\left( -5, \\  0, \\  0\\right)$"
      ],
      "text/plain": [
       "(-5, 0, 0)"
      ]
     },
     "metadata": {},
     "output_type": "display_data"
    },
    {
     "data": {
      "text/latex": [
       "$\\displaystyle u = 25$"
      ],
      "text/plain": [
       "Eq(u, 25)"
      ]
     },
     "metadata": {},
     "output_type": "display_data"
    },
    {
     "data": {
      "text/latex": [
       "$\\displaystyle \\left( 0, \\  0, \\  -2\\right)$"
      ],
      "text/plain": [
       "(0, 0, -2)"
      ]
     },
     "metadata": {},
     "output_type": "display_data"
    },
    {
     "data": {
      "text/latex": [
       "$\\displaystyle u = 4$"
      ],
      "text/plain": [
       "Eq(u, 4)"
      ]
     },
     "metadata": {},
     "output_type": "display_data"
    },
    {
     "data": {
      "text/latex": [
       "$\\displaystyle \\left( 0, \\  0, \\  2\\right)$"
      ],
      "text/plain": [
       "(0, 0, 2)"
      ]
     },
     "metadata": {},
     "output_type": "display_data"
    },
    {
     "data": {
      "text/latex": [
       "$\\displaystyle u = 4$"
      ],
      "text/plain": [
       "Eq(u, 4)"
      ]
     },
     "metadata": {},
     "output_type": "display_data"
    },
    {
     "data": {
      "text/latex": [
       "$\\displaystyle \\left( 5, \\  0, \\  0\\right)$"
      ],
      "text/plain": [
       "(5, 0, 0)"
      ]
     },
     "metadata": {},
     "output_type": "display_data"
    },
    {
     "data": {
      "text/latex": [
       "$\\displaystyle u = 25$"
      ],
      "text/plain": [
       "Eq(u, 25)"
      ]
     },
     "metadata": {},
     "output_type": "display_data"
    }
   ],
   "source": [
    "uu = Symbol('u')\n",
    "for point in stat_points:\n",
    "    if point[-1] != -9:\n",
    "        display(point[:-1], sympy.Eq(uu, u.subs({var: point[j] for j, var in enumerate(varrs)})))"
   ]
  }
 ],
 "metadata": {
  "kernelspec": {
   "display_name": "Python 3",
   "language": "python",
   "name": "python3"
  },
  "language_info": {
   "codemirror_mode": {
    "name": "ipython",
    "version": 3
   },
   "file_extension": ".py",
   "mimetype": "text/x-python",
   "name": "python",
   "nbconvert_exporter": "python",
   "pygments_lexer": "ipython3",
   "version": "3.11.0"
  }
 },
 "nbformat": 4,
 "nbformat_minor": 2
}
