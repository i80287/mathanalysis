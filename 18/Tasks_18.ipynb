{
 "cells": [
  {
   "cell_type": "code",
   "execution_count": 1,
   "metadata": {},
   "outputs": [],
   "source": [
    "from typing import Dict, List\n",
    "\n",
    "import numpy as np\n",
    "import sympy\n",
    "from sympy import S, symbols, Function, dsolve, solveset, linsolve, integrate, diff, plot\n",
    "from sympy import Equality, Basic\n",
    "from sympy import sin as Sin\n",
    "from sympy import cos as Cos\n",
    "from sympy import exp as Exp\n",
    "from sympy import log as Log\n",
    "from sympy import pi as Pi\n",
    "import matplotlib.pyplot as plt"
   ]
  },
  {
   "cell_type": "code",
   "execution_count": 2,
   "metadata": {},
   "outputs": [],
   "source": [
    "from typing import overload, Callable, Optional, Tuple, Any\n",
    "\n",
    "from sympy import latex\n",
    "from sympy.core._print_helpers import Printable\n",
    "from IPython.display import Latex\n",
    "\n",
    "# Should be set to 'False' if Google Colab is used.\n",
    "VS_CODE: bool = True\n",
    "\n",
    "@overload\n",
    "def display_with_text(text: Optional[str] = None, *, sep: str = r\"\\\\\") -> None:\n",
    "    ...\n",
    "\n",
    "@overload\n",
    "def display_with_text(text: Optional[str] = None, expression: Optional[Any] = None, *, sep: str = r\"\\\\\") -> None:\n",
    "    ...\n",
    "\n",
    "@overload\n",
    "def display_with_text(text: Optional[str] = None, *expressions: Any, sep: str = r\"\\\\\") -> None:\n",
    "    ...\n",
    "\n",
    "def display_with_text(*args, **kwargs) -> None:\n",
    "    text: Optional[str] = kwargs.get(\"text\", None)\n",
    "    expression: Optional[Any] = kwargs.get(\"expression\", None)\n",
    "    \n",
    "    sep: str = kwargs.get(\"sep\", r\"\\\\\")\n",
    "    if not isinstance(sep, str):\n",
    "        raise ValueError(f\"Keyword argument 'sep' must be type of <class 'str'> (class str)\")\n",
    "\n",
    "    if text is None and args and args[0] is not None:\n",
    "        text = str(args[0])\n",
    "    \n",
    "    if text is not None and not isinstance(text, str):\n",
    "        text = str(text)\n",
    "    \n",
    "    expressions: Tuple[Any] = args[1:]\n",
    "    if expression is not None:\n",
    "        expressions += (expression,)\n",
    "\n",
    "    if not expressions:\n",
    "        if text is not None:\n",
    "            text = \"$ \\\\text{\" + text + \"} $\" if VS_CODE else \"\\\\text{\" + text + '}'\n",
    "            display(Latex(text))\n",
    "        return\n",
    "    \n",
    "    expr_processor: Callable[[Any], str] = \\\n",
    "        lambda expr: str(latex(expr) if isinstance(expr, Printable) else expr)\n",
    "    final_expression: str = sep.join(map(expr_processor, expressions))\n",
    "    \n",
    "    if VS_CODE:\n",
    "        final_expression = \"$ \" + final_expression + \" $\"\n",
    "\n",
    "    if text is not None:\n",
    "        final_expression = \\\n",
    "            (\"$ \\\\text{\" + text + \"} $ \" if VS_CODE else \"\\\\text{\" + text + \"} \") \\\n",
    "            + final_expression\n",
    "\n",
    "    display(Latex(final_expression))\n"
   ]
  },
  {
   "cell_type": "markdown",
   "metadata": {},
   "source": [
    "## Занятие 18\n",
    "## Математический анализ\n",
    "## Линейные ОДУ второго порядка с постоянными коэффициентами\n",
    "### Задача 1\n",
    "Решить ОДУ $3y''+5y'-2y=0$ по формуле из файла с примерами и с помощью dsolve."
   ]
  },
  {
   "cell_type": "code",
   "execution_count": 3,
   "metadata": {},
   "outputs": [
    {
     "data": {
      "text/latex": [
       "$ \\text{Решение ОДУ:} $ $ C_{1} e^{- 2 x} + C_{2} e^{\\frac{x}{3}} $"
      ],
      "text/plain": [
       "<IPython.core.display.Latex object>"
      ]
     },
     "metadata": {},
     "output_type": "display_data"
    },
    {
     "data": {
      "text/latex": [
       "$ \\text{Решение ОДУ c dsolve:} $ $ y{\\left(x \\right)} = C_{1} e^{- 2 x} + C_{2} e^{\\frac{x}{3}} $"
      ],
      "text/plain": [
       "<IPython.core.display.Latex object>"
      ]
     },
     "metadata": {},
     "output_type": "display_data"
    }
   ],
   "source": [
    "def solve_ode(a, b, c, lib: str = \"sympy\") -> Callable[[Any, Any, Any], Any]:\n",
    "    if lib not in {\"numpy\", \"sympy\"}:\n",
    "        raise ValueError(\"lib must be either sympy or numpy\")\n",
    "\n",
    "    lib_is_sympy: bool = lib[0] == 's'\n",
    "\n",
    "    k = sympy.Symbol('k')\n",
    "    roots = tuple(solveset(a*k**2 + b*k + c))\n",
    "    root1 = roots[0]\n",
    "    if len(roots) == 1:\n",
    "        if lib_is_sympy:\n",
    "            ekx = Exp(root1*x)\n",
    "        else:\n",
    "            ekx = np.exp(np.float64(root1)*x)\n",
    "        return lambda x, C1, C2: (C1 + C2*x)*ekx\n",
    "    \n",
    "    root2 = roots[1]\n",
    "    \n",
    "    if root1.is_real:\n",
    "        if lib_is_sympy:\n",
    "            return lambda x, C1, C2: C1*Exp(root1*x) + C2*Exp(root2*x)\n",
    "        \n",
    "        root1 = np.float64(root1)\n",
    "        root1 = np.float64(root2)\n",
    "        return lambda x, C1, C2: C1*np.exp(root1*x) + C2*np.exp(root2*x)\n",
    "    \n",
    "    alpha = sympy.re(root1)\n",
    "    beta = sympy.im(root1)\n",
    "\n",
    "    if lib_is_sympy:\n",
    "        return lambda x, C1, C2: Exp(alpha*x)*(C1*Cos(beta*x) + C2*Sin(beta*x))\n",
    "    \n",
    "    alpha = np.float64(alpha)\n",
    "    beta = np.float64(beta)\n",
    "    return lambda x, C1, C2: np.exp(alpha*x)*(C1*np.cos(beta*x) + C2*np.sin(beta*x))\n",
    "\n",
    "x, y, z, C1, C2 = symbols(\"x y z C1:3\")\n",
    "a, b, c = 3, 5, -2\n",
    "\n",
    "f_x = solve_ode(a, b, c)\n",
    "display_with_text(\"Решение ОДУ:\", f_x(x, C1, C2))\n",
    "\n",
    "y_abs = Function('y')(x)\n",
    "ODE = a*diff(y_abs, x, 2) + b*diff(y_abs, x) + c*y_abs\n",
    "y_x = dsolve(ODE, y_abs)\n",
    "display_with_text(\"Решение ОДУ c dsolve:\", y_x)"
   ]
  },
  {
   "cell_type": "markdown",
   "metadata": {},
   "source": [
    "### Задача 2.\n",
    "Решить задачу Коши:\n",
    "$$\n",
    "\\left\\{\n",
    "\\begin{matrix}\n",
    "9y''+3y'+y=0\\\\\n",
    "y(0)=0\\\\\n",
    "y'(0)=2\\sqrt3\n",
    "\\end{matrix}\n",
    "\\right.\n",
    "$$\n",
    "##### Указание.\n",
    "Решить с помощью dsolve, затем составить словарь символов решения, ключи - 'x', 'C1', 'C2', а значения - соответствующие элементы из множества  ХХХ.rhs.free_symbols, решить систему линейных относительно С1 и С2 уравнений, описывающих начальные условия."
   ]
  },
  {
   "cell_type": "code",
   "execution_count": 4,
   "metadata": {},
   "outputs": [
    {
     "data": {
      "text/latex": [
       "$ \\text{Решение ОДУ:} $ $ y{\\left(x \\right)} = \\left(C_{1} \\sin{\\left(\\frac{\\sqrt{3} x}{6} \\right)} + C_{2} \\cos{\\left(\\frac{\\sqrt{3} x}{6} \\right)}\\right) e^{- \\frac{x}{6}} $"
      ],
      "text/plain": [
       "<IPython.core.display.Latex object>"
      ]
     },
     "metadata": {},
     "output_type": "display_data"
    },
    {
     "data": {
      "text/latex": [
       "$ \\text{Решение системы:} $ $ y{\\left(x \\right)} = 12 e^{- \\frac{x}{6}} \\sin{\\left(\\frac{\\sqrt{3} x}{6} \\right)} $"
      ],
      "text/plain": [
       "<IPython.core.display.Latex object>"
      ]
     },
     "metadata": {},
     "output_type": "display_data"
    }
   ],
   "source": [
    "x, y, z, C1, C2 = symbols(\"x y z C1:3\")\n",
    "a, b, c = 9, 3, 1\n",
    "y_abstract = Function('y')(x)\n",
    "\n",
    "ODE = a*diff(y_abstract, x, 2) + b*diff(y_abstract, x) + c*y_abstract\n",
    "y_x: Equality = dsolve(ODE, y_abstract)\n",
    "display_with_text(\"Решение ОДУ:\", y_x)\n",
    "\n",
    "symbs_dict: Dict[str, Basic] = {str(symb): symb for symb in y_x.rhs.free_symbols}\n",
    "equations = (\n",
    "    sympy.Eq(y_x.rhs.subs({x: 0}), 0),\n",
    "    sympy.Eq(y_x.rhs.diff(x).subs({x: 0}), 2*sympy.sqrt(3))\n",
    ")\n",
    "roots = linsolve(equations, symbs_dict['C1'], symbs_dict['C2']).args[0]\n",
    "y_x = y_x.subs({symbs_dict[Cname]: root for Cname, root in zip(('C1', 'C2'), roots)})\n",
    "display_with_text(\"Решение системы:\", y_x)"
   ]
  },
  {
   "attachments": {},
   "cell_type": "markdown",
   "metadata": {},
   "source": [
    "### Индивидуальное задание\n",
    "Решить с помощью dsolve:\n",
    "$$\n",
    "y''' + y'' + y' + y = (4x + 6)e^{2x}.\n",
    "$$\n",
    "Построить график $y(x)$ при начальных условиях $y(0) = 4$, $y'(0) = 2$, $y''(0) = 0$."
   ]
  },
  {
   "attachments": {},
   "cell_type": "markdown",
   "metadata": {},
   "source": [
    "### Вариант 50\n",
    "$$\n",
    "y''' + y'' + y' + y = (6x^2+ 5x)e^x, y(0) = 2, y′(0) = 1, y′′(0) = −2 \n",
    "$$"
   ]
  },
  {
   "cell_type": "code",
   "execution_count": 6,
   "metadata": {},
   "outputs": [
    {
     "data": {
      "text/latex": [
       "$ \\text{Решение ОДУ:} $ $ y{\\left(x \\right)} = C_{1} e^{- x} + C_{2} \\sin{\\left(x \\right)} + C_{3} \\cos{\\left(x \\right)} + \\frac{\\left(12 x^{2} - 26 x + 15\\right) e^{x}}{8} $"
      ],
      "text/plain": [
       "<IPython.core.display.Latex object>"
      ]
     },
     "metadata": {},
     "output_type": "display_data"
    },
    {
     "data": {
      "text/latex": [
       "$ \\text{Решение системы:} $ $ \\left( \\frac{1}{4}, \\  \\frac{9}{4}, \\  - \\frac{1}{8}\\right) $"
      ],
      "text/plain": [
       "<IPython.core.display.Latex object>"
      ]
     },
     "metadata": {},
     "output_type": "display_data"
    },
    {
     "data": {
      "image/png": "[encoded data removed]",
      "text/plain": [
       "<Figure size 640x480 with 1 Axes>"
      ]
     },
     "metadata": {},
     "output_type": "display_data"
    }
   ],
   "source": [
    "x, y, z, C1, C2 = symbols(\"x y z C1:3\")\n",
    "y_abstract = Function('y')(x)\n",
    "\n",
    "ODE = sum(y_abstract.diff(x, i) for i in range(4)) - (6*x**2 + 5*x)*Exp(x)\n",
    "y_x: Equality = dsolve(ODE, y_abstract)\n",
    "display_with_text(\"Решение ОДУ:\", y_x)\n",
    "\n",
    "symbs_dict: Dict[str, Basic] = {str(symb): symb for symb in y_x.rhs.free_symbols}\n",
    "C_vars: Dict[str, Basic] = {C_name: C for C_name, C in symbs_dict.items() if 'C' in C_name}\n",
    "equations: List[Equality] = [sympy.Eq(y_x.rhs.diff(x, i).subs({x: 0}), k) for i, k in ((0, 2), (1, 1), (2, -2))]\n",
    "\n",
    "roots = linsolve(equations, *C_vars.values()).args[0]\n",
    "display_with_text(\"Решение системы:\", roots)\n",
    "y_x = y_x.subs({C_vars[Cname]: root for Cname, root in zip(('C1', 'C2', 'C3'), roots)}).simplify()\n",
    "\n",
    "p_tan = plot(\n",
    "    y_x.rhs, \n",
    "    (x, -3, 2),\n",
    "    title=\"y(x)\",\n",
    "    label=\"$y(x)$\", \n",
    "    legend=True, \n",
    "    line_color='g',\n",
    ")"
   ]
  }
 ],
 "metadata": {
  "kernelspec": {
   "display_name": "Python 3",
   "language": "python",
   "name": "python3"
  },
  "language_info": {
   "codemirror_mode": {
    "name": "ipython",
    "version": 3
   },
   "file_extension": ".py",
   "mimetype": "text/x-python",
   "name": "python",
   "nbconvert_exporter": "python",
   "pygments_lexer": "ipython3",
   "version": "3.11.0"
  }
 },
 "nbformat": 4,
 "nbformat_minor": 2
}
