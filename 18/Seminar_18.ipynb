{
 "cells": [
  {
   "cell_type": "code",
   "execution_count": 1,
   "metadata": {},
   "outputs": [],
   "source": [
    "import numpy as np\n",
    "import sympy\n",
    "from sympy import S, symbols, Function, dsolve, solveset, linsolve, integrate, Integral, diff, latex\n",
    "from sympy import sin as Sin\n",
    "from sympy import cos as Cos\n",
    "from sympy import exp as Exp\n",
    "from sympy import log as Log\n",
    "from sympy import pi as Pi\n",
    "import matplotlib.pyplot as plt"
   ]
  },
  {
   "cell_type": "markdown",
   "metadata": {},
   "source": [
    "## Занятие 18\n",
    "## Математический анализ\n",
    "## Линейные ОДУ второго порядка с постоянными коэффициентами\n",
    "Решение линейного однородного ОДУ второго порядка с постоянными коэффициентами \n",
    "$$\n",
    "ay''+by'+cy=0\n",
    "$$\n",
    "имеет вид:\n",
    "$$\n",
    "y=C_1 e^{k_1 x}+C_2 e^{k_2 x}, \n",
    "$$\n",
    "если характеристическое уравнение \n",
    "$ak^2+bk+c=0$ \n",
    "имеет два различных вещественных корня $k_1$ и $k_2$,\n",
    "$$\n",
    "\ty=(C_1+C_2 x)e^{k_0 x}, \n",
    "$$\n",
    " если характеристическое уравнение имеет один вещественный корень $k_0$,\n",
    "$$\n",
    "y=e^{\\alpha x} (C_1  \\cos \\beta x+C_2  \\sin \\beta x ), \n",
    "$$    \n",
    "если характеристическое уравнение  имеет два комплексных корня $k_1=\\alpha +i \\beta$ и $k_2=\\alpha -i \\beta$.\n",
    "### Пример 1\n",
    "Решением ОДУ\n",
    "$$\n",
    "y''-4y'+4y=0\n",
    "$$\n",
    "будет\n",
    "$$\n",
    "y=(C_1+C_2 x)e^{2 x}, \n",
    "$$\n",
    "поскольку у характеристического уравнения $k^2-4k+4=0$ ровно один корень $k=2$."
   ]
  },
  {
   "cell_type": "code",
   "execution_count": 2,
   "metadata": {},
   "outputs": [
    {
     "data": {
      "text/latex": [
       "$\\displaystyle \\left\\{2\\right\\}$"
      ],
      "text/plain": [
       "FiniteSet(2)"
      ]
     },
     "execution_count": 2,
     "metadata": {},
     "output_type": "execute_result"
    }
   ],
   "source": [
    "x, y, k, C1, C2 = symbols('x y k C_1 C_2')\n",
    "roots = solveset(k**2 - 4*k + 4)\n",
    "roots"
   ]
  },
  {
   "cell_type": "markdown",
   "metadata": {},
   "source": [
    "Для того, чтобы в символьных преобразованиях в функции $y(x, C_1, C_2)$ использовать экспоненту из sympy, а для численных расчетов (при построении графика в matplotlib.pyplot) из numpy, добавим в эту функцию аргумент lib со значением по умолчанию 'sympy'."
   ]
  },
  {
   "cell_type": "code",
   "execution_count": 3,
   "metadata": {},
   "outputs": [],
   "source": [
    "def y(x, C1, C2, lib='sympy'):\n",
    "    if lib == 'sympy':\n",
    "        return (C1 + C2*x)*Exp(2*x)\n",
    "    if lib == 'numpy':\n",
    "        return (C1 + C2*x)*np.exp(2*x)\n",
    "    return 'error'"
   ]
  },
  {
   "cell_type": "markdown",
   "metadata": {},
   "source": [
    "Проверим подстановкой, для этого методом diff найдем производные первого и второго порядка и подставим у ОДУ, упростим выражение с помощью collect по $e^{2x}$.\n",
    "\n",
    "Выведем также формулу для самой найденной функции $y$, ее первой и второй производной."
   ]
  },
  {
   "cell_type": "code",
   "execution_count": 4,
   "metadata": {
    "scrolled": true
   },
   "outputs": [
    {
     "data": {
      "text/latex": [
       "$\\displaystyle 0$"
      ],
      "text/plain": [
       "0"
      ]
     },
     "metadata": {},
     "output_type": "display_data"
    },
    {
     "data": {
      "text/latex": [
       "$\\displaystyle \\left(C_{1} + C_{2} x\\right) e^{2 x}$"
      ],
      "text/plain": [
       "(C_1 + C_2*x)*exp(2*x)"
      ]
     },
     "metadata": {},
     "output_type": "display_data"
    },
    {
     "data": {
      "text/latex": [
       "$\\displaystyle C_{2} e^{2 x} + 2 \\left(C_{1} + C_{2} x\\right) e^{2 x}$"
      ],
      "text/plain": [
       "C_2*exp(2*x) + 2*(C_1 + C_2*x)*exp(2*x)"
      ]
     },
     "metadata": {},
     "output_type": "display_data"
    },
    {
     "data": {
      "text/latex": [
       "$\\displaystyle 4 \\left(C_{1} + C_{2} x + C_{2}\\right) e^{2 x}$"
      ],
      "text/plain": [
       "4*(C_1 + C_2*x + C_2)*exp(2*x)"
      ]
     },
     "metadata": {},
     "output_type": "display_data"
    }
   ],
   "source": [
    "display(sympy.collect(diff(y(x, C1, C2), x, 2) - 4*diff(y(x, C1, C2), x) + 4*y(x, C1, C2), Exp(2*x)),\n",
    "        y(x, C1, C2), diff(y(x, C1, C2), x), diff(y(x, C1, C2), x, 2))"
   ]
  },
  {
   "cell_type": "markdown",
   "metadata": {},
   "source": [
    "Построим график нескольких решений этого ОДУ, для этого положим \n",
    "\n",
    "1) $C_1=0$, $C_2=1$;\n",
    "2) $C_1=1$, $C_2=0$;\n",
    "3) $C_1=1$, $C_2=-1$"
   ]
  },
  {
   "cell_type": "code",
   "execution_count": 5,
   "metadata": {},
   "outputs": [
    {
     "data": {
      "image/png": "[encoded data removed]",
      "text/plain": [
       "<Figure size 432x288 with 1 Axes>"
      ]
     },
     "metadata": {
      "needs_background": "light"
     },
     "output_type": "display_data"
    }
   ],
   "source": [
    "X = np.linspace(-1, 1, 100)\n",
    "for (c1, c2, col) in ((0, 1, 'red'), (1, 0, 'green'), (1, -1, 'black')):\n",
    "    plt.plot(X, y(X, c1, c2, lib='numpy'), col)"
   ]
  },
  {
   "cell_type": "markdown",
   "metadata": {},
   "source": [
    "### Пример 2.\n",
    "Решим задачу Коши\n",
    "$$\n",
    "\\left\\{\n",
    "\\begin{matrix}\n",
    "y''-4y'+4y=0\\\\\n",
    "y(0)=4\\\\\n",
    "y'(0)=12\n",
    "\\end{matrix}\n",
    "\\right.\n",
    "$$\n",
    "Вначале опишем производные $y'$ и $y''$ в виде функций $dy(x,C1,C2)$ и  $d2y(x,C1,C2)$"
   ]
  },
  {
   "cell_type": "code",
   "execution_count": 6,
   "metadata": {},
   "outputs": [
    {
     "data": {
      "text/latex": [
       "$\\displaystyle C_{2} e^{2 x} + 2 \\left(C_{1} + C_{2} x\\right) e^{2 x}$"
      ],
      "text/plain": [
       "C_2*exp(2*x) + 2*(C_1 + C_2*x)*exp(2*x)"
      ]
     },
     "metadata": {},
     "output_type": "display_data"
    },
    {
     "data": {
      "text/latex": [
       "$\\displaystyle 4 \\left(C_{1} + C_{2} x + C_{2}\\right) e^{2 x}$"
      ],
      "text/plain": [
       "4*(C_1 + C_2*x + C_2)*exp(2*x)"
      ]
     },
     "metadata": {},
     "output_type": "display_data"
    }
   ],
   "source": [
    "def dy(x, C1, C2):\n",
    "    return diff(y(x, C1, C2), x)\n",
    "def d2y(x, C1, C2):\n",
    "    return diff(y(x, C1, C2), x, 2)\n",
    "display(dy(x, C1, C2), d2y(x, C1, C2))"
   ]
  },
  {
   "cell_type": "markdown",
   "metadata": {},
   "source": [
    "Вычислим производные в точке 0, составим и решим систему уравнений относительно С1 и С2:"
   ]
  },
  {
   "cell_type": "code",
   "execution_count": 7,
   "metadata": {},
   "outputs": [
    {
     "data": {
      "text/plain": [
       "(1, 2)"
      ]
     },
     "execution_count": 7,
     "metadata": {},
     "output_type": "execute_result"
    }
   ],
   "source": [
    "dy0 = 4\n",
    "d2y0 = 12\n",
    "c1, c2 = tuple(linsolve([sympy.Eq(dy(x, C1, C2).subs(x, 0), dy0), sympy.Eq(d2y(x, C1, C2).subs(x, 0), d2y0)], C1, C2))[0]\n",
    "c1, c2"
   ]
  },
  {
   "cell_type": "markdown",
   "metadata": {},
   "source": [
    "Построим график решения задачи Коши, отметим и подпишем начальную точку"
   ]
  },
  {
   "cell_type": "code",
   "execution_count": 8,
   "metadata": {},
   "outputs": [
    {
     "data": {
      "text/plain": [
       "Text(30, 50, '$\\\\frac{d}{d x} y{\\\\left(x \\\\right)} = 4$,\\n$\\\\frac{d^{2}}{d x^{2}} y{\\\\left(x \\\\right)} = 12$,\\n$x = 0$')"
      ]
     },
     "execution_count": 8,
     "metadata": {},
     "output_type": "execute_result"
    },
    {
     "data": {
      "image/png": "[encoded data removed]",
      "text/plain": [
       "<Figure size 432x288 with 1 Axes>"
      ]
     },
     "metadata": {
      "needs_background": "light"
     },
     "output_type": "display_data"
    }
   ],
   "source": [
    "y_abstract = Function('y')(x)\n",
    "X = np.linspace(0, 1, 100)\n",
    "label1=latex(sympy.Eq(diff(y_abstract, x), y(x, c1, c2)), mode='inline')\n",
    "plt.plot(X, y(X, c1, c2, lib='numpy'), color='black', label=label1)\n",
    "plt.legend()\n",
    "plt.scatter([0,], [y(0, c1, c2, lib='numpy'),], color='red')\n",
    "plt.annotate(latex(sympy.Eq(diff(y_abstract, x), dy0), mode='inline') \n",
    "             + ',\\n' + latex(sympy.Eq(diff(y_abstract, x, 2), d2y0), mode='inline')\n",
    "             + ',\\n' + latex(sympy.Eq(x, 0), mode='inline'),\n",
    "             xy=(0, y(0, c1, c2)), xycoords='data',\n",
    "             xytext=(30, +50), textcoords='offset points', fontsize=16,\n",
    "             arrowprops=dict(arrowstyle=\"->\", connectionstyle=\"arc3,rad=.2\"))"
   ]
  },
  {
   "cell_type": "markdown",
   "metadata": {},
   "source": [
    "### Пример 3. Решение ОДУ с помощью dsolve\n",
    "\n",
    "Решим уравнение Примера 1.\n",
    "\n",
    "#### 1. Объектно-ориентированный подход:\n",
    "неизвестная функция $y$ описывается как абстрактная функция и используется для записи ОДУ с применением метода diff"
   ]
  },
  {
   "cell_type": "code",
   "execution_count": 9,
   "metadata": {},
   "outputs": [
    {
     "data": {
      "text/latex": [
       "$\\displaystyle y{\\left(x \\right)} = \\left(C_{1} + C_{2} x\\right) e^{2 x}$"
      ],
      "text/plain": [
       "Eq(y(x), (C1 + C2*x)*exp(2*x))"
      ]
     },
     "execution_count": 9,
     "metadata": {},
     "output_type": "execute_result"
    }
   ],
   "source": [
    "y = Function('y')\n",
    "dsolve(y(x).diff(x, 2) - 4*y(x).diff(x) + 4*y(x), y(x))"
   ]
  },
  {
   "cell_type": "markdown",
   "metadata": {},
   "source": [
    "#### 2. Функциональный подход:\n",
    "вызываем функцию diff, передаем ей нашу абстрактную функцию и ее переменную в качестве аргументов,\n",
    "помним о необязательном аргументе - порядке производной."
   ]
  },
  {
   "cell_type": "code",
   "execution_count": 10,
   "metadata": {},
   "outputs": [
    {
     "data": {
      "text/latex": [
       "$\\displaystyle y{\\left(x \\right)} = \\left(C_{1} + C_{2} x\\right) e^{2 x}$"
      ],
      "text/plain": [
       "Eq(y(x), (C1 + C2*x)*exp(2*x))"
      ]
     },
     "execution_count": 10,
     "metadata": {},
     "output_type": "execute_result"
    }
   ],
   "source": [
    "res = dsolve(diff(y(x), x, 2) - 4*diff(y(x), x) + 4*y(x), y(x))\n",
    "res"
   ]
  },
  {
   "cell_type": "markdown",
   "metadata": {},
   "source": [
    "## Особенности работы с уравнениями в sympy\n",
    "### Выделение левой и правой части уравнения:"
   ]
  },
  {
   "cell_type": "code",
   "execution_count": 11,
   "metadata": {},
   "outputs": [
    {
     "data": {
      "text/latex": [
       "$\\displaystyle y{\\left(x \\right)}$"
      ],
      "text/plain": [
       "y(x)"
      ]
     },
     "metadata": {},
     "output_type": "display_data"
    },
    {
     "data": {
      "text/latex": [
       "$\\displaystyle \\left(C_{1} + C_{2} x\\right) e^{2 x}$"
      ],
      "text/plain": [
       "(C1 + C2*x)*exp(2*x)"
      ]
     },
     "metadata": {},
     "output_type": "display_data"
    }
   ],
   "source": [
    "display(res.lhs, res.rhs)"
   ]
  },
  {
   "cell_type": "markdown",
   "metadata": {},
   "source": [
    "Выделенные части можно дифференцировать, можно делать подстановку:"
   ]
  },
  {
   "cell_type": "code",
   "execution_count": 12,
   "metadata": {},
   "outputs": [
    {
     "data": {
      "text/latex": [
       "$\\displaystyle C_{2} e^{2 x} + 2 \\left(C_{1} + C_{2} x\\right) e^{2 x}$"
      ],
      "text/plain": [
       "C2*exp(2*x) + 2*(C1 + C2*x)*exp(2*x)"
      ]
     },
     "metadata": {},
     "output_type": "display_data"
    },
    {
     "data": {
      "text/latex": [
       "$\\displaystyle C_{2} e^{4} + 2 \\left(C_{1} + 2 C_{2}\\right) e^{4}$"
      ],
      "text/plain": [
       "C2*exp(4) + 2*(C1 + 2*C2)*exp(4)"
      ]
     },
     "metadata": {},
     "output_type": "display_data"
    }
   ],
   "source": [
    "display(res.rhs.diff(x),res.rhs.diff(x).subs(x,2))"
   ]
  },
  {
   "cell_type": "markdown",
   "metadata": {},
   "source": [
    "## Выделение символов в выражении\n",
    "Для того, чтобы выполнять подстановку в решении ОДУ, нужно выделить символы $C_1$ и $C_2$.\n",
    "\n",
    "Выделение символов осуществляется методом free_symbols, возвращающим МНОЖЕСТВО (set) состоящее из символов"
   ]
  },
  {
   "cell_type": "code",
   "execution_count": 13,
   "metadata": {},
   "outputs": [
    {
     "data": {
      "text/plain": [
       "{C1, C2, x}"
      ]
     },
     "execution_count": 13,
     "metadata": {},
     "output_type": "execute_result"
    }
   ],
   "source": [
    "res.rhs.free_symbols"
   ]
  },
  {
   "cell_type": "markdown",
   "metadata": {},
   "source": [
    "Построим словарь символов выражения, ключи- имена символов (стороковый тип), значения - сами символы"
   ]
  },
  {
   "cell_type": "code",
   "execution_count": 14,
   "metadata": {},
   "outputs": [
    {
     "data": {
      "text/plain": [
       "{'C2': C2, 'x': x, 'C1': C1}"
      ]
     },
     "execution_count": 14,
     "metadata": {},
     "output_type": "execute_result"
    }
   ],
   "source": [
    "symb_dict={str(item): item for item in res.rhs.free_symbols}\n",
    "symb_dict"
   ]
  },
  {
   "cell_type": "markdown",
   "metadata": {},
   "source": [
    "Пользоваться словарем можно так:\n",
    "\n",
    "в подстановке указываем символ из словаря с нужным именем:"
   ]
  },
  {
   "cell_type": "code",
   "execution_count": 15,
   "metadata": {},
   "outputs": [
    {
     "data": {
      "text/latex": [
       "$\\displaystyle y{\\left(x \\right)} = \\left(C_{2} x + 3\\right) e^{2 x}$"
      ],
      "text/plain": [
       "Eq(y(x), (C2*x + 3)*exp(2*x))"
      ]
     },
     "execution_count": 15,
     "metadata": {},
     "output_type": "execute_result"
    }
   ],
   "source": [
    "res.subs(symb_dict['C1'], 3)"
   ]
  },
  {
   "cell_type": "markdown",
   "metadata": {},
   "source": [
    "Альтернативный способ (кажется, менее удачный) - преобразование множества в список и упорядочивание списка по алфавиту.\n",
    "\n",
    "Преобразуем множество в список и используем его для подстановок:"
   ]
  },
  {
   "cell_type": "code",
   "execution_count": 16,
   "metadata": {},
   "outputs": [
    {
     "data": {
      "text/plain": [
       "[C1, C2, x]"
      ]
     },
     "metadata": {},
     "output_type": "display_data"
    },
    {
     "data": {
      "text/latex": [
       "$\\displaystyle \\left(3 x + 2\\right) e^{2 x}$"
      ],
      "text/plain": [
       "(3*x + 2)*exp(2*x)"
      ]
     },
     "execution_count": 16,
     "metadata": {},
     "output_type": "execute_result"
    }
   ],
   "source": [
    "symbs=sorted(list(res.rhs.free_symbols), key=str)\n",
    "display(symbs)\n",
    "res.rhs.subs({symbs[0]: 2,symbs[1]: 3})"
   ]
  }
 ],
 "metadata": {
  "kernelspec": {
   "display_name": "Python 3",
   "language": "python",
   "name": "python3"
  },
  "language_info": {
   "codemirror_mode": {
    "name": "ipython",
    "version": 3
   },
   "file_extension": ".py",
   "mimetype": "text/x-python",
   "name": "python",
   "nbconvert_exporter": "python",
   "pygments_lexer": "ipython3",
   "version": "3.7.3"
  }
 },
 "nbformat": 4,
 "nbformat_minor": 2
}
