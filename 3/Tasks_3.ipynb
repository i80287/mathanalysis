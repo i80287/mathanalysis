{
 "cells": [
  {
   "cell_type": "markdown",
   "metadata": {},
   "source": [
    "## Занятие 3\n",
    "## Математический анализ\n",
    "## Решение нелинейных уравнений в Sympy. Solve и solveset.\n",
    "https://docs.sympy.org/latest/modules/solvers/solveset.html"
   ]
  },
  {
   "cell_type": "code",
   "execution_count": 1,
   "metadata": {},
   "outputs": [],
   "source": [
    "from sympy import Symbol, symbols, S, solve, solveset, Intersection, Interval, EmptySet, Union, Eq \n",
    "import sympy\n",
    "# Продолжим использовать магию\n",
    "%matplotlib inline"
   ]
  },
  {
   "cell_type": "markdown",
   "metadata": {},
   "source": [
    "### Задание 1\n",
    "Решить уравнение $6x^4 + 9x^3 - 99x^2 - 66x + 360 = 0$ с помощью solve и solveset."
   ]
  },
  {
   "cell_type": "code",
   "execution_count": 2,
   "metadata": {},
   "outputs": [
    {
     "name": "stdout",
     "output_type": "stream",
     "text": [
      "Solutions via solve():\n"
     ]
    },
    {
     "data": {
      "text/plain": [
       "[-4, -5/2, 2, 3]"
      ]
     },
     "metadata": {},
     "output_type": "display_data"
    },
    {
     "name": "stdout",
     "output_type": "stream",
     "text": [
      "Solutions via solveset():\n"
     ]
    },
    {
     "data": {
      "text/latex": [
       "$\\displaystyle \\left\\{-4, - \\frac{5}{2}, 2, 3\\right\\}$"
      ],
      "text/plain": [
       "{-4, -5/2, 2, 3}"
      ]
     },
     "metadata": {},
     "output_type": "display_data"
    }
   ],
   "source": [
    "x = Symbol('x')\n",
    "expr_1 = 6*x**4 + 9*x**3 - 99*x**2 - 66*x + 360\n",
    "\n",
    "print(\"Solutions via solve():\")\n",
    "display(solve(expr_1, x))\n",
    "print(\"Solutions via solveset():\")\n",
    "display(solveset(expr_1, x))"
   ]
  },
  {
   "cell_type": "markdown",
   "metadata": {},
   "source": [
    "### Задание 2.\n",
    "Найти только вещественные решения уравнения $12x^8 + 32x^6 + 21x^4 - 2x^2 - 3 = 0$."
   ]
  },
  {
   "cell_type": "code",
   "execution_count": 3,
   "metadata": {},
   "outputs": [
    {
     "name": "stdout",
     "output_type": "stream",
     "text": [
      "Real solutions of the equation:\n"
     ]
    },
    {
     "data": {
      "text/latex": [
       "$\\displaystyle \\left\\{- \\frac{\\sqrt{3}}{3}, \\frac{\\sqrt{3}}{3}\\right\\}$"
      ],
      "text/plain": [
       "{-sqrt(3)/3, sqrt(3)/3}"
      ]
     },
     "metadata": {},
     "output_type": "display_data"
    }
   ],
   "source": [
    "x = Symbol('x')\n",
    "expr_2 = 12*x**8 + 32*x**6 + 21*x**4 - 2*x**2 - 3\n",
    "print(\"Real solutions of the equation:\")\n",
    "display(solveset(expr_2, x, domain=S.Reals))"
   ]
  },
  {
   "cell_type": "markdown",
   "metadata": {},
   "source": [
    "### Задание 3.\n",
    "Решить уравнение $\\log_2(\\sin(x))=-1$. "
   ]
  },
  {
   "cell_type": "code",
   "execution_count": 4,
   "metadata": {},
   "outputs": [
    {
     "name": "stdout",
     "output_type": "stream",
     "text": [
      "Solutions of the equation:\n"
     ]
    },
    {
     "data": {
      "text/latex": [
       "$\\displaystyle \\left\\{2 n \\pi + \\frac{5 \\pi}{6}\\; \\middle|\\; n \\in \\mathbb{Z}\\right\\} \\cup \\left\\{2 n \\pi + \\frac{\\pi}{6}\\; \\middle|\\; n \\in \\mathbb{Z}\\right\\}$"
      ],
      "text/plain": [
       "Union(ImageSet(Lambda(_n, 2*_n*pi + 5*pi/6), Integers), ImageSet(Lambda(_n, 2*_n*pi + pi/6), Integers))"
      ]
     },
     "metadata": {},
     "output_type": "display_data"
    }
   ],
   "source": [
    "x = Symbol('x')\n",
    "expr_3 = sympy.log(sympy.sin(x), 2) + 1\n",
    "print(\"Solutions of the equation:\")\n",
    "display(solveset(expr_3, x))"
   ]
  },
  {
   "cell_type": "markdown",
   "metadata": {},
   "source": [
    "### Задание 4.\n",
    "Найти решения уравнения $2{\\rm tg}^2(x) - 3{\\rm tg}(x) - 5 = 0$ на открытом интервале  $(-5\\pi/4, 11\\pi/4)$. "
   ]
  },
  {
   "cell_type": "code",
   "execution_count": 5,
   "metadata": {},
   "outputs": [
    {
     "name": "stdout",
     "output_type": "stream",
     "text": [
      "Soltions of the equation in the open interval (-5*pi/4; 11*pi/4):\n"
     ]
    },
    {
     "data": {
      "text/latex": [
       "$\\displaystyle \\left\\{- \\frac{\\pi}{4}, \\frac{3 \\pi}{4}, \\frac{7 \\pi}{4}, - \\pi + \\operatorname{atan}{\\left(\\frac{5}{2} \\right)}, \\operatorname{atan}{\\left(\\frac{5}{2} \\right)} + \\pi, \\operatorname{atan}{\\left(\\frac{5}{2} \\right)} + 2 \\pi, \\operatorname{atan}{\\left(\\frac{5}{2} \\right)}\\right\\}$"
      ],
      "text/plain": [
       "{-pi/4, 3*pi/4, 7*pi/4, -pi + atan(5/2), atan(5/2) + pi, atan(5/2) + 2*pi, atan(5/2)}"
      ]
     },
     "metadata": {},
     "output_type": "display_data"
    }
   ],
   "source": [
    "x = Symbol('x')\n",
    "expr_4 = 2*sympy.tan(x)** 2 - 3*sympy.tan(x) - 5\n",
    "interval = Interval.open(-5*sympy.pi/4, 11*sympy.pi/4)\n",
    "\n",
    "print(f\"Soltions of the equation in the open interval ({interval.left}; {interval.right}):\")\n",
    "display(Intersection(solveset(expr_4, x), interval))\n"
   ]
  },
  {
   "cell_type": "markdown",
   "metadata": {},
   "source": [
    "### Задание 5.\n",
    "Найти область определения функции $\\sqrt{\\sin^2 x - 1}$."
   ]
  },
  {
   "cell_type": "code",
   "execution_count": 17,
   "metadata": {},
   "outputs": [
    {
     "data": {
      "text/latex": [
       "$\\displaystyle \\left\\{2 n \\pi + \\frac{3 \\pi}{2}\\; \\middle|\\; n \\in \\mathbb{Z}\\right\\} \\cup \\left\\{2 n \\pi + \\frac{\\pi}{2}\\; \\middle|\\; n \\in \\mathbb{Z}\\right\\}$"
      ],
      "text/plain": [
       "Union(ImageSet(Lambda(_n, 2*_n*pi + 3*pi/2), Integers), ImageSet(Lambda(_n, 2*_n*pi + pi/2), Integers))"
      ]
     },
     "metadata": {},
     "output_type": "display_data"
    }
   ],
   "source": [
    "from sympy.calculus.util import function_range\n",
    "\n",
    "x, y = symbols(\"x y\", domain=S.Reals)\n",
    "f =  sympy.sqrt(sympy.sin(x) * sympy.sin(x) - 1)\n",
    "\n",
    "# solve (sin(x) * sin(x) - 1) ^ 0.5 - y = 0\n",
    "solutions_3 = Union(*sympy.FiniteSet({*solve(f - y, x)}))\n",
    "# display(*solutions_3)\n",
    "\n",
    "# function_range(x(y))\n",
    "d_x_y = sympy.FiniteSet(*{function_range(func, y, domain=S.Reals) for func in solutions_3})\n",
    "display(*d_x_y)\n"
   ]
  },
  {
   "cell_type": "markdown",
   "metadata": {},
   "source": [
    "### Задание 6.\n",
    "Найти решение уравнения $\\frac{(x^3 + 5 x^2 - 3 x - 15)\\ln(x^2 - 3)}{x^2 - 3 x + 2} = 0$. Выполнить проверку подстановкой subs.\n",
    "#### Указание.\n",
    "Решение нужно разбить на части. Нужно учесть область определения выражения в левой части уравнения."
   ]
  },
  {
   "cell_type": "code",
   "execution_count": 7,
   "metadata": {},
   "outputs": [
    {
     "name": "stdout",
     "output_type": "stream",
     "text": [
      "Solutions of the equation:\n"
     ]
    },
    {
     "data": {
      "text/latex": [
       "$\\displaystyle -5$"
      ],
      "text/plain": [
       "-5"
      ]
     },
     "metadata": {},
     "output_type": "display_data"
    },
    {
     "data": {
      "text/latex": [
       "$\\displaystyle -2$"
      ],
      "text/plain": [
       "-2"
      ]
     },
     "metadata": {},
     "output_type": "display_data"
    }
   ],
   "source": [
    "x = Symbol('x')\n",
    "expr_6 = (x**3 + 5*x**2 - 3*x - 15) * sympy.ln(x**2 - 3) / (x**2 - 3*x + 2)\n",
    "\n",
    "# We can just write:\n",
    "# solveset(expr_6, x))\n",
    "\n",
    "print(\"Solutions of the equation:\")\n",
    "for solution in solve(expr_6, x):\n",
    "    if expr_6.subs(x, solution) == S(0):\n",
    "        display(solution)"
   ]
  },
  {
   "cell_type": "markdown",
   "metadata": {},
   "source": [
    "### Индивидуальное задание.\n",
    "Через все точки пересечения графиков функций $f(x)$ и $g(x)$ провести горизонтальные прямые. Изобразить на графике $f(x)$ зеленым цветом, $g(x)$ красным, горизонтальные линии черным. \n",
    "Формулы для $f(x)$ и $g(x)$ включить в легенду."
   ]
  },
  {
   "cell_type": "markdown",
   "metadata": {},
   "source": [
    "#### var. 50\n",
    "$f(x) = \\frac{x^2}{8} + x - 2 \\\\$\n",
    "$g(x) = \\frac{3x^2}{8} + x − 6$\n"
   ]
  },
  {
   "cell_type": "code",
   "execution_count": 8,
   "metadata": {},
   "outputs": [
    {
     "data": {
      "image/png": "[encoded data removed]",
      "text/plain": [
       "<Figure size 640x480 with 1 Axes>"
      ]
     },
     "metadata": {},
     "output_type": "display_data"
    }
   ],
   "source": [
    "x = symbols('x', domain=S.Reals)\n",
    "f = x**2/8 + x - 2\n",
    "g = 3*x**2/8 + x - 6\n",
    "functs_params = (\n",
    "    (f, r\"$f(x) = \\frac{x^2}{8} + x - 2$\", \"green\"),\n",
    "    (g, r\"$g(x) = \\frac{3x^2}{8} + x − 6$\", \"red\")\n",
    ")\n",
    "\n",
    "# Init plot.\n",
    "title = \"Графики функций $f(x)$ и $g(x)$\"\n",
    "x_interval = (x, -16, 16)\n",
    "x_label_align = \"\\t\\t\\t\\t\\t\\t\\t\\t\\t\\t\\t\\t\\t\\t\\t\\t\"\n",
    "y_label_align = \"\\t\\t\\t\\t\\t\\t\\t\\t\\t\\t\\t\"\n",
    "p = sympy.plot(\n",
    "    interval=x_interval,\n",
    "    title=title,\n",
    "    xlabel=x_label_align + \"$x$\",\n",
    "    ylabel=y_label_align + \"$y$\",\n",
    "    legend=True,\n",
    "    show=False\n",
    ")\n",
    "\n",
    "# Add functions to the plot.\n",
    "for func, label, color in functs_params:\n",
    "    p.append(sympy.plot(\n",
    "        func,\n",
    "        label=label,\n",
    "        legend=True,\n",
    "        line_color=color,\n",
    "        show=False\n",
    "    )[0])\n",
    "\n",
    "# Points of intersection f(x) = g(x).\n",
    "x_points = solve(f - g, x, domain=S.Reals)\n",
    "y_points = [f.subs(x, x_value) for x_value in x_points]\n",
    "#Add lines to the plot.\n",
    "for y_point in y_points:\n",
    "    p.append(sympy.plot(\n",
    "        y_point,\n",
    "        label=f\"$y$ = {y_point}\",\n",
    "        line_color=\"black\",\n",
    "        show=False\n",
    "    )[0])\n",
    "\n",
    "p.show()"
   ]
  }
 ],
 "metadata": {
  "kernelspec": {
   "display_name": "Python 3.11.0 ('.venv': venv)",
   "language": "python",
   "name": "python3"
  },
  "language_info": {
   "codemirror_mode": {
    "name": "ipython",
    "version": 3
   },
   "file_extension": ".py",
   "mimetype": "text/x-python",
   "name": "python",
   "nbconvert_exporter": "python",
   "pygments_lexer": "ipython3",
   "version": "3.11.0"
  },
  "vscode": {
   "interpreter": {
    "hash": "71eaa566fe385e36f6a17cd041d95c99303ead46f5ef158c51eb2173e206bc3f"
   }
  }
 },
 "nbformat": 4,
 "nbformat_minor": 2
}
