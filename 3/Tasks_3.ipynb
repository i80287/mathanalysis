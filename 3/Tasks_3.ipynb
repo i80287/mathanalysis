{
 "cells": [
  {
   "cell_type": "markdown",
   "metadata": {},
   "source": [
    "## Занятие 3\n",
    "## Математический анализ\n",
    "## Решение нелинейных уравнений в Sympy. Solve и solveset.\n",
    "https://docs.sympy.org/latest/modules/solvers/solveset.html"
   ]
  },
  {
   "cell_type": "code",
   "execution_count": 2,
   "metadata": {},
   "outputs": [],
   "source": [
    "from sympy import Symbol, symbols, S, solve, solveset, Intersection, Interval, EmptySet, Union, Eq \n",
    "import sympy\n",
    "# Продолжим использовать магию\n",
    "%matplotlib inline"
   ]
  },
  {
   "cell_type": "markdown",
   "metadata": {},
   "source": [
    "### Задание 1\n",
    "Решить уравнение $6x^4 + 9x^3 - 99x^2 - 66x + 360 = 0$ с помощью solve и solveset."
   ]
  },
  {
   "cell_type": "code",
   "execution_count": 15,
   "metadata": {},
   "outputs": [
    {
     "name": "stdout",
     "output_type": "stream",
     "text": [
      "Solutions via solve():\n"
     ]
    },
    {
     "data": {
      "text/plain": [
       "[-4, -5/2, 2, 3]"
      ]
     },
     "metadata": {},
     "output_type": "display_data"
    },
    {
     "name": "stdout",
     "output_type": "stream",
     "text": [
      "Solutions via solveset():\n"
     ]
    },
    {
     "data": {
      "text/latex": [
       "$\\displaystyle \\left\\{-4, - \\frac{5}{2}, 2, 3\\right\\}$"
      ],
      "text/plain": [
       "{-4, -5/2, 2, 3}"
      ]
     },
     "metadata": {},
     "output_type": "display_data"
    }
   ],
   "source": [
    "x = Symbol('x')\n",
    "expr_1 = 6*x**4 + 9*x**3 - 99*x**2 - 66*x + 360\n",
    "\n",
    "print(\"Solutions via solve():\")\n",
    "display(solve(expr_1, x))\n",
    "print(\"Solutions via solveset():\")\n",
    "display(solveset(expr_1, x))"
   ]
  },
  {
   "cell_type": "markdown",
   "metadata": {},
   "source": [
    "### Задание 2.\n",
    "Найти только вещественные решения уравнения $12x^8 + 32x^6 + 21x^4 - 2x^2 - 3 = 0$."
   ]
  },
  {
   "cell_type": "code",
   "execution_count": 16,
   "metadata": {},
   "outputs": [
    {
     "name": "stdout",
     "output_type": "stream",
     "text": [
      "Real solutions of the equation:\n"
     ]
    },
    {
     "data": {
      "text/latex": [
       "$\\displaystyle \\left\\{- \\frac{\\sqrt{3}}{3}, \\frac{\\sqrt{3}}{3}\\right\\}$"
      ],
      "text/plain": [
       "{-sqrt(3)/3, sqrt(3)/3}"
      ]
     },
     "metadata": {},
     "output_type": "display_data"
    }
   ],
   "source": [
    "x = Symbol('x')\n",
    "expr_2 = 12*x**8 + 32*x**6 + 21*x**4 - 2*x**2 - 3\n",
    "print(\"Real solutions of the equation:\")\n",
    "display(solveset(expr_2, x, domain=S.Reals))"
   ]
  },
  {
   "cell_type": "markdown",
   "metadata": {},
   "source": [
    "### Задание 3.\n",
    "Решить уравнение $\\log_2(\\sin(x))=-1$. "
   ]
  },
  {
   "cell_type": "code",
   "execution_count": 20,
   "metadata": {},
   "outputs": [
    {
     "name": "stdout",
     "output_type": "stream",
     "text": [
      "Solutions of the equation:\n"
     ]
    },
    {
     "data": {
      "text/latex": [
       "$\\displaystyle \\left\\{2 n \\pi + \\frac{5 \\pi}{6}\\; \\middle|\\; n \\in \\mathbb{Z}\\right\\} \\cup \\left\\{2 n \\pi + \\frac{\\pi}{6}\\; \\middle|\\; n \\in \\mathbb{Z}\\right\\}$"
      ],
      "text/plain": [
       "Union(ImageSet(Lambda(_n, 2*_n*pi + 5*pi/6), Integers), ImageSet(Lambda(_n, 2*_n*pi + pi/6), Integers))"
      ]
     },
     "metadata": {},
     "output_type": "display_data"
    }
   ],
   "source": [
    "x = Symbol('x')\n",
    "expr_3 = sympy.log(sympy.sin(x), 2) + 1\n",
    "print(\"Solutions of the equation:\")\n",
    "display(solveset(expr_3, x))"
   ]
  },
  {
   "cell_type": "markdown",
   "metadata": {},
   "source": [
    "### Задание 4.\n",
    "Найти решения уравнения $2{\\rm tg}^2(x) - 3{\\rm tg}(x) - 5 = 0$ на открытом интервале  $(-5\\pi/4, 11\\pi/4)$. "
   ]
  },
  {
   "cell_type": "code",
   "execution_count": 25,
   "metadata": {},
   "outputs": [
    {
     "name": "stdout",
     "output_type": "stream",
     "text": [
      "Soltions of the equation in the open interval (-5*pi/4; 11*pi/4):\n"
     ]
    },
    {
     "data": {
      "text/latex": [
       "$\\displaystyle \\left\\{2 n \\pi + \\operatorname{atan}{\\left(\\frac{5}{2} \\right)}\\; \\middle|\\; n \\in \\mathbb{Z}\\right\\} \\cup \\left\\{2 n \\pi + \\frac{3 \\pi}{4}\\; \\middle|\\; n \\in \\mathbb{Z}\\right\\} \\cup \\left\\{2 n \\pi + \\frac{7 \\pi}{4}\\; \\middle|\\; n \\in \\mathbb{Z}\\right\\} \\cup \\left\\{2 n \\pi + \\operatorname{atan}{\\left(\\frac{5}{2} \\right)} + \\pi\\; \\middle|\\; n \\in \\mathbb{Z}\\right\\}$"
      ],
      "text/plain": [
       "Union(ImageSet(Lambda(_n, 2*_n*pi + 3*pi/4), Integers), ImageSet(Lambda(_n, 2*_n*pi + 7*pi/4), Integers), ImageSet(Lambda(_n, 2*_n*pi + atan(5/2) + pi), Integers), ImageSet(Lambda(_n, 2*_n*pi + atan(5/2)), Integers))"
      ]
     },
     "metadata": {},
     "output_type": "display_data"
    }
   ],
   "source": [
    "x = Symbol('x')\n",
    "tan_x = sympy.tan(x)\n",
    "expr_4 = 2*tan_x** 2 - 3*tan_x - 5\n",
    "interval = Interval.open(-5*sympy.pi/4, 11*sympy.pi/4)\n",
    "\n",
    "print(f\"Soltions of the equation in the open interval ({interval.left}; {interval.right}):\")\n",
    "display(solveset(expr_4, x))\n"
   ]
  },
  {
   "cell_type": "markdown",
   "metadata": {},
   "source": [
    "### Задание 5.\n",
    "Найти область определения функции $\\sqrt{\\sin^2 x - 1}$."
   ]
  },
  {
   "cell_type": "code",
   "execution_count": 144,
   "metadata": {},
   "outputs": [
    {
     "data": {
      "text/latex": [
       "$\\displaystyle \\left\\{\\pi t + \\frac{\\pi}{2}, \\pi t + \\frac{3 \\pi}{2}\\right\\}$"
      ],
      "text/plain": [
       "{pi*t + pi/2, pi*t + 3*pi/2}"
      ]
     },
     "metadata": {},
     "output_type": "display_data"
    }
   ],
   "source": [
    "from sympy.calculus.util import continuous_domain, periodicity\n",
    "\n",
    "x, y, t = symbols('x y t')\n",
    "f = sympy.sqrt(sympy.sin(x) * sympy.sin(x) - 1)\n",
    "\n",
    "domain = continuous_domain(f, x, S.Reals)\n",
    "f_period = periodicity(f, x)\n",
    "d_f = sympy.FiniteSet(*[elem + t * f_period for elem in domain])\n",
    "\n",
    "display(d_f)"
   ]
  },
  {
   "cell_type": "markdown",
   "metadata": {},
   "source": [
    "### Задание 6.\n",
    "Найти решение уравнения $\\frac{(x^3 + 5 x^2 - 3 x - 15)\\ln(x^2 - 3)}{x^2 - 3 x + 2} = 0$. Выполнить проверку подстановкой subs.\n",
    "#### Указание.\n",
    "Решение нужно разбить на части. Нужно учесть область определения выражения в левой части уравнения."
   ]
  },
  {
   "cell_type": "code",
   "execution_count": null,
   "metadata": {},
   "outputs": [],
   "source": []
  },
  {
   "cell_type": "markdown",
   "metadata": {},
   "source": [
    "### Индивидуальное задание.\n",
    "Через все точки пересечения графиков функций $f(x)$ и $g(x)$ провести горизонтальные прямые. Изобразить на графике $f(x)$ зеленым цветом, $g(x)$ красным, горизонтальные линии черным. \n",
    "Формулы для $f(x)$ и $g(x)$ включить в легенду."
   ]
  },
  {
   "cell_type": "code",
   "execution_count": null,
   "metadata": {},
   "outputs": [],
   "source": []
  }
 ],
 "metadata": {
  "kernelspec": {
   "display_name": "Python 3.11.0 ('.venv': venv)",
   "language": "python",
   "name": "python3"
  },
  "language_info": {
   "codemirror_mode": {
    "name": "ipython",
    "version": 3
   },
   "file_extension": ".py",
   "mimetype": "text/x-python",
   "name": "python",
   "nbconvert_exporter": "python",
   "pygments_lexer": "ipython3",
   "version": "3.11.0"
  },
  "vscode": {
   "interpreter": {
    "hash": "71eaa566fe385e36f6a17cd041d95c99303ead46f5ef158c51eb2173e206bc3f"
   }
  }
 },
 "nbformat": 4,
 "nbformat_minor": 2
}
