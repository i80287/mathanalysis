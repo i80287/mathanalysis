{
 "cells": [
  {
   "cell_type": "code",
   "execution_count": 2,
   "metadata": {},
   "outputs": [],
   "source": [
    "import sympy\n",
    "from sympy import S, Symbol, symbols, Function, integrate, diff, Curve\n",
    "from sympy import sin as Sin\n",
    "from sympy import cos as Cos\n",
    "from sympy import pi as Pi"
   ]
  },
  {
   "cell_type": "markdown",
   "metadata": {},
   "source": [
    "## Занятие 11\n",
    "## Математический анализ\n",
    "## Применение интегралов для вычисления площади фигуры и длины дуги \n",
    "### Площадь плоской фигуры, ограниченной снизу осью ОХ, сверху параметрически заданной кривой\n",
    "$x=\\phi(t)$, $y=\\psi(t)$, $\\phi(\\alpha)=a$, $\\phi(\\beta)=b$, $\\alpha\\le t\\le\\beta$\n",
    "$$\n",
    "S=\\int_\\alpha^\\beta \\psi(t)\\phi'(t)\\,dt\n",
    "$$\n",
    "\n",
    "\n",
    "### Пример 1.\n",
    "\n",
    "Окружность с центром в начале координат можно описать  как график параметрически заданной функции\n",
    "$x = \\cos(t)$, $y = \\sin(t)$, $0 \\le t\\le 2\\pi $.\n",
    "\n",
    "Вычислим площадь части круга с центром в начале координат, нахходящуюся в первой координатной четверти, в этом случае вычисляем площадь фигуры, ограниченной параметрически заданной кривой и осьюю ОХ при $0\\le t\\le\\frac\\pi 2$\n",
    "$$\n",
    "S = \\int\\limits_0^{\\frac\\pi 2} \\sin(t)(\\cos(t))'\\,dt = -\\int\\limits_0^\\frac\\pi 2 \\sin^2(t)\\,dt\n",
    "= -\\frac 1 2\\int\\limits_0^{\\frac\\pi 2 }(1 - \\cos(2t))\\,dt = -\\frac 1 2\\left(t - \\frac 1 2\\sin(2t)\\right)\\Big|_0{}^{\\frac\\pi 2}= -\\frac \\pi 4\n",
    "$$\n",
    "Площадь получилась отрицательной, поскольку при увеличении значения параметра $t$ уменьшаются значения $x$. В таком случае нужно поменять пределы интегрирования:\n",
    "$$\n",
    "S = \\int\\limits_{\\frac\\pi 2}^0 \\sin(t)(\\cos(t))'\\,dt = \\frac{\\pi}{4}\n",
    "$$\n",
    "\n",
    "Вообще же пределы интегрирования $\\alpha$ (внизу) и $\\beta$ (вверху) расставляются так, чтобы $\\phi(\\alpha) \\le \\phi(\\beta)$."
   ]
  },
  {
   "cell_type": "code",
   "execution_count": 3,
   "metadata": {},
   "outputs": [
    {
     "data": {
      "text/latex": [
       "$\\displaystyle \\frac{\\pi}{4}$"
      ],
      "text/plain": [
       "pi/4"
      ]
     },
     "execution_count": 3,
     "metadata": {},
     "output_type": "execute_result"
    }
   ],
   "source": [
    "from sympy.abc import t\n",
    "(Sin(t)*Cos(t).diff(t)).integrate((t, Pi/2, 0))"
   ]
  },
  {
   "cell_type": "markdown",
   "metadata": {},
   "source": [
    "### Площадь плоской фигуры в полярных координатах\n",
    "Площадь фигуры, ограниченной лучами $\\phi = \\phi_1$ и $\\phi = \\phi_2$ и кривой \n",
    "$r = r(\\phi)$, $\\phi_1 \\le \\phi \\le \\phi_2$, вычисляется по формуле\n",
    "$$\n",
    "S = \\frac12\\int\\limits_{\\phi_1}^{\\phi_2}r^2(\\phi)\\,d\\phi.\n",
    "$$\n",
    "### Пример 2.\n",
    "Вычислим по этой формуле площадь четверти окружности как в примере 1, в этом случае\n",
    "фигура ограничена лучами $\\phi=0$ и $\\phi=\\pi/2$ и кривой $r=1$, поскольку все точки окружности находятся на расстоянии 1 от начала координат.\n",
    "$r = 1$, $0 \\le \\phi \\le \\pi/2$,\n",
    "$$\n",
    "S = \\frac12\\int\\limits_0^{\\pi/2}1\\,d\\phi = \\phi\\big|_0^\\frac\\pi 2 = \\frac{\\pi}{4}\n",
    "$$"
   ]
  },
  {
   "cell_type": "code",
   "execution_count": 4,
   "metadata": {},
   "outputs": [
    {
     "data": {
      "text/latex": [
       "$\\displaystyle \\frac{\\pi}{4}$"
      ],
      "text/plain": [
       "pi/4"
      ]
     },
     "execution_count": 4,
     "metadata": {},
     "output_type": "execute_result"
    }
   ],
   "source": [
    "phi = S('phi')\n",
    "S(1)/2*integrate(1, (phi, 0, Pi/2))"
   ]
  },
  {
   "cell_type": "markdown",
   "metadata": {},
   "source": [
    "Применить объектно-ориентированный подход к функции, равной 1 не получится, но можно единицу сделать символом и проинтегрировать ее таким образом:"
   ]
  },
  {
   "cell_type": "code",
   "execution_count": 5,
   "metadata": {},
   "outputs": [
    {
     "data": {
      "text/latex": [
       "$\\displaystyle \\frac{\\pi}{2}$"
      ],
      "text/plain": [
       "pi/2"
      ]
     },
     "execution_count": 5,
     "metadata": {},
     "output_type": "execute_result"
    }
   ],
   "source": [
    "S(1).integrate((phi, 0, Pi/2))"
   ]
  },
  {
   "cell_type": "markdown",
   "metadata": {},
   "source": [
    "### Длина дуги кривой $y = f(x)$, \n",
    "заключенной между точками с абсциссами $a$ и $b$\n",
    "$$\n",
    "l = \\int_a^b\\sqrt{1+(f'(x))^2}\\,dx\n",
    "$$\n",
    "### Пример 3.\n",
    "Все та же четверть окружности... $f(x) = \\sqrt{1 - x^2}$, $f'(x) = \\frac1{2\\sqrt{1 - x^2}}(-2x)$,\n",
    "$(f'(x))^2 = \\frac{4x^2}{4(1 - x^2)}=\\frac{x^2}{1 - x^2}$\n",
    "$l = \\int_0^1\\sqrt{1 + \\frac{x^2}{1-x^2}}\\,dx = \\int_0^1\\sqrt{\\frac1{1 - x^2}}\\,dx\n",
    "=\\int_0^1\\frac1{\\sqrt{1 - x^2}}\\,dx = \\arcsin x|_0^1 = \\frac\\pi2$"
   ]
  },
  {
   "cell_type": "code",
   "execution_count": 6,
   "metadata": {},
   "outputs": [
    {
     "data": {
      "text/latex": [
       "$\\displaystyle \\frac{\\pi}{2}$"
      ],
      "text/plain": [
       "pi/2"
      ]
     },
     "execution_count": 6,
     "metadata": {},
     "output_type": "execute_result"
    }
   ],
   "source": [
    "from sympy.abc import x\n",
    "(1/((1 - x**2)**S.Half)).integrate((x, 0, 1))"
   ]
  },
  {
   "cell_type": "markdown",
   "metadata": {},
   "source": [
    "Можно провести более универсальные вычисления, используя абстрактную функцию"
   ]
  },
  {
   "cell_type": "code",
   "execution_count": 7,
   "metadata": {},
   "outputs": [
    {
     "data": {
      "text/latex": [
       "$\\displaystyle \\int\\limits_{0}^{1} \\sqrt{\\left(\\frac{d}{d x} \\sqrt{1 - x^{2}}\\right)^{2} + 1}\\, dx = \\frac{\\pi}{2}$"
      ],
      "text/plain": [
       "Eq(Integral(sqrt(Derivative(sqrt(1 - x**2), x)**2 + 1), (x, 0, 1)), pi/2)"
      ]
     },
     "execution_count": 7,
     "metadata": {},
     "output_type": "execute_result"
    }
   ],
   "source": [
    "f = Function('f')\n",
    "from sympy.abc import a, b\n",
    "l = ((1+(f(x).diff(x))**2)**S.Half).integrate((x, a, b))\n",
    "l1 = l.subs({f(x): (1 - x**2)**S.Half, a: 0, b: 1})\n",
    "sympy.Eq(l1, l1.doit())"
   ]
  },
  {
   "cell_type": "markdown",
   "metadata": {},
   "source": [
    "### Длина дуги кривой, заданной параметрически\n",
    "$x=\\phi(t)$, $y=\\psi(t)$, $\\alpha\\le t\\le\\beta$, $\\dot{\\phi}^2(t)+\\dot{\\psi}^2(t)>0$\n",
    "$$\n",
    "l=\\int_\\alpha^\\beta\\sqrt{\\dot{\\phi}^2(t)+\\dot{\\psi}^2(t)}\\,dt\n",
    "$$\n",
    "\n",
    "\n",
    "### Пример 4. \n",
    "Вычислим длину верхней дуги окружности радиуса $R$ с центром в точке $(x_0, y_0)$:\n",
    "$$\n",
    "\\left\\{\n",
    "\\begin{matrix}\n",
    "x = x_0 + R\\cos(t)\\\\\n",
    "y = y_0 + R\\sin(t)\n",
    "\\end{matrix}\n",
    "\\right.\n",
    "\\qquad t \\in [0, \\pi]\n",
    "$$"
   ]
  },
  {
   "cell_type": "code",
   "execution_count": 8,
   "metadata": {},
   "outputs": [
    {
     "data": {
      "text/latex": [
       "$\\displaystyle \\pi R$"
      ],
      "text/plain": [
       "pi*R"
      ]
     },
     "execution_count": 8,
     "metadata": {},
     "output_type": "execute_result"
    }
   ],
   "source": [
    "R, x0, y0 = symbols('R x0 y0', positive=True)\n",
    "phi = x0 + R*Cos(t)\n",
    "psi = y0 + R*Sin(t)\n",
    "((phi.diff(t)**2 + psi.diff(t)**2)**S.Half).integrate((t, 0, Pi))"
   ]
  },
  {
   "cell_type": "markdown",
   "metadata": {},
   "source": [
    "### Пример 5. \n",
    "Вычислить длину кривой, заданной параметрически $x = \\cos t + t\\sin t$, $y = \\sin t - t\\cos t$, $0 \\le t \\le T$."
   ]
  },
  {
   "cell_type": "code",
   "execution_count": 9,
   "metadata": {},
   "outputs": [
    {
     "data": {
      "text/latex": [
       "$\\displaystyle \\frac{T^{2} \\sqrt{\\sin^{2}{\\left(T \\right)} + \\cos^{2}{\\left(T \\right)}}}{2}$"
      ],
      "text/plain": [
       "T**2*sqrt(sin(T)**2 + cos(T)**2)/2"
      ]
     },
     "execution_count": 9,
     "metadata": {},
     "output_type": "execute_result"
    }
   ],
   "source": [
    "t, T = symbols('t T', positive=True)\n",
    "x = Cos(t) + t*Sin(t)\n",
    "y = Sin(t) - t*Cos(t)\n",
    "res = ((x.diff(t)**2 + y.diff(t)**2)**S.Half).integrate((t, 0, T))\n",
    "res"
   ]
  },
  {
   "cell_type": "code",
   "execution_count": 10,
   "metadata": {},
   "outputs": [
    {
     "data": {
      "text/latex": [
       "$\\displaystyle \\frac{T^{2}}{2}$"
      ],
      "text/plain": [
       "T**2/2"
      ]
     },
     "execution_count": 10,
     "metadata": {},
     "output_type": "execute_result"
    }
   ],
   "source": [
    "sympy.simplify(res)"
   ]
  },
  {
   "cell_type": "markdown",
   "metadata": {},
   "source": [
    "### Кривые: класс Curve в SymPy \n",
    "Взгляд под другим углом на задачу вычисления длины кривой.\n",
    "\n",
    "В SymPy есть класс кривых Curve, кривые описываются параметрическими уравнениями, параметр всегда один, поскольку кривая - одномерный объект. \n",
    "\n",
    "Аргументы Curve: tuple из выражений для координат x и y точек кривой и tuple из параметра и его начального и конечного значений.\n",
    " \n",
    "У кривых есть атрибут длина length, воспользуемся этим инструментом для вычисления длины полуокружности из Примера 4."
   ]
  },
  {
   "cell_type": "code",
   "execution_count": 8,
   "metadata": {},
   "outputs": [
    {
     "data": {
      "text/latex": [
       "$\\displaystyle \\pi R$"
      ],
      "text/plain": [
       "pi*R"
      ]
     },
     "execution_count": 8,
     "metadata": {},
     "output_type": "execute_result"
    }
   ],
   "source": [
    "Curve((phi, psi), (t, 0, Pi)).length"
   ]
  },
  {
   "cell_type": "markdown",
   "metadata": {},
   "source": [
    "Этот способ работает и для кривой, заданной как $y=f(x)$.\n",
    "### Пример 6. \n",
    "Вычислим длину дуги параболы $y = x^2$ от $x = 0$ до $x = 2$:"
   ]
  },
  {
   "cell_type": "code",
   "execution_count": 9,
   "metadata": {},
   "outputs": [
    {
     "data": {
      "text/latex": [
       "$\\displaystyle \\frac{\\operatorname{asinh}{\\left(2 \\right)}}{4} + \\frac{\\sqrt{5}}{2}$"
      ],
      "text/plain": [
       "asinh(2)/4 + sqrt(5)/2"
      ]
     },
     "execution_count": 9,
     "metadata": {},
     "output_type": "execute_result"
    }
   ],
   "source": [
    "Curve((x, x**2), (x, 0, 1)).length"
   ]
  },
  {
   "cell_type": "markdown",
   "metadata": {},
   "source": [
    "### Длина дуги кривой, заданной в полярных координатах\n",
    "Пусть кривая задана в полярной системе координат уравнением \n",
    "$r = r(\\phi)$, $r(\\phi)$ непрерывна при $\\phi_1 \\le \\phi \\le \\phi_2$.\n",
    "\n",
    "Длина такой кривой вычисляется по формуле\n",
    "$$\n",
    "l = \\int_{\\phi_1}^{\\phi_2}\\sqrt{r^2(\\phi) + (r'(\\phi))^2}\\,d\\phi.\n",
    "$$\n",
    "\n",
    "### Пример 7.\n",
    "Кривая задана в полярной системе координат уравнением $r=\\sin\\phi$, $0\\le\\phi\\le\\pi$, на этом интервале функция $\\sin\\phi$ неотрицательна, $r'=\\cos(\\phi)$:\n",
    "$$\n",
    "l = \\int_{0}^{\\pi}\\sqrt{\\sin^2\\phi+\\cos^2\\phi}\\,d\\phi = \\int_{0}^{\\pi}1\\,d\\phi = \\pi.\n",
    "$$\n"
   ]
  },
  {
   "cell_type": "code",
   "execution_count": 10,
   "metadata": {},
   "outputs": [
    {
     "data": {
      "text/latex": [
       "$\\displaystyle \\pi$"
      ],
      "text/plain": [
       "pi"
      ]
     },
     "execution_count": 10,
     "metadata": {},
     "output_type": "execute_result"
    }
   ],
   "source": [
    "phi = S('phi')\n",
    "r = Sin(phi)\n",
    "((r**2 + r.diff(phi)**2)**S.Half).integrate((phi, 0, Pi))"
   ]
  },
  {
   "cell_type": "markdown",
   "metadata": {},
   "source": [
    "Приспособим класс кривых Curve к этой задаче, для этого заметим, что \n",
    "$$\n",
    "\\left\\{\n",
    "\\begin{matrix}\n",
    "x=r(\\phi)\\cos\\phi\\\\\n",
    "y=r(\\phi)\\sin\\phi\n",
    "\\end{matrix}\n",
    "\\right.\n",
    "$$"
   ]
  },
  {
   "cell_type": "code",
   "execution_count": 11,
   "metadata": {},
   "outputs": [
    {
     "data": {
      "text/latex": [
       "$\\displaystyle \\pi$"
      ],
      "text/plain": [
       "pi"
      ]
     },
     "execution_count": 11,
     "metadata": {},
     "output_type": "execute_result"
    }
   ],
   "source": [
    "x = r*Sin(phi)\n",
    "y = r*Cos(phi)\n",
    "Curve((x, y), (phi, 0, Pi)).length"
   ]
  }
 ],
 "metadata": {
  "kernelspec": {
   "display_name": "Python 3",
   "language": "python",
   "name": "python3"
  },
  "language_info": {
   "codemirror_mode": {
    "name": "ipython",
    "version": 3
   },
   "file_extension": ".py",
   "mimetype": "text/x-python",
   "name": "python",
   "nbconvert_exporter": "python",
   "pygments_lexer": "ipython3",
   "version": "3.7.3"
  }
 },
 "nbformat": 4,
 "nbformat_minor": 2
}
