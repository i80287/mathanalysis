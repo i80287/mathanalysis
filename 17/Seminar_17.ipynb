{
 "cells": [
  {
   "cell_type": "code",
   "execution_count": 21,
   "metadata": {},
   "outputs": [],
   "source": [
    "import sympy\n",
    "from sympy import S, Symbol, symbols, Function, dsolve, solveset, plot_implicit, integrate, diff, plot\n",
    "from sympy import sin as Sin\n",
    "from sympy import cos as Cos\n",
    "from sympy import exp as Exp\n",
    "from sympy import log as Log\n",
    "from sympy import pi as Pi\n",
    "%matplotlib inline"
   ]
  },
  {
   "cell_type": "markdown",
   "metadata": {},
   "source": [
    "## Занятие 17\n",
    "## Математический анализ\n",
    "## Интегрирование при решении обыкновенных дифференциальных уравнений\n",
    "#### Дифференциальными уравнениями\n",
    "называются такие\n",
    "уравнения, в которых неизвестными являются функции, причем в\n",
    "уравнения входят не только сами функции, но и их производные. Если\n",
    "неизвестные функции зависят от многих переменных, то то такие\n",
    "уравнения называют \n",
    "#### уравнениями в частных производных, \n",
    "если же функции зависят только от одной переменной,\n",
    "то уравнения называются \n",
    "#### обыкновенными дифференциальными уравнениями.\n",
    "Рассмотрим обыкновенное дифференциальное уравнение первого порядка, разрешенное\n",
    "относительно производной\n",
    "\\begin{align}\n",
    "u'=f(x,u),\\qquad\\qquad\\qquad\\qquad(1)\n",
    "\\end{align}\n",
    "где функция двух переменных $f(x,u)$ определена в некоторой области\n",
    "$B$.\n",
    "#### Решением обыкновенного дифференциального уравнения\n",
    "(1)  называется такая  функция одной переменной\n",
    "$u=\\phi(x)$, определенная на интервале  $(r_1;r_2)$, что при\n",
    "подстановке ее в уравнение (1) вместо $x$ получается\n",
    "тождество на всем интервале  $(r_1;r_2)$. Такая подстановка возможна\n",
    "только в том случае, если $\\phi(x)$ имеет производную на\n",
    "$(r_1;r_2)$, и если для любого $t\\in(r_1;r_2)$ точка $(t;\\phi(t))\\in\n",
    "B$.\n",
    "\n",
    "Далее будем рассматривать случай, когда множество задания функции\n",
    "$f(x,u)$ является открытым прямоугольником:\n",
    "\\begin{align}\n",
    "B=\\{(x,u):\\ r_1<x<r_2,\\ a<u<b\\},\n",
    "\\end{align}\n",
    "причем сама $f(x,u)$ и ее частная производная $\\partial\n",
    "f(x,u)/\\partial u$  являются непрерывными функциями на $B$.\n",
    "\n",
    "Каждое решение $u=\\phi(x)$ уравнения (1) в плоскости\n",
    "$XOU$ изображается некоторой кривой, тангенс угла наклона\n",
    "касательной к которой в каждой точке $(x;u)$ этой кривой равен\n",
    "значению функции $f(x,u)$ в этой точке. Кривая, изображающая решение\n",
    "уравнения (1) называется \\textit{\\textbf{интегральной\n",
    "кривой}} уравнения (1).\n",
    "\n",
    "Поскольку $f(x,u)$ и  $\\partial f(x,u)/\\partial u$   непрерывны\n",
    " на открытом прямоугольнике $B$, то для любой точки $(x^*,u^*)$ из\n",
    " $B$ существует единственное решение $u=\\phi(x)$ уравнения\n",
    "(1), определенное в интервале $(c;d)\\in(r_1;r_2)$,\n",
    "удовлетворяющее условию\n",
    "\\begin{align}\n",
    "\\phi(x^*)=u^*.\n",
    "\\end{align}\n",
    "\n",
    "Другими словами, через каждую точку $(x^*,u^*)\\in B$ проходит\n",
    "единственная интегральная кривая уравнения (1) (если две\n",
    "интегральные кривые имеют общую точку, то считаем их не отдельными\n",
    "интегральными кривыми, а частями одной интегральной кривой,\n",
    "являющейся их объединением).\n",
    "\n",
    "Рассмотрим уравнение\n",
    "\\begin{align}\n",
    "u'=\\frac{3x^2}{2u},\n",
    "\\end{align}\n",
    "в открытом прямоугольнике $B=\\{(x,u):\\ 0<x<5,\\ 0<u<3\\}$. Решение\n",
    "этого уравнения имеет вид\n",
    "\\begin{align}\n",
    "u=\\sqrt{x^3+C},\n",
    "\\end{align}\n",
    "где $C$ --- некоторая постоянная. Пусть интегральная кривая\n",
    "уравнения проходит через точку $(1;2)\\in B$, тогда\n",
    "\\begin{align}\n",
    "2=\\sqrt{1+C},\\quad C=3,\n",
    "\\end{align}\n",
    "поэтому уравнение такой интегральной кривой\n",
    "\\begin{align}\n",
    "u=\\sqrt{x^3+3},\n",
    "\\end{align}\n",
    "причем $x\\in(0;\\sqrt[3]{6})$, поскольку при других значения $x$\n",
    "кривая выходит за пределы заданного прямоугольника $B$.\n",
    "\n",
    "Для решения обыкновенных дифференциальных уравнений численными\n",
    "методами придется рассматривать случай, когда область $\\bar B$\n",
    "замкнута. Будем считать, что $f(x,u)$  имеет непрерывную частную\n",
    "производную в замкнутой области $\\bar B$, если в некоторой открытой\n",
    "области $B$, содержащей $\\bar B$, существует функция $f^*(x,u)$,\n",
    "совпадающая с $f(x,u)$ на  $\\bar B$, которая имеет непрерывную\n",
    "частную производную в  $B$, причем значения частной производной\n",
    "функции $f(x,u)$ в граничных точках $\\bar B$ примем равными\n",
    "значениям частной производной функции $f^*(x,u)$ в этих точках.\n",
    "\n",
    "### ОДУ с разделяющимися переменными\n",
    "Рассмотрим ОДУ вида \n",
    "$$\n",
    "f(y)y'=g(x).\n",
    "$$\n",
    "Такое ОДУ можно переписать в виде\n",
    "$$\n",
    "f(y)\\frac{dy}{dx}=g(x),\\qquad \\Rightarrow \\qquad f(y)\\,dy=g(x)\\,dx\n",
    "$$\n",
    "Интегрируем обе части, левую по $y$, правую по $x$:\n",
    "$$\n",
    "\\int f(y)\\,dy=\\int g(x)\\,dx\n",
    "$$\n",
    "после вычисления интегралов получаем уравнение, не содержащее производной,\n",
    "оно называется общим интегралом ОДУ.\n",
    "\n",
    "Например, решим ОДУ\n",
    "$$\n",
    "y'\\sin y=x^2,\n",
    "$$\n",
    "перепишем его в виде\n",
    "$$\n",
    "\\sin y\\,dy=x^2\\,dx,\n",
    "$$\n",
    "Проинтегрируем обе части:\n",
    "$$\n",
    "\\int \\sin y\\,dy=\\int x^2\\,dx,\n",
    "$$\n",
    "вычисляя интегралы, получим:\n",
    "$$\n",
    "-cos y=\\frac{x^3}{3}+C\n",
    "$$\n",
    "это общий интеграл этого ОДУ.\n",
    "\n",
    "Можем выразить $y$:\n",
    "$$\n",
    "y=\\pm \\arccos{\\frac{-x^3}{3}+C} +\\pi n,\\qquad n\\in \\bf{Z}.\n",
    "$$\n",
    "Здесь нужно учитывать область определения $\\arccos$.\n",
    "### Задача Коши\n",
    "Сформулируем задачу нахождения решения уравнения (1)\n",
    "таким образом, чтобы это решение было единственным.\n",
    "\n",
    "Найти решение дифференциального уравнения (1) на отрезке\n",
    "$[x_0,x_0+l]$, удовлетворяющее начальному условию\n",
    "\\begin{align}\n",
    "u(x_0)=u_0,\\quad a<u_0<b,\\qquad\\qquad\\qquad\\qquad(2)\n",
    "\\end{align}\n",
    "где $u_0$  --- заданное число,  $f(x,u)$ и ее частная производная\n",
    "$\\partial f(x,u)/\\partial u$   непрерывны на замкнутом\n",
    "прямоугольнике $B=\\{(x,u):\\ x_0\\le x\\le x_0+l,\\ a\\le u\\le b\\}$.\n",
    "#### Решением задачи Коши\n",
    "является функция одной\n",
    "переменной $u=\\phi(x)$, имеющая непрерывную производную на отрезке\n",
    "$[x_0,x_0+l]$, удовлетворяющая уравнению (1) и\n",
    "начальному условию (2).\n",
    "### Пример 1.\n",
    "ОДУ с разделяющимися переменными\n",
    "$$\n",
    "e^{2y-3}y'=x.\n",
    "$$\n",
    "перепишем его в виде\n",
    "$$\n",
    "e^{2y-3}\\,dy=x\\,dx,\n",
    "$$\n",
    "Проинтегрируем обе части:\n",
    "$$\n",
    "\\int e^{2y-3}\\,dy=\\int x\\,dx,\n",
    "$$\n",
    "вычисляя интегралы, получим:\n",
    "$$\n",
    "\\frac{ e^{2y-3}}{2}=\\frac{x^2}{2}+C,\n",
    "$$\n",
    "это общий интеграл этого ОДУ."
   ]
  },
  {
   "cell_type": "code",
   "execution_count": 22,
   "metadata": {},
   "outputs": [
    {
     "data": {
      "text/latex": [
       "$\\displaystyle \\frac{e^{2 y - 3}}{2} = C + \\frac{x^{2}}{2}$"
      ],
      "text/plain": [
       "Eq(exp(2*y - 3)/2, C + x**2/2)"
      ]
     },
     "execution_count": 22,
     "metadata": {},
     "output_type": "execute_result"
    }
   ],
   "source": [
    "x, y = symbols('x y', real=True)\n",
    "C = Symbol('C', positive=True)\n",
    "ODE1 = sympy.Eq(integrate(Exp(2*y - 3), y), integrate(x, x) + C)\n",
    "ODE1"
   ]
  },
  {
   "cell_type": "markdown",
   "metadata": {},
   "source": [
    "Можем выразить $y$ с помощью solveset:"
   ]
  },
  {
   "cell_type": "code",
   "execution_count": null,
   "metadata": {},
   "outputs": [
    {
     "data": {
      "text/latex": [
       "$\\displaystyle y = \\frac{\\log{\\left(2 C + x^{2} \\right)}}{2} + \\frac{3}{2}$"
      ],
      "text/plain": [
       "Eq(y, log(2*C + x**2)/2 + 3/2)"
      ]
     },
     "execution_count": 23,
     "metadata": {},
     "output_type": "execute_result"
    }
   ],
   "source": [
    "ODE1y = sympy.Eq(y, *solveset(ODE1, y, domain=S.Reals))\n",
    "ODE1y"
   ]
  },
  {
   "cell_type": "markdown",
   "metadata": {},
   "source": [
    "Заметим, что, поскольку $C$ - произвольное число, то $2C$ для простоты корректно заменить на $C$.\n",
    "\n",
    "Отметим, что для удобства вычислений было введено ограничение на значения $C$, а именно, positive=True.\n",
    "На самом деле $C$ может принимать и отрицательные значения, но в этом случае сужается область определения решения, поскольку в соответствии с облатстью определения логарифмической функции $x^2 + C > 0$. \n",
    "\n",
    "Ответ:\n",
    "$$\n",
    "y=\\frac{\\ln(x^2+C)+3}{2}.\n",
    "$$\n",
    "### Пример 2. \n",
    "Решить аналитически задачу Коши\n",
    "$$\n",
    "y\\cdot y'(1 + e^x) = e^x,\\qquad y(0) = 1.\n",
    "$$\n",
    "Найти общий интеграл, учесть начальное условие. \n",
    "Построить график $y$, пользуясь plot_implicit."
   ]
  },
  {
   "cell_type": "code",
   "execution_count": 32,
   "metadata": {},
   "outputs": [
    {
     "data": {
      "text/latex": [
       "$\\displaystyle \\frac{y^{2}}{2} = C + \\log{\\left(e^{x} + 1 \\right)}$"
      ],
      "text/plain": [
       "Eq(y**2/2, C + log(exp(x) + 1))"
      ]
     },
     "metadata": {},
     "output_type": "display_data"
    }
   ],
   "source": [
    "x, y, C = symbols('x y C', real=True)\n",
    "ODE2 = sympy.Eq(integrate(y, y), integrate(Exp(x)/(1 + Exp(x)), x) + C)\n",
    "display(ODE2)"
   ]
  },
  {
   "cell_type": "markdown",
   "metadata": {},
   "source": [
    "Подставим в левую и правую части полученного уравнения начальные значения $x = 0$, $y = 1$ и выразим $C$, используя solveset:"
   ]
  },
  {
   "cell_type": "code",
   "execution_count": 33,
   "metadata": {},
   "outputs": [
    {
     "data": {
      "text/latex": [
       "$\\displaystyle \\left\\{\\frac{1}{2} - \\log{\\left(2 \\right)}\\right\\}$"
      ],
      "text/plain": [
       "FiniteSet(1/2 - log(2))"
      ]
     },
     "execution_count": 33,
     "metadata": {},
     "output_type": "execute_result"
    }
   ],
   "source": [
    "x0y0 = {x: 0, y: 1}\n",
    "Cval = solveset(sympy.Eq(ODE2.lhs.subs(x0y0), ODE2.rhs.subs(x0y0)), C)\n",
    "Cval"
   ]
  },
  {
   "cell_type": "markdown",
   "metadata": {},
   "source": [
    "Теперь в общий интеграл подставим найденной значение константы $C$ и построим график с помощью plot_implicit."
   ]
  },
  {
   "cell_type": "code",
   "execution_count": 30,
   "metadata": {},
   "outputs": [
    {
     "data": {
      "image/png": "[encoded data removed]",
      "text/plain": [
       "<Figure size 432x288 with 1 Axes>"
      ]
     },
     "metadata": {
      "needs_background": "light"
     },
     "output_type": "display_data"
    },
    {
     "data": {
      "text/plain": [
       "<sympy.plotting.plot.Plot at 0x27d01722dd8>"
      ]
     },
     "execution_count": 30,
     "metadata": {},
     "output_type": "execute_result"
    }
   ],
   "source": [
    "plot_implicit(sympy.Eq(ODE2.lhs, ODE2.rhs.subs(C, *Cval)), (x, -2, 5), (y, -3, 3))"
   ]
  },
  {
   "cell_type": "markdown",
   "metadata": {},
   "source": [
    "### Сеточные функции, сеточные нормы\n",
    "\n",
    "Зададим на отрезке $[x_0,x_0+l]$ равномерную сетку $\\omega_h$, т.е.\n",
    "множество точек $x_j=x_0+jh$, $h=l/N$, $N\\in\\mathbb{N}$,\n",
    "$j=0,1,\\ldots,N$. Определим на сетке функцию $\\phi$, обозначим\n",
    "$\\phi_j=\\phi(x_j)$, $j=0,1,\\ldots,N$.\n",
    "\n",
    "Норму сеточной функции $\\phi$ определим так:\n",
    "\\begin{align*}\n",
    "|| \\phi ||_h=\\max_{0\\le j\\le N}|\\phi_j|.\n",
    "\\end{align*}\n",
    "\n",
    "Будем использовать сеточную норму как характеристику отклонения\n",
    "сеточных функций. Заметим, что каждой функции $\\phi(x)$,\n",
    "определенной на отрезке $[x_0,x_0+l]$, соответствует сеточная\n",
    "функция $\\phi$.\n",
    "\n",
    "### Метод Эйлера\n",
    "\n",
    "Приближенное решение $y$ задачи Коши\n",
    "\\begin{align}\n",
    "&u'=f(x,u),\\label{dif_KK_1}\\\\\n",
    "&u(x_0)=u_0,\\quad a<u_0<b,\\qquad\\qquad\\qquad\\qquad(3)\n",
    "\\end{align}\n",
    "будем искать в виде сеточной функции, определенной на равномерной\n",
    "сетке $\\omega_h=\\{x_j=x_0+jh,\\ j=0,1,\\ldots,N\\}$, $h=l/N$,\n",
    "$N\\in\\mathbb{N}$.\n",
    "\n",
    "Идея метода состоит в замене производной ее разностным аналогом:\n",
    "$$\n",
    "y'=\\lim_{h \\to 0}\\frac{y(x+h)=y(x)}{h}\n",
    "\\approx \\frac{y(x+h)=y(x)}{h}.\n",
    "$$\n",
    "Отсюда получаем\n",
    "$$\n",
    "\\frac{dy}{dx}\\approx \\frac{y(x+h)-y(x)}{h},\n",
    "$$\n",
    "следовательно, взяв из ОДУ $u'=f(x,u)$ ($y'\\approx f(x,y)$), получим\n",
    "$$\n",
    "y(x+h)=y(x)+f(x,y)h.\\qquad\\qquad\\qquad\\qquad(4)\n",
    "$$\n",
    "Далее из начального условия имеем $y_0=y(x_0)=u_0$, где $x_0$, $u_0$ заданные в условии числа. Это позволяет нам определить функцию $y(x)$, являющуюся решением ОДУ, в точке $x_0$. Для определения значения $y(x)$ в соседнем узле сетки $x_1=x_0+h$ воспользуемся формулой (4), получим\n",
    "$$\n",
    "y_1=y_0+f(x_0,y_0)h.\n",
    "$$\n",
    "\n",
    "Значения $y$ на сетке $\\omega_h$ вычисляются по схеме\n",
    "\\begin{align*}\n",
    "y_0=u_0,\\\\\n",
    "y_{k+1}=y_k+h f(x_k,y_k),\\quad k=0,1,\\ldots,N,\n",
    "\\end{align*}\n",
    "далее для простоты будем считать, что сеточная функция $y$ целиком\n",
    "находится в прямоугольнике $\\bar B$, т.е.\n",
    "\\begin{align*}\n",
    "a\\le y_k\\le b,\\quad k=0,1,\\ldots,N.\n",
    "\\end{align*}\n",
    "\n",
    "Для оценки точности приближенного решения обозначим погрешность\n",
    "приближенного решения $\\epsilon_k=u_k-y_k$, $k=0,1,\\ldots,N$, где $u_k$\n",
    "--- сеточная функция, совпадающая на $\\omega_h$ с точным решением\n",
    "$u$. Так мы определили сеточную функцию $\\epsilon$, описывающую\n",
    "отклонение приближенного решения от точного на сетке $\\omega_h$.\n",
    "\n",
    "При отсутствии погрешности округления\n",
    "\\begin{align*}\n",
    "&||\\epsilon||_h\\le \\frac{h}{2}\\biggl(\\frac{M_x}{M_u}+M_0\\biggr)(e^{lM_2}-1),\\\\\n",
    "&M_0=\\max_{\\bar B}|f(x,u)|,\\quad M_x=\\max_{\\bar B}|f'_x(x,u)|,\\quad\n",
    "M_u=\\max_{\\bar B}|f'_u(x,u)|.\n",
    "\\end{align*}\n",
    "\n",
    "Таким образом, метод Эйлера является методом первого порядка\n",
    "точности относительно $h$.\n",
    "\n",
    "\n",
    "### Метод Рунге-Кутта (\"предиктор-корректор\")\n",
    "\n",
    "\n",
    "Приближенное решение $y$ задачи Коши (1),\n",
    "(2) ищем в виде сеточной функции, определенной на\n",
    "равномерной сетке $\\omega_h=\\{x_j=x_0+jh,\\ j=0,1,\\ldots,N\\}$,\n",
    "$h=l/N$, $N\\in\\mathbb{N}$.\n",
    "\n",
    "Значения $y$ на сетке $\\omega_h$ вычисляются по схеме\n",
    "\\begin{align*}\n",
    "&y_0=u_0,\\\\\n",
    "&y^*_{k+1}=y_k+h f(x_k,y_k),\\\\\n",
    "&y_{k+1}=y_k+h \\frac{f(x_k,y_k)+f(x_{k+1},y^*_{k+1})}{2},\\quad\n",
    "k=0,1,\\ldots,N.\n",
    "\\end{align*}\n",
    "\n",
    "Идея такая: сначала находим значение $y$ в соседнем узле сетки $x_{k+1}$ по методу Эйлера,\n",
    "а потом вычисляем производную в этом узле, находим среднее значение производных в $x_k$ и $x_{k+1}$, причем в формулу производной в $x_{k+1}$ подставляем найденное по методу Эйлера значение $y^*_{k+1}$. Это среднее значение производной используем для получения более точного \n",
    "значения неизвестной функции $y_{k+1}$ в $x_{k+1}$.\n",
    "\n",
    "Погрешность $||\\epsilon||_h$ приближенного решения в этой схеме равна\n",
    "$O(h^2)$, т.е. метод Рунге-Кутта имеет второй порядок точности\n",
    "относительно $h$.\n"
   ]
  },
  {
   "cell_type": "code",
   "execution_count": null,
   "metadata": {},
   "outputs": [],
   "source": []
  }
 ],
 "metadata": {
  "kernelspec": {
   "display_name": "Python 3",
   "language": "python",
   "name": "python3"
  },
  "language_info": {
   "codemirror_mode": {
    "name": "ipython",
    "version": 3
   },
   "file_extension": ".py",
   "mimetype": "text/x-python",
   "name": "python",
   "nbconvert_exporter": "python",
   "pygments_lexer": "ipython3",
   "version": "3.7.3"
  }
 },
 "nbformat": 4,
 "nbformat_minor": 2
}
