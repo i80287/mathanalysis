{
 "cells": [
  {
   "cell_type": "markdown",
   "metadata": {},
   "source": [
    "## Занятие 7\n",
    "## Математический анализ\n",
    "## Исследование функции с sympy.calculus.util и sympy.calculus.singularities"
   ]
  },
  {
   "cell_type": "code",
   "execution_count": 1,
   "metadata": {},
   "outputs": [],
   "source": [
    "import sympy\n",
    "from sympy import S, Interval, plot\n",
    "from sympy import sin as Sin\n",
    "from sympy import pi as Pi\n",
    "from sympy.calculus.util import continuous_domain, function_range, periodicity, stationary_points, maximum, minimum, AccumBounds\n",
    "from sympy.calculus.singularities import singularities, is_increasing, is_decreasing, is_monotonic\n",
    "from sympy.calculus.singularities import is_strictly_increasing, is_strictly_decreasing\n",
    "%matplotlib inline"
   ]
  },
  {
   "cell_type": "markdown",
   "metadata": {},
   "source": [
    "Анализ функции в sympy автоматизируется с помощью пакета sympy.calculus, в частности sympy.calculus.util и sympy.calculus.singularities.\n",
    "\n",
    "В sympy.calculus реализованы функции, позволяющие находить область определения функции, сингулярные точки (точки, в которых функция не существует), область значений, интервал значений непрерывной функции на некотором интервале, стационарные точки и точки экстремума, а также определять, является ли функция монотонной на заданном интервале. \n",
    "\n",
    "Класс sympy.calculus.util.AccumulationBounds служит для вычисления интервала значений непрерывной функции на некотором промежутке, быть может, бесконечном. У экземпляров этого класса есть свойства delta, max, min, mid, представляющие соотвественно разность наибольшего и наименьшего значения, наибольшее, наименьшее значения и середину интервала между наибольшим и наименьшим значениями.\n",
    "\n",
    "## Схема анализа функции.\n",
    "1. Область определения\n",
    "\n",
    "sympy.calculus.util.continuous_domain(f, symbol, domain)\n",
    "\n",
    "f - выражение, описывающее функцию, \n",
    "\n",
    "symbol - переменная, от которой зависит исследуемая функция,\n",
    "\n",
    "domain - область значений переменной, на которой рассматривается функция,\n",
    "\n",
    "если функция рассматривается на всей вещественной прямой, то domain=S.Reals\n",
    "\n",
    "Сингулярные точки (точки, в которых функция не существует) находятся с помощью\n",
    "\n",
    "sympy.calculus.singularities.singularities(f, symbol, domain=None)\n",
    "\n",
    "2. Область значений\n",
    "\n",
    "sympy.calculus.util.function_range(f, symbol, domain)\n",
    "\n",
    "3. Периодичность\n",
    "\n",
    "sympy.calculus.util.periodicity(f, symbol, check=False)\n",
    "\n",
    "4. Стационарные точки \n",
    "\n",
    "sympy.calculus.util.stationary_points(f, symbol, domain=Reals)\n",
    "\n",
    "5. Точки экстремума\n",
    "\n",
    "sympy.calculus.util.maximum(f, symbol, domain=Reals)\n",
    "\n",
    "sympy.calculus.util.minimum(f, symbol, domain=Reals)\n",
    "\n",
    "6. Монотонность\n",
    "\n",
    "sympy.calculus.singularities.is_decreasing(f, interval=Reals, symbol=None)\n",
    "\n",
    "sympy.calculus.singularities.is_increasing(f, interval=Reals, symbol=None)\n",
    "\n",
    "sympy.calculus.singularities.is_monotonic(f, interval=Reals, symbol=None)\n",
    "\n",
    "sympy.calculus.singularities.is_strictly_decreasing(f, interval=Reals, symbol=None)\n",
    "\n",
    "sympy.calculus.singularities.is_strictly_increasing(f, interval=Reals, symbol=None)\n",
    "\n",
    "7. Минимальное и максимальное значение функции на интервале \n",
    "\n",
    "sympy.calculus.util.AccumulationBounds(min, max)\n",
    "\n",
    "Мы будем далее использовать принятое для AccumulationBounds сокращение AccumBounds\n",
    "\n",
    "Свойства: delta, max, min, mid\n",
    "\n",
    "### Пример.  Анализ функции и построение графика.\n",
    "$f(x) = \\frac{1}{\\sin(2x)}$.\n",
    "\n",
    "###### 1. Область определения\n",
    "\n",
    "Для того, чтобы использовать continuous_domain из sympy.calculus.util\n",
    "\n",
    "from sympy.calculus.util import continuous_domain"
   ]
  },
  {
   "cell_type": "code",
   "execution_count": 2,
   "metadata": {},
   "outputs": [
    {
     "data": {
      "text/latex": [
       "$\\displaystyle \\mathbb{R} \\setminus \\left(\\left\\{2 n \\pi\\; |\\; n \\in \\mathbb{Z}\\right\\} \\cup \\left\\{2 n \\pi + \\pi\\; |\\; n \\in \\mathbb{Z}\\right\\} \\cup \\left\\{2 n \\pi + \\frac{\\pi}{2}\\; |\\; n \\in \\mathbb{Z}\\right\\} \\cup \\left\\{2 n \\pi + \\frac{3 \\pi}{2}\\; |\\; n \\in \\mathbb{Z}\\right\\}\\right)$"
      ],
      "text/plain": [
       "Complement(Reals, Union(ImageSet(Lambda(_n, 2*_n*pi + pi), Integers), ImageSet(Lambda(_n, 2*_n*pi), Integers), ImageSet(Lambda(_n, 2*_n*pi + pi/2), Integers), ImageSet(Lambda(_n, 2*_n*pi + 3*pi/2), Integers)))"
      ]
     },
     "execution_count": 2,
     "metadata": {},
     "output_type": "execute_result"
    }
   ],
   "source": [
    "from sympy.abc import x\n",
    "f = 1/Sin(2*x)\n",
    "D = continuous_domain(f, x, S.Reals)\n",
    "D"
   ]
  },
  {
   "cell_type": "markdown",
   "metadata": {},
   "source": [
    "Сингулярные точки (точки, где функция не определена)"
   ]
  },
  {
   "cell_type": "code",
   "execution_count": 3,
   "metadata": {},
   "outputs": [
    {
     "data": {
      "text/latex": [
       "$\\displaystyle \\left\\{2 n \\pi\\; |\\; n \\in \\mathbb{Z}\\right\\} \\cup \\left\\{2 n \\pi + \\pi\\; |\\; n \\in \\mathbb{Z}\\right\\} \\cup \\left\\{2 n \\pi + \\frac{\\pi}{2}\\; |\\; n \\in \\mathbb{Z}\\right\\} \\cup \\left\\{2 n \\pi + \\frac{3 \\pi}{2}\\; |\\; n \\in \\mathbb{Z}\\right\\}$"
      ],
      "text/plain": [
       "Union(ImageSet(Lambda(_n, 2*_n*pi + pi), Integers), ImageSet(Lambda(_n, 2*_n*pi), Integers), ImageSet(Lambda(_n, 2*_n*pi + pi/2), Integers), ImageSet(Lambda(_n, 2*_n*pi + 3*pi/2), Integers))"
      ]
     },
     "execution_count": 3,
     "metadata": {},
     "output_type": "execute_result"
    }
   ],
   "source": [
    "singularities(f, x)"
   ]
  },
  {
   "cell_type": "markdown",
   "metadata": {},
   "source": [
    "###### 2. Область значений\n",
    "sympy.calculus.util.function_range(f, symbol, domain)"
   ]
  },
  {
   "cell_type": "code",
   "execution_count": 4,
   "metadata": {},
   "outputs": [
    {
     "data": {
      "text/latex": [
       "$\\displaystyle \\left(-\\infty, -1\\right] \\cup \\left[1, \\infty\\right)$"
      ],
      "text/plain": [
       "Union(Interval(-oo, -1), Interval(1, oo))"
      ]
     },
     "execution_count": 4,
     "metadata": {},
     "output_type": "execute_result"
    }
   ],
   "source": [
    "function_range(f, x, S.Reals)"
   ]
  },
  {
   "cell_type": "markdown",
   "metadata": {},
   "source": [
    "###### 3. Периодичность\n",
    "sympy.calculus.util.periodicity(f, symbol, check=False)"
   ]
  },
  {
   "cell_type": "code",
   "execution_count": 5,
   "metadata": {},
   "outputs": [
    {
     "data": {
      "text/latex": [
       "$\\displaystyle \\pi$"
      ],
      "text/plain": [
       "pi"
      ]
     },
     "execution_count": 5,
     "metadata": {},
     "output_type": "execute_result"
    }
   ],
   "source": [
    "periodicity(f, x, check=False)"
   ]
  },
  {
   "cell_type": "markdown",
   "metadata": {},
   "source": [
    "Значит, функция периодична с периодом $\\pi$.\n",
    "###### 4. Стационарные точки\n",
    "sympy.calculus.util.stationary_points(f, symbol, domain=Reals)"
   ]
  },
  {
   "cell_type": "code",
   "execution_count": 6,
   "metadata": {},
   "outputs": [
    {
     "data": {
      "text/latex": [
       "$\\displaystyle \\left(\\left\\{2 n \\pi + \\frac{5 \\pi}{4}\\; |\\; n \\in \\mathbb{Z}\\right\\} \\setminus \\left(\\left\\{2 n \\pi\\; |\\; n \\in \\mathbb{Z}\\right\\} \\cup \\left\\{2 n \\pi + \\pi\\; |\\; n \\in \\mathbb{Z}\\right\\} \\cup \\left\\{2 n \\pi + \\frac{\\pi}{2}\\; |\\; n \\in \\mathbb{Z}\\right\\} \\cup \\left\\{2 n \\pi + \\frac{3 \\pi}{2}\\; |\\; n \\in \\mathbb{Z}\\right\\}\\right)\\right) \\cup \\left(\\left\\{2 n \\pi + \\frac{3 \\pi}{4}\\; |\\; n \\in \\mathbb{Z}\\right\\} \\setminus \\left(\\left\\{2 n \\pi\\; |\\; n \\in \\mathbb{Z}\\right\\} \\cup \\left\\{2 n \\pi + \\pi\\; |\\; n \\in \\mathbb{Z}\\right\\} \\cup \\left\\{2 n \\pi + \\frac{\\pi}{2}\\; |\\; n \\in \\mathbb{Z}\\right\\} \\cup \\left\\{2 n \\pi + \\frac{3 \\pi}{2}\\; |\\; n \\in \\mathbb{Z}\\right\\}\\right)\\right) \\cup \\left(\\left\\{2 n \\pi + \\frac{7 \\pi}{4}\\; |\\; n \\in \\mathbb{Z}\\right\\} \\setminus \\left(\\left\\{2 n \\pi\\; |\\; n \\in \\mathbb{Z}\\right\\} \\cup \\left\\{2 n \\pi + \\pi\\; |\\; n \\in \\mathbb{Z}\\right\\} \\cup \\left\\{2 n \\pi + \\frac{\\pi}{2}\\; |\\; n \\in \\mathbb{Z}\\right\\} \\cup \\left\\{2 n \\pi + \\frac{3 \\pi}{2}\\; |\\; n \\in \\mathbb{Z}\\right\\}\\right)\\right) \\cup \\left(\\left\\{2 n \\pi + \\frac{\\pi}{4}\\; |\\; n \\in \\mathbb{Z}\\right\\} \\setminus \\left(\\left\\{2 n \\pi\\; |\\; n \\in \\mathbb{Z}\\right\\} \\cup \\left\\{2 n \\pi + \\pi\\; |\\; n \\in \\mathbb{Z}\\right\\} \\cup \\left\\{2 n \\pi + \\frac{\\pi}{2}\\; |\\; n \\in \\mathbb{Z}\\right\\} \\cup \\left\\{2 n \\pi + \\frac{3 \\pi}{2}\\; |\\; n \\in \\mathbb{Z}\\right\\}\\right)\\right)$"
      ],
      "text/plain": [
       "Union(Complement(ImageSet(Lambda(_n, 2*_n*pi + 5*pi/4), Integers), Union(ImageSet(Lambda(_n, 2*_n*pi + pi), Integers), ImageSet(Lambda(_n, 2*_n*pi), Integers), ImageSet(Lambda(_n, 2*_n*pi + pi/2), Integers), ImageSet(Lambda(_n, 2*_n*pi + 3*pi/2), Integers))), Complement(ImageSet(Lambda(_n, 2*_n*pi + 3*pi/4), Integers), Union(ImageSet(Lambda(_n, 2*_n*pi + pi), Integers), ImageSet(Lambda(_n, 2*_n*pi), Integers), ImageSet(Lambda(_n, 2*_n*pi + pi/2), Integers), ImageSet(Lambda(_n, 2*_n*pi + 3*pi/2), Integers))), Complement(ImageSet(Lambda(_n, 2*_n*pi + 7*pi/4), Integers), Union(ImageSet(Lambda(_n, 2*_n*pi + pi), Integers), ImageSet(Lambda(_n, 2*_n*pi), Integers), ImageSet(Lambda(_n, 2*_n*pi + pi/2), Integers), ImageSet(Lambda(_n, 2*_n*pi + 3*pi/2), Integers))), Complement(ImageSet(Lambda(_n, 2*_n*pi + pi/4), Integers), Union(ImageSet(Lambda(_n, 2*_n*pi + pi), Integers), ImageSet(Lambda(_n, 2*_n*pi), Integers), ImageSet(Lambda(_n, 2*_n*pi + pi/2), Integers), ImageSet(Lambda(_n, 2*_n*pi + 3*pi/2), Integers))))"
      ]
     },
     "execution_count": 6,
     "metadata": {},
     "output_type": "execute_result"
    }
   ],
   "source": [
    "stationary_points(f, x)"
   ]
  },
  {
   "cell_type": "markdown",
   "metadata": {},
   "source": [
    "###### 5. Максимальное и минимальное значения функции\n",
    "maximum(f, symbol, domain=Reals)\n",
    "minimum(f, symbol, domain=Reals)"
   ]
  },
  {
   "cell_type": "code",
   "execution_count": 7,
   "metadata": {},
   "outputs": [
    {
     "data": {
      "text/latex": [
       "$\\displaystyle \\infty$"
      ],
      "text/plain": [
       "oo"
      ]
     },
     "metadata": {},
     "output_type": "display_data"
    },
    {
     "data": {
      "text/latex": [
       "$\\displaystyle -\\infty$"
      ],
      "text/plain": [
       "-oo"
      ]
     },
     "metadata": {},
     "output_type": "display_data"
    }
   ],
   "source": [
    "display(maximum(f, x), minimum(f, x))"
   ]
  },
  {
   "cell_type": "markdown",
   "metadata": {},
   "source": [
    "###### 6. Монотонность"
   ]
  },
  {
   "cell_type": "code",
   "execution_count": 8,
   "metadata": {},
   "outputs": [
    {
     "data": {
      "text/plain": [
       "False"
      ]
     },
     "metadata": {},
     "output_type": "display_data"
    },
    {
     "data": {
      "text/plain": [
       "False"
      ]
     },
     "metadata": {},
     "output_type": "display_data"
    },
    {
     "data": {
      "text/plain": [
       "False"
      ]
     },
     "metadata": {},
     "output_type": "display_data"
    },
    {
     "data": {
      "text/plain": [
       "False"
      ]
     },
     "metadata": {},
     "output_type": "display_data"
    },
    {
     "data": {
      "text/plain": [
       "False"
      ]
     },
     "metadata": {},
     "output_type": "display_data"
    }
   ],
   "source": [
    "display(is_decreasing(f),\n",
    "is_increasing(f),\n",
    "is_monotonic(f),\n",
    "is_strictly_decreasing(f),\n",
    "is_strictly_increasing(f))"
   ]
  },
  {
   "cell_type": "markdown",
   "metadata": {},
   "source": [
    "###### 7. Минимальное и максимальное значение функции на интервале \n",
    "\n",
    "Поскольку наша функция принимает сколь угодно большие значения, положительные и отрицательные, то нет смысла искать минимальное значение и т.п.\n",
    "\n",
    "Рассмотрим функцию на интервале $[\\pi/6, \\pi/3]$, для этого интервала найдем интервал значений функции, ее максимальное, минимальное значения, длину и середину интервала от минимального до максимального значения функции.\n",
    "\n",
    "Свойства: delta, max, min, mid"
   ]
  },
  {
   "cell_type": "code",
   "execution_count": 9,
   "metadata": {},
   "outputs": [
    {
     "data": {
      "text/latex": [
       "$\\displaystyle \\left\\langle 1, \\frac{2 \\sqrt{3}}{3}\\right\\rangle$"
      ],
      "text/plain": [
       "AccumBounds(1, 2*sqrt(3)/3)"
      ]
     },
     "metadata": {},
     "output_type": "display_data"
    },
    {
     "data": {
      "text/latex": [
       "$\\displaystyle \\frac{2 \\sqrt{3}}{3}$"
      ],
      "text/plain": [
       "2*sqrt(3)/3"
      ]
     },
     "metadata": {},
     "output_type": "display_data"
    },
    {
     "data": {
      "text/latex": [
       "$\\displaystyle 1$"
      ],
      "text/plain": [
       "1"
      ]
     },
     "metadata": {},
     "output_type": "display_data"
    },
    {
     "data": {
      "text/latex": [
       "$\\displaystyle -1 + \\frac{2 \\sqrt{3}}{3}$"
      ],
      "text/plain": [
       "-1 + 2*sqrt(3)/3"
      ]
     },
     "metadata": {},
     "output_type": "display_data"
    },
    {
     "data": {
      "text/latex": [
       "$\\displaystyle \\frac{1}{2} + \\frac{\\sqrt{3}}{3}$"
      ],
      "text/plain": [
       "1/2 + sqrt(3)/3"
      ]
     },
     "metadata": {},
     "output_type": "display_data"
    }
   ],
   "source": [
    "f_AccB = f.subs(x, AccumBounds(Pi/6, Pi/3))\n",
    "display(f_AccB, f_AccB.max, f_AccB.min, f_AccB.delta, f_AccB.mid)"
   ]
  },
  {
   "cell_type": "markdown",
   "metadata": {},
   "source": [
    "## Исследование периодической функции на одном периоде.\n",
    "Найдем пересечение с интервалом $[0, \\pi]$ (период) области определения, множества сингулярных точек и стационарных точек.\n",
    "###### 1. Область определения"
   ]
  },
  {
   "cell_type": "code",
   "execution_count": 10,
   "metadata": {},
   "outputs": [
    {
     "data": {
      "text/latex": [
       "$\\displaystyle \\left(0, \\frac{\\pi}{2}\\right) \\cup \\left(\\frac{\\pi}{2}, \\pi\\right)$"
      ],
      "text/plain": [
       "Union(Interval.open(0, pi/2), Interval.open(pi/2, pi))"
      ]
     },
     "execution_count": 10,
     "metadata": {},
     "output_type": "execute_result"
    }
   ],
   "source": [
    "period_pi = Interval(0, Pi)\n",
    "continuous_domain(f, x, period_pi)"
   ]
  },
  {
   "cell_type": "markdown",
   "metadata": {},
   "source": [
    "Сингулярные точки (точки, где функция не определена)"
   ]
  },
  {
   "cell_type": "code",
   "execution_count": 11,
   "metadata": {},
   "outputs": [
    {
     "data": {
      "text/latex": [
       "$\\displaystyle \\left\\{0, \\frac{\\pi}{2}, \\pi\\right\\}$"
      ],
      "text/plain": [
       "FiniteSet(0, pi, pi/2)"
      ]
     },
     "execution_count": 11,
     "metadata": {},
     "output_type": "execute_result"
    }
   ],
   "source": [
    "singularities(f, x, period_pi)"
   ]
  },
  {
   "cell_type": "markdown",
   "metadata": {},
   "source": [
    "###### 2. Область значений"
   ]
  },
  {
   "cell_type": "code",
   "execution_count": 12,
   "metadata": {},
   "outputs": [
    {
     "data": {
      "text/latex": [
       "$\\displaystyle \\left(-\\infty, -1\\right] \\cup \\left[1, \\infty\\right)$"
      ],
      "text/plain": [
       "Union(Interval(-oo, -1), Interval(1, oo))"
      ]
     },
     "execution_count": 12,
     "metadata": {},
     "output_type": "execute_result"
    }
   ],
   "source": [
    "function_range(f, x, period_pi)"
   ]
  },
  {
   "cell_type": "markdown",
   "metadata": {},
   "source": [
    "4. Стационарные точки "
   ]
  },
  {
   "cell_type": "code",
   "execution_count": 13,
   "metadata": {},
   "outputs": [
    {
     "data": {
      "text/latex": [
       "$\\displaystyle \\left\\{\\frac{\\pi}{4}, \\frac{3 \\pi}{4}\\right\\}$"
      ],
      "text/plain": [
       "FiniteSet(pi/4, 3*pi/4)"
      ]
     },
     "execution_count": 13,
     "metadata": {},
     "output_type": "execute_result"
    }
   ],
   "source": [
    "stationary_points(f, x, period_pi)"
   ]
  },
  {
   "cell_type": "markdown",
   "metadata": {},
   "source": [
    "5. Максимальное и минимальное значения функции"
   ]
  },
  {
   "cell_type": "code",
   "execution_count": 14,
   "metadata": {},
   "outputs": [
    {
     "data": {
      "text/latex": [
       "$\\displaystyle \\infty$"
      ],
      "text/plain": [
       "oo"
      ]
     },
     "metadata": {},
     "output_type": "display_data"
    },
    {
     "data": {
      "text/latex": [
       "$\\displaystyle -\\infty$"
      ],
      "text/plain": [
       "-oo"
      ]
     },
     "metadata": {},
     "output_type": "display_data"
    }
   ],
   "source": [
    "display(maximum(f, x, period_pi), minimum(f, x, period_pi))"
   ]
  },
  {
   "cell_type": "markdown",
   "metadata": {},
   "source": [
    "6. Монотонность\n",
    "\n",
    "Исследуем на периоде открытые интервалы (Interval.open), на которые период разбивают сингулярные и стационарные точки, т.е. $(0, \\pi/4)$, $(\\pi/4, \\pi/2)$, $(\\pi/2, 3\\pi/4)$, $(3\\pi/4, \\pi)$.   "
   ]
  },
  {
   "cell_type": "code",
   "execution_count": 15,
   "metadata": {},
   "outputs": [
    {
     "data": {
      "text/latex": [
       "$\\displaystyle \\left(0, \\frac{\\pi}{4}\\right)$"
      ],
      "text/plain": [
       "Interval.open(0, pi/4)"
      ]
     },
     "metadata": {},
     "output_type": "display_data"
    },
    {
     "name": "stdout",
     "output_type": "stream",
     "text": [
      "True True False True False\n"
     ]
    },
    {
     "data": {
      "text/latex": [
       "$\\displaystyle \\left(\\frac{\\pi}{4}, \\frac{\\pi}{2}\\right)$"
      ],
      "text/plain": [
       "Interval.open(pi/4, pi/2)"
      ]
     },
     "metadata": {},
     "output_type": "display_data"
    },
    {
     "name": "stdout",
     "output_type": "stream",
     "text": [
      "True False True False True\n"
     ]
    },
    {
     "data": {
      "text/latex": [
       "$\\displaystyle \\left(\\frac{\\pi}{2}, \\frac{3 \\pi}{4}\\right)$"
      ],
      "text/plain": [
       "Interval.open(pi/2, 3*pi/4)"
      ]
     },
     "metadata": {},
     "output_type": "display_data"
    },
    {
     "name": "stdout",
     "output_type": "stream",
     "text": [
      "True False True False True\n"
     ]
    },
    {
     "data": {
      "text/latex": [
       "$\\displaystyle \\left(\\frac{3 \\pi}{4}, \\pi\\right)$"
      ],
      "text/plain": [
       "Interval.open(3*pi/4, pi)"
      ]
     },
     "metadata": {},
     "output_type": "display_data"
    },
    {
     "name": "stdout",
     "output_type": "stream",
     "text": [
      "True True False True False\n"
     ]
    }
   ],
   "source": [
    "intervals = [Interval.open(k*Pi/4, (k + 1)*Pi/4) for k in range(4)]\n",
    "for interval in intervals:\n",
    "    display(interval)\n",
    "    print(is_monotonic(f, interval=interval), \n",
    "            is_decreasing(f, interval=interval), is_increasing(f, interval=interval),\n",
    "            is_strictly_decreasing(f, interval=interval), is_strictly_increasing(f, interval=interval))"
   ]
  },
  {
   "cell_type": "markdown",
   "metadata": {},
   "source": [
    "7. Минимальное и максимальное значение функции на интервале \n",
    "\n",
    "Найдем максимальное и минимальное значение функции на каждом из интервалов монотонности в пределах одного периода"
   ]
  },
  {
   "cell_type": "code",
   "execution_count": 16,
   "metadata": {},
   "outputs": [
    {
     "data": {
      "text/latex": [
       "$\\displaystyle \\left(0, \\frac{\\pi}{4}\\right)$"
      ],
      "text/plain": [
       "Interval.open(0, pi/4)"
      ]
     },
     "metadata": {},
     "output_type": "display_data"
    },
    {
     "data": {
      "text/latex": [
       "$\\displaystyle \\left\\langle 1, \\infty\\right\\rangle$"
      ],
      "text/plain": [
       "AccumBounds(1, oo)"
      ]
     },
     "metadata": {},
     "output_type": "display_data"
    },
    {
     "data": {
      "text/latex": [
       "$\\displaystyle \\infty$"
      ],
      "text/plain": [
       "oo"
      ]
     },
     "metadata": {},
     "output_type": "display_data"
    },
    {
     "data": {
      "text/latex": [
       "$\\displaystyle 1$"
      ],
      "text/plain": [
       "1"
      ]
     },
     "metadata": {},
     "output_type": "display_data"
    },
    {
     "data": {
      "text/latex": [
       "$\\displaystyle \\infty$"
      ],
      "text/plain": [
       "oo"
      ]
     },
     "metadata": {},
     "output_type": "display_data"
    },
    {
     "data": {
      "text/latex": [
       "$\\displaystyle \\infty$"
      ],
      "text/plain": [
       "oo"
      ]
     },
     "metadata": {},
     "output_type": "display_data"
    },
    {
     "data": {
      "text/latex": [
       "$\\displaystyle \\left(\\frac{\\pi}{4}, \\frac{\\pi}{2}\\right)$"
      ],
      "text/plain": [
       "Interval.open(pi/4, pi/2)"
      ]
     },
     "metadata": {},
     "output_type": "display_data"
    },
    {
     "data": {
      "text/latex": [
       "$\\displaystyle \\left\\langle 1, \\infty\\right\\rangle$"
      ],
      "text/plain": [
       "AccumBounds(1, oo)"
      ]
     },
     "metadata": {},
     "output_type": "display_data"
    },
    {
     "data": {
      "text/latex": [
       "$\\displaystyle \\infty$"
      ],
      "text/plain": [
       "oo"
      ]
     },
     "metadata": {},
     "output_type": "display_data"
    },
    {
     "data": {
      "text/latex": [
       "$\\displaystyle 1$"
      ],
      "text/plain": [
       "1"
      ]
     },
     "metadata": {},
     "output_type": "display_data"
    },
    {
     "data": {
      "text/latex": [
       "$\\displaystyle \\infty$"
      ],
      "text/plain": [
       "oo"
      ]
     },
     "metadata": {},
     "output_type": "display_data"
    },
    {
     "data": {
      "text/latex": [
       "$\\displaystyle \\infty$"
      ],
      "text/plain": [
       "oo"
      ]
     },
     "metadata": {},
     "output_type": "display_data"
    },
    {
     "data": {
      "text/latex": [
       "$\\displaystyle \\left(\\frac{\\pi}{2}, \\frac{3 \\pi}{4}\\right)$"
      ],
      "text/plain": [
       "Interval.open(pi/2, 3*pi/4)"
      ]
     },
     "metadata": {},
     "output_type": "display_data"
    },
    {
     "data": {
      "text/latex": [
       "$\\displaystyle \\left\\langle -\\infty, -1\\right\\rangle$"
      ],
      "text/plain": [
       "AccumBounds(-oo, -1)"
      ]
     },
     "metadata": {},
     "output_type": "display_data"
    },
    {
     "data": {
      "text/latex": [
       "$\\displaystyle -1$"
      ],
      "text/plain": [
       "-1"
      ]
     },
     "metadata": {},
     "output_type": "display_data"
    },
    {
     "data": {
      "text/latex": [
       "$\\displaystyle -\\infty$"
      ],
      "text/plain": [
       "-oo"
      ]
     },
     "metadata": {},
     "output_type": "display_data"
    },
    {
     "data": {
      "text/latex": [
       "$\\displaystyle \\infty$"
      ],
      "text/plain": [
       "oo"
      ]
     },
     "metadata": {},
     "output_type": "display_data"
    },
    {
     "data": {
      "text/latex": [
       "$\\displaystyle -\\infty$"
      ],
      "text/plain": [
       "-oo"
      ]
     },
     "metadata": {},
     "output_type": "display_data"
    },
    {
     "data": {
      "text/latex": [
       "$\\displaystyle \\left(\\frac{3 \\pi}{4}, \\pi\\right)$"
      ],
      "text/plain": [
       "Interval.open(3*pi/4, pi)"
      ]
     },
     "metadata": {},
     "output_type": "display_data"
    },
    {
     "data": {
      "text/latex": [
       "$\\displaystyle \\left\\langle -\\infty, -1\\right\\rangle$"
      ],
      "text/plain": [
       "AccumBounds(-oo, -1)"
      ]
     },
     "metadata": {},
     "output_type": "display_data"
    },
    {
     "data": {
      "text/latex": [
       "$\\displaystyle -1$"
      ],
      "text/plain": [
       "-1"
      ]
     },
     "metadata": {},
     "output_type": "display_data"
    },
    {
     "data": {
      "text/latex": [
       "$\\displaystyle -\\infty$"
      ],
      "text/plain": [
       "-oo"
      ]
     },
     "metadata": {},
     "output_type": "display_data"
    },
    {
     "data": {
      "text/latex": [
       "$\\displaystyle \\infty$"
      ],
      "text/plain": [
       "oo"
      ]
     },
     "metadata": {},
     "output_type": "display_data"
    },
    {
     "data": {
      "text/latex": [
       "$\\displaystyle -\\infty$"
      ],
      "text/plain": [
       "-oo"
      ]
     },
     "metadata": {},
     "output_type": "display_data"
    }
   ],
   "source": [
    "right = 0\n",
    "for k in range(4):\n",
    "    left = right\n",
    "    right = left + Pi/4\n",
    "    display(Interval.open(left, right))\n",
    "    f_AccB = f.subs(x, AccumBounds(left, right))\n",
    "    display(f_AccB, f_AccB.max, f_AccB.min, f_AccB.delta, f_AccB.mid)"
   ]
  },
  {
   "cell_type": "markdown",
   "metadata": {},
   "source": [
    "Построим график функции на одном периоде и убедимся в соответствии графику информации, полученной при анализе."
   ]
  },
  {
   "cell_type": "code",
   "execution_count": 17,
   "metadata": {},
   "outputs": [
    {
     "data": {
      "image/png": "[encoded data removed]",
      "text/plain": [
       "<Figure size 432x288 with 1 Axes>"
      ]
     },
     "metadata": {
      "needs_background": "light"
     },
     "output_type": "display_data"
    },
    {
     "data": {
      "text/plain": [
       "<sympy.plotting.plot.Plot at 0x1d309ac2ac8>"
      ]
     },
     "execution_count": 17,
     "metadata": {},
     "output_type": "execute_result"
    }
   ],
   "source": [
    "plot((f, (x, 0.1, Pi/2-0.1)), (f, (x, Pi/2 + 0.1, Pi-0.1)))"
   ]
  }
 ],
 "metadata": {
  "kernelspec": {
   "display_name": ".venv",
   "language": "python",
   "name": "python3"
  },
  "language_info": {
   "codemirror_mode": {
    "name": "ipython",
    "version": 3
   },
   "file_extension": ".py",
   "mimetype": "text/x-python",
   "name": "python",
   "nbconvert_exporter": "python",
   "pygments_lexer": "ipython3",
   "version": "3.10.6 (main, Nov  2 2022, 18:53:38) [GCC 11.3.0]"
  },
  "vscode": {
   "interpreter": {
    "hash": "425e6e564a40dbe62e7e4186601ed0b5ee2802309dcd5b8a3bfeeec5a9015a7b"
   }
  }
 },
 "nbformat": 4,
 "nbformat_minor": 2
}
