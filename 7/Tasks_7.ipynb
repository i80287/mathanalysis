{
 "cells": [
  {
   "cell_type": "markdown",
   "metadata": {},
   "source": [
    "## Занятие 7\n",
    "## Математический анализ\n",
    "## Исследование функции с sympy.calculus.util и sympy.calculus.singularities"
   ]
  },
  {
   "cell_type": "code",
   "execution_count": 153,
   "metadata": {},
   "outputs": [],
   "source": [
    "import sympy\n",
    "from sympy import S, Interval, plot\n",
    "from sympy import sin as Sin\n",
    "from sympy import cos as Cos\n",
    "from sympy import exp as Exp\n",
    "from sympy import log as Log\n",
    "from sympy import pi as Pi\n",
    "from sympy.calculus.util import continuous_domain, function_range, periodicity, stationary_points, maximum, minimum, AccumBounds\n",
    "from sympy.calculus.singularities import singularities, is_increasing, is_decreasing, is_monotonic\n",
    "from sympy.calculus.singularities import is_strictly_increasing, is_strictly_decreasing\n",
    "%matplotlib inline"
   ]
  },
  {
   "cell_type": "markdown",
   "metadata": {},
   "source": [
    "## Схема анализа функции.\n",
    "1. Область определения\n",
    "\n",
    "sympy.calculus.util.continuous_domain(f, symbol, domain)\n",
    "\n",
    "f - выражение, описывающее функцию, \n",
    "\n",
    "symbol - переменная, от которой зависит исследуемая функция,\n",
    "\n",
    "domain - область значений переменной, на которой рассматривается функция,\n",
    "\n",
    "если функция рассматривается на всей вещественной прямой, то domain=S.Reals\n",
    "\n",
    "Сингулярные точки (точки, в которых функция не существует) находятся с помощью\n",
    "\n",
    "sympy.calculus.singularities.singularities(f, symbol, domain=None)\n",
    "\n",
    "2. Область значений\n",
    "\n",
    "sympy.calculus.util.function_range(f, symbol, domain)\n",
    "\n",
    "3. Периодичность\n",
    "\n",
    "sympy.calculus.util.periodicity(f, symbol, check=False)\n",
    "\n",
    "4. Стационарные точки \n",
    "\n",
    "sympy.calculus.util.stationary_points(f, symbol, domain=Reals)\n",
    "\n",
    "5. Точки экстремума\n",
    "\n",
    "sympy.calculus.util.maximum(f, symbol, domain=Reals)\n",
    "\n",
    "sympy.calculus.util.minimum(f, symbol, domain=Reals)\n",
    "\n",
    "6. Монотонность\n",
    "\n",
    "sympy.calculus.singularities.is_decreasing(f, interval=Reals, symbol=None)\n",
    "\n",
    "sympy.calculus.singularities.is_increasing(f, interval=Reals, symbol=None)\n",
    "\n",
    "sympy.calculus.singularities.is_monotonic(f, interval=Reals, symbol=None)\n",
    "\n",
    "sympy.calculus.singularities.is_strictly_decreasing(f, interval=Reals, symbol=None)\n",
    "\n",
    "sympy.calculus.singularities.is_strictly_increasing(f, interval=Reals, symbol=None)\n",
    "\n",
    "7. Минимальное и максимальное значение функции на интервале \n",
    "\n",
    "sympy.calculus.util.AccumulationBounds(min, max)\n",
    "\n",
    "Свойства: delta, max, min, mid\n",
    "\n",
    "### Задание 1.  \n",
    "Исследовать функцию по п.1 - 5 на области определения и по п. 1 - 7 на одном периоде, построить график.\n",
    "$$\n",
    "f(x) = e^{\\sin(x)}.\n",
    "$$\n",
    "###### 1. Область определения"
   ]
  },
  {
   "cell_type": "code",
   "execution_count": 154,
   "metadata": {},
   "outputs": [
    {
     "name": "stdout",
     "output_type": "stream",
     "text": [
      "Function domain:\n"
     ]
    },
    {
     "data": {
      "text/latex": [
       "$\\displaystyle \\mathbb{R}$"
      ],
      "text/plain": [
       "Reals"
      ]
     },
     "metadata": {},
     "output_type": "display_data"
    }
   ],
   "source": [
    "from sympy.abc import x\n",
    "\n",
    "f = sympy.E ** Sin(x)\n",
    "domain_f = continuous_domain(f, x, domain=S.Reals)\n",
    "print(\"Function domain:\")\n",
    "display(domain_f)"
   ]
  },
  {
   "cell_type": "markdown",
   "metadata": {},
   "source": [
    "Сингулярные точки (точки, где функция не определена)"
   ]
  },
  {
   "cell_type": "code",
   "execution_count": 155,
   "metadata": {},
   "outputs": [
    {
     "name": "stdout",
     "output_type": "stream",
     "text": [
      "Singularity points of the function:\n"
     ]
    },
    {
     "data": {
      "text/latex": [
       "$\\displaystyle \\emptyset$"
      ],
      "text/plain": [
       "EmptySet"
      ]
     },
     "metadata": {},
     "output_type": "display_data"
    },
    {
     "name": "stdout",
     "output_type": "stream",
     "text": [
      "No singularity points\n"
     ]
    }
   ],
   "source": [
    "singular_f = singularities(f, x)\n",
    "print(\"Singularity points of the function:\")\n",
    "display(singular_f)\n",
    "if singular_f.is_empty:\n",
    "    print(\"No singularity points\")"
   ]
  },
  {
   "cell_type": "markdown",
   "metadata": {},
   "source": [
    "###### 2. Область значений"
   ]
  },
  {
   "cell_type": "code",
   "execution_count": 156,
   "metadata": {},
   "outputs": [
    {
     "name": "stdout",
     "output_type": "stream",
     "text": [
      "Function range:\n"
     ]
    },
    {
     "data": {
      "text/latex": [
       "$\\displaystyle \\left[e^{-1}, e\\right]$"
      ],
      "text/plain": [
       "Interval(exp(-1), E)"
      ]
     },
     "metadata": {},
     "output_type": "display_data"
    }
   ],
   "source": [
    "e_f = function_range(f, x, domain=S.Reals)\n",
    "print(\"Function range:\")\n",
    "display(e_f)"
   ]
  },
  {
   "cell_type": "markdown",
   "metadata": {},
   "source": [
    "###### 3. Периодичность"
   ]
  },
  {
   "cell_type": "code",
   "execution_count": 157,
   "metadata": {},
   "outputs": [
    {
     "name": "stdout",
     "output_type": "stream",
     "text": [
      "Function periodicity:\n"
     ]
    },
    {
     "data": {
      "text/latex": [
       "$\\displaystyle 2 \\pi$"
      ],
      "text/plain": [
       "2*pi"
      ]
     },
     "metadata": {},
     "output_type": "display_data"
    }
   ],
   "source": [
    "period_f = periodicity(f, x, check=False)\n",
    "print(\"Function periodicity:\")\n",
    "display(period_f)"
   ]
  },
  {
   "cell_type": "markdown",
   "metadata": {},
   "source": [
    "###### 4. Стационарные точки"
   ]
  },
  {
   "cell_type": "code",
   "execution_count": 158,
   "metadata": {},
   "outputs": [
    {
     "name": "stdout",
     "output_type": "stream",
     "text": [
      "Stationary points:\n"
     ]
    },
    {
     "data": {
      "text/latex": [
       "$\\displaystyle \\left\\{2 n \\pi + \\frac{\\pi}{2}\\; \\middle|\\; n \\in \\mathbb{Z}\\right\\} \\cup \\left\\{2 n \\pi + \\frac{3 \\pi}{2}\\; \\middle|\\; n \\in \\mathbb{Z}\\right\\}$"
      ],
      "text/plain": [
       "Union(ImageSet(Lambda(_n, 2*_n*pi + pi/2), Integers), ImageSet(Lambda(_n, 2*_n*pi + 3*pi/2), Integers))"
      ]
     },
     "metadata": {},
     "output_type": "display_data"
    }
   ],
   "source": [
    "stat_points_f = stationary_points(f, x)\n",
    "print(\"Stationary points:\")\n",
    "display(stat_points_f)"
   ]
  },
  {
   "cell_type": "markdown",
   "metadata": {},
   "source": [
    "###### 5. Максимальное и минимальное значения функции"
   ]
  },
  {
   "cell_type": "code",
   "execution_count": 159,
   "metadata": {},
   "outputs": [
    {
     "name": "stdout",
     "output_type": "stream",
     "text": [
      "Min value of the function:\n"
     ]
    },
    {
     "data": {
      "text/latex": [
       "$\\displaystyle e^{-1}$"
      ],
      "text/plain": [
       "exp(-1)"
      ]
     },
     "metadata": {},
     "output_type": "display_data"
    },
    {
     "name": "stdout",
     "output_type": "stream",
     "text": [
      "Max value of the function:\n"
     ]
    },
    {
     "data": {
      "text/latex": [
       "$\\displaystyle e$"
      ],
      "text/plain": [
       "E"
      ]
     },
     "metadata": {},
     "output_type": "display_data"
    }
   ],
   "source": [
    "max_f, min_f = maximum(f, x), minimum(f, x)\n",
    "print(\"Min value of the function:\")\n",
    "display(min_f)\n",
    "print(\"Max value of the function:\")\n",
    "display(max_f)"
   ]
  },
  {
   "cell_type": "markdown",
   "metadata": {},
   "source": [
    "##### Исследование периодической функции на одном периоде.\n",
    "Найти пересечение с периодом области определения, множества сингулярных точек и стационарных точек.\n",
    "###### 1. Область определения"
   ]
  },
  {
   "cell_type": "code",
   "execution_count": 160,
   "metadata": {},
   "outputs": [
    {
     "name": "stdout",
     "output_type": "stream",
     "text": [
      "Function domain on the interval from 0 to 2π:\n"
     ]
    },
    {
     "data": {
      "text/latex": [
       "$\\displaystyle \\left[0, 2 \\pi\\right]$"
      ],
      "text/plain": [
       "Interval(0, 2*pi)"
      ]
     },
     "metadata": {},
     "output_type": "display_data"
    }
   ],
   "source": [
    "interval_f = Interval(0, period_f)\n",
    "interval_name = \"on the interval from 0 to 2π\"\n",
    "\n",
    "interval_dom_f = continuous_domain(f, x, interval_f)\n",
    "print(f\"Function domain {interval_name}:\")\n",
    "display(interval_dom_f)"
   ]
  },
  {
   "cell_type": "markdown",
   "metadata": {},
   "source": [
    "Сингулярные точки (точки, где функция не определена)"
   ]
  },
  {
   "cell_type": "code",
   "execution_count": 161,
   "metadata": {},
   "outputs": [
    {
     "name": "stdout",
     "output_type": "stream",
     "text": [
      "Singularity points of the function on the interval from 0 to 2π:\n"
     ]
    },
    {
     "data": {
      "text/latex": [
       "$\\displaystyle \\emptyset$"
      ],
      "text/plain": [
       "EmptySet"
      ]
     },
     "metadata": {},
     "output_type": "display_data"
    },
    {
     "name": "stdout",
     "output_type": "stream",
     "text": [
      "No singularity points on the interval from 0 to 2π\n"
     ]
    }
   ],
   "source": [
    "interval_singular_f = singularities(f, x, interval_f)\n",
    "print(f\"Singularity points of the function {interval_name}:\")\n",
    "display(interval_singular_f)\n",
    "if interval_singular_f.is_empty:\n",
    "    print(f\"No singularity points {interval_name}\")"
   ]
  },
  {
   "cell_type": "markdown",
   "metadata": {},
   "source": [
    "###### 2. Область значений"
   ]
  },
  {
   "cell_type": "code",
   "execution_count": 162,
   "metadata": {},
   "outputs": [
    {
     "name": "stdout",
     "output_type": "stream",
     "text": [
      "Function range on the interval from 0 to 2π:\n"
     ]
    },
    {
     "data": {
      "text/latex": [
       "$\\displaystyle \\left[e^{-1}, e\\right]$"
      ],
      "text/plain": [
       "Interval(exp(-1), E)"
      ]
     },
     "metadata": {},
     "output_type": "display_data"
    }
   ],
   "source": [
    "interval_e_f = function_range(f, x, interval_f)\n",
    "print(f\"Function range {interval_name}:\")\n",
    "display(interval_e_f)"
   ]
  },
  {
   "cell_type": "markdown",
   "metadata": {},
   "source": [
    "###### 4. Стационарные точки "
   ]
  },
  {
   "cell_type": "code",
   "execution_count": 163,
   "metadata": {},
   "outputs": [
    {
     "name": "stdout",
     "output_type": "stream",
     "text": [
      "Stationary points of the function on the interval from 0 to 2π:\n"
     ]
    },
    {
     "data": {
      "text/latex": [
       "$\\displaystyle \\left\\{\\frac{\\pi}{2}, \\frac{3 \\pi}{2}\\right\\}$"
      ],
      "text/plain": [
       "{pi/2, 3*pi/2}"
      ]
     },
     "metadata": {},
     "output_type": "display_data"
    }
   ],
   "source": [
    "interval_stat_points_f = stationary_points(f, x, interval_f)\n",
    "print(f\"Stationary points of the function {interval_name}:\")\n",
    "display(interval_stat_points_f)"
   ]
  },
  {
   "cell_type": "markdown",
   "metadata": {},
   "source": [
    "###### 5. Максимальное и минимальное значения функции"
   ]
  },
  {
   "cell_type": "code",
   "execution_count": 164,
   "metadata": {},
   "outputs": [
    {
     "name": "stdout",
     "output_type": "stream",
     "text": [
      "Min value of the function on the interval from 0 to 2π:\n"
     ]
    },
    {
     "data": {
      "text/latex": [
       "$\\displaystyle e^{-1}$"
      ],
      "text/plain": [
       "exp(-1)"
      ]
     },
     "metadata": {},
     "output_type": "display_data"
    },
    {
     "name": "stdout",
     "output_type": "stream",
     "text": [
      "Max value of the function on the interval from 0 to 2π:\n"
     ]
    },
    {
     "data": {
      "text/latex": [
       "$\\displaystyle e$"
      ],
      "text/plain": [
       "E"
      ]
     },
     "metadata": {},
     "output_type": "display_data"
    }
   ],
   "source": [
    "interval_max_f, interval_min_f = maximum(f, x, interval_f), minimum(f, x, interval_f)\n",
    "print(f\"Min value of the function {interval_name}:\")\n",
    "display(interval_min_f)\n",
    "print(f\"Max value of the function {interval_name}:\")\n",
    "display(interval_max_f)"
   ]
  },
  {
   "cell_type": "markdown",
   "metadata": {},
   "source": [
    "###### 6. Монотонность\n",
    "Исследовать на периоде открытые интервалы (Interval.open), на которые период разбивают стационарные точки."
   ]
  },
  {
   "cell_type": "code",
   "execution_count": 165,
   "metadata": {},
   "outputs": [
    {
     "name": "stdout",
     "output_type": "stream",
     "text": [
      "Interval:\n"
     ]
    },
    {
     "data": {
      "text/latex": [
       "$\\displaystyle \\left(0, 2 \\pi\\right)$"
      ],
      "text/plain": [
       "Interval.open(0, 2*pi)"
      ]
     },
     "metadata": {},
     "output_type": "display_data"
    },
    {
     "name": "stdout",
     "output_type": "stream",
     "text": [
      "Is monotonic: False\n",
      "Is increasing: None\n",
      "Is decreasing: False\n",
      "Is strictly increasing: None\n",
      "Is strictly decreasing: False\n",
      "\n"
     ]
    }
   ],
   "source": [
    "border_points = list(\n",
    "    interval_singular_f\n",
    "    .union(interval_dom_f.boundary)\n",
    ")\n",
    "intervals = [\n",
    "    Interval.open(border_points[i], border_points[i + 1]) \\\n",
    "        for i in range(len(border_points) - 1)\n",
    "]\n",
    "for interval in intervals:\n",
    "    print(\"Interval:\")\n",
    "    display(interval)\n",
    "    print(\"Is monotonic:\", is_monotonic(f, interval=interval))\n",
    "    print(\"Is increasing:\", is_increasing(f, interval=interval))\n",
    "    print(\"Is decreasing:\", is_decreasing(f, interval=interval))\n",
    "    print(\"Is strictly increasing:\", is_strictly_increasing(f, interval=interval))\n",
    "    print(\"Is strictly decreasing:\", is_strictly_decreasing(f, interval=interval))\n",
    "    print()"
   ]
  },
  {
   "cell_type": "markdown",
   "metadata": {},
   "source": [
    "###### 7. Минимальное и максимальное значение функции на интервале \n",
    "Найти максимальное и минимальное значение функции на каждом из интервалов монотонности в пределах одного периода"
   ]
  },
  {
   "cell_type": "code",
   "execution_count": 166,
   "metadata": {},
   "outputs": [
    {
     "name": "stdout",
     "output_type": "stream",
     "text": [
      "Interval:\n"
     ]
    },
    {
     "data": {
      "text/latex": [
       "$\\displaystyle \\left(0, 2 \\pi\\right)$"
      ],
      "text/plain": [
       "Interval.open(0, 2*pi)"
      ]
     },
     "metadata": {},
     "output_type": "display_data"
    },
    {
     "name": "stdout",
     "output_type": "stream",
     "text": [
      "Function values on the interval:\n"
     ]
    },
    {
     "data": {
      "text/latex": [
       "$\\displaystyle \\left\\langle e^{-1}, e\\right\\rangle$"
      ],
      "text/plain": [
       "AccumBounds(exp(-1), E)"
      ]
     },
     "metadata": {},
     "output_type": "display_data"
    },
    {
     "name": "stdout",
     "output_type": "stream",
     "text": [
      "Function min value on the interval:\n"
     ]
    },
    {
     "data": {
      "text/latex": [
       "$\\displaystyle e^{-1}$"
      ],
      "text/plain": [
       "exp(-1)"
      ]
     },
     "metadata": {},
     "output_type": "display_data"
    },
    {
     "name": "stdout",
     "output_type": "stream",
     "text": [
      "Function max value on the interval:\n"
     ]
    },
    {
     "data": {
      "text/latex": [
       "$\\displaystyle e$"
      ],
      "text/plain": [
       "E"
      ]
     },
     "metadata": {},
     "output_type": "display_data"
    },
    {
     "name": "stdout",
     "output_type": "stream",
     "text": [
      "Delta of function max and min values on the interval:\n"
     ]
    },
    {
     "data": {
      "text/latex": [
       "$\\displaystyle e - e^{-1}$"
      ],
      "text/plain": [
       "E - exp(-1)"
      ]
     },
     "metadata": {},
     "output_type": "display_data"
    },
    {
     "name": "stdout",
     "output_type": "stream",
     "text": [
      "Middle of function max and min values on the interval:\n"
     ]
    },
    {
     "data": {
      "text/latex": [
       "$\\displaystyle \\frac{1}{2 e} + \\frac{e}{2}$"
      ],
      "text/plain": [
       "exp(-1)/2 + E/2"
      ]
     },
     "metadata": {},
     "output_type": "display_data"
    }
   ],
   "source": [
    "for interval in intervals:\n",
    "    print(\"Interval:\")\n",
    "    display(interval)\n",
    "    left = interval.left\n",
    "    right = interval.right\n",
    "    interval_value_f = f.subs(x, AccumBounds(left, right))\n",
    "    print(\"Function values on the interval:\")\n",
    "    display(interval_value_f)\n",
    "    print(\"Function min value on the interval:\")\n",
    "    display(interval_value_f.min)\n",
    "    print(\"Function max value on the interval:\")\n",
    "    display(interval_value_f.max)\n",
    "    print(\"Delta of function max and min values on the interval:\")\n",
    "    display(interval_value_f.delta)\n",
    "    print(\"Middle of function max and min values on the interval:\")\n",
    "    display(interval_value_f.mid)"
   ]
  },
  {
   "cell_type": "markdown",
   "metadata": {},
   "source": [
    "###### График функции на одном периоде."
   ]
  },
  {
   "cell_type": "code",
   "execution_count": 167,
   "metadata": {},
   "outputs": [
    {
     "data": {
      "image/png": "[encoded data removed]",
      "text/plain": [
       "<Figure size 640x480 with 1 Axes>"
      ]
     },
     "metadata": {},
     "output_type": "display_data"
    }
   ],
   "source": [
    "plot(\n",
    "    f, (x, 0, period_f),\n",
    "    title=\"$y = x^2  e^{-x}$\",\n",
    "    line_color='r',\n",
    "    xlabel = \"$x$\",\n",
    "    ylabel = \"$y$\",\n",
    "    xlim = (0, period_f),\n",
    ")\n",
    "None"
   ]
  },
  {
   "cell_type": "markdown",
   "metadata": {},
   "source": [
    "### Задание 2.  \n",
    "Исследовать функцию по п.1 - 5 на области определения и по п. 1 - 7  на одном периоде, построить график.\n",
    "$$\n",
    "f(x) = \\frac{1}{\\sin(x) + \\cos(x)}.\n",
    "$$\n",
    "###### 1. Область определения"
   ]
  },
  {
   "cell_type": "code",
   "execution_count": 168,
   "metadata": {},
   "outputs": [
    {
     "name": "stdout",
     "output_type": "stream",
     "text": [
      "Function domain:\n"
     ]
    },
    {
     "data": {
      "text/latex": [
       "$\\displaystyle \\mathbb{R} \\setminus \\left(\\left\\{2 n \\pi + \\frac{3 \\pi}{4}\\; \\middle|\\; n \\in \\mathbb{Z}\\right\\} \\cup \\left\\{2 n \\pi + \\frac{7 \\pi}{4}\\; \\middle|\\; n \\in \\mathbb{Z}\\right\\}\\right)$"
      ],
      "text/plain": [
       "Complement(Reals, Union(ImageSet(Lambda(_n, 2*_n*pi + 3*pi/4), Integers), ImageSet(Lambda(_n, 2*_n*pi + 7*pi/4), Integers)))"
      ]
     },
     "metadata": {},
     "output_type": "display_data"
    }
   ],
   "source": [
    "from sympy.abc import x\n",
    "\n",
    "f = 1/(Sin(x) + Cos(x))\n",
    "domain_f = continuous_domain(f, x, domain=S.Reals)\n",
    "print(\"Function domain:\")\n",
    "display(domain_f)"
   ]
  },
  {
   "cell_type": "markdown",
   "metadata": {},
   "source": [
    "Сингулярные точки (точки, где функция не определена)"
   ]
  },
  {
   "cell_type": "code",
   "execution_count": 169,
   "metadata": {},
   "outputs": [
    {
     "name": "stdout",
     "output_type": "stream",
     "text": [
      "Singularity points of the function:\n"
     ]
    },
    {
     "data": {
      "text/latex": [
       "$\\displaystyle \\left\\{2 n \\pi + \\frac{3 \\pi}{4}\\; \\middle|\\; n \\in \\mathbb{Z}\\right\\} \\cup \\left\\{2 n \\pi + \\frac{7 \\pi}{4}\\; \\middle|\\; n \\in \\mathbb{Z}\\right\\}$"
      ],
      "text/plain": [
       "Union(ImageSet(Lambda(_n, 2*_n*pi + 3*pi/4), Integers), ImageSet(Lambda(_n, 2*_n*pi + 7*pi/4), Integers))"
      ]
     },
     "metadata": {},
     "output_type": "display_data"
    }
   ],
   "source": [
    "singular_f = singularities(f, x)\n",
    "print(\"Singularity points of the function:\")\n",
    "display(singular_f)"
   ]
  },
  {
   "cell_type": "markdown",
   "metadata": {},
   "source": [
    "###### 2. Область значений"
   ]
  },
  {
   "cell_type": "code",
   "execution_count": 170,
   "metadata": {},
   "outputs": [
    {
     "name": "stdout",
     "output_type": "stream",
     "text": [
      "Funtion range:\n"
     ]
    },
    {
     "data": {
      "text/latex": [
       "$\\displaystyle \\left(-\\infty, - \\frac{\\sqrt{2}}{2}\\right] \\cup \\left[\\frac{\\sqrt{2}}{2}, \\infty\\right)$"
      ],
      "text/plain": [
       "Union(Interval(-oo, -sqrt(2)/2), Interval(sqrt(2)/2, oo))"
      ]
     },
     "metadata": {},
     "output_type": "display_data"
    }
   ],
   "source": [
    "e_f = function_range(f, x, domain=S.Reals)\n",
    "print(\"Funtion range:\")\n",
    "display(e_f)"
   ]
  },
  {
   "cell_type": "markdown",
   "metadata": {},
   "source": [
    "###### 3. Периодичность"
   ]
  },
  {
   "cell_type": "code",
   "execution_count": 171,
   "metadata": {},
   "outputs": [
    {
     "name": "stdout",
     "output_type": "stream",
     "text": [
      "Function periodicity:\n"
     ]
    },
    {
     "data": {
      "text/latex": [
       "$\\displaystyle 2 \\pi$"
      ],
      "text/plain": [
       "2*pi"
      ]
     },
     "metadata": {},
     "output_type": "display_data"
    }
   ],
   "source": [
    "period_f = periodicity(f, x, check=False)\n",
    "print(\"Function periodicity:\")\n",
    "display(period_f)"
   ]
  },
  {
   "cell_type": "markdown",
   "metadata": {},
   "source": [
    "###### 4. Стационарные точки"
   ]
  },
  {
   "cell_type": "code",
   "execution_count": 172,
   "metadata": {},
   "outputs": [
    {
     "name": "stdout",
     "output_type": "stream",
     "text": [
      "Stationary points of the function:\n"
     ]
    },
    {
     "data": {
      "text/latex": [
       "$\\displaystyle \\left(\\left\\{2 n \\pi + \\frac{5 \\pi}{4}\\; \\middle|\\; n \\in \\mathbb{Z}\\right\\} \\setminus \\left(\\left\\{2 n \\pi + \\frac{3 \\pi}{4}\\; \\middle|\\; n \\in \\mathbb{Z}\\right\\} \\cup \\left\\{2 n \\pi + \\frac{7 \\pi}{4}\\; \\middle|\\; n \\in \\mathbb{Z}\\right\\}\\right)\\right) \\cup \\left(\\left\\{2 n \\pi + \\frac{\\pi}{4}\\; \\middle|\\; n \\in \\mathbb{Z}\\right\\} \\setminus \\left(\\left\\{2 n \\pi + \\frac{3 \\pi}{4}\\; \\middle|\\; n \\in \\mathbb{Z}\\right\\} \\cup \\left\\{2 n \\pi + \\frac{7 \\pi}{4}\\; \\middle|\\; n \\in \\mathbb{Z}\\right\\}\\right)\\right)$"
      ],
      "text/plain": [
       "Union(Complement(ImageSet(Lambda(_n, 2*_n*pi + 5*pi/4), Integers), Union(ImageSet(Lambda(_n, 2*_n*pi + 3*pi/4), Integers), ImageSet(Lambda(_n, 2*_n*pi + 7*pi/4), Integers))), Complement(ImageSet(Lambda(_n, 2*_n*pi + pi/4), Integers), Union(ImageSet(Lambda(_n, 2*_n*pi + 3*pi/4), Integers), ImageSet(Lambda(_n, 2*_n*pi + 7*pi/4), Integers))))"
      ]
     },
     "metadata": {},
     "output_type": "display_data"
    }
   ],
   "source": [
    "stat_points_f = stationary_points(f, x)\n",
    "print(\"Stationary points of the function:\")\n",
    "display(stat_points_f)"
   ]
  },
  {
   "cell_type": "markdown",
   "metadata": {},
   "source": [
    "###### 5. Максимальное и минимальное значения функции"
   ]
  },
  {
   "cell_type": "code",
   "execution_count": 173,
   "metadata": {},
   "outputs": [
    {
     "name": "stdout",
     "output_type": "stream",
     "text": [
      "Min value of the function:\n"
     ]
    },
    {
     "data": {
      "text/latex": [
       "$\\displaystyle -\\infty$"
      ],
      "text/plain": [
       "-oo"
      ]
     },
     "metadata": {},
     "output_type": "display_data"
    },
    {
     "name": "stdout",
     "output_type": "stream",
     "text": [
      "Max value of the function:\n"
     ]
    },
    {
     "data": {
      "text/latex": [
       "$\\displaystyle \\infty$"
      ],
      "text/plain": [
       "oo"
      ]
     },
     "metadata": {},
     "output_type": "display_data"
    }
   ],
   "source": [
    "max_f, min_f = maximum(f, x), minimum(f, x)\n",
    "print(\"Min value of the function:\")\n",
    "display(min_f)\n",
    "print(\"Max value of the function:\")\n",
    "display(max_f)"
   ]
  },
  {
   "cell_type": "markdown",
   "metadata": {},
   "source": [
    "##### Исследование периодической функции на одном периоде.\n",
    "Найти пересечение с периодом области определения, множества сингулярных точек и стационарных точек.\n",
    "###### 1. Область определения"
   ]
  },
  {
   "cell_type": "code",
   "execution_count": 174,
   "metadata": {},
   "outputs": [
    {
     "name": "stdout",
     "output_type": "stream",
     "text": [
      "Function domain on the interval from 0 to 2π:\n"
     ]
    },
    {
     "data": {
      "text/latex": [
       "$\\displaystyle \\left[0, \\frac{3 \\pi}{4}\\right) \\cup \\left(\\frac{3 \\pi}{4}, \\frac{7 \\pi}{4}\\right) \\cup \\left(\\frac{7 \\pi}{4}, 2 \\pi\\right]$"
      ],
      "text/plain": [
       "Union(Interval.Ropen(0, 3*pi/4), Interval.open(3*pi/4, 7*pi/4), Interval.Lopen(7*pi/4, 2*pi))"
      ]
     },
     "metadata": {},
     "output_type": "display_data"
    }
   ],
   "source": [
    "interval_f = Interval(0, period_f)\n",
    "interval_name = \"on the interval from 0 to 2π\"\n",
    "\n",
    "interval_dom_f = continuous_domain(f, x, interval_f)\n",
    "print(f\"Function domain {interval_name}:\")\n",
    "display(interval_dom_f)"
   ]
  },
  {
   "cell_type": "markdown",
   "metadata": {},
   "source": [
    "Сингулярные точки (точки, где функция не определена)"
   ]
  },
  {
   "cell_type": "code",
   "execution_count": 175,
   "metadata": {},
   "outputs": [
    {
     "name": "stdout",
     "output_type": "stream",
     "text": [
      "Singularity points of the function on the interval from 0 to 2π:\n"
     ]
    },
    {
     "data": {
      "text/latex": [
       "$\\displaystyle \\left\\{\\frac{3 \\pi}{4}, \\frac{7 \\pi}{4}\\right\\}$"
      ],
      "text/plain": [
       "{3*pi/4, 7*pi/4}"
      ]
     },
     "metadata": {},
     "output_type": "display_data"
    }
   ],
   "source": [
    "interval_singular_f = singularities(f, x, interval_f)\n",
    "print(f\"Singularity points of the function {interval_name}:\")\n",
    "display(interval_singular_f)"
   ]
  },
  {
   "cell_type": "markdown",
   "metadata": {},
   "source": [
    "###### 2. Область значений"
   ]
  },
  {
   "cell_type": "code",
   "execution_count": 176,
   "metadata": {},
   "outputs": [
    {
     "name": "stdout",
     "output_type": "stream",
     "text": [
      "Function range on the interval from 0 to 2π:\n"
     ]
    },
    {
     "data": {
      "text/latex": [
       "$\\displaystyle \\left(-\\infty, - \\frac{\\sqrt{2}}{2}\\right] \\cup \\left[\\frac{\\sqrt{2}}{2}, \\infty\\right)$"
      ],
      "text/plain": [
       "Union(Interval(-oo, -sqrt(2)/2), Interval(sqrt(2)/2, oo))"
      ]
     },
     "metadata": {},
     "output_type": "display_data"
    }
   ],
   "source": [
    "interval_e_f = function_range(f, x, interval_f)\n",
    "print(f\"Function range {interval_name}:\")\n",
    "display(interval_e_f)"
   ]
  },
  {
   "cell_type": "markdown",
   "metadata": {},
   "source": [
    "###### 4. Стационарные точки"
   ]
  },
  {
   "cell_type": "code",
   "execution_count": 177,
   "metadata": {},
   "outputs": [
    {
     "name": "stdout",
     "output_type": "stream",
     "text": [
      "Stationary points of the function on the interval from 0 to 2π:\n"
     ]
    },
    {
     "data": {
      "text/latex": [
       "$\\displaystyle \\left\\{\\frac{\\pi}{4}, \\frac{5 \\pi}{4}\\right\\}$"
      ],
      "text/plain": [
       "{pi/4, 5*pi/4}"
      ]
     },
     "metadata": {},
     "output_type": "display_data"
    }
   ],
   "source": [
    "interval_stat_points_f = stationary_points(f, x, interval_f)\n",
    "print(f\"Stationary points of the function {interval_name}:\")\n",
    "display(interval_stat_points_f)"
   ]
  },
  {
   "cell_type": "markdown",
   "metadata": {},
   "source": [
    "###### 5. Максимальное и минимальное значения функции"
   ]
  },
  {
   "cell_type": "code",
   "execution_count": 178,
   "metadata": {},
   "outputs": [
    {
     "name": "stdout",
     "output_type": "stream",
     "text": [
      "Min value of the function on the interval from 0 to 2π:\n"
     ]
    },
    {
     "data": {
      "text/latex": [
       "$\\displaystyle -\\infty$"
      ],
      "text/plain": [
       "-oo"
      ]
     },
     "metadata": {},
     "output_type": "display_data"
    },
    {
     "name": "stdout",
     "output_type": "stream",
     "text": [
      "Max value of the function on the interval from 0 to 2π:\n"
     ]
    },
    {
     "data": {
      "text/latex": [
       "$\\displaystyle \\infty$"
      ],
      "text/plain": [
       "oo"
      ]
     },
     "metadata": {},
     "output_type": "display_data"
    }
   ],
   "source": [
    "interval_max_f, interval_min_f = maximum(f, x, interval_f), minimum(f, x, interval_f)\n",
    "print(f\"Min value of the function {interval_name}:\")\n",
    "display(interval_min_f)\n",
    "print(f\"Max value of the function {interval_name}:\")\n",
    "display(interval_max_f)"
   ]
  },
  {
   "cell_type": "markdown",
   "metadata": {},
   "source": [
    "###### 6. Монотонность"
   ]
  },
  {
   "cell_type": "code",
   "execution_count": 179,
   "metadata": {},
   "outputs": [
    {
     "name": "stdout",
     "output_type": "stream",
     "text": [
      "Interval:\n"
     ]
    },
    {
     "data": {
      "text/latex": [
       "$\\displaystyle \\left(0, \\frac{3 \\pi}{4}\\right)$"
      ],
      "text/plain": [
       "Interval.open(0, 3*pi/4)"
      ]
     },
     "metadata": {},
     "output_type": "display_data"
    },
    {
     "name": "stdout",
     "output_type": "stream",
     "text": [
      "Is monotonic: False\n",
      "Is increasing: False\n",
      "Is decreasing: False\n",
      "Is strictly increasing: False\n",
      "Is strictly decreasing: False\n",
      "\n",
      "Interval:\n"
     ]
    },
    {
     "data": {
      "text/latex": [
       "$\\displaystyle \\left(\\frac{3 \\pi}{4}, \\frac{7 \\pi}{4}\\right)$"
      ],
      "text/plain": [
       "Interval.open(3*pi/4, 7*pi/4)"
      ]
     },
     "metadata": {},
     "output_type": "display_data"
    },
    {
     "name": "stdout",
     "output_type": "stream",
     "text": [
      "Is monotonic: False\n",
      "Is increasing: False\n",
      "Is decreasing: False\n",
      "Is strictly increasing: False\n",
      "Is strictly decreasing: False\n",
      "\n",
      "Interval:\n"
     ]
    },
    {
     "data": {
      "text/latex": [
       "$\\displaystyle \\left(\\frac{7 \\pi}{4}, 2 \\pi\\right)$"
      ],
      "text/plain": [
       "Interval.open(7*pi/4, 2*pi)"
      ]
     },
     "metadata": {},
     "output_type": "display_data"
    },
    {
     "name": "stdout",
     "output_type": "stream",
     "text": [
      "Is monotonic: True\n",
      "Is increasing: False\n",
      "Is decreasing: True\n",
      "Is strictly increasing: False\n",
      "Is strictly decreasing: True\n",
      "\n"
     ]
    }
   ],
   "source": [
    "border_points = list(\n",
    "    interval_singular_f\n",
    "    .union(interval_dom_f.boundary)\n",
    ")\n",
    "intervals = [\n",
    "    Interval.open(border_points[i], border_points[i + 1]) \\\n",
    "        for i in range(len(border_points) - 1)\n",
    "]\n",
    "for interval in intervals:\n",
    "    print(\"Interval:\")\n",
    "    display(interval)\n",
    "    if is_monotonic(f, interval=interval):\n",
    "        print(\"Is monotonic: True\")\n",
    "        print(\"Is increasing:\", is_increasing(f, interval=interval))\n",
    "        print(\"Is decreasing:\", is_decreasing(f, interval=interval))\n",
    "        print(\"Is strictly increasing:\", is_strictly_increasing(f, interval=interval))\n",
    "        print(\"Is strictly decreasing:\", is_strictly_decreasing(f, interval=interval))\n",
    "    else:\n",
    "        print(\"Is monotonic: False\")\n",
    "        print(\"Is increasing: False\")\n",
    "        print(\"Is decreasing: False\")\n",
    "        print(\"Is strictly increasing: False\")\n",
    "        print(\"Is strictly decreasing: False\")\n",
    "    print()"
   ]
  },
  {
   "cell_type": "markdown",
   "metadata": {},
   "source": [
    "###### 7. Минимальное и максимальное значение функции на периоде"
   ]
  },
  {
   "cell_type": "code",
   "execution_count": 180,
   "metadata": {},
   "outputs": [
    {
     "name": "stdout",
     "output_type": "stream",
     "text": [
      "Function values on the interval:\n"
     ]
    },
    {
     "data": {
      "text/latex": [
       "$\\displaystyle \\left\\langle -\\infty, \\infty\\right\\rangle$"
      ],
      "text/plain": [
       "AccumBounds(-oo, oo)"
      ]
     },
     "metadata": {},
     "output_type": "display_data"
    },
    {
     "name": "stdout",
     "output_type": "stream",
     "text": [
      "Function min value on the interval:\n"
     ]
    },
    {
     "data": {
      "text/latex": [
       "$\\displaystyle -\\infty$"
      ],
      "text/plain": [
       "-oo"
      ]
     },
     "metadata": {},
     "output_type": "display_data"
    },
    {
     "name": "stdout",
     "output_type": "stream",
     "text": [
      "Function max value on the interval:\n"
     ]
    },
    {
     "data": {
      "text/latex": [
       "$\\displaystyle \\infty$"
      ],
      "text/plain": [
       "oo"
      ]
     },
     "metadata": {},
     "output_type": "display_data"
    }
   ],
   "source": [
    "interval_value_f = f.subs(x, AccumBounds(0, period_f))\n",
    "print(\"Function values on the interval:\")\n",
    "display(interval_value_f)\n",
    "print(\"Function min value on the interval:\")\n",
    "display(interval_value_f.min)\n",
    "print(\"Function max value on the interval:\")\n",
    "display(interval_value_f.max)\n",
    "    "
   ]
  },
  {
   "cell_type": "markdown",
   "metadata": {},
   "source": [
    "###### График"
   ]
  },
  {
   "cell_type": "code",
   "execution_count": 181,
   "metadata": {},
   "outputs": [
    {
     "data": {
      "image/png": "[encoded data removed]",
      "text/plain": [
       "<Figure size 640x480 with 1 Axes>"
      ]
     },
     "metadata": {},
     "output_type": "display_data"
    }
   ],
   "source": [
    "EPSILON: float = 0.001\n",
    "p = plot(\n",
    "    title=r\"$y = \\frac{1}{\\sin(x)+\\cos(x)}$\",\n",
    "    xlabel = \"$x$\",\n",
    "    ylabel = \"$y$\",\n",
    "    ylim = (-16, 16),\n",
    "    xlim = (0, period_f),\n",
    "    show=False,\n",
    ")\n",
    "for interval in intervals:\n",
    "    p.append(\n",
    "        plot(\n",
    "            f, (x, interval.left + EPSILON, interval.right - EPSILON),\n",
    "            line_color='g',\n",
    "            show=False,\n",
    "        )[0]\n",
    "    )\n",
    "p.show()"
   ]
  },
  {
   "attachments": {},
   "cell_type": "markdown",
   "metadata": {},
   "source": [
    "##### Вариант 50\n",
    "$ f(x) = 2\\sqrt{4−7cos(x)} $"
   ]
  },
  {
   "cell_type": "markdown",
   "metadata": {},
   "source": [
    "### Индивидуальное задание.  \n",
    "Исследовать функцию $f(x)$, найти минимальное и максимальное значение на каком-нибудь конечном интервале, не содержащем точек разрыва, построить график.\n",
    "###### 1. Область определения"
   ]
  },
  {
   "cell_type": "code",
   "execution_count": 182,
   "metadata": {},
   "outputs": [
    {
     "name": "stdout",
     "output_type": "stream",
     "text": [
      "Function domain:\n"
     ]
    },
    {
     "data": {
      "text/latex": [
       "$\\displaystyle \\left[\\operatorname{atan}{\\left(\\frac{\\sqrt{33}}{4} \\right)}, - \\operatorname{atan}{\\left(\\frac{\\sqrt{33}}{4} \\right)} + 2 \\pi\\right]$"
      ],
      "text/plain": [
       "Interval(atan(sqrt(33)/4), -atan(sqrt(33)/4) + 2*pi)"
      ]
     },
     "metadata": {},
     "output_type": "display_data"
    }
   ],
   "source": [
    "from sympy.abc import x\n",
    "\n",
    "f = 2*sympy.sqrt(4 - 7*Cos(x))\n",
    "domain_f = continuous_domain(f, x, domain=S.Reals)\n",
    "print(\"Function domain:\")\n",
    "display(domain_f)"
   ]
  },
  {
   "cell_type": "markdown",
   "metadata": {},
   "source": [
    "Сингулярные точки (точки, где функция не определена)"
   ]
  },
  {
   "cell_type": "code",
   "execution_count": 183,
   "metadata": {},
   "outputs": [
    {
     "name": "stdout",
     "output_type": "stream",
     "text": [
      "Singularity points of the function:\n"
     ]
    },
    {
     "data": {
      "text/latex": [
       "$\\displaystyle \\emptyset$"
      ],
      "text/plain": [
       "EmptySet"
      ]
     },
     "metadata": {},
     "output_type": "display_data"
    }
   ],
   "source": [
    "singular_f = singularities(f, x, domain=S.Reals)\n",
    "print(\"Singularity points of the function:\")\n",
    "display(singular_f)"
   ]
  },
  {
   "cell_type": "markdown",
   "metadata": {},
   "source": [
    "###### 2. Область значений"
   ]
  },
  {
   "cell_type": "code",
   "execution_count": 184,
   "metadata": {},
   "outputs": [
    {
     "name": "stdout",
     "output_type": "stream",
     "text": [
      "Funtion range:\n"
     ]
    },
    {
     "data": {
      "text/latex": [
       "$\\displaystyle \\left[0, 2 \\sqrt{11}\\right]$"
      ],
      "text/plain": [
       "Interval(0, 2*sqrt(11))"
      ]
     },
     "metadata": {},
     "output_type": "display_data"
    }
   ],
   "source": [
    "e_f = function_range(f, x, domain=S.Reals)\n",
    "print(\"Funtion range:\")\n",
    "display(e_f)"
   ]
  },
  {
   "cell_type": "markdown",
   "metadata": {},
   "source": [
    "###### 3. Периодичность"
   ]
  },
  {
   "cell_type": "code",
   "execution_count": 185,
   "metadata": {},
   "outputs": [
    {
     "name": "stdout",
     "output_type": "stream",
     "text": [
      "Function periodicity:\n"
     ]
    },
    {
     "data": {
      "text/latex": [
       "$\\displaystyle 2 \\pi$"
      ],
      "text/plain": [
       "2*pi"
      ]
     },
     "metadata": {},
     "output_type": "display_data"
    }
   ],
   "source": [
    "period_f = periodicity(f, x, check=False)\n",
    "print(\"Function periodicity:\")\n",
    "display(period_f)"
   ]
  },
  {
   "cell_type": "markdown",
   "metadata": {},
   "source": [
    "###### 4. Стационарные точки"
   ]
  },
  {
   "cell_type": "code",
   "execution_count": 186,
   "metadata": {},
   "outputs": [
    {
     "name": "stdout",
     "output_type": "stream",
     "text": [
      "Stationary points of the function:\n"
     ]
    },
    {
     "data": {
      "text/latex": [
       "$\\displaystyle \\left\\{\\pi\\right\\}$"
      ],
      "text/plain": [
       "{pi}"
      ]
     },
     "metadata": {},
     "output_type": "display_data"
    }
   ],
   "source": [
    "stat_points_f = stationary_points(f, x)\n",
    "print(\"Stationary points of the function:\")\n",
    "display(stat_points_f)"
   ]
  },
  {
   "cell_type": "markdown",
   "metadata": {},
   "source": [
    "###### 5. Максимальное и минимальное значения функции"
   ]
  },
  {
   "cell_type": "code",
   "execution_count": 187,
   "metadata": {},
   "outputs": [
    {
     "name": "stdout",
     "output_type": "stream",
     "text": [
      "Min value of the function on the interval from 0 to 2π:\n"
     ]
    },
    {
     "data": {
      "text/latex": [
       "$\\displaystyle 0$"
      ],
      "text/plain": [
       "0"
      ]
     },
     "metadata": {},
     "output_type": "display_data"
    },
    {
     "name": "stdout",
     "output_type": "stream",
     "text": [
      "Max value of the function on the interval from 0 to 2π:\n"
     ]
    },
    {
     "data": {
      "text/latex": [
       "$\\displaystyle 2 \\sqrt{11}$"
      ],
      "text/plain": [
       "2*sqrt(11)"
      ]
     },
     "metadata": {},
     "output_type": "display_data"
    }
   ],
   "source": [
    "interval_max_f, interval_min_f = maximum(f, x, interval_f), minimum(f, x, interval_f)\n",
    "print(f\"Min value of the function {interval_name}:\")\n",
    "display(interval_min_f)\n",
    "print(f\"Max value of the function {interval_name}:\")\n",
    "display(interval_max_f)   "
   ]
  },
  {
   "cell_type": "markdown",
   "metadata": {},
   "source": [
    "###### 6. Монотонность  "
   ]
  },
  {
   "cell_type": "code",
   "execution_count": 188,
   "metadata": {},
   "outputs": [
    {
     "name": "stdout",
     "output_type": "stream",
     "text": [
      "Interval:\n"
     ]
    },
    {
     "data": {
      "text/latex": [
       "$\\displaystyle \\left(\\operatorname{atan}{\\left(\\frac{\\sqrt{33}}{4} \\right)}, - \\operatorname{atan}{\\left(\\frac{\\sqrt{33}}{4} \\right)} + 2 \\pi\\right)$"
      ],
      "text/plain": [
       "Interval.open(atan(sqrt(33)/4), -atan(sqrt(33)/4) + 2*pi)"
      ]
     },
     "metadata": {},
     "output_type": "display_data"
    },
    {
     "name": "stdout",
     "output_type": "stream",
     "text": [
      "Is monotonic: False\n",
      "Is increasing: False\n",
      "Is decreasing: False\n",
      "Is strictly increasing: False\n",
      "Is strictly decreasing: False\n",
      "\n"
     ]
    }
   ],
   "source": [
    "border_points = list(singular_f.union(domain_f.boundary))\n",
    "intervals = [\n",
    "    Interval.open(border_points[i], border_points[i + 1]) \\\n",
    "        for i in range(len(border_points) - 1)\n",
    "]\n",
    "for interval in intervals:\n",
    "    print(\"Interval:\")\n",
    "    display(interval)\n",
    "    if is_monotonic(f, interval=interval):\n",
    "        print(\"Is monotonic: True\")\n",
    "        print(\"Is increasing:\", is_increasing(f, interval=interval))\n",
    "        print(\"Is decreasing:\", is_decreasing(f, interval=interval))\n",
    "        print(\"Is strictly increasing:\", is_strictly_increasing(f, interval=interval))\n",
    "        print(\"Is strictly decreasing:\", is_strictly_decreasing(f, interval=interval))\n",
    "    else:\n",
    "        print(\"Is monotonic: False\")\n",
    "        print(\"Is increasing: False\")\n",
    "        print(\"Is decreasing: False\")\n",
    "        print(\"Is strictly increasing: False\")\n",
    "        print(\"Is strictly decreasing: False\")\n",
    "    print()"
   ]
  },
  {
   "cell_type": "markdown",
   "metadata": {},
   "source": [
    "###### 7. Минимальное и максимальное значение функции на интервале "
   ]
  },
  {
   "cell_type": "code",
   "execution_count": 189,
   "metadata": {},
   "outputs": [
    {
     "name": "stdout",
     "output_type": "stream",
     "text": [
      "Function values on the interval:\n"
     ]
    },
    {
     "data": {
      "text/latex": [
       "$\\displaystyle 2 \\sqrt{\\left\\langle -3, 11\\right\\rangle}$"
      ],
      "text/plain": [
       "2*sqrt(AccumBounds(-3, 11))"
      ]
     },
     "metadata": {},
     "output_type": "display_data"
    },
    {
     "name": "stdout",
     "output_type": "stream",
     "text": [
      "Function min value on the interval:\n"
     ]
    },
    {
     "data": {
      "text/latex": [
       "$\\displaystyle 0$"
      ],
      "text/plain": [
       "0"
      ]
     },
     "metadata": {},
     "output_type": "display_data"
    },
    {
     "name": "stdout",
     "output_type": "stream",
     "text": [
      "Function max value on the interval:\n"
     ]
    },
    {
     "data": {
      "text/latex": [
       "$\\displaystyle 2 \\sqrt{11}$"
      ],
      "text/plain": [
       "2*sqrt(11)"
      ]
     },
     "metadata": {},
     "output_type": "display_data"
    }
   ],
   "source": [
    "print(\"Function values on the interval:\")\n",
    "display(f.subs(x, AccumBounds(0, period_f)))\n",
    "print(\"Function min value on the interval:\")\n",
    "display(minimum(f, x, domain=domain_f))\n",
    "print(\"Function max value on the interval:\")\n",
    "display(maximum(f, x, domain=domain_f))"
   ]
  },
  {
   "cell_type": "markdown",
   "metadata": {},
   "source": [
    "###### График"
   ]
  },
  {
   "cell_type": "code",
   "execution_count": 190,
   "metadata": {},
   "outputs": [
    {
     "data": {
      "text/latex": [
       "$\\displaystyle 2 \\sqrt{4 - 7 \\cos{\\left(x \\right)}}$"
      ],
      "text/plain": [
       "2*sqrt(4 - 7*cos(x))"
      ]
     },
     "metadata": {},
     "output_type": "display_data"
    },
    {
     "data": {
      "text/plain": [
       "[Interval.open(atan(sqrt(33)/4), -atan(sqrt(33)/4) + 2*pi)]"
      ]
     },
     "metadata": {},
     "output_type": "display_data"
    },
    {
     "data": {
      "image/png": "[encoded data removed]",
      "text/plain": [
       "<Figure size 640x480 with 1 Axes>"
      ]
     },
     "metadata": {},
     "output_type": "display_data"
    }
   ],
   "source": [
    "EPSILON: float = 0.001\n",
    "p = plot(\n",
    "    title=r\"$y = 2\\sqrt{4−7cos(x)}$\",\n",
    "    xlabel = \"$x$\",\n",
    "    ylabel = \"$y$\",\n",
    "    ylim = (-16, 16),\n",
    "    xlim = (0, period_f),\n",
    "    show=False,\n",
    ")\n",
    "for interval in intervals:\n",
    "    p.append(\n",
    "        plot(\n",
    "            f, (x, interval.left + EPSILON, interval.right - EPSILON),\n",
    "            line_color='g',\n",
    "            show=False,\n",
    "        )[0]\n",
    "    )\n",
    "p.show()"
   ]
  }
 ],
 "metadata": {
  "kernelspec": {
   "display_name": ".venv",
   "language": "python",
   "name": "python3"
  },
  "language_info": {
   "codemirror_mode": {
    "name": "ipython",
    "version": 3
   },
   "file_extension": ".py",
   "mimetype": "text/x-python",
   "name": "python",
   "nbconvert_exporter": "python",
   "pygments_lexer": "ipython3",
   "version": "3.11.0 (main, Oct 24 2022, 18:26:48) [MSC v.1933 64 bit (AMD64)]"
  },
  "vscode": {
   "interpreter": {
    "hash": "71eaa566fe385e36f6a17cd041d95c99303ead46f5ef158c51eb2173e206bc3f"
   }
  }
 },
 "nbformat": 4,
 "nbformat_minor": 2
}
