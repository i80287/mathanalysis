{
 "cells": [
  {
   "cell_type": "markdown",
   "metadata": {},
   "source": [
    "## Занятие 4\n",
    "## Математический анализ\n",
    "## Анализ функции. Построение графика в matplotlib.pyplot\n",
    "https://matplotlib.org\n",
    "\n",
    "https://matplotlib.org/api/_as_gen/matplotlib.pyplot.plot.html\n",
    "\n",
    "https://matplotlib.org/tutorials/text/annotations.html\n",
    "\n",
    "https://matplotlib.org/gallery/recipes/centered_spines_with_arrows.html\n",
    "\n",
    "https://matplotlib.org/gallery/pyplots/axline.html#sphx-glr-gallery-pyplots-axline-py\n",
    "\n",
    "https://matplotlib.org/gallery/axisartist/demo_axisline_style.html#sphx-glr-gallery-axisartist-demo-axisline-style-py\n",
    "\n",
    "https://matplotlib.org/gallery/axisartist/simple_axisline2.html#sphx-glr-gallery-axisartist-simple-axisline2-py\n",
    "\n",
    "https://matplotlib.org/gallery/lines_bars_and_markers/markevery_demo.html#sphx-glr-gallery-lines-bars-and-markers-markevery-demo-py\n",
    "\n",
    "https://matplotlib.org/gallery/subplots_axes_and_figures/axes_props.html#sphx-glr-gallery-subplots-axes-and-figures-axes-props-py"
   ]
  },
  {
   "cell_type": "code",
   "execution_count": 1,
   "metadata": {},
   "outputs": [],
   "source": [
    "# Импорт библиотеки matplotlib.pyplot обычно осуществляется так:\n",
    "import matplotlib.pyplot as plt\n",
    "import sympy\n",
    "import numpy as np\n",
    "from sympy import Symbol, symbols, S, solve, solveset, latex\n",
    "from sympy.calculus.util import continuous_domain"
   ]
  },
  {
   "cell_type": "markdown",
   "metadata": {},
   "source": [
    "## Точки пересечения графика функции с осями координат\n",
    "Точка пересечения с OY графика функции $f(x)$ находится подстановкой $f(0)$, так что получается точка с координатами \n",
    "$(0, f(0)$.\n",
    "\n",
    "Точки пересечения с осью OX находятся как решения уравнения $f(x) = 0$.\n",
    "### Пример 1\n",
    "Найти точки пересечения графика функции $f(x) = 18x^4 + 57 x^3 - 46 x^2 - 231 x - 98$ с осями координат, построить график и отметить точки пересечения.\n",
    "\n",
    "Вначале решим уравнение $18x^4 + 57 x^3 - 46 x^2 - 231 x - 98 = 0$, используем solve, поскольку предполагается конечное число корней, не более четырех."
   ]
  },
  {
   "cell_type": "code",
   "execution_count": 2,
   "metadata": {},
   "outputs": [
    {
     "data": {
      "text/plain": [
       "[-7/3, -1/2, 2]"
      ]
     },
     "execution_count": 2,
     "metadata": {},
     "output_type": "execute_result"
    }
   ],
   "source": [
    "x = Symbol('x')\n",
    "def f(x):\n",
    "    return 18*x**4 + 57*x**3 - 46*x**2 - 231*x - 98\n",
    "roots = solve(f(x))\n",
    "roots"
   ]
  },
  {
   "cell_type": "markdown",
   "metadata": {},
   "source": [
    "Добавим с помощью append к списку roots 0, поскольку это горизонтальная координата точки пересечения с осью OY. \n",
    "\n",
    "Вычислим вертикальную координату точки пересечения с осью OY:"
   ]
  },
  {
   "cell_type": "code",
   "execution_count": 3,
   "metadata": {},
   "outputs": [
    {
     "data": {
      "text/plain": [
       "-98"
      ]
     },
     "execution_count": 3,
     "metadata": {},
     "output_type": "execute_result"
    }
   ],
   "source": [
    "point_OY = f(0)\n",
    "point_OY"
   ]
  },
  {
   "cell_type": "markdown",
   "metadata": {},
   "source": [
    "Построим график с помощью plot из библиотеки matplotlib.pyplot\n",
    "\n",
    "Поскольку библиотеку подключили как\n",
    "\n",
    "import matplotlib.pyplot as plt\n",
    "\n",
    "то plot вызывается как plt.plot\n",
    "\n",
    "Для построения графика нужно определить диапазон значений переменной, в нашем случае $x$, для этого можно использовать linspace из пакета numpy.\n",
    "Аргументы linspace, которые нам сейчас понадобятся это диапазон значений $x$ и соответствующий диапазон значений $f(x)$. "
   ]
  },
  {
   "cell_type": "code",
   "execution_count": 4,
   "metadata": {},
   "outputs": [
    {
     "data": {
      "text/plain": [
       "[<matplotlib.lines.Line2D at 0x1bc756b9cf8>]"
      ]
     },
     "execution_count": 4,
     "metadata": {},
     "output_type": "execute_result"
    },
    {
     "data": {
      "image/png": "[encoded data removed]",
      "text/plain": [
       "<Figure size 432x288 with 1 Axes>"
      ]
     },
     "metadata": {
      "needs_background": "light"
     },
     "output_type": "display_data"
    }
   ],
   "source": [
    "X = np.linspace(-3, 3, 100)\n",
    "plt.plot(X, f(X))"
   ]
  },
  {
   "cell_type": "markdown",
   "metadata": {},
   "source": [
    "Составим список вертикальных координат точек пересечения с осями, в нем все элементы, кроме последнего, равны нулю, \n",
    "поскольку это вертикальные координаты точек пересечения с осью OX, а последняя координата - \n",
    "вертикальная координата точки пересечения с осью OY:"
   ]
  },
  {
   "cell_type": "code",
   "execution_count": 5,
   "metadata": {},
   "outputs": [],
   "source": [
    "y_coord = [0]*len(roots) \n",
    "roots.append(0)\n",
    "y_coord.append(point_OY) "
   ]
  },
  {
   "cell_type": "markdown",
   "metadata": {},
   "source": [
    "Отметим на графике точки пересечения с осями, точки отмечаются с помощью scatter, в качестве аргументов передаются списки горизонтальных и вертикальных координат точек."
   ]
  },
  {
   "cell_type": "code",
   "execution_count": 6,
   "metadata": {},
   "outputs": [
    {
     "data": {
      "text/plain": [
       "<matplotlib.collections.PathCollection at 0x1bc75ede8d0>"
      ]
     },
     "execution_count": 6,
     "metadata": {},
     "output_type": "execute_result"
    },
    {
     "data": {
      "image/png": "[encoded data removed]",
      "text/plain": [
       "<Figure size 432x288 with 1 Axes>"
      ]
     },
     "metadata": {
      "needs_background": "light"
     },
     "output_type": "display_data"
    }
   ],
   "source": [
    "plt.scatter(roots, y_coord)"
   ]
  },
  {
   "cell_type": "markdown",
   "metadata": {},
   "source": [
    "Для того, чтобы точки и график изобразить в одной координатной плоскости в Jupyter Notebook, выполним вызовы plot и scatter в одной ячейке. Подписи к точкам можно выполнить с помощью метода annotate, только сначала нужно получить доступ к текущей системе координат, это делается с помощью метода gca. Строить график в таким случае следует ax.plot(X, f(X)), а не plt.plot(X, f(X)), чтобы не смешивать стили.\n",
    "\n",
    "Для лучшего понимания написаны комментарии, хотя при написании программ в реальной жизни так делать не нужно."
   ]
  },
  {
   "cell_type": "code",
   "execution_count": 7,
   "metadata": {},
   "outputs": [
    {
     "data": {
      "image/png": "[encoded data removed]",
      "text/plain": [
       "<Figure size 432x288 with 1 Axes>"
      ]
     },
     "metadata": {
      "needs_background": "light"
     },
     "output_type": "display_data"
    }
   ],
   "source": [
    "ax = plt.gca() # get current axes - получить текущую систему координат\n",
    "ax.plot(X, f(X))\n",
    "ax.scatter(roots, y_coord)\n",
    "for i, x_coord in enumerate(roots): # Чтобы не писать много раз один длинный код, сделаем подписи в цикле\n",
    "    ax.annotate('A' + str(i + 1),\n",
    "                xy=(x_coord, y_coord[i]), # Координаты подписываемой точки, туда ведет стрелка\n",
    "                xytext=(x_coord + 0.5, y_coord[i] + 100), # Координаты текста подписи, смещены от точки\n",
    "                arrowprops=dict(arrowstyle=\"->\", connectionstyle=\"arc3\"), # Описание стрелки\n",
    "                ) # Скобка на отдельной строчке, чтобы было видно, что скобки сбалансированы, это делать не обязательно"
   ]
  },
  {
   "cell_type": "markdown",
   "metadata": {},
   "source": [
    "Обычно используется такое изображение координатной плоскости, при котором график находится в прямоугольной рамке, левая сторона которой отражает масштаб по вертикальной оси, а нижняя - по горизонтальной.\n",
    "\n",
    "Если нужно получить \"русский\" вариант расположения координатных осей, можно сделать так:"
   ]
  },
  {
   "cell_type": "code",
   "execution_count": 8,
   "metadata": {},
   "outputs": [
    {
     "data": {
      "text/plain": [
       "<matplotlib.collections.PathCollection at 0x1bc76fbd080>"
      ]
     },
     "execution_count": 8,
     "metadata": {},
     "output_type": "execute_result"
    },
    {
     "data": {
      "image/png": "[encoded data removed]",
      "text/plain": [
       "<Figure size 432x288 with 1 Axes>"
      ]
     },
     "metadata": {
      "needs_background": "light"
     },
     "output_type": "display_data"
    }
   ],
   "source": [
    "ax = plt.gca() \n",
    "for i, x_coord in enumerate(roots): \n",
    "    ax.annotate('A' + str(i + 1),\n",
    "            xy=(x_coord, y_coord[i]), xycoords='data',\n",
    "            xytext=(x_coord + 0.5, y_coord[i] + 100), textcoords='data', \n",
    "            arrowprops=dict(arrowstyle=\"->\",\n",
    "                            connectionstyle=\"arc3\")) \n",
    "ax.spines['right'].set_color('none') # Правая сторона рамки стала бесцветной, но не исчезла!\n",
    "ax.spines['top'].set_color('none')\n",
    "ax.spines['bottom'].set_position(('data', 0)) # Нижняя сторона рамки переместилась в начало координат\n",
    "ax.spines['left'].set_position(('data', 0))    \n",
    "ax.plot(1, 0, \">k\", transform=ax.get_yaxis_transform(), clip_on=False)\n",
    "ax.plot(0, 1, \"^k\", transform=ax.get_xaxis_transform(), clip_on=False)\n",
    "ax.plot(X, f(X))\n",
    "ax.scatter(roots, y_coord)"
   ]
  },
  {
   "cell_type": "markdown",
   "metadata": {},
   "source": [
    "## Построение асимптот\n",
    "#### Асимптота графика функции \n",
    "прямая, такая, что расстояние от точки графика функции до этой прямой стремится к нулю при удалении точки в бесконечность.\n",
    "\n",
    "Вертикальная асимптота - прямая $x=x_0$, где $x_0$ - точка разрыва функции, разрыв I или II рода.\n",
    "\n",
    "Горизонтальная асимптота - прямая $y=y_0$, где $y_0=\\lim\\limits_{x\\to\\infty}f(x)$\n",
    "\n",
    "Наклонная асимптота - прямая $y=kx+b$, где $k=\\lim\\limits_{x\\to\\infty}\\frac{f(x)}{x}$, $b=\\lim\\limits_{x\\to\\infty}(f(x)-kx)$, если оба предела существуют и конечны.\n",
    "### Пример 2.\n",
    "Найдем асимптоты графика функции $f(x)=\\frac{3x^2-2x-1}{x-2}$\n",
    "и построим график.\n",
    "\n",
    "Вначале найдем нули знаменателя (вертикальные асимптоты) с помощью solveset; используем fraction, чтобы выделить числитель и знаменатель дроби:"
   ]
  },
  {
   "cell_type": "code",
   "execution_count": 9,
   "metadata": {},
   "outputs": [
    {
     "data": {
      "text/plain": [
       "[2]"
      ]
     },
     "execution_count": 9,
     "metadata": {},
     "output_type": "execute_result"
    }
   ],
   "source": [
    "def f(x):\n",
    "    return (3*x**2 - 2*x - 1)/(x - 2)\n",
    "fnum, fdenom = sympy.fraction(f(x)) \n",
    "v_as = sympy.solve(fdenom, x) \n",
    "v_as"
   ]
  },
  {
   "cell_type": "markdown",
   "metadata": {},
   "source": [
    "## limit\n",
    "Для вычисления пределов в Sympy есть limit, можно использовать как функцию или как метод. Вначале покажем, как использовать \n",
    "limit как функцию с аргументами имя функции, имя аргумента функции, предельная точка (или бесконечность). \n",
    "Вычислим пределы функции на бесконечности:"
   ]
  },
  {
   "cell_type": "code",
   "execution_count": 10,
   "metadata": {},
   "outputs": [
    {
     "data": {
      "text/plain": [
       "(oo, -oo)"
      ]
     },
     "execution_count": 10,
     "metadata": {},
     "output_type": "execute_result"
    }
   ],
   "source": [
    "y0pos = sympy.limit(f(x), x, +sympy.oo)\n",
    "y0neg = sympy.limit(f(x), x, -sympy.oo)\n",
    "y0pos, y0neg"
   ]
  },
  {
   "cell_type": "markdown",
   "metadata": {},
   "source": [
    "Теперь используем limit как метод:"
   ]
  },
  {
   "cell_type": "code",
   "execution_count": 11,
   "metadata": {},
   "outputs": [
    {
     "data": {
      "text/plain": [
       "(oo, -oo)"
      ]
     },
     "execution_count": 11,
     "metadata": {},
     "output_type": "execute_result"
    }
   ],
   "source": [
    "y0pos = f(x).limit(x, +sympy.oo)\n",
    "y0neg = f(x).limit(x, -sympy.oo)\n",
    "y0pos, y0neg"
   ]
  },
  {
   "cell_type": "markdown",
   "metadata": {},
   "source": [
    "Оба предела бесконечные, горизонтальных асимптот нет\n",
    "\n",
    "Ищем наклонные асимптоты:"
   ]
  },
  {
   "cell_type": "code",
   "execution_count": 12,
   "metadata": {},
   "outputs": [
    {
     "data": {
      "text/latex": [
       "$\\displaystyle 3$"
      ],
      "text/plain": [
       "3"
      ]
     },
     "execution_count": 12,
     "metadata": {},
     "output_type": "execute_result"
    }
   ],
   "source": [
    "kpos = sympy.limit(f(x)/x, x, +sympy.oo)\n",
    "kneg = sympy.limit(f(x)/x, x, -sympy.oo)\n",
    "if kpos == kneg:\n",
    "    k = kpos\n",
    "else:\n",
    "    k = (kneg, kpos)\n",
    "k"
   ]
  },
  {
   "cell_type": "markdown",
   "metadata": {},
   "source": [
    "В нашем случае возможна лишь одна наклонная асимптота. Вычисляем предел $\\lim_{x\\to\\infty}(f(x) - kx)$"
   ]
  },
  {
   "cell_type": "code",
   "execution_count": 13,
   "metadata": {},
   "outputs": [
    {
     "data": {
      "text/latex": [
       "$\\displaystyle 4$"
      ],
      "text/plain": [
       "4"
      ]
     },
     "execution_count": 13,
     "metadata": {},
     "output_type": "execute_result"
    }
   ],
   "source": [
    "b = sympy.limit(f(x) - k*x, x, sympy.oo)\n",
    "b"
   ]
  },
  {
   "cell_type": "markdown",
   "metadata": {},
   "source": [
    "$b < \\infty$, следовательно, $y = 3x + 4$ - наклонная асимптота."
   ]
  },
  {
   "cell_type": "code",
   "execution_count": 14,
   "metadata": {},
   "outputs": [
    {
     "data": {
      "text/latex": [
       "$\\displaystyle 3 x + 4$"
      ],
      "text/plain": [
       "3*x + 4"
      ]
     },
     "metadata": {},
     "output_type": "display_data"
    }
   ],
   "source": [
    "y_as = k*x + b\n",
    "display(y_as)"
   ]
  },
  {
   "cell_type": "markdown",
   "metadata": {},
   "source": [
    "Строим график функции и асимптот. Поскольку наклонная асимптота задана своей формулой, т.е. выражением expression, то для подстановки значений аргумента воспользуемся subs. Альтернатива - задать асимптоту функцией и подставлять значения $x$ как обычно подставляют аргументы в функцию.\n",
    "\n",
    "Для того, чтобы вертикальная асимптота не получилась \"автоматически\" и тем же цветом, что график функции (подумайте, почему?), разобъем график на две независимые части (X1, Y1) и (X2, Y2)."
   ]
  },
  {
   "cell_type": "code",
   "execution_count": 15,
   "metadata": {
    "scrolled": true
   },
   "outputs": [
    {
     "data": {
      "text/plain": [
       "[<matplotlib.lines.Line2D at 0x1bc77283198>]"
      ]
     },
     "execution_count": 15,
     "metadata": {},
     "output_type": "execute_result"
    },
    {
     "data": {
      "image/png": "[encoded data removed]",
      "text/plain": [
       "<Figure size 432x288 with 1 Axes>"
      ]
     },
     "metadata": {
      "needs_background": "light"
     },
     "output_type": "display_data"
    }
   ],
   "source": [
    "minY = -50  \n",
    "maxY = 50\n",
    "ax = plt.gca()\n",
    "ax.set(ylim=(minY, maxY))\n",
    "for item in v_as:\n",
    "    ax.axvline(x=item, color='red', linestyle='--')    \n",
    "X1 = np.linspace(-5, float(item - 0.01), 100) \n",
    "X2 = np.linspace(float(item + 0.01), 5, 100)\n",
    "Y1 = f(X1)\n",
    "Y2 = f(X2)\n",
    "ax.plot(X1, Y1, 'k-', label=r'$f(x)=' + sympy.latex(f(x)) + r'$') # График левой ветви функции\n",
    "ax.plot(X2, Y2, 'k-') # График правой ветви функции\n",
    "ax.plot([X1[0], X2[-1]], [y_as.subs(x, X1[0]), y_as.subs(x, X2[-1])], 'g--', \n",
    "         label=r'$asympt. y=' + sympy.latex(y_as) + r'$')# График наклонной асимптоты\n",
    "ax.legend(loc='best')\n",
    "ax.spines['right'].set_color('none')\n",
    "ax.spines['top'].set_color('none')\n",
    "ax.spines['bottom'].set_position(('data', 0))\n",
    "ax.spines['left'].set_position(('data', 0))\n",
    "ax.plot(1, 0, \">k\", transform=ax.get_yaxis_transform(), clip_on=False)\n",
    "ax.plot(0, 1, \"^k\", transform=ax.get_xaxis_transform(), clip_on=False)"
   ]
  },
  {
   "cell_type": "markdown",
   "metadata": {},
   "source": [
    "### Пример 3.\n",
    "Построим график периодической функции $f(x) = 2 tg(3x)$.\n",
    "Нам понядобятся как аналитические преобразования, так и численные, поэтому нужно будет обращаться к тангенсу и из Sympy, и из Numpy. Для удобства введем необязательный параметр lib, по умолчанию равный \"sympy\"."
   ]
  },
  {
   "cell_type": "code",
   "execution_count": 16,
   "metadata": {},
   "outputs": [],
   "source": [
    "x = Symbol('x')\n",
    "def f(x, lib='sympy'):\n",
    "    if lib == 'sympy':\n",
    "        tg = sympy.tan\n",
    "    elif lib == 'numpy':\n",
    "        tg = np.tan\n",
    "    else:\n",
    "        return 'Wrong library name, only sympy or numpy is allowed'\n",
    "    return 2*tg(3*x)   "
   ]
  },
  {
   "cell_type": "markdown",
   "metadata": {},
   "source": [
    "#### Область определения функции.\n",
    "Можно использовать continuous_domain из sympy.calculus.util.\n",
    "\n",
    "from sympy.calculus.util import continuous_domain  \n",
    "\n",
    "в начале файла написали именно для того, чтобы сейчас использовать. "
   ]
  },
  {
   "cell_type": "code",
   "execution_count": 17,
   "metadata": {},
   "outputs": [
    {
     "data": {
      "text/latex": [
       "$\\displaystyle \\mathbb{R} \\setminus \\left(\\left\\{\\frac{2 n \\pi}{3} + \\frac{\\pi}{6}\\; |\\; n \\in \\mathbb{Z}\\right\\} \\cup \\left\\{\\frac{2 n \\pi}{3} + \\frac{\\pi}{2}\\; |\\; n \\in \\mathbb{Z}\\right\\}\\right)$"
      ],
      "text/plain": [
       "Complement(Reals, Union(ImageSet(Lambda(_n, 2*_n*pi/3 + pi/6), Integers), ImageSet(Lambda(_n, 2*_n*pi/3 + pi/2), Integers)))"
      ]
     },
     "metadata": {},
     "output_type": "display_data"
    }
   ],
   "source": [
    "display(continuous_domain(f(x), x, S.Reals))"
   ]
  },
  {
   "cell_type": "markdown",
   "metadata": {},
   "source": [
    "#### Четность функции.\n",
    "Проверим выполнение $f(-x) = f(x)$ или $f(-x) = - f(x)$:"
   ]
  },
  {
   "cell_type": "code",
   "execution_count": 18,
   "metadata": {},
   "outputs": [
    {
     "data": {
      "text/plain": [
       "(False, True)"
      ]
     },
     "execution_count": 18,
     "metadata": {},
     "output_type": "execute_result"
    }
   ],
   "source": [
    "f(x) == f(-x), f(x) == - f(-x)"
   ]
  },
  {
   "cell_type": "markdown",
   "metadata": {},
   "source": [
    "Данная функция нечетная.\n",
    "#### Периодичность функции.\n",
    "Проверим выполнение $f(x + T) = f(x)$ при $T = \\pi/3$:"
   ]
  },
  {
   "cell_type": "code",
   "execution_count": 19,
   "metadata": {},
   "outputs": [
    {
     "data": {
      "text/plain": [
       "True"
      ]
     },
     "execution_count": 19,
     "metadata": {},
     "output_type": "execute_result"
    }
   ],
   "source": [
    "f(x + sympy.pi/3) == f(x)"
   ]
  },
  {
   "cell_type": "markdown",
   "metadata": {},
   "source": [
    "Функция периодична с периодом $T = \\pi/3$.\n",
    "#### Вертикальные асимптоты.\n",
    "У функции есть точки разрыва, вычислим пределы в одной из них, для вычисления предела слева изменим значение по умолчанию '+' необязательного аргумента dir на '-':"
   ]
  },
  {
   "cell_type": "code",
   "execution_count": 20,
   "metadata": {},
   "outputs": [
    {
     "name": "stdout",
     "output_type": "stream",
     "text": [
      "oo -oo\n"
     ]
    }
   ],
   "source": [
    "lim_pi_3_left = f(x).limit(x, sympy.pi/6, dir='-')\n",
    "lim_pi_3_right = f(x).limit(x, sympy.pi/6)\n",
    "print(lim_pi_3_left, lim_pi_3_right)"
   ]
  },
  {
   "cell_type": "markdown",
   "metadata": {},
   "source": [
    "Пределы бесконечные, значит, точка разрыва является вертикальной асимптотой.\n",
    "Из периодичности следует, что остальные точки разрыва тоже являются асимптотами.\n",
    "\n",
    "Используем \n",
    "\n",
    "ylim для того, чтобы установить пределы по оси OY,\n",
    "\n",
    "title для названия графика,\n",
    "\n",
    "legend для показа легенды,\n",
    "\n",
    "xticks для отметок по горизонтальной оси в точках вида $-\\pi/3 + \\pi n/6$, $n$ целое от 0 до 4."
   ]
  },
  {
   "cell_type": "code",
   "execution_count": 21,
   "metadata": {},
   "outputs": [
    {
     "data": {
      "text/plain": [
       "<matplotlib.legend.Legend at 0x1bc77325470>"
      ]
     },
     "execution_count": 21,
     "metadata": {},
     "output_type": "execute_result"
    },
    {
     "data": {
      "image/png": "[encoded data removed]",
      "text/plain": [
       "<Figure size 432x288 with 1 Axes>"
      ]
     },
     "metadata": {
      "needs_background": "light"
     },
     "output_type": "display_data"
    }
   ],
   "source": [
    "X = np.linspace(-np.pi/3, np.pi/3, 256)\n",
    "Y = f(X, lib='numpy')\n",
    "ax = plt.gca()  \n",
    "ax.spines['right'].set_color('none')\n",
    "ax.spines['top'].set_color('none')\n",
    "ax.spines['bottom'].set_position(('data', 0))\n",
    "ax.spines['left'].set_position(('data', 0))\n",
    "ax.plot(1, 0, \">k\", transform=ax.get_yaxis_transform(), clip_on=False)\n",
    "ax.plot(0, 1, \"^k\", transform=ax.get_xaxis_transform(), clip_on=False)\n",
    "ax.set_ylim(-10, 10)\n",
    "ax.set_title(r'Тангенс')\n",
    "ax.set_xticks([-np.pi/3 + np.pi*n/6 for n in range(5)])\n",
    "ax.set_xticklabels([r'$' + latex(- sympy.pi/3 + sympy.pi*n/6) + r'$' for n in range(5)]) \n",
    "ax.plot(X, Y, color='green', marker='o', linestyle='dashed', linewidth=2, markersize=3, \n",
    "         label=r'$f(x) = ' + latex(f(x)) + '$')\n",
    "# Альтернативный вариант записи - сокращенный, можно использовать любой, но столько не смешивать!\n",
    "# ax.plot(x, y, 'go--', linewidth=2, markersize=3, label=r'$'+latex(f(x))+'$')\n",
    "ax.legend(loc='upper right')"
   ]
  }
 ],
 "metadata": {
  "kernelspec": {
   "display_name": "Python 3",
   "language": "python",
   "name": "python3"
  },
  "language_info": {
   "codemirror_mode": {
    "name": "ipython",
    "version": 3
   },
   "file_extension": ".py",
   "mimetype": "text/x-python",
   "name": "python",
   "nbconvert_exporter": "python",
   "pygments_lexer": "ipython3",
   "version": "3.7.3"
  }
 },
 "nbformat": 4,
 "nbformat_minor": 2
}
