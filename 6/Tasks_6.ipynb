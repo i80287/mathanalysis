{
 "cells": [
  {
   "cell_type": "markdown",
   "metadata": {},
   "source": [
    "## Занятие 6\n",
    "## Математический анализ\n",
    "## Дифференцирование"
   ]
  },
  {
   "cell_type": "code",
   "execution_count": 12,
   "metadata": {},
   "outputs": [],
   "source": [
    "import numpy as np\n",
    "import matplotlib.pyplot as plt\n",
    "import sympy\n",
    "from sympy import diff, solve, nsolve, solveset, latex, S, simplify, fraction\n",
    "from sympy import sin as Sin\n",
    "from sympy.calculus.util import continuous_domain\n",
    "%matplotlib inline"
   ]
  },
  {
   "cell_type": "markdown",
   "metadata": {},
   "source": [
    "## Лабораторная работа 6\n",
    "## Математический анализ\n",
    "## Задание 1\n",
    "Исследовать функцию с помощью производной, найти необходимые пределы и решить уравнения.\n",
    "\n",
    "Построить график функции и асимптот, отметить и подписать точки экстремума и точки перегиба,\n",
    "включить функцию и асимптоты в легенду. \n",
    "$$\n",
    "y = x^2e^{-x}\n",
    "$$"
   ]
  },
  {
   "cell_type": "code",
   "execution_count": 13,
   "metadata": {},
   "outputs": [
    {
     "name": "stdout",
     "output_type": "stream",
     "text": [
      "Область определения функции:\n"
     ]
    },
    {
     "data": {
      "text/latex": [
       "$\\displaystyle \\mathbb{R}$"
      ],
      "text/plain": [
       "Reals"
      ]
     },
     "metadata": {},
     "output_type": "display_data"
    },
    {
     "name": "stdout",
     "output_type": "stream",
     "text": [
      "Функция не периодична\n",
      "\n",
      "Функция общего вида\n",
      "Производная первого порядка:\n"
     ]
    },
    {
     "data": {
      "text/latex": [
       "$\\displaystyle - x^{2} e^{- x} + 2 x e^{- x}$"
      ],
      "text/plain": [
       "-x**2*exp(-x) + 2*x*exp(-x)"
      ]
     },
     "metadata": {},
     "output_type": "display_data"
    },
    {
     "name": "stdout",
     "output_type": "stream",
     "text": [
      "Нули производной:\n"
     ]
    },
    {
     "data": {
      "text/plain": [
       "[0, 2]"
      ]
     },
     "metadata": {},
     "output_type": "display_data"
    },
    {
     "name": "stdout",
     "output_type": "stream",
     "text": [
      "Значения производной около нулей:\n"
     ]
    },
    {
     "data": {
      "text/plain": [
       "[-3*E, exp(-1), -3*exp(-3)]"
      ]
     },
     "metadata": {},
     "output_type": "display_data"
    },
    {
     "name": "stdout",
     "output_type": "stream",
     "text": [
      "Точки экстремума функции:\n"
     ]
    },
    {
     "data": {
      "text/plain": [
       "[0, 2]"
      ]
     },
     "metadata": {},
     "output_type": "display_data"
    },
    {
     "name": "stdout",
     "output_type": "stream",
     "text": [
      "Производная второго порядка:\n"
     ]
    },
    {
     "data": {
      "text/latex": [
       "$\\displaystyle \\left(x^{2} - 4 x + 2\\right) e^{- x}$"
      ],
      "text/plain": [
       "(x**2 - 4*x + 2)*exp(-x)"
      ]
     },
     "metadata": {},
     "output_type": "display_data"
    },
    {
     "name": "stdout",
     "output_type": "stream",
     "text": [
      "Нули производной второго порядка:\n"
     ]
    },
    {
     "data": {
      "text/plain": [
       "[2 - sqrt(2), sqrt(2) + 2]"
      ]
     },
     "metadata": {},
     "output_type": "display_data"
    },
    {
     "name": "stdout",
     "output_type": "stream",
     "text": [
      "Значения производной второго порядка около нулей:\n"
     ]
    },
    {
     "data": {
      "text/plain": [
       "[(-2 + (1 - sqrt(2))**2 + 4*sqrt(2))*exp(-1 + sqrt(2)),\n",
       " -2*exp(-2),\n",
       " (-10 - 4*sqrt(2) + (sqrt(2) + 3)**2)*exp(-3 - sqrt(2))]"
      ]
     },
     "metadata": {},
     "output_type": "display_data"
    },
    {
     "name": "stdout",
     "output_type": "stream",
     "text": [
      "Точки перегиба:\n"
     ]
    },
    {
     "data": {
      "text/plain": [
       "[2 - sqrt(2), sqrt(2) + 2]"
      ]
     },
     "metadata": {},
     "output_type": "display_data"
    },
    {
     "name": "stdout",
     "output_type": "stream",
     "text": [
      "Вертикальные асимптоты отсутствуют\n",
      "\n",
      "lim f(x) при x -> -oo:\n"
     ]
    },
    {
     "data": {
      "text/latex": [
       "$\\displaystyle \\infty$"
      ],
      "text/plain": [
       "oo"
      ]
     },
     "metadata": {},
     "output_type": "display_data"
    },
    {
     "name": "stdout",
     "output_type": "stream",
     "text": [
      "lim f(x) при x -> +oo:\n"
     ]
    },
    {
     "data": {
      "text/latex": [
       "$\\displaystyle 0$"
      ],
      "text/plain": [
       "0"
      ]
     },
     "metadata": {},
     "output_type": "display_data"
    },
    {
     "name": "stdout",
     "output_type": "stream",
     "text": [
      "Горизонтальная асимптота:\n",
      "y = 0\n",
      "\n",
      "k при x -> -oo:\n"
     ]
    },
    {
     "data": {
      "text/latex": [
       "$\\displaystyle -\\infty$"
      ],
      "text/plain": [
       "-oo"
      ]
     },
     "metadata": {},
     "output_type": "display_data"
    },
    {
     "name": "stdout",
     "output_type": "stream",
     "text": [
      "k при x -> +oo:\n"
     ]
    },
    {
     "data": {
      "text/latex": [
       "$\\displaystyle 0$"
      ],
      "text/plain": [
       "0"
      ]
     },
     "metadata": {},
     "output_type": "display_data"
    },
    {
     "data": {
      "image/png": "[encoded data removed]",
      "text/plain": [
       "<Figure size 640x480 with 1 Axes>"
      ]
     },
     "metadata": {},
     "output_type": "display_data"
    }
   ],
   "source": [
    "from sympy.abc import x\n",
    "from sympy.calculus.util import periodicity\n",
    "\n",
    "\n",
    "X_MIN: float; X_MAX: float\n",
    "\n",
    "\n",
    "def config_ax(ax):\n",
    "    global X_MIN, X_MAX\n",
    "    ax.set_title(\"$y = x^2  e^{-x}$\")\n",
    "    ax.legend(loc=\"right\")\n",
    "    ax.set_xlim(X_MIN, X_MAX)\n",
    "    ax.spines[\"right\"].set_color(\"none\")\n",
    "    ax.spines[\"top\"].set_color(\"none\")\n",
    "    ax.spines[\"bottom\"].set_position((\"data\", 0))\n",
    "    ax.spines[\"left\"].set_position((\"data\", 0))\n",
    "    ax.set_ylabel(\"$y$\", loc=\"top\")\n",
    "    ax.set_xlabel(\"$x$\", loc=\"right\")\n",
    "    ax.plot(1, 0, \"k>\", transform=ax.get_yaxis_transform(), clip_on=False)\n",
    "    ax.plot(0, 1, \"^k\", transform=ax.get_xaxis_transform(), clip_on=False)\n",
    "\n",
    "\n",
    "def annotate_extreme_points(extr_x, extr_y):\n",
    "    plt.scatter(extr_x, extr_y, color=\"purple\")\n",
    "    for i, x0 in enumerate(extr_x):\n",
    "        f0 = extr_y[i]\n",
    "        plt.annotate(\n",
    "            fr\"$\\left({latex(x0)},\\,{latex(f0)}\\right)$\",\n",
    "            xy=(x0, f0),\n",
    "            xycoords=\"data\",\n",
    "            xytext=(x0 + 0.2, f0 + 0.5),\n",
    "            textcoords=\"data\",\n",
    "            arrowprops={\n",
    "                \"arrowstyle\": \"->\",\n",
    "                \"connectionstyle\": \"arc3,rad=.2\",\n",
    "            }\n",
    "        )\n",
    "        plt.annotate(\n",
    "            f\"$Extr{i + 1}$\",\n",
    "            xy=(x0, f0),\n",
    "            xycoords=\"data\",\n",
    "            xytext=(-10, 10),\n",
    "            textcoords=\"offset points\",\n",
    "            fontsize=10,\n",
    "        )\n",
    "    \n",
    "\n",
    "def annotate_inflection_points(infl_x, infl_y):\n",
    "    plt.scatter(infl_x, infl_y, color=\"blue\")\n",
    "    for i, x0 in enumerate(infl_x):\n",
    "        f0 = infl_y[i]\n",
    "        plt.annotate(\n",
    "                fr\"$\\left({latex(x0)},\\,{latex(f0)}\\right)$\", \n",
    "                xy=(x0, f0), \n",
    "                xycoords=\"data\",\n",
    "                xytext=(x0 + 0.9, f0), \n",
    "                textcoords=\"data\", \n",
    "                fontsize=10,\n",
    "                arrowprops={\n",
    "                    \"arrowstyle\": \"->\", \n",
    "                    \"connectionstyle\": \"arc3,rad=.2\",\n",
    "                })\n",
    "        plt.annotate(\n",
    "            f\"$Inflect{i+1}$\", \n",
    "            xy=(x0, f0), \n",
    "            xycoords=\"data\",\n",
    "            xytext=(-10, 10), \n",
    "            textcoords=\"offset points\", \n",
    "            fontsize=10\n",
    "        )\n",
    "\n",
    "\n",
    "def f(x):\n",
    "    return x*x*sympy.E**(-x)\n",
    "\n",
    "\n",
    "def main():\n",
    "    domain_f = continuous_domain(f(x), x, domain=S.Reals)\n",
    "    print(\"Область определения функции:\")\n",
    "    display(domain_f)\n",
    "\n",
    "    period = periodicity(f(x), x)\n",
    "    if period:\n",
    "        print(\"Периодичность функции:\")\n",
    "        display(period)\n",
    "    else:\n",
    "        print(\"Функция не периодична\\n\")\n",
    "\n",
    "    if f(x) == f(-x):\n",
    "        print(\"Функция чётна\")\n",
    "    elif f(x) == -f(-x):\n",
    "        print(\"Функия нечётна\")\n",
    "    else:\n",
    "        print(\"Функция общего вида\")\n",
    "\n",
    "    df_x = f(x).diff(x)\n",
    "    print(\"Производная первого порядка:\")\n",
    "    display(df_x)\n",
    "    df_roots = sorted(solve(df_x, x))\n",
    "    print(\"Нули производной:\")\n",
    "    display(df_roots)\n",
    "\n",
    "    points = [df_roots[0] - 1] + \\\n",
    "            [(df_roots[i] + df_roots[i + 1]) / 2 for i in range(len(df_roots) - 1)] + \\\n",
    "            [df_roots[-1] + 1]\n",
    "    df_points = [df_x.subs(x, point) for point in points]\n",
    "    print(\"Значения производной около нулей:\")\n",
    "    display(df_points)\n",
    "\n",
    "    extreme_points = [root for i, root in enumerate(df_roots) if df_points[i] * df_points[i+1] < 0]\n",
    "    print(\"Точки экстремума функции:\")\n",
    "    display(extreme_points)\n",
    "    \n",
    "    df2_x = f(x).diff(x, 2)\n",
    "    print(\"Производная второго порядка:\")\n",
    "    display(df2_x)\n",
    "    df2_roots = sorted(solve(df2_x, x))\n",
    "    print(\"Нули производной второго порядка:\")\n",
    "    display(df2_roots)\n",
    "\n",
    "    points_2 = [df2_roots[0] - 1] + \\\n",
    "            [(df2_roots[i] + df2_roots[i + 1]) / 2 for i in range(len(df2_roots) - 1)] + \\\n",
    "            [df2_roots[-1] + 1]\n",
    "    df2_points = [df2_x.subs(x, point) for point in points_2]\n",
    "    print(\"Значения производной второго порядка около нулей:\")\n",
    "    display(df2_points)\n",
    "\n",
    "    inflection_poins = [root for i, root in enumerate(df2_roots) if df2_points[i] * df2_points[i+1] < 0]\n",
    "    print(\"Точки перегиба:\")\n",
    "    display(inflection_poins)\n",
    "    \n",
    "\n",
    "    numerator, denominator = sympy.fraction(f(x))\n",
    "    vert_asymptotes = solve(denominator)\n",
    "    if vert_asymptotes:\n",
    "        print(\"Вериткальные асимптоты:\")\n",
    "        display(*vert_asymptotes)\n",
    "    else:\n",
    "        print(\"Вертикальные асимптоты отсутствуют\\n\")\n",
    "    \n",
    "    lim_neg = f(x).limit(x, -sympy.oo)\n",
    "    print(\"lim f(x) при x -> -oo:\")\n",
    "    display(lim_neg)\n",
    "    lim_pos = f(x).limit(x, +sympy.oo)\n",
    "    print(\"lim f(x) при x -> +oo:\")\n",
    "    display(lim_pos)\n",
    "    print(\"Горизонтальная асимптота:\")\n",
    "    print(f\"y = {lim_pos}\\n\")\n",
    "    \n",
    "    k_neg = sympy.limit(f(x)/x, x, -sympy.oo)\n",
    "    print(\"k при x -> -oo:\")\n",
    "    display(k_neg)\n",
    "    k_pos = sympy.limit(f(x)/x, x, +sympy.oo)\n",
    "    print(\"k при x -> +oo:\")\n",
    "    display(k_pos)\n",
    "\n",
    "    global X_MIN, X_MAX\n",
    "    X_MIN = float(points[0])\n",
    "    X_MAX = float(points[-1]) + 3.0\n",
    "    x_space = np.linspace(X_MIN, X_MAX, 256)\n",
    "    plt.plot(\n",
    "        x_space, \n",
    "        f(x_space),\n",
    "        color='g',\n",
    "        label=\"$x^2  e^{-x}$\"\n",
    "    )\n",
    "    plt.axhline(\n",
    "        y=lim_pos, \n",
    "        color='r', \n",
    "        linestyle=\"--\",\n",
    "        label=f\"y = {lim_pos}\"\n",
    "    )\n",
    "\n",
    "    annotate_extreme_points(extreme_points, [f(p) for p in extreme_points])\n",
    "    annotate_inflection_points(inflection_poins, [f(p) for p in inflection_poins])\n",
    "    \n",
    "    config_ax(plt.gca())\n",
    "\n",
    "\n",
    "if __name__ == \"__main__\":\n",
    "    main()"
   ]
  },
  {
   "cell_type": "markdown",
   "metadata": {},
   "source": [
    "## Задание 2\n",
    "Исследовать функцию с помощью производной, найти необходимые пределы и решить уравнения.\n",
    "\n",
    "Построить график функции и асимптот, отметить и подписать точки экстремума и точки перегиба,\n",
    "включить функцию и асимптоты в легенду. \n",
    "$$\n",
    "y=xe^{2/x} + 1 \n",
    "$$"
   ]
  },
  {
   "cell_type": "code",
   "execution_count": 14,
   "metadata": {},
   "outputs": [
    {
     "name": "stdout",
     "output_type": "stream",
     "text": [
      "Область определения функции:\n"
     ]
    },
    {
     "data": {
      "text/latex": [
       "$\\displaystyle \\left(-\\infty, 0\\right) \\cup \\left(0, \\infty\\right)$"
      ],
      "text/plain": [
       "Union(Interval.open(-oo, 0), Interval.open(0, oo))"
      ]
     },
     "metadata": {},
     "output_type": "display_data"
    },
    {
     "name": "stdout",
     "output_type": "stream",
     "text": [
      "Функция не периодична\n",
      "\n",
      "Функция общего вида\n",
      "\n",
      "Производная первого порядка:\n"
     ]
    },
    {
     "data": {
      "text/latex": [
       "$\\displaystyle e^{\\frac{2}{x}} - \\frac{2 e^{\\frac{2}{x}}}{x}$"
      ],
      "text/plain": [
       "exp(2/x) - 2*exp(2/x)/x"
      ]
     },
     "metadata": {},
     "output_type": "display_data"
    },
    {
     "name": "stdout",
     "output_type": "stream",
     "text": [
      "Нули производной:\n"
     ]
    },
    {
     "data": {
      "text/plain": [
       "[2]"
      ]
     },
     "metadata": {},
     "output_type": "display_data"
    },
    {
     "name": "stdout",
     "output_type": "stream",
     "text": [
      "Значения производной около нулей:\n"
     ]
    },
    {
     "data": {
      "text/plain": [
       "[-exp(2), exp(2/3)/3]"
      ]
     },
     "metadata": {},
     "output_type": "display_data"
    },
    {
     "name": "stdout",
     "output_type": "stream",
     "text": [
      "Точки экстремума функции:\n"
     ]
    },
    {
     "data": {
      "text/plain": [
       "[2]"
      ]
     },
     "metadata": {},
     "output_type": "display_data"
    },
    {
     "name": "stdout",
     "output_type": "stream",
     "text": [
      "Производная второго порядка:\n"
     ]
    },
    {
     "data": {
      "text/latex": [
       "$\\displaystyle \\frac{4 e^{\\frac{2}{x}}}{x^{3}}$"
      ],
      "text/plain": [
       "4*exp(2/x)/x**3"
      ]
     },
     "metadata": {},
     "output_type": "display_data"
    },
    {
     "name": "stdout",
     "output_type": "stream",
     "text": [
      "Произодная второго порядка не обращается в ноль\n",
      "\n",
      "Есть вериткальная асимптота при x = 0\n",
      "\n",
      "lim f(x) при x -> -oo:\n"
     ]
    },
    {
     "data": {
      "text/latex": [
       "$\\displaystyle -\\infty$"
      ],
      "text/plain": [
       "-oo"
      ]
     },
     "metadata": {},
     "output_type": "display_data"
    },
    {
     "name": "stdout",
     "output_type": "stream",
     "text": [
      "lim f(x) при x -> +oo:\n"
     ]
    },
    {
     "data": {
      "text/latex": [
       "$\\displaystyle \\infty$"
      ],
      "text/plain": [
       "oo"
      ]
     },
     "metadata": {},
     "output_type": "display_data"
    },
    {
     "name": "stdout",
     "output_type": "stream",
     "text": [
      "Горизонтальная асимптота:\n",
      "y = oo\n",
      "\n",
      "k при x -> -oo:\n"
     ]
    },
    {
     "data": {
      "text/latex": [
       "$\\displaystyle 1$"
      ],
      "text/plain": [
       "1"
      ]
     },
     "metadata": {},
     "output_type": "display_data"
    },
    {
     "name": "stdout",
     "output_type": "stream",
     "text": [
      "k при x -> +oo:\n"
     ]
    },
    {
     "data": {
      "text/latex": [
       "$\\displaystyle 1$"
      ],
      "text/plain": [
       "1"
      ]
     },
     "metadata": {},
     "output_type": "display_data"
    },
    {
     "name": "stdout",
     "output_type": "stream",
     "text": [
      "b при x -> oo\n"
     ]
    },
    {
     "data": {
      "text/latex": [
       "$\\displaystyle 3$"
      ],
      "text/plain": [
       "3"
      ]
     },
     "metadata": {},
     "output_type": "display_data"
    },
    {
     "data": {
      "image/png": "[encoded data removed]",
      "text/plain": [
       "<Figure size 640x480 with 1 Axes>"
      ]
     },
     "metadata": {},
     "output_type": "display_data"
    }
   ],
   "source": [
    "from sympy.abc import x\n",
    "from sympy.calculus.util import periodicity\n",
    "\n",
    "X_MIN: float = -3.0\n",
    "X_MAX: float = 5.0\n",
    "\n",
    "\n",
    "def config_ax(ax):\n",
    "    global X_MIN, X_MAX\n",
    "    ax.set_title(\"$y = x^2  e^{-x}$\")\n",
    "    ax.legend(loc=\"right\")\n",
    "    ax.set_xlim(X_MIN, X_MAX)\n",
    "    ax.spines[\"right\"].set_color(\"none\")\n",
    "    ax.spines[\"top\"].set_color(\"none\")\n",
    "    ax.spines[\"bottom\"].set_position((\"data\", 0))\n",
    "    ax.spines[\"left\"].set_position((\"data\", 0))\n",
    "    ax.set_ylabel(\"$y$\", loc=\"top\")\n",
    "    ax.set_xlabel(\"$x$\", loc=\"right\")\n",
    "    ax.plot(1, 0, \"k>\", transform=ax.get_yaxis_transform(), clip_on=False)\n",
    "    ax.plot(0, 1, \"^k\", transform=ax.get_xaxis_transform(), clip_on=False)\n",
    "\n",
    "\n",
    "def annotate_extreme_points(extr_x, extr_y):\n",
    "    plt.scatter(extr_x, extr_y, color=\"purple\")\n",
    "    for i, x0 in enumerate(extr_x):\n",
    "        f0 = extr_y[i]\n",
    "        plt.annotate(\n",
    "            fr\"$\\left({latex(x0)},\\,{latex(f0)}\\right)$\",\n",
    "            xy=(x0, f0),\n",
    "            xycoords=\"data\",\n",
    "            xytext=(x0 + 1.5, f0 + 5),\n",
    "            textcoords=\"data\",\n",
    "            arrowprops={\n",
    "                \"arrowstyle\": \"->\",\n",
    "                \"connectionstyle\": \"arc3,rad=.2\",\n",
    "            }\n",
    "        )\n",
    "        plt.annotate(\n",
    "            f\"$Extr{i + 1}$\",\n",
    "            xy=(x0, f0),\n",
    "            xycoords=\"data\",\n",
    "            xytext=(-10, 10),\n",
    "            textcoords=\"offset points\",\n",
    "            fontsize=10,\n",
    "        )\n",
    "    \n",
    "\n",
    "def annotate_inflection_points(infl_x, infl_y):\n",
    "    plt.scatter(infl_x, infl_y, color=\"blue\")\n",
    "    for i, x0 in enumerate(infl_x):\n",
    "        f0 = infl_y[i]\n",
    "        plt.annotate(\n",
    "                fr\"$\\left({latex(x0)},\\,{latex(f0)}\\right)$\", \n",
    "                xy=(x0, f0), \n",
    "                xycoords=\"data\",\n",
    "                xytext=(x0 + 0.9, f0), \n",
    "                textcoords=\"data\", \n",
    "                fontsize=10,\n",
    "                arrowprops={\n",
    "                    \"arrowstyle\": \"->\", \n",
    "                    \"connectionstyle\": \"arc3,rad=.2\",\n",
    "                })\n",
    "        plt.annotate(\n",
    "            f\"$Inflect{i+1}$\", \n",
    "            xy=(x0, f0), \n",
    "            xycoords=\"data\",\n",
    "            xytext=(-10, 10), \n",
    "            textcoords=\"offset points\", \n",
    "            fontsize=10\n",
    "        )\n",
    "\n",
    "\n",
    "def f(x):\n",
    "    return x*sympy.E**(2/x) + 1\n",
    "\n",
    "\n",
    "def main():\n",
    "    domain_f = continuous_domain(f(x), x, domain=S.Reals)\n",
    "    print(\"Область определения функции:\")\n",
    "    display(domain_f)\n",
    "\n",
    "    period = periodicity(f(x), x)\n",
    "    if period:\n",
    "        print(\"Периодичность функции:\")\n",
    "        display(period)\n",
    "    else:\n",
    "        print(\"Функция не периодична\\n\")\n",
    "\n",
    "    if f(x) == f(-x):\n",
    "        print(\"Функция чётна\\n\")\n",
    "    elif f(x) == -f(-x):\n",
    "        print(\"Функия нечётна\\n\")\n",
    "    else:\n",
    "        print(\"Функция общего вида\\n\")\n",
    "\n",
    "    df_x = f(x).diff(x)\n",
    "    print(\"Производная первого порядка:\")\n",
    "    display(df_x)\n",
    "    df_roots = sorted(solve(df_x, x))\n",
    "    if df_roots:\n",
    "        print(\"Нули производной:\")\n",
    "        display(df_roots)\n",
    "\n",
    "        points = [df_roots[0] - 1] + \\\n",
    "                [(df_roots[i] + df_roots[i + 1]) / 2 for i in range(len(df_roots) - 1)] + \\\n",
    "                [df_roots[-1] + 1]\n",
    "        df_points = [df_x.subs(x, point) for point in points]\n",
    "        print(\"Значения производной около нулей:\")\n",
    "        display(df_points)\n",
    "\n",
    "        extreme_points = [root for i, root in enumerate(df_roots) if df_points[i] * df_points[i+1] < 0]\n",
    "        print(\"Точки экстремума функции:\")\n",
    "        display(extreme_points)\n",
    "        annotate_extreme_points(extreme_points, [f(p) for p in extreme_points])\n",
    "    else:\n",
    "        print(\"Производная не обращается в ноль\")\n",
    "    \n",
    "    df2_x = f(x).diff(x, 2)\n",
    "    print(\"Производная второго порядка:\")\n",
    "    display(df2_x)\n",
    "    df2_roots = sorted(solve(df2_x, x))\n",
    "    if df2_roots:\n",
    "        print(\"Нули производной второго порядка:\")\n",
    "        display(df2_roots)\n",
    "\n",
    "        points_2 = [df2_roots[0] - 1] + \\\n",
    "                [(df2_roots[i] + df2_roots[i + 1]) / 2 for i in range(len(df2_roots) - 1)] + \\\n",
    "                [df2_roots[-1] + 1]\n",
    "        df2_points = [df2_x.subs(x, point) for point in points_2]\n",
    "        print(\"Значения производной второго порядка около нулей:\")\n",
    "        display(df2_points)\n",
    "\n",
    "        inflection_poins = [root for i, root in enumerate(df2_roots) if df2_points[i] * df2_points[i+1] < 0]\n",
    "        print(\"Точки перегиба:\")\n",
    "        display(inflection_poins)\n",
    "        annotate_inflection_points(inflection_poins, [f(p) for p in inflection_poins])\n",
    "    else:\n",
    "        print(\"Произодная второго порядка не обращается в ноль\\n\")\n",
    "\n",
    "    \n",
    "    vert_asymptote = f(x).limit(x, 0)\n",
    "    if vert_asymptote is not sympy.nan:\n",
    "        print(\"Есть вериткальная асимптота при x = 0\\n\")\n",
    "        plt.axvline(x=0, color=\"blue\", linestyle=\"--\", label=\"horizontal asympt.$x = 0$\")   \n",
    "    else:\n",
    "        print(\"Вертикальные асимптоты отсутствуют\\n\")\n",
    "    \n",
    "    lim_neg = f(x).limit(x, -sympy.oo)\n",
    "    print(\"lim f(x) при x -> -oo:\")\n",
    "    display(lim_neg)\n",
    "    lim_pos = f(x).limit(x, +sympy.oo)\n",
    "    print(\"lim f(x) при x -> +oo:\")\n",
    "    display(lim_pos)\n",
    "    print(\"Горизонтальная асимптота:\")\n",
    "    print(f\"y = {lim_pos}\\n\")\n",
    "    \n",
    "    k_neg = sympy.limit(f(x)/x, x, -sympy.oo)\n",
    "    print(\"k при x -> -oo:\")\n",
    "    display(k_neg)\n",
    "    k_pos = sympy.limit(f(x)/x, x, +sympy.oo)\n",
    "    print(\"k при x -> +oo:\")\n",
    "    display(k_pos)\n",
    "    \n",
    "    k = k_pos if k_pos == k_neg else (k_neg, k_pos)\n",
    "    b = sympy.limit(f(x) - k*x, x, sympy.oo)\n",
    "    print(\"b при x -> oo\")\n",
    "    display(b)\n",
    "    if k and b:\n",
    "        y_asympy = k*x + b\n",
    "        plt.plot(\n",
    "            [X_MIN, X_MAX], \n",
    "            [y_asympy.subs(x, X_MIN), y_asympy.subs(x, X_MAX)], \n",
    "            \"r--\", \n",
    "            label=fr\"$asympt. y = {sympy.latex(y_asympy)}$\"\n",
    "        )\n",
    "\n",
    "    x_space_1 = np.linspace(X_MIN, -0.001, 64)\n",
    "    x_space_2 = np.linspace(0.5, X_MAX, 64)\n",
    "\n",
    "    plt.plot(\n",
    "        x_space_1, \n",
    "        f(x_space_1),\n",
    "        color='g',\n",
    "        label=\"$x^2  e^{-x}$\",\n",
    "    )\n",
    "    plt.plot(\n",
    "        x_space_2, \n",
    "        f(x_space_2),\n",
    "        color='g',\n",
    "    )\n",
    "    \n",
    "    config_ax(plt.gca())\n",
    "\n",
    "\n",
    "if __name__ == \"__main__\":\n",
    "    main()"
   ]
  },
  {
   "cell_type": "markdown",
   "metadata": {},
   "source": [
    "## Индивидуальное задание\n",
    "Исследовать функцию с помощью производной, найти необходимые пределы и решить уравнения.\n",
    "\n",
    "Построить график функции и асимптот (если есть), отметить и подписать точки экстремума и точки перегиба (если есть),\n",
    "включить функцию и асимптоты (если есть) в легенду. "
   ]
  },
  {
   "cell_type": "markdown",
   "metadata": {},
   "source": [
    "$$\n",
    "f(x) = (2x + 3) e^{6/x} + 1\n",
    "$$"
   ]
  },
  {
   "cell_type": "code",
   "execution_count": 19,
   "metadata": {},
   "outputs": [
    {
     "name": "stdout",
     "output_type": "stream",
     "text": [
      "Область определения функции:\n"
     ]
    },
    {
     "data": {
      "text/latex": [
       "$\\displaystyle \\left(-\\infty, 0\\right) \\cup \\left(0, \\infty\\right)$"
      ],
      "text/plain": [
       "Union(Interval.open(-oo, 0), Interval.open(0, oo))"
      ]
     },
     "metadata": {},
     "output_type": "display_data"
    },
    {
     "name": "stdout",
     "output_type": "stream",
     "text": [
      "Функция не периодична\n",
      "\n",
      "Функция общего вида\n",
      "\n",
      "Производная первого порядка:\n"
     ]
    },
    {
     "data": {
      "text/latex": [
       "$\\displaystyle 2 e^{\\frac{6}{x}} - \\frac{6 \\cdot \\left(2 x + 3\\right) e^{\\frac{6}{x}}}{x^{2}}$"
      ],
      "text/plain": [
       "2*exp(6/x) - 6*(2*x + 3)*exp(6/x)/x**2"
      ]
     },
     "metadata": {},
     "output_type": "display_data"
    },
    {
     "name": "stdout",
     "output_type": "stream",
     "text": [
      "Нули производной:\n"
     ]
    },
    {
     "data": {
      "text/plain": [
       "[3 - 3*sqrt(2), 3 + 3*sqrt(2)]"
      ]
     },
     "metadata": {},
     "output_type": "display_data"
    },
    {
     "name": "stdout",
     "output_type": "stream",
     "text": [
      "Значения производной около нулей:\n"
     ]
    },
    {
     "data": {
      "text/plain": [
       "[-6*(7 - 6*sqrt(2))*exp(6/(2 - 3*sqrt(2)))/(2 - 3*sqrt(2))**2 + 2*exp(6/(2 - 3*sqrt(2))),\n",
       " -4*exp(2),\n",
       " -6*(6*sqrt(2) + 11)*exp(6/(4 + 3*sqrt(2)))/(4 + 3*sqrt(2))**2 + 2*exp(6/(4 + 3*sqrt(2)))]"
      ]
     },
     "metadata": {},
     "output_type": "display_data"
    },
    {
     "name": "stdout",
     "output_type": "stream",
     "text": [
      "Точки экстремума функции:\n"
     ]
    },
    {
     "data": {
      "text/plain": [
       "[3 - 3*sqrt(2), 3 + 3*sqrt(2)]"
      ]
     },
     "metadata": {},
     "output_type": "display_data"
    },
    {
     "name": "stdout",
     "output_type": "stream",
     "text": [
      "Производная второго порядка:\n"
     ]
    },
    {
     "data": {
      "text/latex": [
       "$\\displaystyle \\frac{12 \\left(-2 + \\frac{2 x + 3}{x} + \\frac{3 \\cdot \\left(2 x + 3\\right)}{x^{2}}\\right) e^{\\frac{6}{x}}}{x^{2}}$"
      ],
      "text/plain": [
       "12*(-2 + (2*x + 3)/x + 3*(2*x + 3)/x**2)*exp(6/x)/x**2"
      ]
     },
     "metadata": {},
     "output_type": "display_data"
    },
    {
     "name": "stdout",
     "output_type": "stream",
     "text": [
      "Нули производной второго порядка:\n"
     ]
    },
    {
     "data": {
      "text/plain": [
       "[-1]"
      ]
     },
     "metadata": {},
     "output_type": "display_data"
    },
    {
     "name": "stdout",
     "output_type": "stream",
     "text": [
      "Значения производной второго порядка около нулей:\n"
     ]
    },
    {
     "data": {
      "text/plain": [
       "[-27*exp(-3)/4, 1.35670477910103e+32]"
      ]
     },
     "metadata": {},
     "output_type": "display_data"
    },
    {
     "name": "stdout",
     "output_type": "stream",
     "text": [
      "Точки перегиба:\n"
     ]
    },
    {
     "data": {
      "text/plain": [
       "[-1]"
      ]
     },
     "metadata": {},
     "output_type": "display_data"
    },
    {
     "name": "stdout",
     "output_type": "stream",
     "text": [
      "Есть вериткальная асимптота при x = 0\n",
      "\n",
      "lim f(x) при x -> -oo:\n"
     ]
    },
    {
     "data": {
      "text/latex": [
       "$\\displaystyle -\\infty$"
      ],
      "text/plain": [
       "-oo"
      ]
     },
     "metadata": {},
     "output_type": "display_data"
    },
    {
     "name": "stdout",
     "output_type": "stream",
     "text": [
      "lim f(x) при x -> +oo:\n"
     ]
    },
    {
     "data": {
      "text/latex": [
       "$\\displaystyle \\infty$"
      ],
      "text/plain": [
       "oo"
      ]
     },
     "metadata": {},
     "output_type": "display_data"
    },
    {
     "name": "stdout",
     "output_type": "stream",
     "text": [
      "Горизонтальная асимптота:\n",
      "y = oo\n",
      "\n",
      "k при x -> -oo:\n"
     ]
    },
    {
     "data": {
      "text/latex": [
       "$\\displaystyle 2$"
      ],
      "text/plain": [
       "2"
      ]
     },
     "metadata": {},
     "output_type": "display_data"
    },
    {
     "name": "stdout",
     "output_type": "stream",
     "text": [
      "k при x -> +oo:\n"
     ]
    },
    {
     "data": {
      "text/latex": [
       "$\\displaystyle 2$"
      ],
      "text/plain": [
       "2"
      ]
     },
     "metadata": {},
     "output_type": "display_data"
    },
    {
     "name": "stdout",
     "output_type": "stream",
     "text": [
      "b при x -> oo\n"
     ]
    },
    {
     "data": {
      "text/latex": [
       "$\\displaystyle 16$"
      ],
      "text/plain": [
       "16"
      ]
     },
     "metadata": {},
     "output_type": "display_data"
    },
    {
     "data": {
      "image/png": "[encoded data removed]",
      "text/plain": [
       "<Figure size 640x480 with 1 Axes>"
      ]
     },
     "metadata": {},
     "output_type": "display_data"
    }
   ],
   "source": [
    "X_MIN = -4.0\n",
    "X_MAX = 10.0\n",
    "\n",
    "def config_ax(ax):\n",
    "    global X_MIN, X_MAX\n",
    "    ax.set_title(\"$y = (2x + 3) e^{6/x} + 1$\")\n",
    "    ax.legend(loc=\"upper right\")\n",
    "    ax.set_xlim(X_MIN, X_MAX)\n",
    "    ax.set_ylim(-10, 120)\n",
    "    ax.spines[\"right\"].set_color(\"none\")\n",
    "    ax.spines[\"top\"].set_color(\"none\")\n",
    "    ax.spines[\"bottom\"].set_position((\"data\", 0))\n",
    "    ax.spines[\"left\"].set_position((\"data\", 0))\n",
    "    ax.set_ylabel(\"$y$\", loc=\"top\")\n",
    "    ax.set_xlabel(\"$x$\", loc=\"right\")\n",
    "    ax.plot(1, 0, \"k>\", transform=ax.get_yaxis_transform(), clip_on=False)\n",
    "    ax.plot(0, 1, \"^k\", transform=ax.get_xaxis_transform(), clip_on=False)\n",
    "\n",
    "\n",
    "def annotate_extreme_points(extr_x, extr_y):\n",
    "    plt.scatter(extr_x, extr_y, color=\"purple\")\n",
    "    for i, x0 in enumerate(extr_x):\n",
    "        f0 = extr_y[i]\n",
    "        plt.annotate(\n",
    "            fr\"$\\left({latex(x0)},\\,{latex(f0)}\\right)$\",\n",
    "            xy=(x0, f0),\n",
    "            xycoords=\"data\",\n",
    "            xytext=(x0 - 4, f0 + 20),\n",
    "            textcoords=\"data\",\n",
    "            arrowprops={\n",
    "                \"arrowstyle\": \"->\",\n",
    "                \"connectionstyle\": \"arc3,rad=.2\",\n",
    "            }\n",
    "        )\n",
    "        plt.annotate(\n",
    "            f\"$Extr{i + 1}$\",\n",
    "            xy=(x0 - 0.3, f0),\n",
    "            xycoords=\"data\",\n",
    "            xytext=(-10, 10),\n",
    "            textcoords=\"offset points\",\n",
    "            fontsize=10,\n",
    "        )\n",
    "    \n",
    "\n",
    "def annotate_inflection_points(infl_x, infl_y):\n",
    "    plt.scatter(infl_x, infl_y, color=\"blue\")\n",
    "    for i, x0 in enumerate(infl_x):\n",
    "        f0 = infl_y[i]\n",
    "        plt.annotate(\n",
    "                fr\"$\\left({latex(x0)},\\,{latex(f0)}\\right)$\", \n",
    "                xy=(x0, f0), \n",
    "                xycoords=\"data\",\n",
    "                xytext=(x0 + 2, f0 + 25), \n",
    "                textcoords=\"data\", \n",
    "                fontsize=10,\n",
    "                arrowprops={\n",
    "                    \"arrowstyle\": \"->\", \n",
    "                    \"connectionstyle\": \"arc3,rad=.2\",\n",
    "                })\n",
    "        plt.annotate(\n",
    "            f\"$Inflect{i+1}$\", \n",
    "            xy=(x0 - 0.1, f0 - 11), \n",
    "            xycoords=\"data\",\n",
    "            xytext=(-10, 10), \n",
    "            textcoords=\"offset points\", \n",
    "            fontsize=10\n",
    "        )\n",
    "\n",
    "\n",
    "def f(x):\n",
    "    return (2*x + 3)*sympy.E**(6/x) + 1\n",
    "    \n",
    "\n",
    "def main():\n",
    "    domain_f = continuous_domain(f(x), x, domain=S.Reals)\n",
    "    print(\"Область определения функции:\")\n",
    "    display(domain_f)\n",
    "\n",
    "    period = periodicity(f(x), x)\n",
    "    if period:\n",
    "        print(\"Периодичность функции:\")\n",
    "        display(period)\n",
    "    else:\n",
    "        print(\"Функция не периодична\\n\")\n",
    "\n",
    "    if f(x) == f(-x):\n",
    "        print(\"Функция чётна\\n\")\n",
    "    elif f(x) == -f(-x):\n",
    "        print(\"Функия нечётна\\n\")\n",
    "    else:\n",
    "        print(\"Функция общего вида\\n\")\n",
    "\n",
    "    df_x = f(x).diff(x)\n",
    "    print(\"Производная первого порядка:\")\n",
    "    display(df_x)\n",
    "    df_roots = sorted(solve(df_x, x))\n",
    "    if df_roots:\n",
    "        print(\"Нули производной:\")\n",
    "        display(df_roots)\n",
    "\n",
    "        points = [df_roots[0] - 1] + \\\n",
    "                [(df_roots[i] + df_roots[i + 1]) / 2 for i in range(len(df_roots) - 1)] + \\\n",
    "                [df_roots[-1] + 1]\n",
    "        df_points = [df_x.subs(x, point) for point in points]\n",
    "        print(\"Значения производной около нулей:\")\n",
    "        display(df_points)\n",
    "\n",
    "        extreme_points = [root for i, root in enumerate(df_roots) if df_points[i] * df_points[i+1] < 0]\n",
    "        print(\"Точки экстремума функции:\")\n",
    "        display(extreme_points)\n",
    "        annotate_extreme_points(extreme_points, [f(p) for p in extreme_points])\n",
    "    else:\n",
    "        print(\"Производная не обращается в ноль\")\n",
    "    \n",
    "    df2_x = f(x).diff(x, 2)\n",
    "    print(\"Производная второго порядка:\")\n",
    "    display(df2_x)\n",
    "    df2_roots = sorted(solve(df2_x, x))\n",
    "    if df2_roots:\n",
    "        print(\"Нули производной второго порядка:\")\n",
    "        display(df2_roots)\n",
    "\n",
    "        points_2 = [df2_roots[0] - 1] + \\\n",
    "                [(df2_roots[i] + df2_roots[i + 1]) / 2 for i in range(len(df2_roots) - 1)] + \\\n",
    "                [df2_roots[-1] + 1]\n",
    "        df2_points = [df2_x.subs(x, point) if df2_x.subs(x, point) is not sympy.nan else df2_x.subs(x, point + 0.1) for point in points_2]\n",
    "        print(\"Значения производной второго порядка около нулей:\")\n",
    "        display(df2_points)\n",
    "\n",
    "        inflection_poins = [root for i, root in enumerate(df2_roots) if df2_points[i] * df2_points[i+1] < 0]\n",
    "        print(\"Точки перегиба:\")\n",
    "        display(inflection_poins)\n",
    "        annotate_inflection_points(inflection_poins, [f(p) for p in inflection_poins])\n",
    "    else:\n",
    "        print(\"Произодная второго порядка не обращается в ноль\")\n",
    "\n",
    "    vert_asymptote = f(x).limit(x, 0)\n",
    "    if vert_asymptote is not sympy.nan:\n",
    "        print(\"Есть вериткальная асимптота при x = 0\\n\")\n",
    "        plt.axvline(x=0, color=\"blue\", linestyle=\"--\", label=\"horizontal asympt.$x = 0$\")   \n",
    "    else:\n",
    "        print(\"Вертикальные асимптоты отсутствуют\\n\")\n",
    "    \n",
    "    lim_neg = f(x).limit(x, -sympy.oo)\n",
    "    print(\"lim f(x) при x -> -oo:\")\n",
    "    display(lim_neg)\n",
    "    lim_pos = f(x).limit(x, +sympy.oo)\n",
    "    print(\"lim f(x) при x -> +oo:\")\n",
    "    display(lim_pos)\n",
    "    print(\"Горизонтальная асимптота:\")\n",
    "    print(f\"y = {lim_pos}\\n\")\n",
    "    \n",
    "    k_neg = sympy.limit(f(x)/x, x, -sympy.oo)\n",
    "    print(\"k при x -> -oo:\")\n",
    "    display(k_neg)\n",
    "    k_pos = sympy.limit(f(x)/x, x, +sympy.oo)\n",
    "    print(\"k при x -> +oo:\")\n",
    "    display(k_pos)\n",
    "    \n",
    "    k = k_pos if k_pos == k_neg else (k_neg, k_pos)\n",
    "    b = sympy.limit(f(x) - k*x, x, sympy.oo)\n",
    "    print(\"b при x -> oo\")\n",
    "    display(b)\n",
    "    if k and b:\n",
    "        y_asympy = k*x + b\n",
    "        plt.plot(\n",
    "            [X_MIN, X_MAX], \n",
    "            [y_asympy.subs(x, X_MIN), y_asympy.subs(x, X_MAX)], \n",
    "            \"r--\", \n",
    "            label=fr\"$asympt. y = {sympy.latex(y_asympy)}$\"\n",
    "        )\n",
    "\n",
    "    \n",
    "    x_space_1 = np.linspace(X_MIN, -0.001, 128)\n",
    "    x_space_2 = np.linspace(2.2, X_MAX, 128)\n",
    "\n",
    "    plt.plot(\n",
    "        x_space_1, \n",
    "        f(x_space_1),\n",
    "        color='g',\n",
    "        label=\"$x^2  e^{-x}$\",\n",
    "    )\n",
    "    plt.plot(\n",
    "        x_space_2, \n",
    "        f(x_space_2),\n",
    "        color='g',\n",
    "    )\n",
    "\n",
    "    config_ax(plt.gca())\n",
    "\n",
    "\n",
    "if __name__ == \"__main__\":\n",
    "    main()"
   ]
  }
 ],
 "metadata": {
  "kernelspec": {
   "display_name": "Python 3.10.6 ('.venv': venv)",
   "language": "python",
   "name": "python3"
  },
  "language_info": {
   "codemirror_mode": {
    "name": "ipython",
    "version": 3
   },
   "file_extension": ".py",
   "mimetype": "text/x-python",
   "name": "python",
   "nbconvert_exporter": "python",
   "pygments_lexer": "ipython3",
   "version": "3.10.6"
  },
  "vscode": {
   "interpreter": {
    "hash": "425e6e564a40dbe62e7e4186601ed0b5ee2802309dcd5b8a3bfeeec5a9015a7b"
   }
  }
 },
 "nbformat": 4,
 "nbformat_minor": 2
}
