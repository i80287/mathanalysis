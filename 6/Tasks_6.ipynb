{
 "cells": [
  {
   "cell_type": "markdown",
   "metadata": {},
   "source": [
    "## Занятие 6\n",
    "## Математический анализ\n",
    "## Дифференцирование"
   ]
  },
  {
   "cell_type": "code",
   "execution_count": 2,
   "metadata": {},
   "outputs": [],
   "source": [
    "import numpy as np\n",
    "import matplotlib.pyplot as plt\n",
    "import sympy\n",
    "from sympy import diff, solve, nsolve, solveset, latex, S, simplify, fraction\n",
    "from sympy import sin as Sin\n",
    "from sympy.calculus.util import continuous_domain\n",
    "%matplotlib inline"
   ]
  },
  {
   "cell_type": "markdown",
   "metadata": {},
   "source": [
    "## Лабораторная работа 6\n",
    "## Математический анализ\n",
    "## Задание 1\n",
    "Исследовать функцию с помощью производной, найти необходимые пределы и решить уравнения.\n",
    "\n",
    "Построить график функции и асимптот, отметить и подписать точки экстремума и точки перегиба,\n",
    "включить функцию и асимптоты в легенду. \n",
    "$$\n",
    "y = x^2e^{-x}\n",
    "$$"
   ]
  },
  {
   "cell_type": "code",
   "execution_count": 98,
   "metadata": {},
   "outputs": [
    {
     "name": "stdout",
     "output_type": "stream",
     "text": [
      "Область определения функции:\n"
     ]
    },
    {
     "data": {
      "text/latex": [
       "$\\displaystyle \\mathbb{R}$"
      ],
      "text/plain": [
       "Reals"
      ]
     },
     "metadata": {},
     "output_type": "display_data"
    },
    {
     "name": "stdout",
     "output_type": "stream",
     "text": [
      "Производная первого порядка:\n"
     ]
    },
    {
     "data": {
      "text/latex": [
       "$\\displaystyle - x^{2} e^{- x} + 2 x e^{- x}$"
      ],
      "text/plain": [
       "-x**2*exp(-x) + 2*x*exp(-x)"
      ]
     },
     "metadata": {},
     "output_type": "display_data"
    },
    {
     "name": "stdout",
     "output_type": "stream",
     "text": [
      "Нули производной:\n"
     ]
    },
    {
     "data": {
      "text/plain": [
       "[0, 2]"
      ]
     },
     "metadata": {},
     "output_type": "display_data"
    },
    {
     "name": "stdout",
     "output_type": "stream",
     "text": [
      "Значения производной около нулей:\n"
     ]
    },
    {
     "data": {
      "text/plain": [
       "[-3*E, exp(-1), -3*exp(-3)]"
      ]
     },
     "metadata": {},
     "output_type": "display_data"
    },
    {
     "name": "stdout",
     "output_type": "stream",
     "text": [
      "Точки экстремума функции:\n"
     ]
    },
    {
     "data": {
      "text/plain": [
       "[0, 2]"
      ]
     },
     "metadata": {},
     "output_type": "display_data"
    },
    {
     "name": "stdout",
     "output_type": "stream",
     "text": [
      "Производная второго порядка:\n"
     ]
    },
    {
     "data": {
      "text/latex": [
       "$\\displaystyle \\left(x^{2} - 4 x + 2\\right) e^{- x}$"
      ],
      "text/plain": [
       "(x**2 - 4*x + 2)*exp(-x)"
      ]
     },
     "metadata": {},
     "output_type": "display_data"
    },
    {
     "name": "stdout",
     "output_type": "stream",
     "text": [
      "Нули производной второго порядка:\n"
     ]
    },
    {
     "data": {
      "text/plain": [
       "[2 - sqrt(2), sqrt(2) + 2]"
      ]
     },
     "metadata": {},
     "output_type": "display_data"
    },
    {
     "name": "stdout",
     "output_type": "stream",
     "text": [
      "Значения производной второго порядка около нулей:\n"
     ]
    },
    {
     "data": {
      "text/plain": [
       "[(-2 + (1 - sqrt(2))**2 + 4*sqrt(2))*exp(-1 + sqrt(2)),\n",
       " -2*exp(-2),\n",
       " (-10 - 4*sqrt(2) + (sqrt(2) + 3)**2)*exp(-3 - sqrt(2))]"
      ]
     },
     "metadata": {},
     "output_type": "display_data"
    },
    {
     "name": "stdout",
     "output_type": "stream",
     "text": [
      "Точки перегиба:\n"
     ]
    },
    {
     "data": {
      "text/plain": [
       "[2 - sqrt(2), sqrt(2) + 2]"
      ]
     },
     "metadata": {},
     "output_type": "display_data"
    },
    {
     "name": "stdout",
     "output_type": "stream",
     "text": [
      "Вертикальные асимптоты отсутствуют\n",
      "\n",
      "lim f(x) при x -> -oo:\n"
     ]
    },
    {
     "data": {
      "text/latex": [
       "$\\displaystyle \\infty$"
      ],
      "text/plain": [
       "oo"
      ]
     },
     "metadata": {},
     "output_type": "display_data"
    },
    {
     "name": "stdout",
     "output_type": "stream",
     "text": [
      "lim f(x) при x -> +oo:\n"
     ]
    },
    {
     "data": {
      "text/latex": [
       "$\\displaystyle 0$"
      ],
      "text/plain": [
       "0"
      ]
     },
     "metadata": {},
     "output_type": "display_data"
    },
    {
     "name": "stdout",
     "output_type": "stream",
     "text": [
      "Горизонтальная асимптота:\n",
      "y = 0\n",
      "\n",
      "k при x -> -oo:\n"
     ]
    },
    {
     "data": {
      "text/latex": [
       "$\\displaystyle -\\infty$"
      ],
      "text/plain": [
       "-oo"
      ]
     },
     "metadata": {},
     "output_type": "display_data"
    },
    {
     "name": "stdout",
     "output_type": "stream",
     "text": [
      "k при x -> +oo:\n"
     ]
    },
    {
     "data": {
      "text/latex": [
       "$\\displaystyle 0$"
      ],
      "text/plain": [
       "0"
      ]
     },
     "metadata": {},
     "output_type": "display_data"
    },
    {
     "data": {
      "image/png": "[encoded data removed]",
      "text/plain": [
       "<Figure size 640x480 with 1 Axes>"
      ]
     },
     "metadata": {},
     "output_type": "display_data"
    }
   ],
   "source": [
    "from sympy.abc import x\n",
    "\n",
    "\n",
    "X_MIN: float\n",
    "X_MAX: float\n",
    "\n",
    "\n",
    "def config_ax(ax):\n",
    "    global X_MIN, X_MAX\n",
    "    ax.set_title(\"$y = x^2  e^{-x}$\")\n",
    "    ax.legend(loc=\"right\")\n",
    "    ax.set_xlim(X_MIN, X_MAX)\n",
    "    ax.spines[\"right\"].set_color(\"none\")\n",
    "    ax.spines[\"top\"].set_color(\"none\")\n",
    "    ax.spines[\"bottom\"].set_position((\"data\", 0))\n",
    "    ax.spines[\"left\"].set_position((\"data\", 0))\n",
    "    ax.set_ylabel(\"$y$\", loc=\"top\")\n",
    "    ax.set_xlabel(\"$x$\", loc=\"right\")\n",
    "    ax.plot(1, 0, \"k>\", transform=ax.get_yaxis_transform(), clip_on=False)\n",
    "    ax.plot(0, 1, \"^k\", transform=ax.get_xaxis_transform(), clip_on=False)\n",
    "    \n",
    "\n",
    "def f(x):\n",
    "    return x*x*sympy.E**(-x)\n",
    "\n",
    "\n",
    "def main():\n",
    "    domain_f = continuous_domain(f(x), x, domain=S.Reals)\n",
    "    print(\"Область определения функции:\")\n",
    "    display(domain_f)\n",
    "\n",
    "    df_x = f(x).diff(x)\n",
    "    print(\"Производная первого порядка:\")\n",
    "    display(df_x)\n",
    "    df_roots = sorted(solve(df_x, x))\n",
    "    print(\"Нули производной:\")\n",
    "    display(df_roots)\n",
    "\n",
    "    points = [df_roots[0] - 1] + \\\n",
    "            [(df_roots[i] + df_roots[i + 1]) / 2 for i in range(len(df_roots) - 1)] + \\\n",
    "            [df_roots[-1] + 1]\n",
    "    df_points = [df_x.subs(x, point) for point in points]\n",
    "    print(\"Значения производной около нулей:\")\n",
    "    display(df_points)\n",
    "\n",
    "    extreme_points = [root for i, root in enumerate(df_roots) if df_points[i] * df_points[i+1] < 0]\n",
    "    print(\"Точки экстремума функции:\")\n",
    "    display(extreme_points)\n",
    "    \n",
    "    df2_x = f(x).diff(x, 2)\n",
    "    print(\"Производная второго порядка:\")\n",
    "    display(df2_x)\n",
    "    df2_roots = sorted(solve(df2_x, x))\n",
    "    print(\"Нули производной второго порядка:\")\n",
    "    display(df2_roots)\n",
    "\n",
    "    points_2 = [df2_roots[0] - 1] + \\\n",
    "            [(df2_roots[i] + df2_roots[i + 1]) / 2 for i in range(len(df2_roots) - 1)] + \\\n",
    "            [df2_roots[-1] + 1]\n",
    "    df2_points = [df2_x.subs(x, point) for point in points_2]\n",
    "    print(\"Значения производной второго порядка около нулей:\")\n",
    "    display(df2_points)\n",
    "\n",
    "    inflection_poins = [root for i, root in enumerate(df2_roots) if df2_points[i] * df2_points[i+1] < 0]\n",
    "    print(\"Точки перегиба:\")\n",
    "    display(inflection_poins)\n",
    "    \n",
    "\n",
    "    numerator, denominator = sympy.fraction(f(x))\n",
    "    vert_asymptotes = solve(denominator)\n",
    "    if vert_asymptotes:\n",
    "        print(\"Вериткальные асимптоты:\")\n",
    "        display(*vert_asymptotes)\n",
    "    else:\n",
    "        print(\"Вертикальные асимптоты отсутствуют\\n\")\n",
    "    \n",
    "    lim_neg = f(x).limit(x, -sympy.oo)\n",
    "    print(\"lim f(x) при x -> -oo:\")\n",
    "    display(lim_neg)\n",
    "    lim_pos = f(x).limit(x, +sympy.oo)\n",
    "    print(\"lim f(x) при x -> +oo:\")\n",
    "    display(lim_pos)\n",
    "    print(\"Горизонтальная асимптота:\")\n",
    "    print(f\"y = {lim_pos}\\n\")\n",
    "    \n",
    "    k_neg = sympy.limit(f(x)/x, x, -sympy.oo)\n",
    "    print(\"k при x -> -oo:\")\n",
    "    display(k_neg)\n",
    "    k_pos = sympy.limit(f(x)/x, x, +sympy.oo)\n",
    "    print(\"k при x -> +oo:\")\n",
    "    display(k_pos)\n",
    "\n",
    "    global X_MIN, X_MAX\n",
    "    X_MIN = float(points[0])\n",
    "    X_MAX = float(points[-1]) + 3.0\n",
    "    x_space = np.linspace(X_MIN, X_MAX, 256)\n",
    "    plt.plot(\n",
    "        x_space, \n",
    "        f(x_space),\n",
    "        color='g',\n",
    "        label=\"$x^2  e^{-x}$\"\n",
    "    )\n",
    "    plt.axhline(\n",
    "        y=lim_pos, \n",
    "        color='r', \n",
    "        linestyle=\"--\",\n",
    "        label=f\"y = {lim_pos}\"\n",
    "    )\n",
    "\n",
    "    extreme_y = [f(p) for p in extreme_points]\n",
    "    plt.scatter(extreme_points, extreme_y, color=\"purple\")\n",
    "    for i, x0 in enumerate(extreme_points):\n",
    "        f0 = extreme_y[i]\n",
    "        plt.annotate(\n",
    "            fr\"$\\left({latex(x0)},\\,{latex(f0)}\\right)$\",\n",
    "            xy=(x0, f0),\n",
    "            xycoords=\"data\",\n",
    "            xytext=(x0 + 0.2, f0 + 0.5),\n",
    "            textcoords=\"data\",\n",
    "            arrowprops={\n",
    "                \"arrowstyle\": \"->\",\n",
    "                \"connectionstyle\": \"arc3,rad=.2\",\n",
    "            }\n",
    "        )\n",
    "        plt.annotate(\n",
    "            f\"$Extr{i + 1}$\",\n",
    "            xy=(x0, f0),\n",
    "            xycoords=\"data\",\n",
    "            xytext=(-10, 10),\n",
    "            textcoords=\"offset points\",\n",
    "            fontsize=10,\n",
    "        )\n",
    "    \n",
    "    inflection_y = [f(p) for p in inflection_poins]\n",
    "    plt.scatter(inflection_poins, inflection_y, color='r')\n",
    "    for i, x0 in enumerate(inflection_poins):\n",
    "        f0 = inflection_y[i]\n",
    "        plt.annotate(\n",
    "                fr\"$\\left({latex(x0)},\\,{latex(f0)}\\right)$\", \n",
    "                xy=(x0, f0), \n",
    "                xycoords=\"data\",\n",
    "                xytext=(x0 + 0.9, f0), \n",
    "                textcoords=\"data\", \n",
    "                fontsize=10,\n",
    "                arrowprops={\n",
    "                    \"arrowstyle\": \"->\", \n",
    "                    \"connectionstyle\": \"arc3,rad=.2\",\n",
    "                })\n",
    "        plt.annotate(\n",
    "            f\"$Inflect{i+1}$\", \n",
    "            xy=(x0, f0), \n",
    "            xycoords=\"data\",\n",
    "            xytext=(-10, 10), \n",
    "            textcoords=\"offset points\", \n",
    "            fontsize=10\n",
    "        )\n",
    "\n",
    "    config_ax(plt.gca())\n",
    "\n",
    "\n",
    "if __name__ == \"__main__\":\n",
    "    main()"
   ]
  },
  {
   "cell_type": "markdown",
   "metadata": {},
   "source": [
    "## Задание 2\n",
    "Исследовать функцию с помощью производной, найти необходимые пределы и решить уравнения.\n",
    "\n",
    "Построить график функции и асимптот, отметить и подписать точки экстремума и точки перегиба,\n",
    "включить функцию и асимптоты в легенду. \n",
    "$$\n",
    "y=xe^{2/x} + 1 \n",
    "$$"
   ]
  },
  {
   "cell_type": "code",
   "execution_count": null,
   "metadata": {},
   "outputs": [],
   "source": []
  },
  {
   "cell_type": "markdown",
   "metadata": {},
   "source": [
    "## Индивидуальное задание\n",
    "Исследовать функцию с помощью производной, найти необходимые пределы и решить уравнения.\n",
    "\n",
    "Построить график функции и асимптот (если есть), отметить и подписать точки экстремума и точки перегиба (если есть),\n",
    "включить функцию и асимптоты (если есть) в легенду. "
   ]
  },
  {
   "cell_type": "code",
   "execution_count": null,
   "metadata": {},
   "outputs": [],
   "source": []
  }
 ],
 "metadata": {
  "kernelspec": {
   "display_name": "Python 3.11.0 ('.venv': venv)",
   "language": "python",
   "name": "python3"
  },
  "language_info": {
   "codemirror_mode": {
    "name": "ipython",
    "version": 3
   },
   "file_extension": ".py",
   "mimetype": "text/x-python",
   "name": "python",
   "nbconvert_exporter": "python",
   "pygments_lexer": "ipython3",
   "version": "3.11.0"
  },
  "vscode": {
   "interpreter": {
    "hash": "71eaa566fe385e36f6a17cd041d95c99303ead46f5ef158c51eb2173e206bc3f"
   }
  }
 },
 "nbformat": 4,
 "nbformat_minor": 2
}
