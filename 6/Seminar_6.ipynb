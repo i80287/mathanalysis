{
 "cells": [
  {
   "cell_type": "markdown",
   "metadata": {},
   "source": [
    "## Занятие 6\n",
    "## Математический анализ\n",
    "## Дифференцирование"
   ]
  },
  {
   "cell_type": "code",
   "execution_count": 1,
   "metadata": {},
   "outputs": [],
   "source": [
    "import numpy as np\n",
    "import matplotlib.pyplot as plt\n",
    "import sympy\n",
    "from sympy import diff, solve, nsolve, solveset, latex, S, simplify, fraction\n",
    "from sympy import sin as Sin\n",
    "from sympy.calculus.util import continuous_domain\n",
    "%matplotlib inline"
   ]
  },
  {
   "cell_type": "markdown",
   "metadata": {},
   "source": [
    "В sympy производная находится аналитически с помощью diff, эту функцию можно использовать и как метод. Покажем на примере оба варианта вызова diff.\n",
    "### Пример 1\n",
    "Найдем производную $f(x) = x^2 - \\sin x$. \n",
    "\n",
    "Вначале применим diff как функцию, ее аргументы - функция или выражение и имя переменной.\n",
    "\n",
    "В нашем примере зададим $f(x)$ как выражение."
   ]
  },
  {
   "cell_type": "code",
   "execution_count": 2,
   "metadata": {},
   "outputs": [
    {
     "data": {
      "text/latex": [
       "$\\displaystyle 2 x - \\cos{\\left(x \\right)}$"
      ],
      "text/plain": [
       "2*x - cos(x)"
      ]
     },
     "execution_count": 2,
     "metadata": {},
     "output_type": "execute_result"
    }
   ],
   "source": [
    "from sympy.abc import x\n",
    "f = x**2 - Sin(x)\n",
    "diff(f, x)"
   ]
  },
  {
   "cell_type": "markdown",
   "metadata": {},
   "source": [
    "Теперь применим diff как метод, аргумент - имя переменной:"
   ]
  },
  {
   "cell_type": "code",
   "execution_count": 3,
   "metadata": {},
   "outputs": [
    {
     "data": {
      "text/latex": [
       "$\\displaystyle 2 x - \\cos{\\left(x \\right)}$"
      ],
      "text/plain": [
       "2*x - cos(x)"
      ]
     },
     "execution_count": 3,
     "metadata": {},
     "output_type": "execute_result"
    }
   ],
   "source": [
    "f.diff(x)"
   ]
  },
  {
   "cell_type": "markdown",
   "metadata": {},
   "source": [
    "Порядок производной является необязательным аргументом diff со значением по умолчанию 1. Для вычисления производный высоких порядков нужно указать порядок производной.\n",
    "\n",
    "### Пример 2.\n",
    "Найдем производную второго порядка для функции $f(x) = x^2 - \\sin x$.\n",
    "\n",
    "Опишем $f(x)$ как функцию. Применим diff как метод."
   ]
  },
  {
   "cell_type": "code",
   "execution_count": 4,
   "metadata": {},
   "outputs": [
    {
     "data": {
      "text/latex": [
       "$\\displaystyle \\sin{\\left(x \\right)} + 2$"
      ],
      "text/plain": [
       "sin(x) + 2"
      ]
     },
     "execution_count": 4,
     "metadata": {},
     "output_type": "execute_result"
    }
   ],
   "source": [
    "def f(x):\n",
    "    return x**2 - Sin(x)\n",
    "f(x).diff(x, 2)"
   ]
  },
  {
   "cell_type": "markdown",
   "metadata": {},
   "source": [
    "Для использования diff как функции делаем так:"
   ]
  },
  {
   "cell_type": "code",
   "execution_count": 5,
   "metadata": {},
   "outputs": [
    {
     "data": {
      "text/latex": [
       "$\\displaystyle \\sin{\\left(x \\right)} + 2$"
      ],
      "text/plain": [
       "sin(x) + 2"
      ]
     },
     "execution_count": 5,
     "metadata": {},
     "output_type": "execute_result"
    }
   ],
   "source": [
    "diff(f(x), x, 2)"
   ]
  },
  {
   "cell_type": "markdown",
   "metadata": {},
   "source": [
    "### Пример 3. Точки экстремума\n",
    "Найдем точки экстремума функции $f(x) = x^6 - 3x^4 + 3x^2 - 1$.\n",
    "\n",
    "Вначале найдем производную функции $f(x)$, затем нули производной.\n",
    "\n",
    "Вычислим значения производной в серединах отрезков между нулями функции и в точках, расположеных на 1 левее минимального нуля производной и правее максимального нуля производной.\n",
    "\n",
    "По смене знаков при переходе через точку, в которой производная равна нулю, определим тип экстремума."
   ]
  },
  {
   "cell_type": "code",
   "execution_count": 6,
   "metadata": {},
   "outputs": [
    {
     "data": {
      "text/plain": [
       "[-1, 0, 1]"
      ]
     },
     "metadata": {},
     "output_type": "display_data"
    },
    {
     "data": {
      "text/plain": [
       "[-2, -1/2, 1/2, 2]"
      ]
     },
     "metadata": {},
     "output_type": "display_data"
    },
    {
     "data": {
      "text/plain": [
       "[]"
      ]
     },
     "metadata": {},
     "output_type": "display_data"
    },
    {
     "data": {
      "text/plain": [
       "[0]"
      ]
     },
     "metadata": {},
     "output_type": "display_data"
    }
   ],
   "source": [
    "def f(x):\n",
    "    return x**6 - 3*x**4 + 3*x**2 - 1\n",
    "df = f(x).diff(x)\n",
    "df_roots = solve(df, x)\n",
    "display(df_roots)\n",
    "points = [df_roots[0] - 1 ]\n",
    "points.extend([(df_roots[i] + df_roots[i + 1])/2 for i in range(len(df_roots) - 1)])\n",
    "points.append(df_roots[-1] + 1)                                                                \n",
    "display(points)\n",
    "max_arr = []\n",
    "min_arr = []\n",
    "for i, item in enumerate(df_roots):\n",
    "    df_left = df.subs(x, points[i])\n",
    "    df_right = df.subs(x, points[i + 1])\n",
    "    if df_left < 0 and df_right > 0:\n",
    "        min_arr.append(item)\n",
    "    elif df_left > 0 and df_right < 0:\n",
    "        max_arr.append(item)    \n",
    "display(max_arr, min_arr)"
   ]
  },
  {
   "cell_type": "markdown",
   "metadata": {},
   "source": [
    "Посмотрим на графике:"
   ]
  },
  {
   "cell_type": "code",
   "execution_count": 7,
   "metadata": {},
   "outputs": [
    {
     "data": {
      "image/png": "[encoded data removed]",
      "text/plain": [
       "<Figure size 432x288 with 1 Axes>"
      ]
     },
     "metadata": {
      "needs_background": "light"
     },
     "output_type": "display_data"
    }
   ],
   "source": [
    "X = np.linspace(float(points[0]), float(points[-1]), 100)\n",
    "ax = plt.gca()  \n",
    "ax.plot(X, f(X))\n",
    "ax.set_ylim(-1, 1)\n",
    "ax.spines['right'].set_color('none')\n",
    "ax.spines['top'].set_color('none')\n",
    "ax.spines['bottom'].set_position(('data', 0))\n",
    "ax.spines['left'].set_position(('data', 0))"
   ]
  },
  {
   "cell_type": "markdown",
   "metadata": {},
   "source": [
    "На графике видно, что у функции одна точка минимума и нет точек максимума.\n",
    "\n",
    "### Пример 4. Точки перегиба\n",
    "Найдем точки перегиба функции $f(x)$ из Примера 3.\n",
    "\n",
    "Вначале найдем вторую производную функции $f(x)$, затем нули этой производной.\n",
    "\n",
    "Вычислим значения второй производной в серединах отрезков между нулями функции и в точках, расположеных на 1 левее минимального нуля второй производной и правее максимального нуля второй производной.\n",
    "\n",
    "По смене знаков при переходе через точку, в которой вторая производная равна нулю, определим, является ли точка, в которой вторая производная равна нулю, точкой перегиба."
   ]
  },
  {
   "cell_type": "code",
   "execution_count": 8,
   "metadata": {},
   "outputs": [
    {
     "data": {
      "text/plain": [
       "[-1, -sqrt(5)/5, sqrt(5)/5, 1]"
      ]
     },
     "metadata": {},
     "output_type": "display_data"
    },
    {
     "data": {
      "text/plain": [
       "[-2, -1/2 - sqrt(5)/10, 0, sqrt(5)/10 + 1/2, 2]"
      ]
     },
     "metadata": {},
     "output_type": "display_data"
    },
    {
     "data": {
      "text/plain": [
       "[-1, -sqrt(5)/5, sqrt(5)/5, 1]"
      ]
     },
     "metadata": {},
     "output_type": "display_data"
    }
   ],
   "source": [
    "df2 = f(x).diff(x, 2)\n",
    "df2_roots = solve(df2, x)\n",
    "df2_roots.sort() # Упорядочили корни по возрастанию\n",
    "display(df2_roots)\n",
    "points2 = [df2_roots[0] - 1 ]\n",
    "points2.extend([(df2_roots[i] + df2_roots[i + 1])/2 for i in range(len(df2_roots) - 1)])\n",
    "points2.append(df2_roots[-1] + 1)                                                                \n",
    "display(points2)\n",
    "inflection_arr = [item for i, item in enumerate(df2_roots) if df2.subs(x, points2[i])*df2.subs(x, points2[i + 1]) < 0]\n",
    "display(inflection_arr)"
   ]
  },
  {
   "cell_type": "code",
   "execution_count": 9,
   "metadata": {},
   "outputs": [
    {
     "data": {
      "image/png": "[encoded data removed]",
      "text/plain": [
       "<Figure size 432x288 with 1 Axes>"
      ]
     },
     "metadata": {
      "needs_background": "light"
     },
     "output_type": "display_data"
    }
   ],
   "source": [
    "ax = plt.gca()  # gca stands for 'get current axis'\n",
    "ax.plot(X, f(X))\n",
    "ax.set_ylim(-1, 1)\n",
    "ax.spines['right'].set_color('none')\n",
    "ax.spines['top'].set_color('none')\n",
    "ax.spines['bottom'].set_position(('data', 0))\n",
    "ax.spines['left'].set_position(('data', 0))\n",
    "for i, x0 in enumerate(inflection_arr):\n",
    "    f0 = f(x0)\n",
    "    ax.scatter([x0],[f0], 50, color='red')\n",
    "    if x0 < 0:\n",
    "        XYtext = (-120, -30)\n",
    "    else:    \n",
    "        XYtext=(20, -30)\n",
    "    ax.annotate(r'$\\left(' + latex(x0) + ',\\,' + latex(f0) + r'\\right)$', xy=(x0, f0), xycoords='data',\n",
    "             xytext=XYtext, textcoords='offset points', fontsize=16,\n",
    "             arrowprops=dict(arrowstyle=\"->\", connectionstyle=\"arc3,rad=.2\"))\n",
    "    ax.annotate(r'$A_' + str(i + 1) + r'$', xy=(x0, f0), xycoords='data',\n",
    "             xytext=(-10, 10), textcoords='offset points', fontsize=16)"
   ]
  },
  {
   "cell_type": "markdown",
   "metadata": {},
   "source": [
    "## Схема анализа функции.\n",
    "1. Область определения\n",
    "\n",
    "2. Четность\n",
    "\n",
    "3. Периодичность\n",
    "\n",
    "4. Точки пересечения с осями координат\n",
    "\n",
    "5. Точки экстремума\n",
    "\n",
    "6. Точки перегиба\n",
    "\n",
    "7. Асимптоты\n",
    "\n",
    "8. График\n",
    "\n",
    "### Пример 5.  Анализ функции и построение графика.\n",
    "$f(x) = \\frac{(x^3 - 1)\\sqrt{4 - x^2}}{(2x + 1)^2}$.\n",
    "\n",
    "###### 1. Область определения\n",
    "\n",
    "Можно использовать continuous_domain из sympy.calculus.util\n",
    "\n",
    "для подключения пишем\n",
    "\n",
    "from sympy.calculus.util import continuous_domain"
   ]
  },
  {
   "cell_type": "code",
   "execution_count": 10,
   "metadata": {},
   "outputs": [
    {
     "data": {
      "text/latex": [
       "$\\displaystyle \\left[-2, - \\frac{1}{2}\\right) \\cup \\left(- \\frac{1}{2}, 2\\right]$"
      ],
      "text/plain": [
       "Union(Interval.Ropen(-2, -1/2), Interval.Lopen(-1/2, 2))"
      ]
     },
     "execution_count": 10,
     "metadata": {},
     "output_type": "execute_result"
    }
   ],
   "source": [
    "def f(x):\n",
    "    return (x**3 - 1)*(4 - x**2)**(S(1)/2)/(2*x + 1)**2\n",
    "D = continuous_domain(f(x), x, S.Reals)\n",
    "D"
   ]
  },
  {
   "cell_type": "markdown",
   "metadata": {},
   "source": [
    "###### 2. Четность\n",
    "\n",
    "Проверим выполнение равенств $f(-x) = f(x)$ и $f(-x) = -f(x)$:"
   ]
  },
  {
   "cell_type": "code",
   "execution_count": 11,
   "metadata": {},
   "outputs": [
    {
     "name": "stdout",
     "output_type": "stream",
     "text": [
      "Функция общего вида\n"
     ]
    }
   ],
   "source": [
    "if f(-x) == f(x):\n",
    "    print('Четная функция')\n",
    "elif f(-x) == -f(x):\n",
    "    print('Нечетная функция')   \n",
    "else:\n",
    "    print('Функция общего вида')"
   ]
  },
  {
   "cell_type": "markdown",
   "metadata": {},
   "source": [
    "###### 3. Периодичность\n",
    "\n",
    "Данная функция не периодическая."
   ]
  },
  {
   "cell_type": "markdown",
   "metadata": {},
   "source": [
    "###### 4. Точки пересечения с осями координат.\n",
    "\n",
    "Используем solveset c domain=S.Reals для решения уравнения $f(x) = 0$ в вещественных числах."
   ]
  },
  {
   "cell_type": "code",
   "execution_count": 12,
   "metadata": {},
   "outputs": [
    {
     "data": {
      "text/plain": [
       "[-2, 1, 2]"
      ]
     },
     "execution_count": 12,
     "metadata": {},
     "output_type": "execute_result"
    }
   ],
   "source": [
    "roots = list(solveset(f(x), domain=S.Reals))\n",
    "roots.sort()\n",
    "roots"
   ]
  },
  {
   "cell_type": "markdown",
   "metadata": {},
   "source": [
    "###### 5. Точки экстремума\n",
    "\n",
    "Находим нули производной, не забываем об области определения. Для производной данной функции solve и solveset не находят аналитическое выражение для корней, поэтому будем искать корни производной численно с помощью nsolve. Для упрощения вычислений выделим числитель производной и построим его график, чтобы с его помощью определить интервалы, на которых методом дихотомии будем искать корни производной. "
   ]
  },
  {
   "cell_type": "code",
   "execution_count": 13,
   "metadata": {},
   "outputs": [
    {
     "data": {
      "text/latex": [
       "$\\displaystyle \\frac{- 4 x^{5} - 4 x^{4} + 8 x^{3} + 10 x^{2} + x + 16}{\\sqrt{4 - x^{2}} \\left(8 x^{3} + 12 x^{2} + 6 x + 1\\right)}$"
      ],
      "text/plain": [
       "(-4*x**5 - 4*x**4 + 8*x**3 + 10*x**2 + x + 16)/(sqrt(4 - x**2)*(8*x**3 + 12*x**2 + 6*x + 1))"
      ]
     },
     "metadata": {},
     "output_type": "display_data"
    },
    {
     "data": {
      "text/latex": [
       "$\\displaystyle \\left(-2, - \\frac{1}{2}\\right) \\cup \\left(- \\frac{1}{2}, 2\\right)$"
      ],
      "text/plain": [
       "Union(Interval.open(-2, -1/2), Interval.open(-1/2, 2))"
      ]
     },
     "metadata": {},
     "output_type": "display_data"
    },
    {
     "data": {
      "text/plain": [
       "[<matplotlib.lines.Line2D at 0x1b195f99dd8>]"
      ]
     },
     "execution_count": 13,
     "metadata": {},
     "output_type": "execute_result"
    },
    {
     "data": {
      "image/png": "[encoded data removed]",
      "text/plain": [
       "<Figure size 432x288 with 1 Axes>"
      ]
     },
     "metadata": {
      "needs_background": "light"
     },
     "output_type": "display_data"
    }
   ],
   "source": [
    "def df(x):\n",
    "    return simplify(f(x).diff(x))\n",
    "display(df(x))\n",
    "df_D = continuous_domain(df(x), x, S.Reals) # Это область определения производной.\n",
    "display(df_D)\n",
    "X = np.linspace(-2, 2, 20)\n",
    "X_df_D = [x for x in X if x in df_D] # Отбираем только точки из области определения производной.\n",
    "df_num, df_denom = fraction(df(x))\n",
    "df_num_Y = [df_num.subs(x, x0) for x0 in X_df_D] # Значения числителя производной в точках, где существует производная.\n",
    "plt.plot(X_df_D, df_num_Y)"
   ]
  },
  {
   "cell_type": "markdown",
   "metadata": {},
   "source": [
    "Найдем корень производной на отрезке $[1, 1.9]$."
   ]
  },
  {
   "cell_type": "code",
   "execution_count": 14,
   "metadata": {},
   "outputs": [
    {
     "data": {
      "text/latex": [
       "$\\displaystyle 1.66805264380466$"
      ],
      "text/plain": [
       "1.66805264380466"
      ]
     },
     "execution_count": 14,
     "metadata": {},
     "output_type": "execute_result"
    }
   ],
   "source": [
    "df_root = nsolve(df_num, x, [1, 1.9], solver='bisect')\n",
    "df_root"
   ]
  },
  {
   "cell_type": "markdown",
   "metadata": {},
   "source": [
    "Поскольку корень числителя производной один, вычислим производную слева и справа от корня, не выходя за содержащую этот корень связную часть области определения производной. Подходящие точки 1.5 и 1.7."
   ]
  },
  {
   "cell_type": "code",
   "execution_count": 15,
   "metadata": {},
   "outputs": [
    {
     "name": "stdout",
     "output_type": "stream",
     "text": [
      "0.193411507672690 -0.0478978034980905\n"
     ]
    }
   ],
   "source": [
    "print(df(x).subs(x, 1.5), df(x).subs(x, 1.7))"
   ]
  },
  {
   "cell_type": "markdown",
   "metadata": {},
   "source": [
    "Производна меняет знак с + на -, поэтому 1.67 - точка максимума. Производная не существует на границе области определения в точках 2 и $-2$, при этом сама функция в указанных точках существует. Судя по знаку производной в точке 1.7, функция убывает при приближении $x$ к 2. Вычислим производную вблизи $-2$."
   ]
  },
  {
   "cell_type": "code",
   "execution_count": 16,
   "metadata": {},
   "outputs": [
    {
     "data": {
      "text/latex": [
       "$\\displaystyle -3.08144281749017$"
      ],
      "text/plain": [
       "-3.08144281749017"
      ]
     },
     "execution_count": 16,
     "metadata": {},
     "output_type": "execute_result"
    }
   ],
   "source": [
    "df(x).subs(x, -1.9)"
   ]
  },
  {
   "cell_type": "markdown",
   "metadata": {},
   "source": [
    "Это значит, что функция убывает и при приближении $x$ к $-2$.\n",
    "\n",
    "###### 6. Точки перегиба\n",
    "\n",
    "Вычисляем вторую производную, упрощаем выражение и выделяем числитель и знаменатель, находим область определения второй производной."
   ]
  },
  {
   "cell_type": "code",
   "execution_count": 17,
   "metadata": {},
   "outputs": [
    {
     "data": {
      "text/latex": [
       "$\\displaystyle \\frac{4 \\left(- 2 x^{7} - 4 x^{6} + 9 x^{5} + 22 x^{4} + 17 x^{3} - 36 x^{2} - 20 x + 95\\right)}{\\sqrt{4 - x^{2}} \\left(16 x^{6} + 32 x^{5} - 40 x^{4} - 120 x^{3} - 95 x^{2} - 32 x - 4\\right)}$"
      ],
      "text/plain": [
       "4*(-2*x**7 - 4*x**6 + 9*x**5 + 22*x**4 + 17*x**3 - 36*x**2 - 20*x + 95)/(sqrt(4 - x**2)*(16*x**6 + 32*x**5 - 40*x**4 - 120*x**3 - 95*x**2 - 32*x - 4))"
      ]
     },
     "metadata": {},
     "output_type": "display_data"
    },
    {
     "data": {
      "text/latex": [
       "$\\displaystyle \\left(-2, - \\frac{1}{2}\\right) \\cup \\left(- \\frac{1}{2}, 2\\right)$"
      ],
      "text/plain": [
       "Union(Interval.open(-2, -1/2), Interval.open(-1/2, 2))"
      ]
     },
     "metadata": {},
     "output_type": "display_data"
    },
    {
     "data": {
      "text/plain": [
       "[<matplotlib.lines.Line2D at 0x1b1960e2320>]"
      ]
     },
     "execution_count": 17,
     "metadata": {},
     "output_type": "execute_result"
    },
    {
     "data": {
      "image/png": "[encoded data removed]",
      "text/plain": [
       "<Figure size 432x288 with 1 Axes>"
      ]
     },
     "metadata": {
      "needs_background": "light"
     },
     "output_type": "display_data"
    }
   ],
   "source": [
    "def df2(x):\n",
    "    return simplify(f(x).diff(x, 2))\n",
    "display(df2(x))\n",
    "df2_D = continuous_domain(df2(x), x, S.Reals) # Это область определения производной.\n",
    "display(df2_D)\n",
    "X = np.linspace(-2, 2, 20)\n",
    "X_df2_D = [x for x in X if x in df2_D] # Отбираем только точки из области определения производной.\n",
    "df2_num, df2_denom = fraction(df2(x))\n",
    "df2_num_Y = [df2_num.subs(x, x0) for x0 in X_df2_D] # Значения числителя производной в точках, где существует производная.\n",
    "plt.plot(X_df2_D, df2_num_Y)"
   ]
  },
  {
   "cell_type": "markdown",
   "metadata": {},
   "source": [
    "Найдем корень второй производной на отрезке $[-1.9, -1.2]$."
   ]
  },
  {
   "cell_type": "code",
   "execution_count": 18,
   "metadata": {},
   "outputs": [
    {
     "data": {
      "text/latex": [
       "$\\displaystyle -1.60895751263509$"
      ],
      "text/plain": [
       "-1.60895751263509"
      ]
     },
     "execution_count": 18,
     "metadata": {},
     "output_type": "execute_result"
    }
   ],
   "source": [
    "df2_root = nsolve(df2_num, x, [-1.9, -1.2], solver='bisect')\n",
    "df2_root"
   ]
  },
  {
   "cell_type": "markdown",
   "metadata": {},
   "source": [
    "Поскольку корень числителя второй производной один, вычислим вторую производную слева и справа от корня, не выходя за содержащую этот корень связную часть области определения второй производной. Подходящие точки $-1.8$ и $-1.5$."
   ]
  },
  {
   "cell_type": "code",
   "execution_count": 19,
   "metadata": {},
   "outputs": [
    {
     "name": "stdout",
     "output_type": "stream",
     "text": [
      "4.95461617389557 -1.97250209351690\n"
     ]
    }
   ],
   "source": [
    "print(df2(x).subs(x, -1.8), df2(x).subs(x, -1.5))"
   ]
  },
  {
   "cell_type": "markdown",
   "metadata": {},
   "source": [
    "Производная меняет знак, поэтому $-1.61$ - точка перегиба. "
   ]
  },
  {
   "cell_type": "markdown",
   "metadata": {},
   "source": [
    "###### 7. Асимптоты\n",
    "\n",
    "Возможна вертикальная асимптота в точке $-1/2$. Вычислим соответствующие пределы."
   ]
  },
  {
   "cell_type": "code",
   "execution_count": 20,
   "metadata": {},
   "outputs": [
    {
     "name": "stdout",
     "output_type": "stream",
     "text": [
      "-oo -oo\n"
     ]
    }
   ],
   "source": [
    "print(f(x).limit(x, -1/2, dir='-'), f(x).limit(x, -1/2))"
   ]
  },
  {
   "cell_type": "markdown",
   "metadata": {},
   "source": [
    "Значит, $x = -1/2$ - вертикальная асимптота, горизонтальных и наклонных асимптот быть не может, поскольку область определения конечна.\n",
    "\n",
    "###### 8. График\n",
    "\n",
    "На графике отметим точки пересечения с осями координат, точку максимума $M$, точку перегиба $P$ и вертикальную асимптоту."
   ]
  },
  {
   "cell_type": "code",
   "execution_count": 21,
   "metadata": {},
   "outputs": [
    {
     "data": {
      "text/plain": [
       "<matplotlib.legend.Legend at 0x1b194d7b0b8>"
      ]
     },
     "execution_count": 21,
     "metadata": {},
     "output_type": "execute_result"
    },
    {
     "data": {
      "image/png": "[encoded data removed]",
      "text/plain": [
       "<Figure size 432x288 with 1 Axes>"
      ]
     },
     "metadata": {
      "needs_background": "light"
     },
     "output_type": "display_data"
    }
   ],
   "source": [
    "minY = -10  \n",
    "maxY = 5\n",
    "ax = plt.gca()  \n",
    "ax.set_ylim(minY, maxY)   \n",
    "v_as = -1/2\n",
    "ax.axvline(x=v_as, color='red', linestyle='--', \n",
    "             label=r'vert. asympt. $x=' + latex(v_as) + r'$') # График вертикальной асимптоты\n",
    "X = np.linspace(-2, 2, 100)\n",
    "X_D = [x for x in X if x in D] \n",
    "Y_D = [f(x) for x in X if x in D] \n",
    "ax.plot(X_D, Y_D, color='black', label=r'$f(x)=' + sympy.latex(f(x)) + r'$')\n",
    "roots.extend([0, float(df_root), float(df2_root)])\n",
    "points_y = [float(f(point)) for point in roots]\n",
    "annotations = [r'$A_1$', r'$A_2$', r'$A_3$', r'$B$', r'$M$', r'$P$']\n",
    "ax.scatter(roots, points_y, 50, color='green')\n",
    "for i, x0 in enumerate(roots):\n",
    "    ax.annotate(annotations[i], xy=(x0, points_y[i]), xycoords='data',\n",
    "             xytext=(-5, 10), textcoords='offset points', fontsize=16)\n",
    "ax.spines['right'].set_color('none')\n",
    "ax.spines['top'].set_color('none')\n",
    "ax.spines['bottom'].set_position(('data', 0))\n",
    "ax.spines['left'].set_position(('data', 0))\n",
    "ax.plot(1, 0, '>k', transform=ax.get_yaxis_transform(), clip_on=False)\n",
    "ax.plot(0, 1, '^k', transform=ax.get_xaxis_transform(), clip_on=False)\n",
    "ax.legend(loc='lower right')"
   ]
  },
  {
   "cell_type": "markdown",
   "metadata": {},
   "source": [
    "## Немного о latex:\n",
    "в latex есть необязательный параметр  mode, если его значение переключить на 'inline', то получится отдельная строчная формула, не нужно добавлять '$':"
   ]
  },
  {
   "cell_type": "code",
   "execution_count": 22,
   "metadata": {},
   "outputs": [
    {
     "data": {
      "text/plain": [
       "<matplotlib.legend.Legend at 0x1b1962f6320>"
      ]
     },
     "execution_count": 22,
     "metadata": {},
     "output_type": "execute_result"
    },
    {
     "data": {
      "image/png": "[encoded data removed]",
      "text/plain": [
       "<Figure size 432x288 with 1 Axes>"
      ]
     },
     "metadata": {
      "needs_background": "light"
     },
     "output_type": "display_data"
    }
   ],
   "source": [
    "x = S('x')\n",
    "f = x**3/(x - 1)\n",
    "plt.plot([1, 2], [3, 4], label=latex(sympy.Eq(S('f(x)'), f), mode='inline'))\n",
    "plt.legend()"
   ]
  }
 ],
 "metadata": {
  "kernelspec": {
   "display_name": "Python 3",
   "language": "python",
   "name": "python3"
  },
  "language_info": {
   "codemirror_mode": {
    "name": "ipython",
    "version": 3
   },
   "file_extension": ".py",
   "mimetype": "text/x-python",
   "name": "python",
   "nbconvert_exporter": "python",
   "pygments_lexer": "ipython3",
   "version": "3.7.3"
  }
 },
 "nbformat": 4,
 "nbformat_minor": 2
}
