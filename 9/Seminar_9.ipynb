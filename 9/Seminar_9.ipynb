{
 "cells": [
  {
   "cell_type": "code",
   "execution_count": 1,
   "metadata": {},
   "outputs": [],
   "source": [
    "import sympy\n",
    "from sympy import Symbol, symbols, S, Function, integrate, Integral, diff"
   ]
  },
  {
   "cell_type": "markdown",
   "metadata": {},
   "source": [
    "## Занятие 9\n",
    "## Математический анализ\n",
    "## Интегрирование функции: первообразная и неопределенный интеграл\n",
    "\n",
    "Пусть задана функция одной переменной $f(x)$.\n",
    "\n",
    "Первообразной функции $f(x)$ называется такая (дифференцируемая) функция $F(x)$, что\n",
    "$$\n",
    "F'(x)=f(x).\n",
    "$$\n",
    "\n",
    "Если $F(x)$ --- первообразная функции $f(x)$, то и любая функция вида $F(x)+С$, где С - константа, явояется первообразной функции $f(x)$.\n",
    "\n",
    "Совокупность всех первообразных  функции $f(x)$ образует неопределенный интеграл  функции $f(x)$.\n",
    "\n",
    "### Пример 1\n",
    "Пусть  $f(x)=\\sin(x)$, тогда неопределенный интеграл\n",
    "$$\n",
    "\\int \\sin x \\,dx=-\\cos x +C\n",
    "$$\n",
    "\n",
    "В sympy для интегрирования есть\n",
    "\n",
    "integrate(f, x), возвращает неопределенный интеграл $\\int f(x),dx$ (на самом деле возвращает одну из первообразных)"
   ]
  },
  {
   "cell_type": "code",
   "execution_count": 2,
   "metadata": {},
   "outputs": [
    {
     "data": {
      "text/latex": [
       "$\\displaystyle - \\cos{\\left(x \\right)}$"
      ],
      "text/plain": [
       "-cos(x)"
      ]
     },
     "execution_count": 2,
     "metadata": {},
     "output_type": "execute_result"
    }
   ],
   "source": [
    "x = Symbol('x')\n",
    "integrate(sympy.sin(x), x)"
   ]
  },
  {
   "cell_type": "markdown",
   "metadata": {},
   "source": [
    "integrate можно применять и как метод."
   ]
  },
  {
   "cell_type": "code",
   "execution_count": 3,
   "metadata": {},
   "outputs": [
    {
     "data": {
      "text/latex": [
       "$\\displaystyle - \\cos{\\left(x \\right)}$"
      ],
      "text/plain": [
       "-cos(x)"
      ]
     },
     "execution_count": 3,
     "metadata": {},
     "output_type": "execute_result"
    }
   ],
   "source": [
    "sympy.sin(x).integrate(x)"
   ]
  },
  {
   "cell_type": "markdown",
   "metadata": {},
   "source": [
    "В случае интегрирования функции одной переменной необязательно явно указывать переменную интегрирования:"
   ]
  },
  {
   "cell_type": "code",
   "execution_count": 4,
   "metadata": {},
   "outputs": [
    {
     "data": {
      "text/latex": [
       "$\\displaystyle \\sin{\\left(x \\right)}$"
      ],
      "text/plain": [
       "sin(x)"
      ]
     },
     "execution_count": 4,
     "metadata": {},
     "output_type": "execute_result"
    }
   ],
   "source": [
    "sympy.cos(x).integrate()"
   ]
  },
  {
   "cell_type": "markdown",
   "metadata": {},
   "source": [
    "Но если нужно интегрировать $\\sin(x)$ по $y$, то необходимо указать переменную интегрирования, чтобы получить желаемый результат:"
   ]
  },
  {
   "cell_type": "code",
   "execution_count": 5,
   "metadata": {},
   "outputs": [
    {
     "data": {
      "text/latex": [
       "$\\displaystyle y \\cos{\\left(x \\right)}$"
      ],
      "text/plain": [
       "y*cos(x)"
      ]
     },
     "execution_count": 5,
     "metadata": {},
     "output_type": "execute_result"
    }
   ],
   "source": [
    "y = Symbol('y')\n",
    "sympy.cos(x).integrate(y)"
   ]
  },
  {
   "cell_type": "markdown",
   "metadata": {},
   "source": [
    "Определенный интеграл\n",
    "$$\n",
    "\\int_a^b f(x) \\,dx\n",
    "$$\n",
    "вычисляется с помощью метода integrate(f(x), (x, a, b)) или f(x).integrate((x, a, b)).\n",
    "\n",
    "Обратите внимание, в определенном интеграле передается в качестве аргумента tuple, состоящий из имени переменной и пределов интегрирования.\n",
    "\n",
    "integrate(f, (x, a, b)) или f(x).integrate((x, a, b)) возвращает определенный интеграл $\\int_a^b f(x),dx$ \n",
    "\n",
    "### Пример 2.\n",
    "Определенный интеграл\n",
    "$$\n",
    "\\int_{-\\pi/2}^{\\pi/2} |\\sin x| \\,dx\n",
    "$$"
   ]
  },
  {
   "cell_type": "code",
   "execution_count": 6,
   "metadata": {},
   "outputs": [
    {
     "data": {
      "text/latex": [
       "$\\displaystyle 2$"
      ],
      "text/plain": [
       "2"
      ]
     },
     "metadata": {},
     "output_type": "display_data"
    },
    {
     "data": {
      "text/latex": [
       "$\\displaystyle 2$"
      ],
      "text/plain": [
       "2"
      ]
     },
     "metadata": {},
     "output_type": "display_data"
    }
   ],
   "source": [
    "display(integrate(abs(sympy.sin(x)), (x, -sympy.pi/2, sympy.pi/2)), \n",
    "        abs(sympy.sin(x)).integrate((x, -sympy.pi/2, sympy.pi/2)))"
   ]
  },
  {
   "cell_type": "markdown",
   "metadata": {},
   "source": [
    "### Пример 3. \n",
    "Формула Ньютона - Лейбница:\n",
    "$$\n",
    "\\int_a^b f(x)\\,dx=F(b)-F(a)\n",
    "$$\n",
    "\n",
    "Проверим, что она выполняется для $sin(x)$"
   ]
  },
  {
   "cell_type": "code",
   "execution_count": 7,
   "metadata": {},
   "outputs": [
    {
     "data": {
      "text/latex": [
       "$\\displaystyle 2$"
      ],
      "text/plain": [
       "2"
      ]
     },
     "execution_count": 7,
     "metadata": {},
     "output_type": "execute_result"
    }
   ],
   "source": [
    "F = integrate(sympy.sin(x), x)\n",
    "F.subs(x,sympy.pi) - F.subs(x, 0)"
   ]
  },
  {
   "cell_type": "markdown",
   "metadata": {},
   "source": [
    "### Пример 4. \n",
    "\n",
    "Можно использовать абстрактные функции в интеграле, например:"
   ]
  },
  {
   "cell_type": "code",
   "execution_count": 8,
   "metadata": {},
   "outputs": [
    {
     "data": {
      "text/latex": [
       "$\\displaystyle \\int f{\\left(x \\right)}\\, dx$"
      ],
      "text/plain": [
       "Integral(f(x), x)"
      ]
     },
     "metadata": {},
     "output_type": "display_data"
    },
    {
     "data": {
      "text/latex": [
       "$\\displaystyle \\int\\limits_{a}^{b} f{\\left(x \\right)}\\, dx$"
      ],
      "text/plain": [
       "Integral(f(x), (x, a, b))"
      ]
     },
     "metadata": {},
     "output_type": "display_data"
    }
   ],
   "source": [
    "f = Function('f')\n",
    "a, b = symbols('a b')\n",
    "F = integrate(f(x), x)\n",
    "display(F)\n",
    "Fab = integrate(f(x), (x, a, b))\n",
    "display(Fab)"
   ]
  },
  {
   "cell_type": "markdown",
   "metadata": {},
   "source": [
    "Можно подставить вместо абстрактной функции, например, $e^x$:"
   ]
  },
  {
   "cell_type": "code",
   "execution_count": 9,
   "metadata": {},
   "outputs": [
    {
     "data": {
      "text/latex": [
       "$\\displaystyle \\int e^{x}\\, dx$"
      ],
      "text/plain": [
       "Integral(exp(x), x)"
      ]
     },
     "execution_count": 9,
     "metadata": {},
     "output_type": "execute_result"
    }
   ],
   "source": [
    "F.subs(f(x), sympy.exp(x))"
   ]
  },
  {
   "cell_type": "markdown",
   "metadata": {},
   "source": [
    "Обратим внимание, что произошла только подстановка, сам интеграл вычислен не был. \n",
    "\n",
    "Кроме того, сам интеграл $F$ не изменился."
   ]
  },
  {
   "cell_type": "code",
   "execution_count": 10,
   "metadata": {},
   "outputs": [
    {
     "data": {
      "text/latex": [
       "$\\displaystyle \\int f{\\left(x \\right)}\\, dx$"
      ],
      "text/plain": [
       "Integral(f(x), x)"
      ]
     },
     "execution_count": 10,
     "metadata": {},
     "output_type": "execute_result"
    }
   ],
   "source": [
    "F"
   ]
  },
  {
   "cell_type": "markdown",
   "metadata": {},
   "source": [
    "Для представления невычисленного интеграла в Sympy есть класс Integral. \n",
    "\n",
    "https://docs.sympy.org/latest/modules/integrals/integrals.html#sympy.integrals.integrals.Integral\n",
    "\n",
    "### Пример 5.  \n",
    "Составим уравнение \n",
    "$$\n",
    "\\int e^x\\,dx = e^x + C\n",
    "$$\n",
    "Используем Integral, integrate и объектно-ориентированный подход:"
   ]
  },
  {
   "cell_type": "code",
   "execution_count": 11,
   "metadata": {},
   "outputs": [
    {
     "data": {
      "text/latex": [
       "$\\displaystyle \\int e^{x}\\, dx = C + e^{x}$"
      ],
      "text/plain": [
       "Eq(Integral(exp(x), x), C + exp(x))"
      ]
     },
     "execution_count": 11,
     "metadata": {},
     "output_type": "execute_result"
    }
   ],
   "source": [
    "C = Symbol('C')\n",
    "sympy.Eq(Integral(sympy.exp(x)), sympy.exp(x).integrate() + C)"
   ]
  },
  {
   "cell_type": "markdown",
   "metadata": {},
   "source": [
    "### Пример 6.  \n",
    "Представим интегралы от функций $\\sin x$, $\\cos x$, $\\ln x$ и $\\sqrt{x}$ как в Примере 5."
   ]
  },
  {
   "cell_type": "code",
   "execution_count": 12,
   "metadata": {},
   "outputs": [
    {
     "data": {
      "text/latex": [
       "$\\displaystyle \\int \\sin{\\left(x \\right)}\\, dx = C - \\cos{\\left(x \\right)}$"
      ],
      "text/plain": [
       "Eq(Integral(sin(x), x), C - cos(x))"
      ]
     },
     "metadata": {},
     "output_type": "display_data"
    },
    {
     "data": {
      "text/latex": [
       "$\\displaystyle \\int \\cos{\\left(x \\right)}\\, dx = C + \\sin{\\left(x \\right)}$"
      ],
      "text/plain": [
       "Eq(Integral(cos(x), x), C + sin(x))"
      ]
     },
     "metadata": {},
     "output_type": "display_data"
    },
    {
     "data": {
      "text/latex": [
       "$\\displaystyle \\int \\log{\\left(x \\right)}\\, dx = C + x \\log{\\left(x \\right)} - x$"
      ],
      "text/plain": [
       "Eq(Integral(log(x), x), C + x*log(x) - x)"
      ]
     },
     "metadata": {},
     "output_type": "display_data"
    },
    {
     "data": {
      "text/latex": [
       "$\\displaystyle \\int \\sqrt{x}\\, dx = C + \\frac{2 x^{\\frac{3}{2}}}{3}$"
      ],
      "text/plain": [
       "Eq(Integral(sqrt(x), x), C + 2*x**(3/2)/3)"
      ]
     },
     "metadata": {},
     "output_type": "display_data"
    }
   ],
   "source": [
    "functions = (sympy.sin, sympy.cos, sympy.log, sympy.sqrt)\n",
    "for func in functions:\n",
    "    display(sympy.Eq(Integral(func(x)), func(x).integrate() + C))"
   ]
  },
  {
   "cell_type": "markdown",
   "metadata": {},
   "source": [
    "## Замена переменной в интеграле\n",
    "Для корректной замены переменных в интеграле Integral используется метод transform.\n",
    "\n",
    "Методу transform передается переменная, которую нужно заменить, и выражение, на которое нужно ее заменить.\n",
    "### Пример 7.\n",
    "Проведем замену переменной $y = \\sqrt{x}$ в интеграле $\\int x e^{x^2}\\,dx$."
   ]
  },
  {
   "cell_type": "code",
   "execution_count": 13,
   "metadata": {},
   "outputs": [
    {
     "data": {
      "text/latex": [
       "$\\displaystyle \\int \\frac{e^{\\sqrt{x}}}{\\sqrt{x}}\\, dx = \\int 2 e^{y}\\, dy$"
      ],
      "text/plain": [
       "Eq(Integral(exp(sqrt(x))/sqrt(x), x), Integral(2*exp(y), y))"
      ]
     },
     "execution_count": 13,
     "metadata": {},
     "output_type": "execute_result"
    }
   ],
   "source": [
    "y = Symbol('y', positive=True)\n",
    "I1 = Integral(sympy.exp(sympy.sqrt(x))/sympy.sqrt(x))\n",
    "sympy.Eq(I1, I1.transform(sympy.sqrt(x), y))"
   ]
  },
  {
   "cell_type": "markdown",
   "metadata": {},
   "source": [
    "Обратите внимание на то, что использован положительный символ $y$ (positive=True).\n",
    "\n",
    "Без этого ограничения возникает неоднозначность, и результат замены получается такой:"
   ]
  },
  {
   "cell_type": "code",
   "execution_count": 14,
   "metadata": {},
   "outputs": [
    {
     "data": {
      "text/latex": [
       "$\\displaystyle \\int \\frac{e^{\\sqrt{x}}}{\\sqrt{x}}\\, dx = \\int \\frac{2 y e^{\\sqrt{y^{2}}}}{\\sqrt{y^{2}}}\\, dy$"
      ],
      "text/plain": [
       "Eq(Integral(exp(sqrt(x))/sqrt(x), x), Integral(2*y*exp(sqrt(y**2))/sqrt(y**2), y))"
      ]
     },
     "execution_count": 14,
     "metadata": {},
     "output_type": "execute_result"
    }
   ],
   "source": [
    "y = Symbol('y')\n",
    "I1 = Integral(sympy.exp(sympy.sqrt(x))/sympy.sqrt(x))\n",
    "sympy.Eq(I1, I1.transform(sympy.sqrt(x), y))"
   ]
  },
  {
   "cell_type": "markdown",
   "metadata": {},
   "source": [
    "Эту замену можно провести иначе, заменив $x$ на $y^2$."
   ]
  },
  {
   "cell_type": "code",
   "execution_count": 15,
   "metadata": {},
   "outputs": [
    {
     "data": {
      "text/latex": [
       "$\\displaystyle \\int \\frac{e^{\\sqrt{x}}}{\\sqrt{x}}\\, dx = \\int 2 e^{y}\\, dy$"
      ],
      "text/plain": [
       "Eq(Integral(exp(sqrt(x))/sqrt(x), x), Integral(2*exp(y), y))"
      ]
     },
     "execution_count": 15,
     "metadata": {},
     "output_type": "execute_result"
    }
   ],
   "source": [
    "y = Symbol('y', positive=True)\n",
    "sympy.Eq(I1, I1.transform(x, y**2))"
   ]
  },
  {
   "cell_type": "markdown",
   "metadata": {},
   "source": [
    "### Пример 8.\n",
    "\n",
    "Запишем формулу интегрирования по частям:"
   ]
  },
  {
   "cell_type": "code",
   "execution_count": 16,
   "metadata": {},
   "outputs": [
    {
     "data": {
      "text/latex": [
       "$\\displaystyle \\int f{\\left(x \\right)} \\frac{d}{d x} g{\\left(x \\right)}\\, dx = f{\\left(x \\right)} g{\\left(x \\right)} - \\int g{\\left(x \\right)} \\frac{d}{d x} f{\\left(x \\right)}\\, dx$"
      ],
      "text/plain": [
       "Eq(Integral(f(x)*Derivative(g(x), x), x), f(x)*g(x) - Integral(g(x)*Derivative(f(x), x), x))"
      ]
     },
     "execution_count": 16,
     "metadata": {},
     "output_type": "execute_result"
    }
   ],
   "source": [
    "g = Function('g')\n",
    "Part_rule = sympy.Eq(integrate(f(x)*diff(g(x)), x), f(x)*g(x) - integrate(diff(f(x))*g(x), x))\n",
    "Part_rule"
   ]
  },
  {
   "cell_type": "markdown",
   "metadata": {},
   "source": [
    "Вычислим $\\int x \\ln(x)\\,dx$, воспользовавшись формулой интегрирования по частям.\n",
    "\n",
    "Заметим, что $g(x)$ можно выразить как первообразную от сомножителя $x$."
   ]
  },
  {
   "cell_type": "code",
   "execution_count": 17,
   "metadata": {},
   "outputs": [
    {
     "data": {
      "text/latex": [
       "$\\displaystyle \\int \\log{\\left(x \\right)} \\frac{d}{d x} \\frac{x^{2}}{2}\\, dx = \\frac{x^{2} \\log{\\left(x \\right)}}{2} - \\int \\frac{x^{2} \\frac{d}{d x} \\log{\\left(x \\right)}}{2}\\, dx$"
      ],
      "text/plain": [
       "Eq(Integral(log(x)*Derivative(x**2/2, x), x), x**2*log(x)/2 - Integral(x**2*Derivative(log(x), x)/2, x))"
      ]
     },
     "execution_count": 17,
     "metadata": {},
     "output_type": "execute_result"
    }
   ],
   "source": [
    "Ex8 = Part_rule.subs([(f(x), sympy.log(x)), (g(x), x.integrate())])\n",
    "Ex8"
   ]
  },
  {
   "cell_type": "markdown",
   "metadata": {},
   "source": [
    "## Выделение правой и левой части уравнения.\n",
    "Для выделения частей уравнения применяются методы rhs и lhs.\n",
    "### Пример 9.\n",
    "В Примере 8 вычислить правую часть уравнения.\n",
    "\n",
    "Вначале выделим правую часть уравнения."
   ]
  },
  {
   "cell_type": "code",
   "execution_count": 18,
   "metadata": {},
   "outputs": [
    {
     "data": {
      "text/latex": [
       "$\\displaystyle \\frac{x^{2} \\log{\\left(x \\right)}}{2} - \\int \\frac{x^{2} \\frac{d}{d x} \\log{\\left(x \\right)}}{2}\\, dx$"
      ],
      "text/plain": [
       "x**2*log(x)/2 - Integral(x**2*Derivative(log(x), x)/2, x)"
      ]
     },
     "execution_count": 18,
     "metadata": {},
     "output_type": "execute_result"
    }
   ],
   "source": [
    "Ex9 = Ex8.rhs\n",
    "Ex9"
   ]
  },
  {
   "cell_type": "markdown",
   "metadata": {},
   "source": [
    "Для вычисления интеграла в полученном выражении воспользуемся методом doit"
   ]
  },
  {
   "cell_type": "code",
   "execution_count": 19,
   "metadata": {},
   "outputs": [
    {
     "data": {
      "text/latex": [
       "$\\displaystyle \\frac{x^{2} \\log{\\left(x \\right)}}{2} - \\frac{x^{2}}{4}$"
      ],
      "text/plain": [
       "x**2*log(x)/2 - x**2/4"
      ]
     },
     "execution_count": 19,
     "metadata": {},
     "output_type": "execute_result"
    }
   ],
   "source": [
    "res = Ex9.doit()\n",
    "res"
   ]
  },
  {
   "cell_type": "markdown",
   "metadata": {},
   "source": [
    "проверим дифференцированием:"
   ]
  },
  {
   "cell_type": "code",
   "execution_count": 20,
   "metadata": {},
   "outputs": [
    {
     "data": {
      "text/latex": [
       "$\\displaystyle x \\log{\\left(x \\right)}$"
      ],
      "text/plain": [
       "x*log(x)"
      ]
     },
     "execution_count": 20,
     "metadata": {},
     "output_type": "execute_result"
    }
   ],
   "source": [
    "res.diff()"
   ]
  },
  {
   "cell_type": "markdown",
   "metadata": {},
   "source": [
    "# Несобственные интегралы\n",
    "### Интегрирование функций с точками разрыва.\n",
    "### Пример 10.\n",
    "Вычислим интеграл  \n",
    "$$\n",
    "I=\\int_0^1 \\frac{1}{\\sqrt x}\\,dx.\n",
    "$$\n",
    "По определению несобственного интеграла II рода это\n",
    "$$\n",
    "I=\\lim_{A\\to 0+}\\int_A^1 \\frac{1}{\\sqrt x}\\,dx=\\lim_{A\\to 0+}2(\\sqrt 1- \\sqrt A)=2.\n",
    "$$"
   ]
  },
  {
   "cell_type": "code",
   "execution_count": 21,
   "metadata": {},
   "outputs": [
    {
     "data": {
      "text/latex": [
       "$\\displaystyle 2$"
      ],
      "text/plain": [
       "2"
      ]
     },
     "execution_count": 21,
     "metadata": {},
     "output_type": "execute_result"
    }
   ],
   "source": [
    "integrate(1/sympy.sqrt(x), (x, 0, 1))"
   ]
  },
  {
   "cell_type": "markdown",
   "metadata": {},
   "source": [
    "### Бесконечные пределы интегрирования.\n",
    "### Пример 11.\n",
    "Вычислим интеграл  \n",
    "$$\n",
    "I = \\int_1^\\infty \\frac{1}{x^2}\\,dx.\n",
    "$$\n",
    "По определению несобственного интеграла I рода это\n",
    "$$\n",
    "I = \\lim_{A\\to \\infty}\\int_1^A \\frac{1}{ x^2}\\,dx = \\lim_{A\\to \\infty}\\left(\\frac{-1}{ x}\\right)\\Bigg|_1^A\n",
    "=\\lim_{A\\to \\infty}\\left(\\frac{-1}{ A}-(-1)\\right) = 1\n",
    "$$"
   ]
  },
  {
   "cell_type": "code",
   "execution_count": 22,
   "metadata": {},
   "outputs": [
    {
     "data": {
      "text/latex": [
       "$\\displaystyle 1$"
      ],
      "text/plain": [
       "1"
      ]
     },
     "execution_count": 22,
     "metadata": {},
     "output_type": "execute_result"
    }
   ],
   "source": [
    "integrate(1/x**2, (x, 1, sympy.oo))"
   ]
  }
 ],
 "metadata": {
  "kernelspec": {
   "display_name": "Python 3",
   "language": "python",
   "name": "python3"
  },
  "language_info": {
   "codemirror_mode": {
    "name": "ipython",
    "version": 3
   },
   "file_extension": ".py",
   "mimetype": "text/x-python",
   "name": "python",
   "nbconvert_exporter": "python",
   "pygments_lexer": "ipython3",
   "version": "3.7.3"
  }
 },
 "nbformat": 4,
 "nbformat_minor": 2
}
