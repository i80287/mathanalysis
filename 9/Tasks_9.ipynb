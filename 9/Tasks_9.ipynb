{
  "cells": [
    {
      "cell_type": "code",
      "execution_count": 1,
      "metadata": {
        "id": "inRUTxY1wBM6"
      },
      "outputs": [],
      "source": [
        "import sympy\n",
        "from sympy import Symbol, symbols, S, Function, integrate, Integral, diff, solve"
      ]
    },
    {
      "cell_type": "markdown",
      "metadata": {
        "id": "a-4VvVbnwBM9"
      },
      "source": [
        "## Занятие 9\n",
        "## Математический анализ\n",
        "## Интегрирование функции: первообразная и неопределенный интеграл\n",
        "https://docs.sympy.org/1.5.1/modules/integrals/integrals.html\n",
        "\n",
        "https://ru.wikipedia.org/wiki/%D0%9F%D0%B5%D1%80%D0%B2%D0%BE%D0%BE%D0%B1%D1%80%D0%B0%D0%B7%D0%BD%D0%B0%D1%8F\n",
        "\n",
        "https://ru.wikipedia.org/wiki/%D0%A1%D0%BF%D0%B8%D1%81%D0%BE%D0%BA_%D0%B8%D0%BD%D1%82%D0%B5%D0%B3%D1%80%D0%B0%D0%BB%D0%BE%D0%B2_%D1%8D%D0%BB%D0%B5%D0%BC%D0%B5%D0%BD%D1%82%D0%B0%D1%80%D0%BD%D1%8B%D1%85_%D1%84%D1%83%D0%BD%D0%BA%D1%86%D0%B8%D0%B9"
      ]
    },
    {
      "cell_type": "markdown",
      "metadata": {
        "id": "j4MnuXuowBM_"
      },
      "source": [
        "### Задача 1.\n",
        "Вычислить определенные интегралы:\n",
        "$$\n",
        "1)\\ \\int_2^3 \\frac{1}{\\sqrt{x-2}},\\ 2) \\int_1^6 \\frac{1}{(x-1)^3},\\ 3)\\ \\int_2^\\infty \\frac{1}{(x-1)^3} \n",
        "$$"
      ]
    },
    {
      "cell_type": "code",
      "execution_count": 51,
      "metadata": {
        "colab": {
          "base_uri": "https://localhost:8080/",
          "height": 144
        },
        "id": "bgjxGxPAwBNA",
        "outputId": "d7b6e822-80e2-424f-bac2-1e9cf8c357aa"
      },
      "outputs": [
        {
          "output_type": "display_data",
          "data": {
            "text/plain": [
              "Eq(Integral(1/sqrt(x - 2), x), 2)"
            ],
            "text/latex": "$\\displaystyle \\int \\frac{1}{\\sqrt{x - 2}}\\, dx = 2$"
          },
          "metadata": {}
        },
        {
          "output_type": "display_data",
          "data": {
            "text/plain": [
              "Eq(Integral((x - 1)**(-3/2), x), oo)"
            ],
            "text/latex": "$\\displaystyle \\int \\frac{1}{\\left(x - 1\\right)^{\\frac{3}{2}}}\\, dx = \\infty$"
          },
          "metadata": {}
        },
        {
          "output_type": "display_data",
          "data": {
            "text/plain": [
              "Eq(Integral((x - 1)**(-3/2), x), 2)"
            ],
            "text/latex": "$\\displaystyle \\int \\frac{1}{\\left(x - 1\\right)^{\\frac{3}{2}}}\\, dx = 2$"
          },
          "metadata": {}
        }
      ],
      "source": [
        "def task_1() -> None:\n",
        "    x = Symbol('x', positive=True)\n",
        "    func_1 = 1/sympy.sqrt(x - 2)\n",
        "    display(sympy.Eq(Integral(func_1), integrate(func_1, (x, 2, 3))))\n",
        "\n",
        "def task_2() -> None:\n",
        "    x = Symbol('x')\n",
        "    func_2 = 1/sympy.sqrt(x - 1)**3\n",
        "    display(sympy.Eq(Integral(func_2), integrate(func_2, (x, 1, 6))))\n",
        "\n",
        "def task_3() -> None:\n",
        "    x = Symbol('x')\n",
        "    func_3 = 1/sympy.sqrt(x - 1)**3\n",
        "    display(sympy.Eq(Integral(func_3), integrate(func_3, (x, 2, sympy.oo))))\n",
        "\n",
        "if __name__ == \"__main__\":\n",
        "    task_1()\n",
        "    task_2()\n",
        "    task_3()"
      ]
    },
    {
      "cell_type": "markdown",
      "metadata": {
        "id": "KE1MqCR_wBNB"
      },
      "source": [
        "### Задача 2\n",
        "Описать функцию, находящую неопределенный интеграл $\\int f(x)\\,dx$ в виде $F(x)+C$.\n",
        "\n",
        "Использовать эту функцию для интегрирования $\\sin(3x+5)$, $x{\\rm tg}(x^2)$, $(e^{\\sin x})\\cos x$, $x^2e^{x^3}$"
      ]
    },
    {
      "cell_type": "code",
      "execution_count": 24,
      "metadata": {
        "colab": {
          "base_uri": "https://localhost:8080/",
          "height": 178
        },
        "id": "21QnBEjgwBNC",
        "outputId": "05ac92cf-9cae-4256-a1d9-004955f1f2a8"
      },
      "outputs": [
        {
          "output_type": "display_data",
          "data": {
            "text/plain": [
              "Eq(Integral(sin(3*x + 5), x), C - cos(3*x + 5)/3)"
            ],
            "text/latex": "$\\displaystyle \\int \\sin{\\left(3 x + 5 \\right)}\\, dx = C - \\frac{\\cos{\\left(3 x + 5 \\right)}}{3}$"
          },
          "metadata": {}
        },
        {
          "output_type": "display_data",
          "data": {
            "text/plain": [
              "Eq(Integral(x*tan(x**2), x), C + log(tan(x**2)**2 + 1)/4)"
            ],
            "text/latex": "$\\displaystyle \\int x \\tan{\\left(x^{2} \\right)}\\, dx = C + \\frac{\\log{\\left(\\tan^{2}{\\left(x^{2} \\right)} + 1 \\right)}}{4}$"
          },
          "metadata": {}
        },
        {
          "output_type": "display_data",
          "data": {
            "text/plain": [
              "Eq(Integral(exp(sin(x))*cos(x), x), C + exp(sin(x)))"
            ],
            "text/latex": "$\\displaystyle \\int e^{\\sin{\\left(x \\right)}} \\cos{\\left(x \\right)}\\, dx = C + e^{\\sin{\\left(x \\right)}}$"
          },
          "metadata": {}
        },
        {
          "output_type": "display_data",
          "data": {
            "text/plain": [
              "Eq(Integral(x**2*exp(x**3), x), C + exp(x**3)/3)"
            ],
            "text/latex": "$\\displaystyle \\int x^{2} e^{x^{3}}\\, dx = C + \\frac{e^{x^{3}}}{3}$"
          },
          "metadata": {}
        }
      ],
      "source": [
        "C = Symbol('C')\n",
        "\n",
        "def solve_integral(func) -> None:\n",
        "    integral = Integral(func)\n",
        "    display(sympy.Eq(integral, integral.doit() + C))\n",
        "\n",
        "if __name__ == \"__main__\":\n",
        "    x = Symbol('x')\n",
        "    solve_integral(sympy.sin(3*x + 5))\n",
        "    solve_integral(x*sympy.tan(x**2))\n",
        "    solve_integral(sympy.exp(sympy.sin(x))*sympy.cos(x))\n",
        "    solve_integral(x**2*sympy.exp(x**3))"
      ]
    },
    {
      "cell_type": "markdown",
      "metadata": {
        "id": "c6rIGyAywBNC"
      },
      "source": [
        "### Задача 3.\n",
        "Найти первообразную функции $\\frac{x-3}{(x+1)^2}$, график которой проходит через начало координат."
      ]
    },
    {
      "cell_type": "code",
      "execution_count": 52,
      "metadata": {
        "colab": {
          "base_uri": "https://localhost:8080/",
          "height": 115
        },
        "id": "VQcgg6F6wBND",
        "outputId": "b3e812da-d3ee-45bb-ca8f-79d8150fc644"
      },
      "outputs": [
        {
          "output_type": "display_data",
          "data": {
            "text/plain": [
              "Eq(Integral((x - 3)/(x + 1)**2, x), C + log(x + 1) + 4/(x + 1))"
            ],
            "text/latex": "$\\displaystyle \\int \\frac{x - 3}{\\left(x + 1\\right)^{2}}\\, dx = C + \\log{\\left(x + 1 \\right)} + \\frac{4}{x + 1}$"
          },
          "metadata": {}
        },
        {
          "output_type": "display_data",
          "data": {
            "text/plain": [
              "Eq(C, -4)"
            ],
            "text/latex": "$\\displaystyle C = -4$"
          },
          "metadata": {}
        },
        {
          "output_type": "display_data",
          "data": {
            "text/plain": [
              "log(x + 1) - 4 + 4/(x + 1)"
            ],
            "text/latex": "$\\displaystyle \\log{\\left(x + 1 \\right)} - 4 + \\frac{4}{x + 1}$"
          },
          "metadata": {}
        }
      ],
      "source": [
        "x = Symbol('x')\n",
        "f = (x - 3)/(x + 1)**2\n",
        "\n",
        "F = f.integrate() + C\n",
        "display(sympy.Eq(Integral(f), F))\n",
        "\n",
        "C_value = solve(F.subs({x: 0}), C)[0]\n",
        "display(sympy.Eq(C, C_value))\n",
        "\n",
        "display(F.subs({C: C_value}))"
      ]
    },
    {
      "cell_type": "markdown",
      "metadata": {
        "id": "xGs1BzFfwBNE"
      },
      "source": [
        "### Задача 4.\n",
        "Описать функцию, вычисляющую неопределенный интеграл от $\\frac{1}{\\sqrt{x^2+a}}$ по формуле \"длинного логарифма\":\n",
        "$$\n",
        "\\int\\frac{1}{\\sqrt{x^2+a}} = \\ln|x + \\sqrt{x^2 + a}| + C,\\quad a \\neq 0. \n",
        "$$\n",
        "Функция возвращает $\\ln|x| + C$ при $a = 0$. Аргументы функции - переменная интегрирования $x$ и параметр $a$.\n",
        "\n",
        "Вызвать функцию при $a = 0, 1, 4$. Сравнить с результатом integrate.\n",
        "\n",
        "Проверить дифференцированием, при необходимости использовать simplyfy для того, чтобы упростить выражение.\n",
        "\n",
        "Рекомендется создавать положительные символы, чтобы не было неоднозначности."
      ]
    },
    {
      "cell_type": "code",
      "execution_count": 53,
      "metadata": {
        "colab": {
          "base_uri": "https://localhost:8080/",
          "height": 397
        },
        "id": "RoeiMBANwBNE",
        "outputId": "687efa4b-8316-4fb6-eb5a-df92fb27323a"
      },
      "outputs": [
        {
          "output_type": "display_data",
          "data": {
            "text/plain": [
              "<IPython.core.display.Latex object>"
            ],
            "text/latex": "\\text{При a = 0:}"
          },
          "metadata": {}
        },
        {
          "output_type": "display_data",
          "data": {
            "text/plain": [
              "<IPython.core.display.Latex object>"
            ],
            "text/latex": "\\text{При помощи метода integrate: }C + \\log{\\left(x \\right)}"
          },
          "metadata": {}
        },
        {
          "output_type": "display_data",
          "data": {
            "text/plain": [
              "<IPython.core.display.Latex object>"
            ],
            "text/latex": "\\text{Производная от интеграла: }\\frac{1}{x}"
          },
          "metadata": {}
        },
        {
          "output_type": "display_data",
          "data": {
            "text/plain": [
              "<IPython.core.display.Latex object>"
            ],
            "text/latex": "\\text{По формуле длинного логарифма: }C + \\log{\\left(x \\right)}"
          },
          "metadata": {}
        },
        {
          "output_type": "display_data",
          "data": {
            "text/plain": [
              "<IPython.core.display.Latex object>"
            ],
            "text/latex": "\\text{Производная от интеграла: }\\frac{1}{x}"
          },
          "metadata": {}
        },
        {
          "output_type": "stream",
          "name": "stdout",
          "text": [
            "\n"
          ]
        },
        {
          "output_type": "display_data",
          "data": {
            "text/plain": [
              "<IPython.core.display.Latex object>"
            ],
            "text/latex": "\\text{При a = 1:}"
          },
          "metadata": {}
        },
        {
          "output_type": "display_data",
          "data": {
            "text/plain": [
              "<IPython.core.display.Latex object>"
            ],
            "text/latex": "\\text{При помощи метода integrate: }C + \\operatorname{asinh}{\\left(x \\right)}"
          },
          "metadata": {}
        },
        {
          "output_type": "display_data",
          "data": {
            "text/plain": [
              "<IPython.core.display.Latex object>"
            ],
            "text/latex": "\\text{Производная от интеграла: }\\frac{1}{\\sqrt{x^{2} + 1}}"
          },
          "metadata": {}
        },
        {
          "output_type": "display_data",
          "data": {
            "text/plain": [
              "<IPython.core.display.Latex object>"
            ],
            "text/latex": "\\text{По формуле длинного логарифма: }C + \\log{\\left(x + \\sqrt{x^{2} + 1} \\right)}"
          },
          "metadata": {}
        },
        {
          "output_type": "display_data",
          "data": {
            "text/plain": [
              "<IPython.core.display.Latex object>"
            ],
            "text/latex": "\\text{Производная от интеграла: }\\frac{1}{\\sqrt{x^{2} + 1}}"
          },
          "metadata": {}
        },
        {
          "output_type": "stream",
          "name": "stdout",
          "text": [
            "\n"
          ]
        },
        {
          "output_type": "display_data",
          "data": {
            "text/plain": [
              "<IPython.core.display.Latex object>"
            ],
            "text/latex": "\\text{При a = 4:}"
          },
          "metadata": {}
        },
        {
          "output_type": "display_data",
          "data": {
            "text/plain": [
              "<IPython.core.display.Latex object>"
            ],
            "text/latex": "\\text{При помощи метода integrate: }C + \\operatorname{asinh}{\\left(\\frac{x}{2} \\right)}"
          },
          "metadata": {}
        },
        {
          "output_type": "display_data",
          "data": {
            "text/plain": [
              "<IPython.core.display.Latex object>"
            ],
            "text/latex": "\\text{Производная от интеграла: }\\frac{1}{\\sqrt{x^{2} + 4}}"
          },
          "metadata": {}
        },
        {
          "output_type": "display_data",
          "data": {
            "text/plain": [
              "<IPython.core.display.Latex object>"
            ],
            "text/latex": "\\text{По формуле длинного логарифма: }C + \\log{\\left(x + \\sqrt{x^{2} + 4} \\right)}"
          },
          "metadata": {}
        },
        {
          "output_type": "display_data",
          "data": {
            "text/plain": [
              "<IPython.core.display.Latex object>"
            ],
            "text/latex": "\\text{Производная от интеграла: }\\frac{1}{\\sqrt{x^{2} + 4}}"
          },
          "metadata": {}
        },
        {
          "output_type": "stream",
          "name": "stdout",
          "text": [
            "\n"
          ]
        }
      ],
      "source": [
        "from typing import Optional, Any, Union\n",
        "\n",
        "from IPython.display import Latex\n",
        "from sympy import latex\n",
        "\n",
        "def solve_integral_log(x, a: Optional[Union[int, float]]):\n",
        "    arg = x if a == 0 else x + sympy.sqrt(x*x + a)\n",
        "    return sympy.ln(sympy.Abs(arg)) + C\n",
        "\n",
        "x = Symbol('x', positive=True)\n",
        "for a in (0, 1, 4):\n",
        "    display(Latex(fr\"\\text{{При a = {a}:}}\"))\n",
        "    func = 1/sympy.sqrt(x*x + a)\n",
        "    integral = func.integrate() + C\n",
        "    log_integral = solve_integral_log(x, a)\n",
        "    display(\n",
        "        Latex(fr\"\\text{{При помощи метода integrate: }}{latex(integral)}\"),\n",
        "        Latex(fr\"\\text{{Производная от интеграла: }}{latex(sympy.simplify(diff(integral, x)))}\"),\n",
        "        Latex(fr\"\\text{{По формуле длинного логарифма: }}{latex(log_integral)}\"),\n",
        "        Latex(fr\"\\text{{Производная от интеграла: }}{latex(sympy.simplify(diff(log_integral, x)))}\"),\n",
        "    )\n",
        "    print()"
      ]
    },
    {
      "cell_type": "markdown",
      "metadata": {
        "id": "jp3tPchVwBNF"
      },
      "source": [
        "### Задача 5.\n",
        "Провести замену переменной $y = x^2$ в интеграле $\\int x e^{x^2}\\,dx$."
      ]
    },
    {
      "cell_type": "code",
      "execution_count": 54,
      "metadata": {
        "colab": {
          "base_uri": "https://localhost:8080/",
          "height": 55
        },
        "id": "OcEt5dF6wBNF",
        "outputId": "32528e96-6555-4f1d-a1f8-53bca81870d1"
      },
      "outputs": [
        {
          "output_type": "execute_result",
          "data": {
            "text/plain": [
              "Eq(Integral(x*exp(x**2), x), Integral(exp(y)/2, y))"
            ],
            "text/latex": "$\\displaystyle \\int x e^{x^{2}}\\, dx = \\int \\frac{e^{y}}{2}\\, dy$"
          },
          "metadata": {},
          "execution_count": 54
        }
      ],
      "source": [
        "integral = Integral(x*sympy.exp(x**2))\n",
        "\n",
        "y = Symbol('y', positive=True)\n",
        "sympy.Eq(integral, integral.transform(x**2, y))"
      ]
    },
    {
      "cell_type": "markdown",
      "metadata": {
        "id": "zJZqLpsqwBNF"
      },
      "source": [
        "### Индивидуальное задание\n",
        "Провести замену переменных в определенном интеграле, представить результат в виде двух уравнений, как в примере:\n",
        "\\begin{align*}\n",
        "\\int_1^4 \\frac{dx}{\\sqrt{x}\\left(\\sqrt{x}+1\\right)} = \\int_1^2 \\frac{2\\,dy}{y + 1}\\\\\n",
        "\\int_1^2 \\frac{2\\,dy}{y + 1} = 2(\\ln 3 - \\ln 2)\n",
        "\\end{align*}\n",
        "(с точностью до перестановки слагаемых и сомножителей)"
      ]
    },
    {
      "cell_type": "markdown",
      "source": [
        "Вариант 50\n",
        "\n",
        "$$\\int\\limits_{\\frac{3^{\\frac{8}{9}} \\sqrt[9]{\\pi}}{3}}^{\\frac{2^{\\frac{8}{9}} \\sqrt[9]{\\pi}}{2}} 9 x^{8} \\cos{\\left(x^{9} \\right)}\\, dx$$\n",
        "замена $y = x^{9}$"
      ],
      "metadata": {
        "id": "G3LTpGP_yzZY"
      }
    },
    {
      "cell_type": "code",
      "execution_count": 50,
      "metadata": {
        "colab": {
          "base_uri": "https://localhost:8080/",
          "height": 93
        },
        "id": "4N2geJzYwBNG",
        "outputId": "68349dca-aa22-46b8-a42a-c048f140933a"
      },
      "outputs": [
        {
          "output_type": "display_data",
          "data": {
            "text/plain": [
              "Integral(9*x**8*cos(x**9), x)"
            ],
            "text/latex": "$\\displaystyle \\int 9 x^{8} \\cos{\\left(x^{9} \\right)}\\, dx$"
          },
          "metadata": {}
        },
        {
          "output_type": "execute_result",
          "data": {
            "text/plain": [
              "1 - sqrt(3)/2"
            ],
            "text/latex": "$\\displaystyle 1 - \\frac{\\sqrt{3}}{2}$"
          },
          "metadata": {},
          "execution_count": 50
        }
      ],
      "source": [
        "x = Symbol('x', positive=True)\n",
        "a, b = (sympy.pi/3)**(S(1)/9), (sympy.pi/2)**(S(1)/9)\n",
        "\n",
        "integral_x = Integral(9*x**8*sympy.cos(x**9))\n",
        "display(integral)\n",
        "\n",
        "y = Symbol('y', positive=True)\n",
        "\n",
        "# integral_x.transform(x**9, y)\n",
        "# Не работает в этом варианте, sympy не может корректно провести\n",
        "# замену, поэтому делаем руками и методом пристального вглядывания)\n",
        "\n",
        "integral_y = Integral(sympy.cos(y))\n",
        "solved_integral = integral_y.doit()\n",
        "\n",
        "solved_integral.subs(y, b**9) - solved_integral.subs(y, a**9)"
      ]
    }
  ],
  "metadata": {
    "kernelspec": {
      "display_name": ".venv",
      "language": "python",
      "name": "python3"
    },
    "language_info": {
      "codemirror_mode": {
        "name": "ipython",
        "version": 3
      },
      "file_extension": ".py",
      "mimetype": "text/x-python",
      "name": "python",
      "nbconvert_exporter": "python",
      "pygments_lexer": "ipython3",
      "version": "3.11.0"
    },
    "vscode": {
      "interpreter": {
        "hash": "71eaa566fe385e36f6a17cd041d95c99303ead46f5ef158c51eb2173e206bc3f"
      }
    },
    "colab": {
      "provenance": []
    }
  },
  "nbformat": 4,
  "nbformat_minor": 0
}